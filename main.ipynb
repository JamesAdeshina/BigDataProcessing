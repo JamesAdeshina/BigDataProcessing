{
 "cells": [
  {
   "metadata": {},
   "cell_type": "markdown",
   "source": "## Big Processing Data\n",
   "id": "84729a36b01dc519"
  },
  {
   "metadata": {},
   "cell_type": "markdown",
   "source": [
    "### Importation of Required Libraries\n",
    "We're importing the following libraries for the project: Pyspark, Matplotlib, Seaborn, ...\n",
    "\n",
    "Note: I am using Pycharm environment, so the environment is setup and doesn't need installation, but I'll also provide the code for install the libraries needed to run the project as well."
   ],
   "id": "1fe422a870a5d72a"
  },
  {
   "metadata": {
    "collapsed": true,
    "ExecuteTime": {
     "end_time": "2025-01-08T13:04:39.127474Z",
     "start_time": "2025-01-08T13:04:38.807184Z"
    }
   },
   "cell_type": "code",
   "source": [
    "# Importing necessary libraries and modules for Spark-based data processing and machine learning tasks\n",
    "from pyspark.sql import SparkSession\n",
    "from pyspark.sql.functions import *\n",
    "from pyspark.sql.functions import col, sum as _sum, desc, asc, isnan, when, count\n",
    "from pyspark.ml.feature import StringIndexer\n",
    "from pyspark.ml.feature import VectorAssembler\n",
    "from pyspark.ml.regression import LinearRegression\n",
    "from pyspark.ml.evaluation import MulticlassClassificationEvaluator\n",
    "from pyspark.ml.classification import RandomForestClassifier\n",
    "from pyspark.ml.evaluation import RegressionEvaluator\n",
    "from pyspark.ml.classification import RandomForestClassifier\n",
    "import matplotlib.pyplot as plt\n",
    "import seaborn as sns"
   ],
   "id": "initial_id",
   "outputs": [],
   "execution_count": 54
  },
  {
   "metadata": {},
   "cell_type": "markdown",
   "source": "### Initialize Spark Session\n",
   "id": "ab06ff5ca892e868"
  },
  {
   "metadata": {
    "ExecuteTime": {
     "end_time": "2025-01-08T13:05:09.796083Z",
     "start_time": "2025-01-08T13:04:58.237264Z"
    }
   },
   "cell_type": "code",
   "source": [
    "# Initialize Spark Session\n",
    "spark = SparkSession.builder.appName(\"BigDataProcessing\").master(\"local[*]\").getOrCreate()\n",
    "\n",
    "# Verify Spark session creation by performing a simple operation\n",
    "try:\n",
    "    # Try creating a simple DataFrame and show it\n",
    "    test_df = spark.range(5)  # Create a DataFrame with numbers 0 to 9\n",
    "    test_df.show()  # Display the DataFrame\n",
    "    print(\"Spark session is working and operational!\")\n",
    "except Exception as e:\n",
    "    print(f\"Error while verifying Spark session: {e}\")"
   ],
   "id": "bc94c964b923b9f2",
   "outputs": [
    {
     "name": "stderr",
     "output_type": "stream",
     "text": [
      "[Stage 1838:>                                                       (0 + 4) / 4]\r"
     ]
    },
    {
     "name": "stdout",
     "output_type": "stream",
     "text": [
      "+---+\n",
      "| id|\n",
      "+---+\n",
      "|  0|\n",
      "|  1|\n",
      "|  2|\n",
      "|  3|\n",
      "|  4|\n",
      "+---+\n",
      "\n",
      "Spark session is working and operational!\n"
     ]
    },
    {
     "name": "stderr",
     "output_type": "stream",
     "text": [
      "                                                                                \r"
     ]
    }
   ],
   "execution_count": 55
  },
  {
   "metadata": {},
   "cell_type": "markdown",
   "source": [
    "### Loading the Datasets\n",
    "This section will focus on loading the following datasets: <b>DimProduct.csv, FactInternetSales.csv, DimCustomer.csv, DimProductCategory.csv, DimProductSubCategory.csv, DimDate.csv, DimSalesTerritory.csv, </b> for our processing and analysis."
   ],
   "id": "a7b04be064b872e8"
  },
  {
   "metadata": {
    "ExecuteTime": {
     "end_time": "2025-01-08T13:05:42.923525Z",
     "start_time": "2025-01-08T13:05:29.983597Z"
    }
   },
   "cell_type": "code",
   "source": [
    "# Load datasets\n",
    "dim_product = spark.read.csv(\"Dataset/DimProduct.csv\", header=True, inferSchema=True)\n",
    "fact_sales = spark.read.csv(\"Dataset/FactInternetSales.csv\", header=True, inferSchema=True)\n",
    "dim_customer = spark.read.csv(\"Dataset/DimCustomer.csv\", header=True, inferSchema=True)\n",
    "dim_product_category = spark.read.csv(\"Dataset/DimProductCategory.csv\", header=True, inferSchema=True)\n",
    "dim_product_subcategory = spark.read.csv(\"Dataset/DimProductSubcategory.csv\", header=True, inferSchema=True)\n",
    "dim_sales_territory = spark.read.csv(\"Dataset/DimSalesTerritory.csv\", header=True, inferSchema=True)\n",
    "dim_date = spark.read.csv(\"Dataset/DimDate.csv\", header=True, inferSchema=True)"
   ],
   "id": "d2ffc509c30d7fee",
   "outputs": [
    {
     "name": "stderr",
     "output_type": "stream",
     "text": [
      "                                                                                \r"
     ]
    }
   ],
   "execution_count": 56
  },
  {
   "metadata": {},
   "cell_type": "markdown",
   "source": "### Exploratory Data Analysis\n",
   "id": "225f07234a5c16e5"
  },
  {
   "metadata": {},
   "cell_type": "markdown",
   "source": [
    "#### Summary Statistics\n",
    "Exploring our datasets"
   ],
   "id": "8852328f613002cd"
  },
  {
   "metadata": {
    "ExecuteTime": {
     "end_time": "2025-01-08T13:08:48.533284Z",
     "start_time": "2025-01-08T13:08:47.897787Z"
    }
   },
   "cell_type": "code",
   "source": [
    "# Display general information about the datasets\n",
    "def explore_dataset(dataset, dataset_name):\n",
    "    print(f\"Exploring {dataset_name} Dataset:\")\n",
    "\n",
    "    # Show schema\n",
    "    print(f\"Schema of {dataset_name}:\")\n",
    "    dataset.printSchema()\n",
    "    print(\"\\n\")\n",
    "\n",
    "    # Show first few rows\n",
    "    print(f\"Sample data from {dataset_name}:\")\n",
    "    dataset.show(5, truncate=False)\n",
    "    print(\"\\n\")\n",
    "\n",
    "    # Count rows\n",
    "    print(f\"Total rows in {dataset_name}: {dataset.count()}\")\n",
    "    print(\"\\n\")\n",
    "\n",
    "    # Check for missing values in each column\n",
    "    print(f\"Missing values per column in {dataset_name}:\")\n",
    "    dataset.select([(dataset[col].isNull().cast(\"int\").alias(col)) for col in dataset.columns]) \\\n",
    "           .agg(*[sum(col(c)).alias(c) for c in dataset.columns]) \\\n",
    "           .show(truncate=False)\n",
    "    print(\"\\n\")\n",
    "\n",
    "    # Summary statistics for numerical columns\n",
    "    print(f\"Summary statistics for numerical columns in {dataset_name}:\")\n",
    "    dataset.describe().show(truncate=False)\n",
    "    print(\"\\n\")\n",
    "\n",
    "    # Distinct count for each column\n",
    "    print(f\"Distinct count for each column in {dataset_name}:\")\n",
    "    for col_name in dataset.columns:\n",
    "        distinct_count = dataset.select(col_name).distinct().count()\n",
    "        print(f\"{col_name}: {distinct_count} distinct values\")\n",
    "    print(\"\\n\")\n",
    "\n",
    "    # Check data types\n",
    "    print(f\"Data types in {dataset_name}:\")\n",
    "    dataset.dtypes\n",
    "    print(\"\\n\")\n",
    "    print(\"-\" * 50)"
   ],
   "id": "b547ceb825d25e1a",
   "outputs": [],
   "execution_count": 57
  },
  {
   "metadata": {
    "ExecuteTime": {
     "end_time": "2025-01-08T09:24:55.385643Z",
     "start_time": "2025-01-08T09:24:34.377618Z"
    }
   },
   "cell_type": "code",
   "source": [
    "# Explore each dataset\n",
    "explore_dataset(dim_product, \"DimProduct\")"
   ],
   "id": "78df7b0415da95d4",
   "outputs": [
    {
     "name": "stdout",
     "output_type": "stream",
     "text": [
      "Exploring DimProduct Dataset:\n",
      "Schema of DimProduct:\n",
      "root\n",
      " |-- ProductKey: integer (nullable = true)\n",
      " |-- ProductAlternateKey: string (nullable = true)\n",
      " |-- ProductSubcategoryKey: integer (nullable = true)\n",
      " |-- WeightUnitMeasureCode: string (nullable = true)\n",
      " |-- SizeUnitMeasureCode: string (nullable = true)\n",
      " |-- EnglishProductName: string (nullable = true)\n",
      " |-- SpanishProductName: string (nullable = true)\n",
      " |-- FrenchProductName: string (nullable = true)\n",
      " |-- StandardCost: double (nullable = true)\n",
      " |-- FinishedGoodsFlag: boolean (nullable = true)\n",
      " |-- Color: string (nullable = true)\n",
      " |-- SafetyStockLevel: integer (nullable = true)\n",
      " |-- ReorderPoint: integer (nullable = true)\n",
      " |-- ListPrice: double (nullable = true)\n",
      " |-- Size: string (nullable = true)\n",
      " |-- SizeRange: string (nullable = true)\n",
      " |-- Weight: double (nullable = true)\n",
      " |-- DaysToManufacture: integer (nullable = true)\n",
      " |-- ProductLine: string (nullable = true)\n",
      " |-- DealerPrice: double (nullable = true)\n",
      " |-- Class: string (nullable = true)\n",
      " |-- Style: string (nullable = true)\n",
      " |-- ModelName: string (nullable = true)\n",
      " |-- EnglishDescription: string (nullable = true)\n",
      " |-- StartDate: string (nullable = true)\n",
      " |-- EndDate: string (nullable = true)\n",
      " |-- Status: string (nullable = true)\n",
      "\n",
      "\n",
      "\n",
      "Sample data from DimProduct:\n"
     ]
    },
    {
     "name": "stderr",
     "output_type": "stream",
     "text": [
      "                                                                                \r"
     ]
    },
    {
     "name": "stdout",
     "output_type": "stream",
     "text": [
      "+----------+-------------------+---------------------+---------------------+-------------------+-------------------------+---------------------------------+------------------------------------+------------+-----------------+-----+----------------+------------+---------+----+---------+------+-----------------+-----------+-----------+-----+-----+-------------+-------------------------------------------------------------------------------------------------------------------------------------------------+----------------+----------------+-------+\n",
      "|ProductKey|ProductAlternateKey|ProductSubcategoryKey|WeightUnitMeasureCode|SizeUnitMeasureCode|EnglishProductName       |SpanishProductName               |FrenchProductName                   |StandardCost|FinishedGoodsFlag|Color|SafetyStockLevel|ReorderPoint|ListPrice|Size|SizeRange|Weight|DaysToManufacture|ProductLine|DealerPrice|Class|Style|ModelName    |EnglishDescription                                                                                                                               |StartDate       |EndDate         |Status |\n",
      "+----------+-------------------+---------------------+---------------------+-------------------+-------------------------+---------------------------------+------------------------------------+------------+-----------------+-----+----------------+------------+---------+----+---------+------+-----------------+-----------+-----------+-----+-----+-------------+-------------------------------------------------------------------------------------------------------------------------------------------------+----------------+----------------+-------+\n",
      "|1         |AR-5381            |0                    |NULL                 |NULL               |Adjustable Race          |NULL                             |NULL                                |NULL        |false            |NA   |1000            |750         |NULL     |NULL|NA       |NULL  |0                |NULL       |NULL       |NULL |NULL |NULL         |NULL                                                                                                                                             |01/06/1998 00:00|NULL            |Current|\n",
      "|152       |LW-7160            |0                    |NULL                 |NULL               |Lock Washer 9            |NULL                             |NULL                                |NULL        |false            |NA   |1000            |750         |NULL     |NULL|NA       |NULL  |0                |NULL       |NULL       |NULL |NULL |NULL         |NULL                                                                                                                                             |01/06/1998 00:00|NULL            |Current|\n",
      "|194       |SA-T612            |0                    |NULL                 |NULL               |ML Touring Seat Assembly |NULL                             |NULL                                |NULL        |false            |NA   |500             |375         |NULL     |NULL|NA       |NULL  |1                |NULL       |NULL       |M    |NULL |NULL         |NULL                                                                                                                                             |01/06/1998 00:00|NULL            |Current|\n",
      "|258       |FR-R38B-60         |14                   |LB                   |CM                 |LL Road Frame - Black, 60|Cuadro de carretera GB: negro, 60|Cadre de v�lo de route LL - noir, 60|204.6251    |true             |Black|500             |375         |337.22   |60  |60-62 CM |2.48  |1                |R          |202.332    |L    |U    |LL Road Frame|The LL Frame provides a safe comfortable ride, while offering superior bump absorption in a value-priced aluminum frame.                         |01/07/2007 00:00|NULL            |Current|\n",
      "|334       |BK-R50B-60         |2                    |LB                   |CM                 |Road-650 Black, 60       |Carretera: 650, negra, 60        |V�lo de route 650 noir, 60          |413.1463    |true             |Black|100             |75          |699.0982 |60  |60-62 CM |19.9  |4                |R          |419.4589   |L    |U    |Road-650     |Value-priced bike with many features of our top-of-the-line models. Has the same light, stiff frame, and the quick acceleration we're famous for.|01/07/2005 00:00|30/06/2002 00:00|NULL   |\n",
      "+----------+-------------------+---------------------+---------------------+-------------------+-------------------------+---------------------------------+------------------------------------+------------+-----------------+-----+----------------+------------+---------+----+---------+------+-----------------+-----------+-----------+-----+-----+-------------+-------------------------------------------------------------------------------------------------------------------------------------------------+----------------+----------------+-------+\n",
      "only showing top 5 rows\n",
      "\n",
      "\n",
      "\n"
     ]
    },
    {
     "name": "stderr",
     "output_type": "stream",
     "text": [
      "                                                                                \r"
     ]
    },
    {
     "name": "stdout",
     "output_type": "stream",
     "text": [
      "Total rows in DimProduct: 606\n",
      "\n",
      "\n",
      "Missing values per column in DimProduct:\n",
      "+----------+-------------------+---------------------+---------------------+-------------------+------------------+------------------+-----------------+------------+-----------------+-----+----------------+------------+---------+----+---------+------+-----------------+-----------+-----------+-----+-----+---------+------------------+---------+-------+------+\n",
      "|ProductKey|ProductAlternateKey|ProductSubcategoryKey|WeightUnitMeasureCode|SizeUnitMeasureCode|EnglishProductName|SpanishProductName|FrenchProductName|StandardCost|FinishedGoodsFlag|Color|SafetyStockLevel|ReorderPoint|ListPrice|Size|SizeRange|Weight|DaysToManufacture|ProductLine|DealerPrice|Class|Style|ModelName|EnglishDescription|StartDate|EndDate|Status|\n",
      "+----------+-------------------+---------------------+---------------------+-------------------+------------------+------------------+-----------------+------------+-----------------+-----+----------------+------------+---------+----+---------+------+-----------------+-----------+-----------+-----+-----+---------+------------------+---------+-------+------+\n",
      "|0         |0                  |0                    |324                  |353                |0                 |287               |287              |211         |0                |0    |0               |0           |211      |307 |0        |324   |0                |226        |211        |276  |305  |209      |210               |0        |406    |200   |\n",
      "+----------+-------------------+---------------------+---------------------+-------------------+------------------+------------------+-----------------+------------+-----------------+-----+----------------+------------+---------+----+---------+------+-----------------+-----------+-----------+-----+-----+---------+------------------+---------+-------+------+\n",
      "\n",
      "\n",
      "\n",
      "Summary statistics for numerical columns in DimProduct:\n"
     ]
    },
    {
     "name": "stderr",
     "output_type": "stream",
     "text": [
      "                                                                                \r"
     ]
    },
    {
     "name": "stdout",
     "output_type": "stream",
     "text": [
      "+-------+------------------+-------------------+---------------------+---------------------+-------------------+------------------+---------------------------------+--------------------------+-----------------+------+------------------+------------------+-----------------+-----------------+---------+------------------+------------------+-----------+------------------+-----+-----+----------------------+---------------------------------------------------------------+----------------+----------------+-------+\n",
      "|summary|ProductKey        |ProductAlternateKey|ProductSubcategoryKey|WeightUnitMeasureCode|SizeUnitMeasureCode|EnglishProductName|SpanishProductName               |FrenchProductName         |StandardCost     |Color |SafetyStockLevel  |ReorderPoint      |ListPrice        |Size             |SizeRange|Weight            |DaysToManufacture |ProductLine|DealerPrice       |Class|Style|ModelName             |EnglishDescription                                             |StartDate       |EndDate         |Status |\n",
      "+-------+------------------+-------------------+---------------------+---------------------+-------------------+------------------+---------------------------------+--------------------------+-----------------+------+------------------+------------------+-----------------+-----------------+---------+------------------+------------------+-----------+------------------+-----+-----+----------------------+---------------------------------------------------------------+----------------+----------------+-------+\n",
      "|count  |606               |606                |606                  |282                  |253                |606               |319                              |319                       |395              |606   |606               |606               |395              |299              |606      |282               |606               |380        |395               |330  |301  |397                   |396                                                            |606             |200             |406    |\n",
      "|mean   |303.5             |NULL               |7.945544554455446    |NULL                 |NULL               |NULL              |NULL                             |NULL                      |434.2658288607597|NULL  |495.2013201320132 |371.4009900990099 |747.6617622784801|49.05511811023622|70.0     |56.1932269503546  |1.2013201320132014|NULL       |448.59705974683584|NULL |NULL |NULL                  |NULL                                                           |NULL            |NULL            |NULL   |\n",
      "|stddev |175.08140963563204|NULL               |9.561043804344278    |NULL                 |NULL               |NULL              |NULL                             |NULL                      |497.3798837760075|NULL  |364.00711426828417|273.00533570121314|838.7084513283569|7.389028386725068|NULL     |158.00065246682107|1.5088931655188191|NULL       |503.2250712044886 |NULL |NULL |NULL                  |NULL                                                           |NULL            |NULL            |NULL   |\n",
      "|min    |1                 |AR-5381            |0                    |G                    |CM                 |AWC Logo Cap      |Bielas GA                        |Antivol c�ble             |0.8565           |Black |4                 |3                 |2.29             |38               |38-40 CM |2.12              |0                 |M          |1.374             |H    |M    |All-Purpose Bike Stand|A light yet stiff aluminum bar for long distance riding.       |01/06/1998 00:00|30/06/2002 00:00|Current|\n",
      "|max    |606               |WB-H098            |37                   |LB                   |CM                 |Women's Tights, S |Soporte multiusos para bicicletas|V�lo de route 750 noir, 58|2171.2942        |Yellow|1000              |750               |3578.27          |XL               |XL       |1050.0            |4                 |T          |2146.962          |M    |W    |Women's Tights        |Wraps to fit front and rear tires, carrier and 2 keys included.|01/07/2007 00:00|30/06/2003 00:00|Current|\n",
      "+-------+------------------+-------------------+---------------------+---------------------+-------------------+------------------+---------------------------------+--------------------------+-----------------+------+------------------+------------------+-----------------+-----------------+---------+------------------+------------------+-----------+------------------+-----+-----+----------------------+---------------------------------------------------------------+----------------+----------------+-------+\n",
      "\n",
      "\n",
      "\n",
      "Distinct count for each column in DimProduct:\n",
      "ProductKey: 606 distinct values\n",
      "ProductAlternateKey: 504 distinct values\n",
      "ProductSubcategoryKey: 38 distinct values\n",
      "WeightUnitMeasureCode: 3 distinct values\n",
      "SizeUnitMeasureCode: 2 distinct values\n",
      "EnglishProductName: 504 distinct values\n",
      "SpanishProductName: 238 distinct values\n",
      "FrenchProductName: 238 distinct values\n",
      "StandardCost: 135 distinct values\n",
      "FinishedGoodsFlag: 2 distinct values\n",
      "Color: 10 distinct values\n",
      "SafetyStockLevel: 6 distinct values\n",
      "ReorderPoint: 6 distinct values\n",
      "ListPrice: 121 distinct values\n",
      "Size: 19 distinct values\n",
      "SizeRange: 11 distinct values\n",
      "Weight: 128 distinct values\n",
      "DaysToManufacture: 4 distinct values\n",
      "ProductLine: 5 distinct values\n",
      "DealerPrice: 121 distinct values\n",
      "Class: 4 distinct values\n",
      "Style: 4 distinct values\n",
      "ModelName: 120 distinct values\n",
      "EnglishDescription: 115 distinct values\n",
      "StartDate: 4 distinct values\n",
      "EndDate: 3 distinct values\n",
      "Status: 2 distinct values\n",
      "\n",
      "\n",
      "Data types in DimProduct:\n",
      "\n",
      "\n",
      "--------------------------------------------------\n"
     ]
    }
   ],
   "execution_count": 53
  },
  {
   "metadata": {
    "ExecuteTime": {
     "end_time": "2025-01-08T09:10:41.012882Z",
     "start_time": "2025-01-08T09:10:41.002413Z"
    }
   },
   "cell_type": "code",
   "source": "",
   "id": "f5941db0faffb51e",
   "outputs": [],
   "execution_count": null
  },
  {
   "metadata": {},
   "cell_type": "markdown",
   "source": "### Check and Clean the Datasets",
   "id": "5147ceb7a6e4f8e1"
  },
  {
   "metadata": {
    "ExecuteTime": {
     "end_time": "2025-01-08T09:10:41.286188Z",
     "start_time": "2025-01-08T09:10:41.101809Z"
    }
   },
   "cell_type": "code",
   "source": [
    "#Data cleaning and checking for missing values\n",
    "#Handle Missing Values\n",
    "# Replace nulls in key columns with a placeholder (-1) or drop rows with missing keys\n",
    "dim_product = dim_product.na.fill({\"ProductSubcategoryKey\": -1, \"Color\": \"Unknown\"}).na.drop(subset=[\"ProductKey\"])\n",
    "fact_sales = fact_sales.na.fill({\"OrderQuantity\": 0, \"SalesAmount\": 0}).na.drop(subset=[\"ProductKey\", \"CustomerKey\"])\n",
    "dim_customer = dim_customer.na.fill({\"Gender\": \"Unknown\", \"YearlyIncome\": 0})\n",
    "dim_product_category = dim_product_category.na.fill({\"EnglishProductCategoryName\": \"Unknown\"})\n",
    "dim_sales_territory = dim_sales_territory.na.fill({\"SalesTerritoryRegion\": \"Unknown\"})\n",
    "dim_date = dim_date.na.drop(subset=[\"DateKey\"])"
   ],
   "id": "4e6f71635342db03",
   "outputs": [],
   "execution_count": 38
  },
  {
   "metadata": {
    "ExecuteTime": {
     "end_time": "2025-01-08T09:15:00.465293Z",
     "start_time": "2025-01-08T09:15:00.406965Z"
    }
   },
   "cell_type": "code",
   "source": [
    "### 4. Remove Duplicate Rows\n",
    "# Drop duplicates from each dataset\n",
    "dim_product = dim_product.dropDuplicates()\n",
    "fact_sales = fact_sales.dropDuplicates()\n",
    "dim_customer = dim_customer.dropDuplicates()\n",
    "dim_product_category = dim_product_category.dropDuplicates()\n",
    "dim_product_subcategory = dim_product_subcategory.dropDuplicates()\n",
    "dim_sales_territory = dim_sales_territory.dropDuplicates()\n",
    "dim_date = dim_date.dropDuplicates()\n"
   ],
   "id": "60df77d2a643c09e",
   "outputs": [],
   "execution_count": 46
  },
  {
   "metadata": {
    "ExecuteTime": {
     "end_time": "2025-01-08T09:10:42.116816Z",
     "start_time": "2025-01-08T09:10:42.107268Z"
    }
   },
   "cell_type": "code",
   "source": "",
   "id": "561ad298dfef3fff",
   "outputs": [],
   "execution_count": null
  },
  {
   "metadata": {},
   "cell_type": "markdown",
   "source": [
    "Metrics\n",
    "Like total amount"
   ],
   "id": "153fdae9c6e7571d"
  },
  {
   "metadata": {},
   "cell_type": "markdown",
   "source": [
    "## Business Questions\n",
    "The Analysis will focus on the following product analysis, and sales analysis"
   ],
   "id": "d4bb57420cec25a4"
  },
  {
   "metadata": {},
   "cell_type": "markdown",
   "source": [
    "- Product Analysis<br>\n",
    "\n",
    "<b>Business Questions</b><br>\n",
    "What are the most and least popular products?<br>\n",
    "How does product performance vary across different categories and subcategories?<br>\n",
    "Which products have the highest profitability margin?<br>\n",
    "What are the top-selling products for specific sales territories?"
   ],
   "id": "4d3da2618c29bdc3"
  },
  {
   "metadata": {
    "ExecuteTime": {
     "end_time": "2025-01-08T09:15:04.783538Z",
     "start_time": "2025-01-08T09:15:04.543703Z"
    }
   },
   "cell_type": "code",
   "source": [
    "#What are the most and least popular products?\n",
    "## Join FactInternetSales with DimProduct to get product names\n",
    "sales_data = fact_sales.join(dim_product, fact_sales.ProductKey == dim_product.ProductKey)\n"
   ],
   "id": "881a514e309abfc7",
   "outputs": [],
   "execution_count": 47
  },
  {
   "metadata": {
    "ExecuteTime": {
     "end_time": "2025-01-08T09:15:07.368052Z",
     "start_time": "2025-01-08T09:15:07.173962Z"
    }
   },
   "cell_type": "code",
   "source": [
    "# Aggregate sales data to calculate total quantity sold for each product\n",
    "product_popularity = sales_data.groupBy(\"EnglishProductName\") \\\n",
    "    .agg(_sum(\"OrderQuantity\").alias(\"TotalQuantitySold\")) \\\n",
    "    .orderBy(desc(\"TotalQuantitySold\"))  # Sort in descending order\n"
   ],
   "id": "9a53b1f1348fa612",
   "outputs": [],
   "execution_count": 48
  },
  {
   "metadata": {
    "ExecuteTime": {
     "end_time": "2025-01-08T09:15:16.005223Z",
     "start_time": "2025-01-08T09:15:08.568847Z"
    }
   },
   "cell_type": "code",
   "source": [
    "# Most popular products\n",
    "most_popular = product_popularity.limit(10)  # Top 10 most popular products\n",
    "most_popular.show()"
   ],
   "id": "8937f0d6cf083c96",
   "outputs": [
    {
     "name": "stderr",
     "output_type": "stream",
     "text": [
      "[Stage 1627:>                                                       (0 + 4) / 4]\r"
     ]
    },
    {
     "name": "stdout",
     "output_type": "stream",
     "text": [
      "+--------------------+-----------------+\n",
      "|  EnglishProductName|TotalQuantitySold|\n",
      "+--------------------+-----------------+\n",
      "|Water Bottle - 30...|             4244|\n",
      "| Patch Kit/8 Patches|             3191|\n",
      "|  Mountain Tire Tube|             3095|\n",
      "|      Road Tire Tube|             2376|\n",
      "|Sport-100 Helmet,...|             2230|\n",
      "|        AWC Logo Cap|             2190|\n",
      "|Sport-100 Helmet,...|             2125|\n",
      "|Fender Set - Moun...|             2121|\n",
      "|Sport-100 Helmet,...|             2085|\n",
      "|Mountain Bottle Cage|             2025|\n",
      "+--------------------+-----------------+\n",
      "\n"
     ]
    },
    {
     "name": "stderr",
     "output_type": "stream",
     "text": [
      "                                                                                \r"
     ]
    }
   ],
   "execution_count": 49
  },
  {
   "metadata": {
    "ExecuteTime": {
     "end_time": "2025-01-08T09:15:48.319332Z",
     "start_time": "2025-01-08T09:15:45.455533Z"
    }
   },
   "cell_type": "code",
   "source": [
    "# Least popular products\n",
    "least_popular = product_popularity.orderBy(asc(\"TotalQuantitySold\")).limit(10)\n",
    "least_popular.show()"
   ],
   "id": "7211a47a053725c",
   "outputs": [
    {
     "name": "stderr",
     "output_type": "stream",
     "text": [
      "[Stage 1640:==================>                                     (1 + 2) / 3]\r"
     ]
    },
    {
     "name": "stdout",
     "output_type": "stream",
     "text": [
      "+--------------------+-----------------+\n",
      "|  EnglishProductName|TotalQuantitySold|\n",
      "+--------------------+-----------------+\n",
      "|Mountain-100 Silv...|               36|\n",
      "|Mountain-500 Silv...|               39|\n",
      "|Mountain-500 Blac...|               41|\n",
      "|Mountain-100 Silv...|               42|\n",
      "|Mountain-500 Silv...|               45|\n",
      "|Mountain-500 Silv...|               45|\n",
      "|Mountain-100 Blac...|               45|\n",
      "|Touring-3000 Yell...|               47|\n",
      "|Touring-3000 Blue...|               48|\n",
      "|Mountain-500 Silv...|               48|\n",
      "+--------------------+-----------------+\n",
      "\n"
     ]
    },
    {
     "name": "stderr",
     "output_type": "stream",
     "text": [
      "                                                                                \r"
     ]
    }
   ],
   "execution_count": 51
  },
  {
   "metadata": {
    "ExecuteTime": {
     "end_time": "2025-01-08T09:15:55.047321Z",
     "start_time": "2025-01-08T09:15:51.423514Z"
    }
   },
   "cell_type": "code",
   "source": [
    "# Save results to CSV\n",
    "most_popular.write.csv(\"Dataset/New/MostPopularProducts.csv\", header=True)\n",
    "least_popular.write.csv(\"Dataset/New/LeastPopularProducts.csv\", header=True)"
   ],
   "id": "546ca23b247a2be2",
   "outputs": [
    {
     "name": "stderr",
     "output_type": "stream",
     "text": [
      "[Stage 1654:>                                                       (0 + 4) / 4]\r"
     ]
    },
    {
     "ename": "AnalysisException",
     "evalue": "[PATH_ALREADY_EXISTS] Path file:/Users/apple2015/Documents/MSc/SchoolStuff/Bigdata/coursework/project/BigDataProcessing/Dataset/New/MostPopularProducts.csv already exists. Set mode as \"overwrite\" to overwrite the existing path.",
     "output_type": "error",
     "traceback": [
      "\u001B[0;31m---------------------------------------------------------------------------\u001B[0m",
      "\u001B[0;31mAnalysisException\u001B[0m                         Traceback (most recent call last)",
      "Cell \u001B[0;32mIn[52], line 2\u001B[0m\n\u001B[1;32m      1\u001B[0m \u001B[38;5;66;03m# Save results to CSV\u001B[39;00m\n\u001B[0;32m----> 2\u001B[0m \u001B[43mmost_popular\u001B[49m\u001B[38;5;241;43m.\u001B[39;49m\u001B[43mwrite\u001B[49m\u001B[38;5;241;43m.\u001B[39;49m\u001B[43mcsv\u001B[49m\u001B[43m(\u001B[49m\u001B[38;5;124;43m\"\u001B[39;49m\u001B[38;5;124;43mDataset/New/MostPopularProducts.csv\u001B[39;49m\u001B[38;5;124;43m\"\u001B[39;49m\u001B[43m,\u001B[49m\u001B[43m \u001B[49m\u001B[43mheader\u001B[49m\u001B[38;5;241;43m=\u001B[39;49m\u001B[38;5;28;43;01mTrue\u001B[39;49;00m\u001B[43m)\u001B[49m\n\u001B[1;32m      3\u001B[0m least_popular\u001B[38;5;241m.\u001B[39mwrite\u001B[38;5;241m.\u001B[39mcsv(\u001B[38;5;124m\"\u001B[39m\u001B[38;5;124mDataset/New/LeastPopularProducts.csv\u001B[39m\u001B[38;5;124m\"\u001B[39m, header\u001B[38;5;241m=\u001B[39m\u001B[38;5;28;01mTrue\u001B[39;00m)\n",
      "File \u001B[0;32m~/Documents/MSc/SchoolStuff/Bigdata/coursework/project/BigDataProcessing/.venv/lib/python3.11/site-packages/pyspark/sql/readwriter.py:1864\u001B[0m, in \u001B[0;36mDataFrameWriter.csv\u001B[0;34m(self, path, mode, compression, sep, quote, escape, header, nullValue, escapeQuotes, quoteAll, dateFormat, timestampFormat, ignoreLeadingWhiteSpace, ignoreTrailingWhiteSpace, charToEscapeQuoteEscaping, encoding, emptyValue, lineSep)\u001B[0m\n\u001B[1;32m   1845\u001B[0m \u001B[38;5;28mself\u001B[39m\u001B[38;5;241m.\u001B[39mmode(mode)\n\u001B[1;32m   1846\u001B[0m \u001B[38;5;28mself\u001B[39m\u001B[38;5;241m.\u001B[39m_set_opts(\n\u001B[1;32m   1847\u001B[0m     compression\u001B[38;5;241m=\u001B[39mcompression,\n\u001B[1;32m   1848\u001B[0m     sep\u001B[38;5;241m=\u001B[39msep,\n\u001B[0;32m   (...)\u001B[0m\n\u001B[1;32m   1862\u001B[0m     lineSep\u001B[38;5;241m=\u001B[39mlineSep,\n\u001B[1;32m   1863\u001B[0m )\n\u001B[0;32m-> 1864\u001B[0m \u001B[38;5;28;43mself\u001B[39;49m\u001B[38;5;241;43m.\u001B[39;49m\u001B[43m_jwrite\u001B[49m\u001B[38;5;241;43m.\u001B[39;49m\u001B[43mcsv\u001B[49m\u001B[43m(\u001B[49m\u001B[43mpath\u001B[49m\u001B[43m)\u001B[49m\n",
      "File \u001B[0;32m~/Documents/MSc/SchoolStuff/Bigdata/coursework/project/BigDataProcessing/.venv/lib/python3.11/site-packages/py4j/java_gateway.py:1322\u001B[0m, in \u001B[0;36mJavaMember.__call__\u001B[0;34m(self, *args)\u001B[0m\n\u001B[1;32m   1316\u001B[0m command \u001B[38;5;241m=\u001B[39m proto\u001B[38;5;241m.\u001B[39mCALL_COMMAND_NAME \u001B[38;5;241m+\u001B[39m\\\n\u001B[1;32m   1317\u001B[0m     \u001B[38;5;28mself\u001B[39m\u001B[38;5;241m.\u001B[39mcommand_header \u001B[38;5;241m+\u001B[39m\\\n\u001B[1;32m   1318\u001B[0m     args_command \u001B[38;5;241m+\u001B[39m\\\n\u001B[1;32m   1319\u001B[0m     proto\u001B[38;5;241m.\u001B[39mEND_COMMAND_PART\n\u001B[1;32m   1321\u001B[0m answer \u001B[38;5;241m=\u001B[39m \u001B[38;5;28mself\u001B[39m\u001B[38;5;241m.\u001B[39mgateway_client\u001B[38;5;241m.\u001B[39msend_command(command)\n\u001B[0;32m-> 1322\u001B[0m return_value \u001B[38;5;241m=\u001B[39m \u001B[43mget_return_value\u001B[49m\u001B[43m(\u001B[49m\n\u001B[1;32m   1323\u001B[0m \u001B[43m    \u001B[49m\u001B[43manswer\u001B[49m\u001B[43m,\u001B[49m\u001B[43m \u001B[49m\u001B[38;5;28;43mself\u001B[39;49m\u001B[38;5;241;43m.\u001B[39;49m\u001B[43mgateway_client\u001B[49m\u001B[43m,\u001B[49m\u001B[43m \u001B[49m\u001B[38;5;28;43mself\u001B[39;49m\u001B[38;5;241;43m.\u001B[39;49m\u001B[43mtarget_id\u001B[49m\u001B[43m,\u001B[49m\u001B[43m \u001B[49m\u001B[38;5;28;43mself\u001B[39;49m\u001B[38;5;241;43m.\u001B[39;49m\u001B[43mname\u001B[49m\u001B[43m)\u001B[49m\n\u001B[1;32m   1325\u001B[0m \u001B[38;5;28;01mfor\u001B[39;00m temp_arg \u001B[38;5;129;01min\u001B[39;00m temp_args:\n\u001B[1;32m   1326\u001B[0m     \u001B[38;5;28;01mif\u001B[39;00m \u001B[38;5;28mhasattr\u001B[39m(temp_arg, \u001B[38;5;124m\"\u001B[39m\u001B[38;5;124m_detach\u001B[39m\u001B[38;5;124m\"\u001B[39m):\n",
      "File \u001B[0;32m~/Documents/MSc/SchoolStuff/Bigdata/coursework/project/BigDataProcessing/.venv/lib/python3.11/site-packages/pyspark/errors/exceptions/captured.py:185\u001B[0m, in \u001B[0;36mcapture_sql_exception.<locals>.deco\u001B[0;34m(*a, **kw)\u001B[0m\n\u001B[1;32m    181\u001B[0m converted \u001B[38;5;241m=\u001B[39m convert_exception(e\u001B[38;5;241m.\u001B[39mjava_exception)\n\u001B[1;32m    182\u001B[0m \u001B[38;5;28;01mif\u001B[39;00m \u001B[38;5;129;01mnot\u001B[39;00m \u001B[38;5;28misinstance\u001B[39m(converted, UnknownException):\n\u001B[1;32m    183\u001B[0m     \u001B[38;5;66;03m# Hide where the exception came from that shows a non-Pythonic\u001B[39;00m\n\u001B[1;32m    184\u001B[0m     \u001B[38;5;66;03m# JVM exception message.\u001B[39;00m\n\u001B[0;32m--> 185\u001B[0m     \u001B[38;5;28;01mraise\u001B[39;00m converted \u001B[38;5;28;01mfrom\u001B[39;00m \u001B[38;5;28;01mNone\u001B[39;00m\n\u001B[1;32m    186\u001B[0m \u001B[38;5;28;01melse\u001B[39;00m:\n\u001B[1;32m    187\u001B[0m     \u001B[38;5;28;01mraise\u001B[39;00m\n",
      "\u001B[0;31mAnalysisException\u001B[0m: [PATH_ALREADY_EXISTS] Path file:/Users/apple2015/Documents/MSc/SchoolStuff/Bigdata/coursework/project/BigDataProcessing/Dataset/New/MostPopularProducts.csv already exists. Set mode as \"overwrite\" to overwrite the existing path."
     ]
    }
   ],
   "execution_count": 52
  },
  {
   "metadata": {},
   "cell_type": "code",
   "outputs": [],
   "execution_count": null,
   "source": "",
   "id": "317bd4b4aa7fe4f"
  },
  {
   "metadata": {},
   "cell_type": "markdown",
   "source": "### Visualizing the Most and Least Popular Products",
   "id": "7e5de78ce1fdd582"
  },
  {
   "metadata": {
    "ExecuteTime": {
     "end_time": "2025-01-08T09:15:22.277008Z",
     "start_time": "2025-01-07T19:14:33.449908Z"
    }
   },
   "cell_type": "code",
   "source": [
    "# Convert PySpark DataFrames to Pandas\n",
    "most_popular_pd = most_popular.toPandas()\n",
    "least_popular_pd = least_popular.toPandas()\n",
    "\n",
    "# Visualization for Most Popular Products\n",
    "plt.figure(figsize=(10, 6))\n",
    "plt.bar(most_popular_pd['EnglishProductName'], most_popular_pd['TotalQuantitySold'], color='blue')\n",
    "plt.xticks(rotation=45, ha='right')\n",
    "plt.title('Top 10 Most Popular Products')\n",
    "plt.xlabel('Product Name')\n",
    "plt.ylabel('Total Quantity Sold')\n",
    "plt.tight_layout()\n",
    "plt.show()\n"
   ],
   "id": "505b143d4ea9c3af",
   "outputs": [
    {
     "data": {
      "text/plain": [
       "<Figure size 1000x600 with 1 Axes>"
      ],
      "image/png": "[encoded data removed]"
     },
     "metadata": {},
     "output_type": "display_data"
    }
   ],
   "execution_count": 26
  },
  {
   "metadata": {
    "ExecuteTime": {
     "end_time": "2025-01-08T09:10:43.653327Z",
     "start_time": "2025-01-07T19:14:36.943799Z"
    }
   },
   "cell_type": "code",
   "source": [
    "\n",
    "# Visualization for Least Popular Products\n",
    "plt.figure(figsize=(10, 6))\n",
    "plt.bar(least_popular_pd['EnglishProductName'], least_popular_pd['TotalQuantitySold'], color='red')\n",
    "plt.xticks(rotation=45, ha='right')\n",
    "plt.title('Top 10 Least Popular Products')\n",
    "plt.xlabel('Product Name')\n",
    "plt.ylabel('Total Quantity Sold')\n",
    "plt.tight_layout()\n",
    "plt.show()"
   ],
   "id": "5228b3b455c58af0",
   "outputs": [
    {
     "data": {
      "text/plain": [
       "<Figure size 1000x600 with 1 Axes>"
      ],
      "image/png": "[encoded data removed]"
     },
     "metadata": {},
     "output_type": "display_data"
    }
   ],
   "execution_count": 27
  },
  {
   "metadata": {},
   "cell_type": "markdown",
   "source": "Checking Product Performance Across Categories and Subcategories",
   "id": "5491955732377ae"
  },
  {
   "metadata": {
    "ExecuteTime": {
     "end_time": "2025-01-08T09:10:43.655847Z",
     "start_time": "2025-01-07T19:14:40.956489Z"
    }
   },
   "cell_type": "code",
   "source": [
    "#How does product performance vary across different categories and subcategories?\"\n",
    "# Join tables to get Product → Subcategory → Category hierarchy\n",
    "product_data = fact_sales.join(dim_product, \"ProductKey\") \\\n",
    "    .join(dim_product_subcategory, \"ProductSubcategoryKey\") \\\n",
    "    .join(dim_product_category, \"ProductCategoryKey\")\n"
   ],
   "id": "2157f45ce54dcf57",
   "outputs": [],
   "execution_count": 28
  },
  {
   "metadata": {
    "ExecuteTime": {
     "end_time": "2025-01-08T09:10:43.658160Z",
     "start_time": "2025-01-07T19:14:42.073915Z"
    }
   },
   "cell_type": "code",
   "source": [
    "# Aggregate data to calculate Total Sales and Quantity Sold\n",
    "performance_data = product_data.groupBy(\"EnglishProductCategoryName\", \"EnglishProductSubcategoryName\") \\\n",
    "    .agg(\n",
    "        _sum(\"SalesAmount\").alias(\"TotalSales\"),\n",
    "        _sum(\"OrderQuantity\").alias(\"TotalQuantitySold\")\n",
    "    ).orderBy(col(\"TotalSales\").desc())\n"
   ],
   "id": "a1165c355c1da715",
   "outputs": [],
   "execution_count": 29
  },
  {
   "metadata": {
    "ExecuteTime": {
     "end_time": "2025-01-08T09:10:43.661355Z",
     "start_time": "2025-01-07T19:14:43.657982Z"
    }
   },
   "cell_type": "code",
   "source": [
    "# Show results\n",
    "performance_data.show(truncate=False)"
   ],
   "id": "59a8859e83ab0198",
   "outputs": [
    {
     "name": "stderr",
     "output_type": "stream",
     "text": [
      "[Stage 120:>                                                        (0 + 3) / 3]\r"
     ]
    },
    {
     "name": "stdout",
     "output_type": "stream",
     "text": [
      "+--------------------------+-----------------------------+--------------------+-----------------+\n",
      "|EnglishProductCategoryName|EnglishProductSubcategoryName|TotalSales          |TotalQuantitySold|\n",
      "+--------------------------+-----------------------------+--------------------+-----------------+\n",
      "|Bikes                     |Road Bikes                   |1.4520584036299847E7|8068             |\n",
      "|Bikes                     |Mountain Bikes               |9952759.564400222   |4970             |\n",
      "|Bikes                     |Touring Bikes                |3844801.0500000035  |2167             |\n",
      "|Accessories               |Tires and Tubes              |245529.32000000443  |17332            |\n",
      "|Accessories               |Helmets                      |225335.60000000076  |6440             |\n",
      "|Clothing                  |Jerseys                      |172950.67999999886  |3332             |\n",
      "|Clothing                  |Shorts                       |71319.81000000038   |1019             |\n",
      "|Accessories               |Bottles and Cages            |56798.1900000005    |7981             |\n",
      "|Accessories               |Fenders                      |46619.57999999933   |2121             |\n",
      "|Accessories               |Hydration Packs              |40307.66999999987   |733              |\n",
      "|Accessories               |Bike Stands                  |39591.0             |249              |\n",
      "|Accessories               |Bike Racks                   |39360.0             |328              |\n",
      "|Clothing                  |Vests                        |35687.0             |562              |\n",
      "|Clothing                  |Gloves                       |35020.69999999975   |1430             |\n",
      "|Clothing                  |Caps                         |19688.09999999968   |2190             |\n",
      "|Accessories               |Cleaners                     |7218.6              |908              |\n",
      "|Clothing                  |Socks                        |5106.320000000004   |568              |\n",
      "+--------------------------+-----------------------------+--------------------+-----------------+\n",
      "\n"
     ]
    },
    {
     "name": "stderr",
     "output_type": "stream",
     "text": [
      "                                                                                \r"
     ]
    }
   ],
   "execution_count": 30
  },
  {
   "metadata": {},
   "cell_type": "markdown",
   "source": "Visualizing Product Performance Across Categories and Subcategories",
   "id": "a28673c52029a16a"
  },
  {
   "metadata": {
    "ExecuteTime": {
     "end_time": "2025-01-08T09:10:43.664277Z",
     "start_time": "2025-01-07T19:14:47.274693Z"
    }
   },
   "cell_type": "code",
   "source": [
    "# Convert PySpark DataFrame to Pandas for visualization\n",
    "performance_pd = performance_data.toPandas()\n"
   ],
   "id": "eedb3ad794c98f02",
   "outputs": [],
   "execution_count": 31
  },
  {
   "metadata": {
    "ExecuteTime": {
     "end_time": "2025-01-08T09:10:43.666451Z",
     "start_time": "2025-01-07T19:15:06.314398Z"
    }
   },
   "cell_type": "code",
   "source": "performance_data.printSchema()\n",
   "id": "64355fc266bb73cb",
   "outputs": [
    {
     "name": "stdout",
     "output_type": "stream",
     "text": [
      "root\n",
      " |-- EnglishProductCategoryName: string (nullable = true)\n",
      " |-- EnglishProductSubcategoryName: string (nullable = true)\n",
      " |-- TotalSales: double (nullable = true)\n",
      " |-- TotalQuantitySold: long (nullable = true)\n",
      "\n"
     ]
    }
   ],
   "execution_count": 33
  },
  {
   "metadata": {
    "ExecuteTime": {
     "end_time": "2025-01-08T09:10:43.668929Z",
     "start_time": "2025-01-07T19:15:08.432147Z"
    }
   },
   "cell_type": "code",
   "source": "print(performance_data.columns)\n",
   "id": "b74dcf8e31bd215f",
   "outputs": [
    {
     "name": "stdout",
     "output_type": "stream",
     "text": [
      "['EnglishProductCategoryName', 'EnglishProductSubcategoryName', 'TotalSales', 'TotalQuantitySold']\n"
     ]
    }
   ],
   "execution_count": 34
  },
  {
   "metadata": {
    "ExecuteTime": {
     "end_time": "2025-01-08T09:10:43.671268Z",
     "start_time": "2025-01-07T19:15:10.051485Z"
    }
   },
   "cell_type": "code",
   "source": [
    "# Group data by EnglishProductCategoryName\n",
    "category_performance = product_data.groupBy(\"EnglishProductCategoryName\") \\\n",
    "    .agg(\n",
    "        _sum(\"SalesAmount\").alias(\"TotalSales\"),\n",
    "        _sum(\"OrderQuantity\").alias(\"TotalQuantitySold\")\n",
    "    ).orderBy(col(\"TotalSales\").desc())\n",
    "\n",
    "# Show the results\n",
    "category_performance.show(truncate=False)"
   ],
   "id": "5e428a40b571855a",
   "outputs": [
    {
     "name": "stdout",
     "output_type": "stream",
     "text": [
      "+--------------------------+--------------------+-----------------+\n",
      "|EnglishProductCategoryName|TotalSales          |TotalQuantitySold|\n",
      "+--------------------------+--------------------+-----------------+\n",
      "|Bikes                     |2.8318144650701128E7|15205            |\n",
      "|Accessories               |700759.9599999422   |36092            |\n",
      "|Clothing                  |339772.6100000149   |9101             |\n",
      "+--------------------------+--------------------+-----------------+\n",
      "\n"
     ]
    }
   ],
   "execution_count": 35
  },
  {
   "metadata": {
    "ExecuteTime": {
     "end_time": "2025-01-08T09:10:43.672785Z",
     "start_time": "2025-01-07T19:15:21.904661Z"
    }
   },
   "cell_type": "code",
   "source": [
    "# Convert PySpark DataFrame to Pandas DataFrame\n",
    "category_performance_pd = category_performance.toPandas()"
   ],
   "id": "8939a5efa7f64a49",
   "outputs": [],
   "execution_count": 36
  },
  {
   "metadata": {
    "ExecuteTime": {
     "end_time": "2025-01-08T09:10:43.673530Z",
     "start_time": "2025-01-07T19:15:23.086855Z"
    }
   },
   "cell_type": "code",
   "source": [
    "# Bar chart for Total Sales by Category\n",
    "plt.figure(figsize=(10, 6))\n",
    "sns.barplot(\n",
    "    data=category_performance_pd,\n",
    "    x=\"TotalSales\",\n",
    "    y=\"EnglishProductCategoryName\",\n",
    "    palette=\"viridis\"\n",
    ")\n",
    "plt.title(\"Total Sales by Product Category\")\n",
    "plt.xlabel(\"Total Sales\")\n",
    "plt.ylabel(\"Product Category\")\n",
    "plt.show()"
   ],
   "id": "60144aa7d016cffa",
   "outputs": [
    {
     "name": "stderr",
     "output_type": "stream",
     "text": [
      "/var/folders/vq/2z3hvmh94k13pb_1b0fmr7wm0000gn/T/ipykernel_8678/2604839958.py:3: FutureWarning: \n",
      "\n",
      "Passing `palette` without assigning `hue` is deprecated and will be removed in v0.14.0. Assign the `y` variable to `hue` and set `legend=False` for the same effect.\n",
      "\n",
      "  sns.barplot(\n"
     ]
    },
    {
     "data": {
      "text/plain": [
       "<Figure size 1000x600 with 1 Axes>"
      ],
      "image/png": "[encoded data removed]"
     },
     "metadata": {},
     "output_type": "display_data"
    }
   ],
   "execution_count": 37
  },
  {
   "metadata": {
    "ExecuteTime": {
     "end_time": "2025-01-08T09:10:43.674323Z",
     "start_time": "2025-01-07T19:15:27.304109Z"
    }
   },
   "cell_type": "code",
   "source": [
    "# Pie chart for Total Sales by Category\n",
    "plt.figure(figsize=(8, 8))\n",
    "plt.pie(\n",
    "    category_performance_pd[\"TotalSales\"],\n",
    "    labels=category_performance_pd[\"EnglishProductCategoryName\"],\n",
    "    autopct=\"%1.1f%%\",\n",
    "    startangle=140,\n",
    "    colors=sns.color_palette(\"viridis\", len(category_performance_pd))\n",
    ")\n",
    "plt.title(\"Proportion of Total Sales by Product Category\")\n",
    "plt.show()\n"
   ],
   "id": "c31b65ce3a598dfb",
   "outputs": [
    {
     "data": {
      "text/plain": [
       "<Figure size 800x800 with 1 Axes>"
      ],
      "image/png": "[encoded data removed]"
     },
     "metadata": {},
     "output_type": "display_data"
    }
   ],
   "execution_count": 38
  },
  {
   "metadata": {
    "ExecuteTime": {
     "end_time": "2025-01-08T09:10:43.678589Z",
     "start_time": "2025-01-07T19:15:30.701302Z"
    }
   },
   "cell_type": "code",
   "source": [
    "# Visualization 2: Heatmap (Category and Subcategory Performance)\n",
    "# Pivot the data to create a 2D matrix\n",
    "heatmap_data = performance_pd.pivot_table(\n",
    "    index=\"EnglishProductSubcategoryName\",  # Rows: Subcategories\n",
    "    columns=\"EnglishProductCategoryName\",  # Columns: Categories\n",
    "    values=\"TotalSales\",                   # Values: TotalSales\n",
    "    aggfunc=\"sum\"                          # Aggregation function (if duplicates exist)\n",
    ")\n",
    "\n",
    "# Plot the heatmap\n",
    "plt.figure(figsize=(14, 8))\n",
    "sns.heatmap(\n",
    "    heatmap_data,\n",
    "    annot=True,      # Annotate cells with data values\n",
    "    fmt=\".2f\",       # Format numbers to two decimal places\n",
    "    cmap=\"Blues\",    # Color map\n",
    "    linewidths=0.5   # Add lines between cells\n",
    ")\n",
    "\n",
    "# Add titles and labels\n",
    "plt.title(\"Product Performance Heatmap (Sales Amount)\", fontsize=16)\n",
    "plt.xlabel(\"Product Category\", fontsize=12)\n",
    "plt.ylabel(\"Product Subcategory\", fontsize=12)\n",
    "\n",
    "# Adjust layout to prevent clipping\n",
    "plt.tight_layout()\n",
    "plt.show()\n"
   ],
   "id": "ff088a5e87df39dd",
   "outputs": [
    {
     "data": {
      "text/plain": [
       "<Figure size 1400x800 with 2 Axes>"
      ],
      "image/png": "[encoded data removed]"
     },
     "metadata": {},
     "output_type": "display_data"
    }
   ],
   "execution_count": 39
  },
  {
   "metadata": {},
   "cell_type": "markdown",
   "source": [
    "\n",
    "- Sales Analysis<br>\n",
    "<b>Business Questions:</b><br>\n",
    "Which products generate the highest sales revenue and profit margins?<br>\n",
    "How do sales trends vary across different sales territories (DimSalesTerritory)?<br>\n",
    "What are the most successful product categories and subcategories (DimProductCategory, DimProductSubcategory)?<br>\n",
    "What is the trend in revenue and profit over time?"
   ],
   "id": "6545a8abcb73bd5d"
  },
  {
   "metadata": {
    "ExecuteTime": {
     "end_time": "2025-01-08T09:10:43.679780Z",
     "start_time": "2025-01-08T00:29:13.842461Z"
    }
   },
   "cell_type": "code",
   "source": [
    "#Which products generate the highest sales revenue and profit margins?\n",
    "\n",
    "# Join FactInternetSales and DimProduct\n",
    "sales_data = fact_sales.join(\n",
    "    dim_product,\n",
    "    fact_sales.ProductKey == dim_product.ProductKey,\n",
    "    how=\"inner\"\n",
    ")"
   ],
   "id": "a3bd206d5c7fcff4",
   "outputs": [],
   "execution_count": 99
  },
  {
   "metadata": {
    "ExecuteTime": {
     "end_time": "2025-01-08T09:10:43.682122Z",
     "start_time": "2025-01-07T22:47:36.686495Z"
    }
   },
   "cell_type": "code",
   "source": [
    "\n",
    "# Calculate Total Revenue and Profit Margin for each product\n",
    "sales_data = sales_data.withColumn(\n",
    "    \"TotalRevenue\", col(\"SalesAmount\")\n",
    ").withColumn(\n",
    "    \"ProfitMargin\",\n",
    "    (col(\"SalesAmount\") - (col(\"UnitPrice\") * col(\"OrderQuantity\"))) / col(\"SalesAmount\")\n",
    ")"
   ],
   "id": "16cfa83dbc2d142",
   "outputs": [],
   "execution_count": 96
  },
  {
   "metadata": {
    "ExecuteTime": {
     "end_time": "2025-01-08T09:10:43.690368Z",
     "start_time": "2025-01-07T22:48:24.451410Z"
    }
   },
   "cell_type": "code",
   "source": "sales_data.show()",
   "id": "9b38a467a3e6923a",
   "outputs": [
    {
     "name": "stdout",
     "output_type": "stream",
     "text": [
      "+----------+------------+----------+-----------+-----------+------------+-----------+-----------------+----------------+--------------------+--------------+-------------+---------+--------------+--------------------+--------------+-------------------+----------------+-----------+--------+-------+---------------------+----------------+-------------------+-------------------+-------------------+----------+-------------------+---------------------+---------------------+-------------------+--------------------+--------------------+--------------------+------------+-----------------+------+----------------+------------+---------+----+---------+------+-----------------+-----------+-----------+-----+-----+------------+--------------------+----------------+----------------+------+------------+------------+\n",
      "|ProductKey|OrderDateKey|DueDateKey|ShipDateKey|CustomerKey|PromotionKey|CurrencyKey|SalesTerritoryKey|SalesOrderNumber|SalesOrderLineNumber|RevisionNumber|OrderQuantity|UnitPrice|ExtendedAmount|UnitPriceDiscountPct|DiscountAmount|ProductStandardCost|TotalProductCost|SalesAmount|  TaxAmt|Freight|CarrierTrackingNumber|CustomerPONumber|          OrderDate|            DueDate|           ShipDate|ProductKey|ProductAlternateKey|ProductSubcategoryKey|WeightUnitMeasureCode|SizeUnitMeasureCode|  EnglishProductName|  SpanishProductName|   FrenchProductName|StandardCost|FinishedGoodsFlag| Color|SafetyStockLevel|ReorderPoint|ListPrice|Size|SizeRange|Weight|DaysToManufacture|ProductLine|DealerPrice|Class|Style|   ModelName|  EnglishDescription|       StartDate|         EndDate|Status|TotalRevenue|ProfitMargin|\n",
      "+----------+------------+----------+-----------+-----------+------------+-----------+-----------------+----------------+--------------------+--------------+-------------+---------+--------------+--------------------+--------------+-------------------+----------------+-----------+--------+-------+---------------------+----------------+-------------------+-------------------+-------------------+----------+-------------------+---------------------+---------------------+-------------------+--------------------+--------------------+--------------------+------------+-----------------+------+----------------+------------+---------+----+---------+------+-----------------+-----------+-----------+-----+-----+------------+--------------------+----------------+----------------+------+------------+------------+\n",
      "|       310|    20101229|  20110110|   20110105|      21768|           1|         19|                6|         SO43697|                   1|             1|            1|  3578.27|       3578.27|                   0|             0|          2171.2942|       2171.2942|    3578.27|286.2616|89.4568|                 NULL|            NULL|2010-12-29 00:00:00|2011-01-10 00:00:00|2011-01-05 00:00:00|       310|         BK-R93R-62|                    2|                  LB |                CM |    Road-150 Red, 62|Carretera: 150, r...|V�lo de route 150...|   2171.2942|             true|   Red|             100|          75|  3578.27|  62| 60-62 CM|  15.0|                4|         R |   2146.962|   H |   U |    Road-150|This bike is ridd...|01/07/2005 00:00|30/06/2002 00:00|  NULL|     3578.27|         0.0|\n",
      "|       346|    20101229|  20110110|   20110105|      28389|           1|         39|                7|         SO43698|                   1|             1|            1|  3399.99|       3399.99|                   0|             0|          1912.1544|       1912.1544|    3399.99|271.9992|84.9998|                 NULL|            NULL|2010-12-29 00:00:00|2011-01-10 00:00:00|2011-01-05 00:00:00|       346|         BK-M82S-44|                    1|                  LB |                CM |Mountain-100 Silv...|Monta�a: 100, pla...|  VTT 100 argent, 44|   1912.1544|             true|Silver|             100|          75|  3399.99|  44| 42-46 CM| 21.13|                4|         M |   2039.994|   H |   U |Mountain-100|Top-of-the-line c...|01/07/2005 00:00|30/06/2002 00:00|  NULL|     3399.99|         0.0|\n",
      "|       346|    20101229|  20110110|   20110105|      25863|           1|        100|                1|         SO43699|                   1|             1|            1|  3399.99|       3399.99|                   0|             0|          1912.1544|       1912.1544|    3399.99|271.9992|84.9998|                 NULL|            NULL|2010-12-29 00:00:00|2011-01-10 00:00:00|2011-01-05 00:00:00|       346|         BK-M82S-44|                    1|                  LB |                CM |Mountain-100 Silv...|Monta�a: 100, pla...|  VTT 100 argent, 44|   1912.1544|             true|Silver|             100|          75|  3399.99|  44| 42-46 CM| 21.13|                4|         M |   2039.994|   H |   U |Mountain-100|Top-of-the-line c...|01/07/2005 00:00|30/06/2002 00:00|  NULL|     3399.99|         0.0|\n",
      "|       336|    20101229|  20110110|   20110105|      14501|           1|        100|                4|         SO43700|                   1|             1|            1| 699.0982|      699.0982|                   0|             0|           413.1463|        413.1463|   699.0982| 55.9279|17.4775|                 NULL|            NULL|2010-12-29 00:00:00|2011-01-10 00:00:00|2011-01-05 00:00:00|       336|         BK-R50B-62|                    2|                  LB |                CM |  Road-650 Black, 62|Carretera: 650, n...|V�lo de route 650...|    413.1463|             true| Black|             100|          75| 699.0982|  62| 60-62 CM|  20.0|                4|         R |   419.4589|   L |   U |    Road-650|Value-priced bike...|01/07/2005 00:00|30/06/2002 00:00|  NULL|    699.0982|         0.0|\n",
      "|       346|    20101229|  20110110|   20110105|      11003|           1|          6|                9|         SO43701|                   1|             1|            1|  3399.99|       3399.99|                   0|             0|          1912.1544|       1912.1544|    3399.99|271.9992|84.9998|                 NULL|            NULL|2010-12-29 00:00:00|2011-01-10 00:00:00|2011-01-05 00:00:00|       346|         BK-M82S-44|                    1|                  LB |                CM |Mountain-100 Silv...|Monta�a: 100, pla...|  VTT 100 argent, 44|   1912.1544|             true|Silver|             100|          75|  3399.99|  44| 42-46 CM| 21.13|                4|         M |   2039.994|   H |   U |Mountain-100|Top-of-the-line c...|01/07/2005 00:00|30/06/2002 00:00|  NULL|     3399.99|         0.0|\n",
      "|       311|    20101230|  20110111|   20110106|      27645|           1|        100|                4|         SO43702|                   1|             1|            1|  3578.27|       3578.27|                   0|             0|          2171.2942|       2171.2942|    3578.27|286.2616|89.4568|                 NULL|            NULL|2010-12-30 00:00:00|2011-01-11 00:00:00|2011-01-06 00:00:00|       311|         BK-R93R-44|                    2|                  LB |                CM |    Road-150 Red, 44|Carretera: 150, r...|V�lo de route 150...|   2171.2942|             true|   Red|             100|          75|  3578.27|  44| 42-46 CM| 13.77|                4|         R |   2146.962|   H |   U |    Road-150|This bike is ridd...|01/07/2005 00:00|30/06/2002 00:00|  NULL|     3578.27|         0.0|\n",
      "|       310|    20101230|  20110111|   20110106|      16624|           1|          6|                9|         SO43703|                   1|             1|            1|  3578.27|       3578.27|                   0|             0|          2171.2942|       2171.2942|    3578.27|286.2616|89.4568|                 NULL|            NULL|2010-12-30 00:00:00|2011-01-11 00:00:00|2011-01-06 00:00:00|       310|         BK-R93R-62|                    2|                  LB |                CM |    Road-150 Red, 62|Carretera: 150, r...|V�lo de route 150...|   2171.2942|             true|   Red|             100|          75|  3578.27|  62| 60-62 CM|  15.0|                4|         R |   2146.962|   H |   U |    Road-150|This bike is ridd...|01/07/2005 00:00|30/06/2002 00:00|  NULL|     3578.27|         0.0|\n",
      "|       351|    20101230|  20110111|   20110106|      11005|           1|          6|                9|         SO43704|                   1|             1|            1|  3374.99|       3374.99|                   0|             0|          1898.0944|       1898.0944|    3374.99|269.9992|84.3748|                 NULL|            NULL|2010-12-30 00:00:00|2011-01-11 00:00:00|2011-01-06 00:00:00|       351|         BK-M82B-48|                    1|                  LB |                CM |Mountain-100 Blac...|Monta�a: 100, neg...|    VTT 100 noir, 48|   1898.0944|             true| Black|             100|          75|  3374.99|  48| 48-52 CM| 21.42|                4|         M |   2024.994|   H |   U |Mountain-100|Top-of-the-line c...|01/07/2005 00:00|30/06/2002 00:00|  NULL|     3374.99|         0.0|\n",
      "|       344|    20101230|  20110111|   20110106|      11011|           1|          6|                9|         SO43705|                   1|             1|            1|  3399.99|       3399.99|                   0|             0|          1912.1544|       1912.1544|    3399.99|271.9992|84.9998|                 NULL|            NULL|2010-12-30 00:00:00|2011-01-11 00:00:00|2011-01-06 00:00:00|       344|         BK-M82S-38|                    1|                  LB |                CM |Mountain-100 Silv...|Monta�a: 100, pla...|  VTT 100 argent, 38|   1912.1544|             true|Silver|             100|          75|  3399.99|  38| 38-40 CM| 20.35|                4|         M |   2039.994|   H |   U |Mountain-100|Top-of-the-line c...|01/07/2005 00:00|30/06/2002 00:00|  NULL|     3399.99|         0.0|\n",
      "|       312|    20101231|  20110112|   20110107|      27621|           1|        100|                4|         SO43706|                   1|             1|            1|  3578.27|       3578.27|                   0|             0|          2171.2942|       2171.2942|    3578.27|286.2616|89.4568|                 NULL|            NULL|2010-12-31 00:00:00|2011-01-12 00:00:00|2011-01-07 00:00:00|       312|         BK-R93R-48|                    2|                  LB |                CM |    Road-150 Red, 48|Carretera: 150, r...|V�lo de route 150...|   2171.2942|             true|   Red|             100|          75|  3578.27|  48| 48-52 CM| 14.13|                4|         R |   2146.962|   H |   U |    Road-150|This bike is ridd...|01/07/2005 00:00|30/06/2002 00:00|  NULL|     3578.27|         0.0|\n",
      "|       312|    20101231|  20110112|   20110107|      27616|           1|        100|                4|         SO43707|                   1|             1|            1|  3578.27|       3578.27|                   0|             0|          2171.2942|       2171.2942|    3578.27|286.2616|89.4568|                 NULL|            NULL|2010-12-31 00:00:00|2011-01-12 00:00:00|2011-01-07 00:00:00|       312|         BK-R93R-48|                    2|                  LB |                CM |    Road-150 Red, 48|Carretera: 150, r...|V�lo de route 150...|   2171.2942|             true|   Red|             100|          75|  3578.27|  48| 48-52 CM| 14.13|                4|         R |   2146.962|   H |   U |    Road-150|This bike is ridd...|01/07/2005 00:00|30/06/2002 00:00|  NULL|     3578.27|         0.0|\n",
      "|       330|    20101231|  20110112|   20110107|      20042|           1|         98|               10|         SO43708|                   1|             1|            1| 699.0982|      699.0982|                   0|             0|           413.1463|        413.1463|   699.0982| 55.9279|17.4775|                 NULL|            NULL|2010-12-31 00:00:00|2011-01-12 00:00:00|2011-01-07 00:00:00|       330|         BK-R50R-52|                    2|                  LB |                CM |    Road-650 Red, 52|Carretera: 650, r...|V�lo de route 650...|    413.1463|             true|   Red|             100|          75| 699.0982|  52| 48-52 CM| 19.42|                4|         R |   419.4589|   L |   U |    Road-650|Value-priced bike...|01/07/2005 00:00|30/06/2002 00:00|  NULL|    699.0982|         0.0|\n",
      "|       313|    20101231|  20110112|   20110107|      16351|           1|          6|                9|         SO43709|                   1|             1|            1|  3578.27|       3578.27|                   0|             0|          2171.2942|       2171.2942|    3578.27|286.2616|89.4568|                 NULL|            NULL|2010-12-31 00:00:00|2011-01-12 00:00:00|2011-01-07 00:00:00|       313|         BK-R93R-52|                    2|                  LB |                CM |    Road-150 Red, 52|Carretera: 150, r...|V�lo de route 150...|   2171.2942|             true|   Red|             100|          75|  3578.27|  52| 48-52 CM| 14.42|                4|         R |   2146.962|   H |   U |    Road-150|This bike is ridd...|01/07/2005 00:00|30/06/2002 00:00|  NULL|     3578.27|         0.0|\n",
      "|       314|    20101231|  20110112|   20110107|      16517|           1|          6|                9|         SO43710|                   1|             1|            1|  3578.27|       3578.27|                   0|             0|          2171.2942|       2171.2942|    3578.27|286.2616|89.4568|                 NULL|            NULL|2010-12-31 00:00:00|2011-01-12 00:00:00|2011-01-07 00:00:00|       314|         BK-R93R-56|                    2|                  LB |                CM |    Road-150 Red, 56|Carretera: 150, r...|V�lo de route 150...|   2171.2942|             true|   Red|             100|          75|  3578.27|  56| 54-58 CM| 14.68|                4|         R |   2146.962|   H |   U |    Road-150|This bike is ridd...|01/07/2005 00:00|30/06/2002 00:00|  NULL|     3578.27|         0.0|\n",
      "|       314|    20110101|  20110113|   20110108|      27606|           1|        100|                1|         SO43711|                   1|             1|            1|  3578.27|       3578.27|                   0|             0|          2171.2942|       2171.2942|    3578.27|286.2616|89.4568|                 NULL|            NULL|2011-01-01 00:00:00|2011-01-13 00:00:00|2011-01-08 00:00:00|       314|         BK-R93R-56|                    2|                  LB |                CM |    Road-150 Red, 56|Carretera: 150, r...|V�lo de route 150...|   2171.2942|             true|   Red|             100|          75|  3578.27|  56| 54-58 CM| 14.68|                4|         R |   2146.962|   H |   U |    Road-150|This bike is ridd...|01/07/2005 00:00|30/06/2002 00:00|  NULL|     3578.27|         0.0|\n",
      "|       311|    20110101|  20110113|   20110108|      13513|           1|         29|                8|         SO43712|                   1|             1|            1|  3578.27|       3578.27|                   0|             0|          2171.2942|       2171.2942|    3578.27|286.2616|89.4568|                 NULL|            NULL|2011-01-01 00:00:00|2011-01-13 00:00:00|2011-01-08 00:00:00|       311|         BK-R93R-44|                    2|                  LB |                CM |    Road-150 Red, 44|Carretera: 150, r...|V�lo de route 150...|   2171.2942|             true|   Red|             100|          75|  3578.27|  44| 42-46 CM| 13.77|                4|         R |   2146.962|   H |   U |    Road-150|This bike is ridd...|01/07/2005 00:00|30/06/2002 00:00|  NULL|     3578.27|         0.0|\n",
      "|       310|    20110102|  20110114|   20110109|      27601|           1|        100|                4|         SO43713|                   1|             1|            1|  3578.27|       3578.27|                   0|             0|          2171.2942|       2171.2942|    3578.27|286.2616|89.4568|                 NULL|            NULL|2011-01-02 00:00:00|2011-01-14 00:00:00|2011-01-09 00:00:00|       310|         BK-R93R-62|                    2|                  LB |                CM |    Road-150 Red, 62|Carretera: 150, r...|V�lo de route 150...|   2171.2942|             true|   Red|             100|          75|  3578.27|  62| 60-62 CM|  15.0|                4|         R |   2146.962|   H |   U |    Road-150|This bike is ridd...|01/07/2005 00:00|30/06/2002 00:00|  NULL|     3578.27|         0.0|\n",
      "|       311|    20110102|  20110114|   20110109|      13591|           1|         98|               10|         SO43714|                   1|             1|            1|  3578.27|       3578.27|                   0|             0|          2171.2942|       2171.2942|    3578.27|286.2616|89.4568|                 NULL|            NULL|2011-01-02 00:00:00|2011-01-14 00:00:00|2011-01-09 00:00:00|       311|         BK-R93R-44|                    2|                  LB |                CM |    Road-150 Red, 44|Carretera: 150, r...|V�lo de route 150...|   2171.2942|             true|   Red|             100|          75|  3578.27|  44| 42-46 CM| 13.77|                4|         R |   2146.962|   H |   U |    Road-150|This bike is ridd...|01/07/2005 00:00|30/06/2002 00:00|  NULL|     3578.27|         0.0|\n",
      "|       314|    20110102|  20110114|   20110109|      16483|           1|          6|                9|         SO43715|                   1|             1|            1|  3578.27|       3578.27|                   0|             0|          2171.2942|       2171.2942|    3578.27|286.2616|89.4568|                 NULL|            NULL|2011-01-02 00:00:00|2011-01-14 00:00:00|2011-01-09 00:00:00|       314|         BK-R93R-56|                    2|                  LB |                CM |    Road-150 Red, 56|Carretera: 150, r...|V�lo de route 150...|   2171.2942|             true|   Red|             100|          75|  3578.27|  56| 54-58 CM| 14.68|                4|         R |   2146.962|   H |   U |    Road-150|This bike is ridd...|01/07/2005 00:00|30/06/2002 00:00|  NULL|     3578.27|         0.0|\n",
      "|       311|    20110102|  20110114|   20110109|      16529|           1|          6|                9|         SO43716|                   1|             1|            1|  3578.27|       3578.27|                   0|             0|          2171.2942|       2171.2942|    3578.27|286.2616|89.4568|                 NULL|            NULL|2011-01-02 00:00:00|2011-01-14 00:00:00|2011-01-09 00:00:00|       311|         BK-R93R-44|                    2|                  LB |                CM |    Road-150 Red, 44|Carretera: 150, r...|V�lo de route 150...|   2171.2942|             true|   Red|             100|          75|  3578.27|  44| 42-46 CM| 13.77|                4|         R |   2146.962|   H |   U |    Road-150|This bike is ridd...|01/07/2005 00:00|30/06/2002 00:00|  NULL|     3578.27|         0.0|\n",
      "+----------+------------+----------+-----------+-----------+------------+-----------+-----------------+----------------+--------------------+--------------+-------------+---------+--------------+--------------------+--------------+-------------------+----------------+-----------+--------+-------+---------------------+----------------+-------------------+-------------------+-------------------+----------+-------------------+---------------------+---------------------+-------------------+--------------------+--------------------+--------------------+------------+-----------------+------+----------------+------------+---------+----+---------+------+-----------------+-----------+-----------+-----+-----+------------+--------------------+----------------+----------------+------+------------+------------+\n",
      "only showing top 20 rows\n",
      "\n"
     ]
    }
   ],
   "execution_count": 98
  },
  {
   "metadata": {
    "ExecuteTime": {
     "end_time": "2025-01-08T09:10:43.694349Z",
     "start_time": "2025-01-08T00:29:41.699806Z"
    }
   },
   "cell_type": "code",
   "source": [
    "# Aggregate revenue and profit margin by product\n",
    "product_sales = sales_data.groupBy(\"ProductKey\", \"EnglishProductName\").agg(\n",
    "    sum(\"Revenue\").alias(\"TotalRevenue\"),\n",
    "    avg(\"ProfitMargin\").alias(\"AverageProfitMargin\")\n",
    ")"
   ],
   "id": "67b6fe9e7c89796d",
   "outputs": [
    {
     "ename": "AnalysisException",
     "evalue": "[AMBIGUOUS_REFERENCE] Reference `ProductKey` is ambiguous, could be: [`ProductKey`, `ProductKey`].",
     "output_type": "error",
     "traceback": [
      "\u001B[0;31m---------------------------------------------------------------------------\u001B[0m",
      "\u001B[0;31mAnalysisException\u001B[0m                         Traceback (most recent call last)",
      "Cell \u001B[0;32mIn[100], line 2\u001B[0m\n\u001B[1;32m      1\u001B[0m \u001B[38;5;66;03m# Aggregate revenue and profit margin by product\u001B[39;00m\n\u001B[0;32m----> 2\u001B[0m product_sales \u001B[38;5;241m=\u001B[39m \u001B[43msales_data\u001B[49m\u001B[38;5;241;43m.\u001B[39;49m\u001B[43mgroupBy\u001B[49m\u001B[43m(\u001B[49m\u001B[38;5;124;43m\"\u001B[39;49m\u001B[38;5;124;43mProductKey\u001B[39;49m\u001B[38;5;124;43m\"\u001B[39;49m\u001B[43m,\u001B[49m\u001B[43m \u001B[49m\u001B[38;5;124;43m\"\u001B[39;49m\u001B[38;5;124;43mEnglishProductName\u001B[39;49m\u001B[38;5;124;43m\"\u001B[39;49m\u001B[43m)\u001B[49m\u001B[38;5;241;43m.\u001B[39;49m\u001B[43magg\u001B[49m\u001B[43m(\u001B[49m\n\u001B[1;32m      3\u001B[0m \u001B[43m    \u001B[49m\u001B[38;5;28;43msum\u001B[39;49m\u001B[43m(\u001B[49m\u001B[38;5;124;43m\"\u001B[39;49m\u001B[38;5;124;43mRevenue\u001B[39;49m\u001B[38;5;124;43m\"\u001B[39;49m\u001B[43m)\u001B[49m\u001B[38;5;241;43m.\u001B[39;49m\u001B[43malias\u001B[49m\u001B[43m(\u001B[49m\u001B[38;5;124;43m\"\u001B[39;49m\u001B[38;5;124;43mTotalRevenue\u001B[39;49m\u001B[38;5;124;43m\"\u001B[39;49m\u001B[43m)\u001B[49m\u001B[43m,\u001B[49m\n\u001B[1;32m      4\u001B[0m \u001B[43m    \u001B[49m\u001B[43mavg\u001B[49m\u001B[43m(\u001B[49m\u001B[38;5;124;43m\"\u001B[39;49m\u001B[38;5;124;43mProfitMargin\u001B[39;49m\u001B[38;5;124;43m\"\u001B[39;49m\u001B[43m)\u001B[49m\u001B[38;5;241;43m.\u001B[39;49m\u001B[43malias\u001B[49m\u001B[43m(\u001B[49m\u001B[38;5;124;43m\"\u001B[39;49m\u001B[38;5;124;43mAverageProfitMargin\u001B[39;49m\u001B[38;5;124;43m\"\u001B[39;49m\u001B[43m)\u001B[49m\n\u001B[1;32m      5\u001B[0m \u001B[43m)\u001B[49m\n",
      "File \u001B[0;32m~/Documents/MSc/SchoolStuff/Bigdata/coursework/project/BigDataProcessing/.venv/lib/python3.11/site-packages/pyspark/sql/group.py:186\u001B[0m, in \u001B[0;36mGroupedData.agg\u001B[0;34m(self, *exprs)\u001B[0m\n\u001B[1;32m    184\u001B[0m     \u001B[38;5;28;01massert\u001B[39;00m \u001B[38;5;28mall\u001B[39m(\u001B[38;5;28misinstance\u001B[39m(c, Column) \u001B[38;5;28;01mfor\u001B[39;00m c \u001B[38;5;129;01min\u001B[39;00m exprs), \u001B[38;5;124m\"\u001B[39m\u001B[38;5;124mall exprs should be Column\u001B[39m\u001B[38;5;124m\"\u001B[39m\n\u001B[1;32m    185\u001B[0m     exprs \u001B[38;5;241m=\u001B[39m cast(Tuple[Column, \u001B[38;5;241m.\u001B[39m\u001B[38;5;241m.\u001B[39m\u001B[38;5;241m.\u001B[39m], exprs)\n\u001B[0;32m--> 186\u001B[0m     jdf \u001B[38;5;241m=\u001B[39m \u001B[38;5;28;43mself\u001B[39;49m\u001B[38;5;241;43m.\u001B[39;49m\u001B[43m_jgd\u001B[49m\u001B[38;5;241;43m.\u001B[39;49m\u001B[43magg\u001B[49m\u001B[43m(\u001B[49m\u001B[43mexprs\u001B[49m\u001B[43m[\u001B[49m\u001B[38;5;241;43m0\u001B[39;49m\u001B[43m]\u001B[49m\u001B[38;5;241;43m.\u001B[39;49m\u001B[43m_jc\u001B[49m\u001B[43m,\u001B[49m\u001B[43m \u001B[49m\u001B[43m_to_seq\u001B[49m\u001B[43m(\u001B[49m\u001B[38;5;28;43mself\u001B[39;49m\u001B[38;5;241;43m.\u001B[39;49m\u001B[43msession\u001B[49m\u001B[38;5;241;43m.\u001B[39;49m\u001B[43m_sc\u001B[49m\u001B[43m,\u001B[49m\u001B[43m \u001B[49m\u001B[43m[\u001B[49m\u001B[43mc\u001B[49m\u001B[38;5;241;43m.\u001B[39;49m\u001B[43m_jc\u001B[49m\u001B[43m \u001B[49m\u001B[38;5;28;43;01mfor\u001B[39;49;00m\u001B[43m \u001B[49m\u001B[43mc\u001B[49m\u001B[43m \u001B[49m\u001B[38;5;129;43;01min\u001B[39;49;00m\u001B[43m \u001B[49m\u001B[43mexprs\u001B[49m\u001B[43m[\u001B[49m\u001B[38;5;241;43m1\u001B[39;49m\u001B[43m:\u001B[49m\u001B[43m]\u001B[49m\u001B[43m]\u001B[49m\u001B[43m)\u001B[49m\u001B[43m)\u001B[49m\n\u001B[1;32m    187\u001B[0m \u001B[38;5;28;01mreturn\u001B[39;00m DataFrame(jdf, \u001B[38;5;28mself\u001B[39m\u001B[38;5;241m.\u001B[39msession)\n",
      "File \u001B[0;32m~/Documents/MSc/SchoolStuff/Bigdata/coursework/project/BigDataProcessing/.venv/lib/python3.11/site-packages/py4j/java_gateway.py:1322\u001B[0m, in \u001B[0;36mJavaMember.__call__\u001B[0;34m(self, *args)\u001B[0m\n\u001B[1;32m   1316\u001B[0m command \u001B[38;5;241m=\u001B[39m proto\u001B[38;5;241m.\u001B[39mCALL_COMMAND_NAME \u001B[38;5;241m+\u001B[39m\\\n\u001B[1;32m   1317\u001B[0m     \u001B[38;5;28mself\u001B[39m\u001B[38;5;241m.\u001B[39mcommand_header \u001B[38;5;241m+\u001B[39m\\\n\u001B[1;32m   1318\u001B[0m     args_command \u001B[38;5;241m+\u001B[39m\\\n\u001B[1;32m   1319\u001B[0m     proto\u001B[38;5;241m.\u001B[39mEND_COMMAND_PART\n\u001B[1;32m   1321\u001B[0m answer \u001B[38;5;241m=\u001B[39m \u001B[38;5;28mself\u001B[39m\u001B[38;5;241m.\u001B[39mgateway_client\u001B[38;5;241m.\u001B[39msend_command(command)\n\u001B[0;32m-> 1322\u001B[0m return_value \u001B[38;5;241m=\u001B[39m \u001B[43mget_return_value\u001B[49m\u001B[43m(\u001B[49m\n\u001B[1;32m   1323\u001B[0m \u001B[43m    \u001B[49m\u001B[43manswer\u001B[49m\u001B[43m,\u001B[49m\u001B[43m \u001B[49m\u001B[38;5;28;43mself\u001B[39;49m\u001B[38;5;241;43m.\u001B[39;49m\u001B[43mgateway_client\u001B[49m\u001B[43m,\u001B[49m\u001B[43m \u001B[49m\u001B[38;5;28;43mself\u001B[39;49m\u001B[38;5;241;43m.\u001B[39;49m\u001B[43mtarget_id\u001B[49m\u001B[43m,\u001B[49m\u001B[43m \u001B[49m\u001B[38;5;28;43mself\u001B[39;49m\u001B[38;5;241;43m.\u001B[39;49m\u001B[43mname\u001B[49m\u001B[43m)\u001B[49m\n\u001B[1;32m   1325\u001B[0m \u001B[38;5;28;01mfor\u001B[39;00m temp_arg \u001B[38;5;129;01min\u001B[39;00m temp_args:\n\u001B[1;32m   1326\u001B[0m     \u001B[38;5;28;01mif\u001B[39;00m \u001B[38;5;28mhasattr\u001B[39m(temp_arg, \u001B[38;5;124m\"\u001B[39m\u001B[38;5;124m_detach\u001B[39m\u001B[38;5;124m\"\u001B[39m):\n",
      "File \u001B[0;32m~/Documents/MSc/SchoolStuff/Bigdata/coursework/project/BigDataProcessing/.venv/lib/python3.11/site-packages/pyspark/errors/exceptions/captured.py:185\u001B[0m, in \u001B[0;36mcapture_sql_exception.<locals>.deco\u001B[0;34m(*a, **kw)\u001B[0m\n\u001B[1;32m    181\u001B[0m converted \u001B[38;5;241m=\u001B[39m convert_exception(e\u001B[38;5;241m.\u001B[39mjava_exception)\n\u001B[1;32m    182\u001B[0m \u001B[38;5;28;01mif\u001B[39;00m \u001B[38;5;129;01mnot\u001B[39;00m \u001B[38;5;28misinstance\u001B[39m(converted, UnknownException):\n\u001B[1;32m    183\u001B[0m     \u001B[38;5;66;03m# Hide where the exception came from that shows a non-Pythonic\u001B[39;00m\n\u001B[1;32m    184\u001B[0m     \u001B[38;5;66;03m# JVM exception message.\u001B[39;00m\n\u001B[0;32m--> 185\u001B[0m     \u001B[38;5;28;01mraise\u001B[39;00m converted \u001B[38;5;28;01mfrom\u001B[39;00m \u001B[38;5;28;01mNone\u001B[39;00m\n\u001B[1;32m    186\u001B[0m \u001B[38;5;28;01melse\u001B[39;00m:\n\u001B[1;32m    187\u001B[0m     \u001B[38;5;28;01mraise\u001B[39;00m\n",
      "\u001B[0;31mAnalysisException\u001B[0m: [AMBIGUOUS_REFERENCE] Reference `ProductKey` is ambiguous, could be: [`ProductKey`, `ProductKey`]."
     ]
    }
   ],
   "execution_count": 100
  },
  {
   "metadata": {},
   "cell_type": "code",
   "outputs": [],
   "execution_count": null,
   "source": [
    "# Get the top products by revenue and profit margin\n",
    "top_products_revenue = product_sales.orderBy(desc(\"TotalRevenue\")).limit(10)\n",
    "top_products_profit_margin = product_sales.orderBy(desc(\"AverageProfitMargin\")).limit(10)\n"
   ],
   "id": "f6703c6a63a8a1e4"
  },
  {
   "metadata": {},
   "cell_type": "code",
   "outputs": [],
   "execution_count": null,
   "source": [
    "\n",
    "# Convert to Pandas for visualization\n",
    "top_revenue_df = top_products_revenue.toPandas()\n",
    "top_profit_margin_df = top_products_profit_margin.toPandas()"
   ],
   "id": "74786e836969472c"
  },
  {
   "metadata": {},
   "cell_type": "markdown",
   "source": "### Visualization",
   "id": "4a05b970b71b48d8"
  },
  {
   "metadata": {},
   "cell_type": "code",
   "outputs": [],
   "execution_count": null,
   "source": [
    "import matplotlib.pyplot as plt\n",
    "import seaborn as sns\n",
    "\n",
    "# Top 10 products by revenue\n",
    "plt.figure(figsize=(10, 6))\n",
    "sns.barplot(data=top_revenue_df, x=\"TotalRevenue\", y=\"EnglishProductName\")\n",
    "plt.title(\"Top 10 Products by Revenue\")\n",
    "plt.xlabel(\"Revenue\")\n",
    "plt.ylabel(\"Product\")\n",
    "plt.show()\n",
    "\n",
    "# Top 10 products by profit margin\n",
    "plt.figure(figsize=(10, 6))\n",
    "sns.barplot(data=top_profit_margin_df, x=\"AverageProfitMargin\", y=\"EnglishProductName\")\n",
    "plt.title(\"Top 10 Products by Profit Margin\")\n",
    "plt.xlabel(\"Profit Margin\")\n",
    "plt.ylabel(\"Product\")\n",
    "plt.show()\n"
   ],
   "id": "fcc87fcc9d1f9a74"
  },
  {
   "metadata": {},
   "cell_type": "markdown",
   "source": "### How do sales trends vary across different sales territories?\n",
   "id": "e570e91165af9e32"
  },
  {
   "metadata": {},
   "cell_type": "code",
   "outputs": [],
   "execution_count": null,
   "source": [
    "#How do sales trends vary across different sales territories (DimSalesTerritory)?\n",
    "# Join FactInternetSales with DimSalesTerritory to link sales data to territories\n",
    "sales_territory = internet_sales.join(\n",
    "    dim_sales_territory_df,\n",
    "    fact_internet_sales_df.SalesTerritoryKey == dim_sales_territory_df.SalesTerritoryKey,\n",
    "    \"inner\"\n",
    ")\n",
    "\n",
    "# Aggregate sales revenue by territory\n",
    "territory_trends = sales_territory.groupBy(\"SalesTerritoryRegion\", \"CalendarYear\").agg(\n",
    "    sum(\"SalesAmount\").alias(\"TotalRevenue\")\n",
    ")\n",
    "\n",
    "# Sort by region and year\n",
    "territory_trends = territory_trends.orderBy(\"SalesTerritoryRegion\", \"CalendarYear\")\n",
    "\n",
    "# Show results\n",
    "territory_trends.show()\n"
   ],
   "id": "9e6749761973c2c1"
  },
  {
   "metadata": {},
   "cell_type": "code",
   "outputs": [],
   "execution_count": null,
   "source": "#Which products generate the highest sales revenue and profit margins?\n",
   "id": "e7aa19f2973d9d22"
  },
  {
   "metadata": {},
   "cell_type": "code",
   "outputs": [],
   "execution_count": null,
   "source": "#What are the most successful product categories and subcategories (DimProductCategory, DimProductSubcategory)?\n",
   "id": "1ec1f8887a542368"
  },
  {
   "metadata": {},
   "cell_type": "code",
   "outputs": [],
   "execution_count": null,
   "source": "#What is the trend in revenue and profit over time?",
   "id": "411d695531973ed2"
  },
  {
   "metadata": {},
   "cell_type": "markdown",
   "source": [
    "### Predictions - Model development\n",
    "Forcast Questions\n",
    "\n",
    "- Which products are likely to see increased sales in the future?\n",
    "- Can we predict customer churn or loyalty?\n",
    "- Predicting Product Categories for Future Purchases"
   ],
   "id": "bc1fefa9947adfd7"
  },
  {
   "metadata": {},
   "cell_type": "markdown",
   "source": [
    "#### Predicting Product Categories for Future Purchases (Classification)\n",
    "\n",
    "<b>Approach:</b><br>\n",
    "For this task, we'll be us\n",
    "\n"
   ],
   "id": "d221ef0374a2f21d"
  },
  {
   "metadata": {},
   "cell_type": "markdown",
   "source": [
    "Code Implementation (Using Random Forest)\n",
    "1. Join Tables and Create Labels\n"
   ],
   "id": "83ff65f5f1aa34c6"
  },
  {
   "metadata": {
    "ExecuteTime": {
     "end_time": "2025-01-08T09:10:43.705049Z",
     "start_time": "2025-01-07T20:07:04.376928Z"
    }
   },
   "cell_type": "code",
   "source": [
    "# Step 1: Join FactInternetSales with DimProduct\n",
    "sales_product = fact_sales.join(dim_product, \"ProductKey\", \"inner\")\n",
    "\n",
    "# Step 2: Join with DimProductSubcategory\n",
    "sales_product_subcategory = sales_product.join(dim_product_subcategory, \"ProductSubcategoryKey\", \"inner\")\n",
    "\n",
    "\n",
    "# Step 3: Join with DimProductCategory\n",
    "sales_product_category = sales_product_subcategory.join(dim_product_category, \"ProductCategoryKey\", \"inner\")\n",
    "\n",
    "\n",
    "# Step 2: Join with DimProductCategory\n",
    "# sales_product_category = sales_product.join(dim_product_category, \"ProductCategoryKey\", \"inner\")\n",
    "\n",
    "# Step 3: Join with DimSalesTerritory\n",
    "final_dataset = sales_product_category.join(dim_sales_territory, \"SalesTerritoryKey\", \"inner\")\n"
   ],
   "id": "87751add50a6dd73",
   "outputs": [],
   "execution_count": 48
  },
  {
   "metadata": {
    "ExecuteTime": {
     "end_time": "2025-01-08T09:10:43.705868Z",
     "start_time": "2025-01-07T20:08:26.998808Z"
    }
   },
   "cell_type": "code",
   "source": "final_dataset.show()",
   "id": "8fd047e4442071ea",
   "outputs": [
    {
     "name": "stdout",
     "output_type": "stream",
     "text": [
      "+-----------------+------------------+---------------------+----------+------------+----------+-----------+-----------+------------+-----------+----------------+--------------------+--------------+-------------+---------+--------------+--------------------+--------------+-------------------+----------------+-----------+--------+-------+---------------------+----------------+-------------------+-------------------+-------------------+-------------------+---------------------+-------------------+--------------------+--------------------+--------------------+------------+-----------------+------+----------------+------------+---------+----+---------+------+-----------------+-----------+-----------+-----+-----+------------+--------------------+----------------+----------------+------+------------------------------+-----------------------------+---------------------------+--------------------------+--------------------------+-------------------------+--------------------------+--------------------+---------------------+-------------------+\n",
      "|SalesTerritoryKey|ProductCategoryKey|ProductSubcategoryKey|ProductKey|OrderDateKey|DueDateKey|ShipDateKey|CustomerKey|PromotionKey|CurrencyKey|SalesOrderNumber|SalesOrderLineNumber|RevisionNumber|OrderQuantity|UnitPrice|ExtendedAmount|UnitPriceDiscountPct|DiscountAmount|ProductStandardCost|TotalProductCost|SalesAmount|  TaxAmt|Freight|CarrierTrackingNumber|CustomerPONumber|          OrderDate|            DueDate|           ShipDate|ProductAlternateKey|WeightUnitMeasureCode|SizeUnitMeasureCode|  EnglishProductName|  SpanishProductName|   FrenchProductName|StandardCost|FinishedGoodsFlag| Color|SafetyStockLevel|ReorderPoint|ListPrice|Size|SizeRange|Weight|DaysToManufacture|ProductLine|DealerPrice|Class|Style|   ModelName|  EnglishDescription|       StartDate|         EndDate|Status|ProductSubcategoryAlternateKey|EnglishProductSubcategoryName|ProductCategoryAlternateKey|EnglishProductCategoryName|SpanishProductCategoryName|FrenchProductCategoryName|SalesTerritoryAlternateKey|SalesTerritoryRegion|SalesTerritoryCountry|SalesTerritoryGroup|\n",
      "+-----------------+------------------+---------------------+----------+------------+----------+-----------+-----------+------------+-----------+----------------+--------------------+--------------+-------------+---------+--------------+--------------------+--------------+-------------------+----------------+-----------+--------+-------+---------------------+----------------+-------------------+-------------------+-------------------+-------------------+---------------------+-------------------+--------------------+--------------------+--------------------+------------+-----------------+------+----------------+------------+---------+----+---------+------+-----------------+-----------+-----------+-----+-----+------------+--------------------+----------------+----------------+------+------------------------------+-----------------------------+---------------------------+--------------------------+--------------------------+-------------------------+--------------------------+--------------------+---------------------+-------------------+\n",
      "|                6|                 1|                    2|       310|    20101229|  20110110|   20110105|      21768|           1|         19|         SO43697|                   1|             1|            1|  3578.27|       3578.27|                   0|             0|          2171.2942|       2171.2942|    3578.27|286.2616|89.4568|                 NULL|            NULL|2010-12-29 00:00:00|2011-01-10 00:00:00|2011-01-05 00:00:00|         BK-R93R-62|                  LB |                CM |    Road-150 Red, 62|Carretera: 150, r...|V�lo de route 150...|   2171.2942|             true|   Red|             100|          75|  3578.27|  62| 60-62 CM|  15.0|                4|         R |   2146.962|   H |   U |    Road-150|This bike is ridd...|01/07/2005 00:00|30/06/2002 00:00|  NULL|                             2|                   Road Bikes|                          1|                     Bikes|                 Bicicleta|                     V�lo|                         6|              Canada|               Canada|      North America|\n",
      "|                7|                 1|                    1|       346|    20101229|  20110110|   20110105|      28389|           1|         39|         SO43698|                   1|             1|            1|  3399.99|       3399.99|                   0|             0|          1912.1544|       1912.1544|    3399.99|271.9992|84.9998|                 NULL|            NULL|2010-12-29 00:00:00|2011-01-10 00:00:00|2011-01-05 00:00:00|         BK-M82S-44|                  LB |                CM |Mountain-100 Silv...|Monta�a: 100, pla...|  VTT 100 argent, 44|   1912.1544|             true|Silver|             100|          75|  3399.99|  44| 42-46 CM| 21.13|                4|         M |   2039.994|   H |   U |Mountain-100|Top-of-the-line c...|01/07/2005 00:00|30/06/2002 00:00|  NULL|                             1|               Mountain Bikes|                          1|                     Bikes|                 Bicicleta|                     V�lo|                         7|              France|               France|             Europe|\n",
      "|                1|                 1|                    1|       346|    20101229|  20110110|   20110105|      25863|           1|        100|         SO43699|                   1|             1|            1|  3399.99|       3399.99|                   0|             0|          1912.1544|       1912.1544|    3399.99|271.9992|84.9998|                 NULL|            NULL|2010-12-29 00:00:00|2011-01-10 00:00:00|2011-01-05 00:00:00|         BK-M82S-44|                  LB |                CM |Mountain-100 Silv...|Monta�a: 100, pla...|  VTT 100 argent, 44|   1912.1544|             true|Silver|             100|          75|  3399.99|  44| 42-46 CM| 21.13|                4|         M |   2039.994|   H |   U |Mountain-100|Top-of-the-line c...|01/07/2005 00:00|30/06/2002 00:00|  NULL|                             1|               Mountain Bikes|                          1|                     Bikes|                 Bicicleta|                     V�lo|                         1|           Northwest|        United States|      North America|\n",
      "|                4|                 1|                    2|       336|    20101229|  20110110|   20110105|      14501|           1|        100|         SO43700|                   1|             1|            1| 699.0982|      699.0982|                   0|             0|           413.1463|        413.1463|   699.0982| 55.9279|17.4775|                 NULL|            NULL|2010-12-29 00:00:00|2011-01-10 00:00:00|2011-01-05 00:00:00|         BK-R50B-62|                  LB |                CM |  Road-650 Black, 62|Carretera: 650, n...|V�lo de route 650...|    413.1463|             true| Black|             100|          75| 699.0982|  62| 60-62 CM|  20.0|                4|         R |   419.4589|   L |   U |    Road-650|Value-priced bike...|01/07/2005 00:00|30/06/2002 00:00|  NULL|                             2|                   Road Bikes|                          1|                     Bikes|                 Bicicleta|                     V�lo|                         4|           Southwest|        United States|      North America|\n",
      "|                9|                 1|                    1|       346|    20101229|  20110110|   20110105|      11003|           1|          6|         SO43701|                   1|             1|            1|  3399.99|       3399.99|                   0|             0|          1912.1544|       1912.1544|    3399.99|271.9992|84.9998|                 NULL|            NULL|2010-12-29 00:00:00|2011-01-10 00:00:00|2011-01-05 00:00:00|         BK-M82S-44|                  LB |                CM |Mountain-100 Silv...|Monta�a: 100, pla...|  VTT 100 argent, 44|   1912.1544|             true|Silver|             100|          75|  3399.99|  44| 42-46 CM| 21.13|                4|         M |   2039.994|   H |   U |Mountain-100|Top-of-the-line c...|01/07/2005 00:00|30/06/2002 00:00|  NULL|                             1|               Mountain Bikes|                          1|                     Bikes|                 Bicicleta|                     V�lo|                         9|           Australia|            Australia|            Pacific|\n",
      "|                4|                 1|                    2|       311|    20101230|  20110111|   20110106|      27645|           1|        100|         SO43702|                   1|             1|            1|  3578.27|       3578.27|                   0|             0|          2171.2942|       2171.2942|    3578.27|286.2616|89.4568|                 NULL|            NULL|2010-12-30 00:00:00|2011-01-11 00:00:00|2011-01-06 00:00:00|         BK-R93R-44|                  LB |                CM |    Road-150 Red, 44|Carretera: 150, r...|V�lo de route 150...|   2171.2942|             true|   Red|             100|          75|  3578.27|  44| 42-46 CM| 13.77|                4|         R |   2146.962|   H |   U |    Road-150|This bike is ridd...|01/07/2005 00:00|30/06/2002 00:00|  NULL|                             2|                   Road Bikes|                          1|                     Bikes|                 Bicicleta|                     V�lo|                         4|           Southwest|        United States|      North America|\n",
      "|                9|                 1|                    2|       310|    20101230|  20110111|   20110106|      16624|           1|          6|         SO43703|                   1|             1|            1|  3578.27|       3578.27|                   0|             0|          2171.2942|       2171.2942|    3578.27|286.2616|89.4568|                 NULL|            NULL|2010-12-30 00:00:00|2011-01-11 00:00:00|2011-01-06 00:00:00|         BK-R93R-62|                  LB |                CM |    Road-150 Red, 62|Carretera: 150, r...|V�lo de route 150...|   2171.2942|             true|   Red|             100|          75|  3578.27|  62| 60-62 CM|  15.0|                4|         R |   2146.962|   H |   U |    Road-150|This bike is ridd...|01/07/2005 00:00|30/06/2002 00:00|  NULL|                             2|                   Road Bikes|                          1|                     Bikes|                 Bicicleta|                     V�lo|                         9|           Australia|            Australia|            Pacific|\n",
      "|                9|                 1|                    1|       351|    20101230|  20110111|   20110106|      11005|           1|          6|         SO43704|                   1|             1|            1|  3374.99|       3374.99|                   0|             0|          1898.0944|       1898.0944|    3374.99|269.9992|84.3748|                 NULL|            NULL|2010-12-30 00:00:00|2011-01-11 00:00:00|2011-01-06 00:00:00|         BK-M82B-48|                  LB |                CM |Mountain-100 Blac...|Monta�a: 100, neg...|    VTT 100 noir, 48|   1898.0944|             true| Black|             100|          75|  3374.99|  48| 48-52 CM| 21.42|                4|         M |   2024.994|   H |   U |Mountain-100|Top-of-the-line c...|01/07/2005 00:00|30/06/2002 00:00|  NULL|                             1|               Mountain Bikes|                          1|                     Bikes|                 Bicicleta|                     V�lo|                         9|           Australia|            Australia|            Pacific|\n",
      "|                9|                 1|                    1|       344|    20101230|  20110111|   20110106|      11011|           1|          6|         SO43705|                   1|             1|            1|  3399.99|       3399.99|                   0|             0|          1912.1544|       1912.1544|    3399.99|271.9992|84.9998|                 NULL|            NULL|2010-12-30 00:00:00|2011-01-11 00:00:00|2011-01-06 00:00:00|         BK-M82S-38|                  LB |                CM |Mountain-100 Silv...|Monta�a: 100, pla...|  VTT 100 argent, 38|   1912.1544|             true|Silver|             100|          75|  3399.99|  38| 38-40 CM| 20.35|                4|         M |   2039.994|   H |   U |Mountain-100|Top-of-the-line c...|01/07/2005 00:00|30/06/2002 00:00|  NULL|                             1|               Mountain Bikes|                          1|                     Bikes|                 Bicicleta|                     V�lo|                         9|           Australia|            Australia|            Pacific|\n",
      "|                4|                 1|                    2|       312|    20101231|  20110112|   20110107|      27621|           1|        100|         SO43706|                   1|             1|            1|  3578.27|       3578.27|                   0|             0|          2171.2942|       2171.2942|    3578.27|286.2616|89.4568|                 NULL|            NULL|2010-12-31 00:00:00|2011-01-12 00:00:00|2011-01-07 00:00:00|         BK-R93R-48|                  LB |                CM |    Road-150 Red, 48|Carretera: 150, r...|V�lo de route 150...|   2171.2942|             true|   Red|             100|          75|  3578.27|  48| 48-52 CM| 14.13|                4|         R |   2146.962|   H |   U |    Road-150|This bike is ridd...|01/07/2005 00:00|30/06/2002 00:00|  NULL|                             2|                   Road Bikes|                          1|                     Bikes|                 Bicicleta|                     V�lo|                         4|           Southwest|        United States|      North America|\n",
      "|                4|                 1|                    2|       312|    20101231|  20110112|   20110107|      27616|           1|        100|         SO43707|                   1|             1|            1|  3578.27|       3578.27|                   0|             0|          2171.2942|       2171.2942|    3578.27|286.2616|89.4568|                 NULL|            NULL|2010-12-31 00:00:00|2011-01-12 00:00:00|2011-01-07 00:00:00|         BK-R93R-48|                  LB |                CM |    Road-150 Red, 48|Carretera: 150, r...|V�lo de route 150...|   2171.2942|             true|   Red|             100|          75|  3578.27|  48| 48-52 CM| 14.13|                4|         R |   2146.962|   H |   U |    Road-150|This bike is ridd...|01/07/2005 00:00|30/06/2002 00:00|  NULL|                             2|                   Road Bikes|                          1|                     Bikes|                 Bicicleta|                     V�lo|                         4|           Southwest|        United States|      North America|\n",
      "|               10|                 1|                    2|       330|    20101231|  20110112|   20110107|      20042|           1|         98|         SO43708|                   1|             1|            1| 699.0982|      699.0982|                   0|             0|           413.1463|        413.1463|   699.0982| 55.9279|17.4775|                 NULL|            NULL|2010-12-31 00:00:00|2011-01-12 00:00:00|2011-01-07 00:00:00|         BK-R50R-52|                  LB |                CM |    Road-650 Red, 52|Carretera: 650, r...|V�lo de route 650...|    413.1463|             true|   Red|             100|          75| 699.0982|  52| 48-52 CM| 19.42|                4|         R |   419.4589|   L |   U |    Road-650|Value-priced bike...|01/07/2005 00:00|30/06/2002 00:00|  NULL|                             2|                   Road Bikes|                          1|                     Bikes|                 Bicicleta|                     V�lo|                        10|      United Kingdom|       United Kingdom|             Europe|\n",
      "|                9|                 1|                    2|       313|    20101231|  20110112|   20110107|      16351|           1|          6|         SO43709|                   1|             1|            1|  3578.27|       3578.27|                   0|             0|          2171.2942|       2171.2942|    3578.27|286.2616|89.4568|                 NULL|            NULL|2010-12-31 00:00:00|2011-01-12 00:00:00|2011-01-07 00:00:00|         BK-R93R-52|                  LB |                CM |    Road-150 Red, 52|Carretera: 150, r...|V�lo de route 150...|   2171.2942|             true|   Red|             100|          75|  3578.27|  52| 48-52 CM| 14.42|                4|         R |   2146.962|   H |   U |    Road-150|This bike is ridd...|01/07/2005 00:00|30/06/2002 00:00|  NULL|                             2|                   Road Bikes|                          1|                     Bikes|                 Bicicleta|                     V�lo|                         9|           Australia|            Australia|            Pacific|\n",
      "|                9|                 1|                    2|       314|    20101231|  20110112|   20110107|      16517|           1|          6|         SO43710|                   1|             1|            1|  3578.27|       3578.27|                   0|             0|          2171.2942|       2171.2942|    3578.27|286.2616|89.4568|                 NULL|            NULL|2010-12-31 00:00:00|2011-01-12 00:00:00|2011-01-07 00:00:00|         BK-R93R-56|                  LB |                CM |    Road-150 Red, 56|Carretera: 150, r...|V�lo de route 150...|   2171.2942|             true|   Red|             100|          75|  3578.27|  56| 54-58 CM| 14.68|                4|         R |   2146.962|   H |   U |    Road-150|This bike is ridd...|01/07/2005 00:00|30/06/2002 00:00|  NULL|                             2|                   Road Bikes|                          1|                     Bikes|                 Bicicleta|                     V�lo|                         9|           Australia|            Australia|            Pacific|\n",
      "|                1|                 1|                    2|       314|    20110101|  20110113|   20110108|      27606|           1|        100|         SO43711|                   1|             1|            1|  3578.27|       3578.27|                   0|             0|          2171.2942|       2171.2942|    3578.27|286.2616|89.4568|                 NULL|            NULL|2011-01-01 00:00:00|2011-01-13 00:00:00|2011-01-08 00:00:00|         BK-R93R-56|                  LB |                CM |    Road-150 Red, 56|Carretera: 150, r...|V�lo de route 150...|   2171.2942|             true|   Red|             100|          75|  3578.27|  56| 54-58 CM| 14.68|                4|         R |   2146.962|   H |   U |    Road-150|This bike is ridd...|01/07/2005 00:00|30/06/2002 00:00|  NULL|                             2|                   Road Bikes|                          1|                     Bikes|                 Bicicleta|                     V�lo|                         1|           Northwest|        United States|      North America|\n",
      "|                8|                 1|                    2|       311|    20110101|  20110113|   20110108|      13513|           1|         29|         SO43712|                   1|             1|            1|  3578.27|       3578.27|                   0|             0|          2171.2942|       2171.2942|    3578.27|286.2616|89.4568|                 NULL|            NULL|2011-01-01 00:00:00|2011-01-13 00:00:00|2011-01-08 00:00:00|         BK-R93R-44|                  LB |                CM |    Road-150 Red, 44|Carretera: 150, r...|V�lo de route 150...|   2171.2942|             true|   Red|             100|          75|  3578.27|  44| 42-46 CM| 13.77|                4|         R |   2146.962|   H |   U |    Road-150|This bike is ridd...|01/07/2005 00:00|30/06/2002 00:00|  NULL|                             2|                   Road Bikes|                          1|                     Bikes|                 Bicicleta|                     V�lo|                         8|             Germany|              Germany|             Europe|\n",
      "|                4|                 1|                    2|       310|    20110102|  20110114|   20110109|      27601|           1|        100|         SO43713|                   1|             1|            1|  3578.27|       3578.27|                   0|             0|          2171.2942|       2171.2942|    3578.27|286.2616|89.4568|                 NULL|            NULL|2011-01-02 00:00:00|2011-01-14 00:00:00|2011-01-09 00:00:00|         BK-R93R-62|                  LB |                CM |    Road-150 Red, 62|Carretera: 150, r...|V�lo de route 150...|   2171.2942|             true|   Red|             100|          75|  3578.27|  62| 60-62 CM|  15.0|                4|         R |   2146.962|   H |   U |    Road-150|This bike is ridd...|01/07/2005 00:00|30/06/2002 00:00|  NULL|                             2|                   Road Bikes|                          1|                     Bikes|                 Bicicleta|                     V�lo|                         4|           Southwest|        United States|      North America|\n",
      "|               10|                 1|                    2|       311|    20110102|  20110114|   20110109|      13591|           1|         98|         SO43714|                   1|             1|            1|  3578.27|       3578.27|                   0|             0|          2171.2942|       2171.2942|    3578.27|286.2616|89.4568|                 NULL|            NULL|2011-01-02 00:00:00|2011-01-14 00:00:00|2011-01-09 00:00:00|         BK-R93R-44|                  LB |                CM |    Road-150 Red, 44|Carretera: 150, r...|V�lo de route 150...|   2171.2942|             true|   Red|             100|          75|  3578.27|  44| 42-46 CM| 13.77|                4|         R |   2146.962|   H |   U |    Road-150|This bike is ridd...|01/07/2005 00:00|30/06/2002 00:00|  NULL|                             2|                   Road Bikes|                          1|                     Bikes|                 Bicicleta|                     V�lo|                        10|      United Kingdom|       United Kingdom|             Europe|\n",
      "|                9|                 1|                    2|       314|    20110102|  20110114|   20110109|      16483|           1|          6|         SO43715|                   1|             1|            1|  3578.27|       3578.27|                   0|             0|          2171.2942|       2171.2942|    3578.27|286.2616|89.4568|                 NULL|            NULL|2011-01-02 00:00:00|2011-01-14 00:00:00|2011-01-09 00:00:00|         BK-R93R-56|                  LB |                CM |    Road-150 Red, 56|Carretera: 150, r...|V�lo de route 150...|   2171.2942|             true|   Red|             100|          75|  3578.27|  56| 54-58 CM| 14.68|                4|         R |   2146.962|   H |   U |    Road-150|This bike is ridd...|01/07/2005 00:00|30/06/2002 00:00|  NULL|                             2|                   Road Bikes|                          1|                     Bikes|                 Bicicleta|                     V�lo|                         9|           Australia|            Australia|            Pacific|\n",
      "|                9|                 1|                    2|       311|    20110102|  20110114|   20110109|      16529|           1|          6|         SO43716|                   1|             1|            1|  3578.27|       3578.27|                   0|             0|          2171.2942|       2171.2942|    3578.27|286.2616|89.4568|                 NULL|            NULL|2011-01-02 00:00:00|2011-01-14 00:00:00|2011-01-09 00:00:00|         BK-R93R-44|                  LB |                CM |    Road-150 Red, 44|Carretera: 150, r...|V�lo de route 150...|   2171.2942|             true|   Red|             100|          75|  3578.27|  44| 42-46 CM| 13.77|                4|         R |   2146.962|   H |   U |    Road-150|This bike is ridd...|01/07/2005 00:00|30/06/2002 00:00|  NULL|                             2|                   Road Bikes|                          1|                     Bikes|                 Bicicleta|                     V�lo|                         9|           Australia|            Australia|            Pacific|\n",
      "+-----------------+------------------+---------------------+----------+------------+----------+-----------+-----------+------------+-----------+----------------+--------------------+--------------+-------------+---------+--------------+--------------------+--------------+-------------------+----------------+-----------+--------+-------+---------------------+----------------+-------------------+-------------------+-------------------+-------------------+---------------------+-------------------+--------------------+--------------------+--------------------+------------+-----------------+------+----------------+------------+---------+----+---------+------+-----------------+-----------+-----------+-----+-----+------------+--------------------+----------------+----------------+------+------------------------------+-----------------------------+---------------------------+--------------------------+--------------------------+-------------------------+--------------------------+--------------------+---------------------+-------------------+\n",
      "only showing top 20 rows\n",
      "\n"
     ]
    }
   ],
   "execution_count": 49
  },
  {
   "metadata": {
    "ExecuteTime": {
     "end_time": "2025-01-08T09:10:43.707161Z",
     "start_time": "2025-01-07T20:10:16.893761Z"
    }
   },
   "cell_type": "code",
   "source": [
    "num_columns = len(final_dataset.columns)\n",
    "print(\"Number of columns:\", num_columns)"
   ],
   "id": "cd696a985e7a1689",
   "outputs": [
    {
     "name": "stdout",
     "output_type": "stream",
     "text": [
      "Number of columns: 63\n"
     ]
    }
   ],
   "execution_count": 50
  },
  {
   "metadata": {
    "ExecuteTime": {
     "end_time": "2025-01-08T09:10:43.708220Z",
     "start_time": "2025-01-07T20:10:52.694451Z"
    }
   },
   "cell_type": "code",
   "source": [
    "# Step 4: Aggregate sales amount by region and product category\n",
    "aggregated_data = final_dataset.groupBy(\"SalesTerritoryRegion\", \"EnglishProductCategoryName\") \\\n",
    "    .agg(sum(\"SalesAmount\").alias(\"TotalSalesAmount\"))\n",
    "\n",
    "# Show the aggregated data\n",
    "aggregated_data.show()\n"
   ],
   "id": "424e06656a46a980",
   "outputs": [
    {
     "name": "stderr",
     "output_type": "stream",
     "text": [
      "[Stage 176:===================>                                     (1 + 2) / 3]\r"
     ]
    },
    {
     "name": "stdout",
     "output_type": "stream",
     "text": [
      "+--------------------+--------------------------+------------------+\n",
      "|SalesTerritoryRegion|EnglishProductCategoryName|  TotalSalesAmount|\n",
      "+--------------------+--------------------------+------------------+\n",
      "|      United Kingdom|               Accessories| 76630.04000000161|\n",
      "|           Southeast|                  Clothing|300.94000000000005|\n",
      "|           Australia|               Accessories|138690.62999999995|\n",
      "|           Southeast|                     Bikes|11405.939600000002|\n",
      "|              France|                     Bikes|2553575.7143000015|\n",
      "|             Germany|                     Bikes| 2808514.348200001|\n",
      "|              Canada|               Accessories|103377.85000000225|\n",
      "|              Canada|                  Clothing| 53164.61999999997|\n",
      "|           Northwest|               Accessories|110150.80000000201|\n",
      "|             Germany|                  Clothing|23565.399999999885|\n",
      "|             Central|               Accessories|232.45999999999998|\n",
      "|             Germany|               Accessories|62232.590000000586|\n",
      "|             Central|                     Bikes|         2611.4096|\n",
      "|              France|               Accessories|63406.780000000756|\n",
      "|           Southwest|                  Clothing| 74713.61000000074|\n",
      "|      United Kingdom|                     Bikes|      3282842.6609|\n",
      "|      United Kingdom|                  Clothing|32239.509999999835|\n",
      "|           Northwest|                  Clothing| 58230.43000000014|\n",
      "|              France|                  Clothing|27035.219999999877|\n",
      "|           Northwest|                     Bikes|3481485.3211999857|\n",
      "+--------------------+--------------------------+------------------+\n",
      "only showing top 20 rows\n",
      "\n"
     ]
    },
    {
     "name": "stderr",
     "output_type": "stream",
     "text": [
      "                                                                                \r"
     ]
    }
   ],
   "execution_count": 51
  },
  {
   "metadata": {
    "ExecuteTime": {
     "end_time": "2025-01-08T09:10:43.709249Z",
     "start_time": "2025-01-07T20:52:40.713563Z"
    }
   },
   "cell_type": "code",
   "source": [
    "final_dataset.write.csv(\"Dataset/New/MostPopularProducts.csv\", header=True)\n",
    "# Step 5: Split the data into training and testing\n"
   ],
   "id": "8659d10351dd5f51",
   "outputs": [
    {
     "name": "stderr",
     "output_type": "stream",
     "text": [
      "                                                                                \r"
     ]
    }
   ],
   "execution_count": 57
  },
  {
   "metadata": {
    "ExecuteTime": {
     "end_time": "2025-01-08T09:10:43.710557Z",
     "start_time": "2025-01-07T20:12:21.985638Z"
    }
   },
   "cell_type": "code",
   "source": [
    "# Prepare features and label\n",
    "assembler = VectorAssembler(\n",
    "    inputCols=[\"TotalSalesAmount\"],\n",
    "    outputCol=\"features\"\n",
    ")\n",
    "data = assembler.transform(aggregated_data).select(col(\"features\"), col(\"TotalSalesAmount\").alias(\"label\"))\n",
    "\n",
    "# Split data\n",
    "train_data, test_data = data.randomSplit([0.8, 0.2], seed=42)\n",
    "\n",
    "# Step 6: Train a regression model (e.g., Linear Regression)\n",
    "lr = LinearRegression(featuresCol=\"features\", labelCol=\"label\", predictionCol=\"prediction\")\n",
    "model = lr.fit(train_data)\n",
    "\n",
    "# Step 7: Make predictions on test data\n",
    "predictions = model.transform(test_data)\n",
    "predictions.show()\n",
    "\n",
    "# Step 8: Evaluate the model\n",
    "evaluator = RegressionEvaluator(\n",
    "    labelCol=\"label\",\n",
    "    predictionCol=\"prediction\",\n",
    "    metricName=\"rmse\"\n",
    ")\n",
    "rmse = evaluator.evaluate(predictions)\n",
    "print(f\"Root Mean Squared Error (RMSE): {rmse}\")"
   ],
   "id": "99b6dd973cf86780",
   "outputs": [
    {
     "name": "stderr",
     "output_type": "stream",
     "text": [
      "25/01/07 20:12:26 WARN Instrumentation: [9fdc90f5] regParam is zero, which might cause numerical instability and overfitting.\n",
      "                                                                                \r"
     ]
    },
    {
     "name": "stdout",
     "output_type": "stream",
     "text": [
      "+--------------------+------------------+------------------+\n",
      "|            features|             label|        prediction|\n",
      "+--------------------+------------------+------------------+\n",
      "|[232.45999999999998]|232.45999999999998|232.46000000043102|\n",
      "|         [2611.4096]|         2611.4096|2611.4096000004297|\n",
      "|[11405.939600000002]|11405.939600000002|11405.939600000427|\n",
      "| [58230.43000000014]| 58230.43000000014| 58230.43000000054|\n",
      "|[103377.85000000225]|103377.85000000225|103377.85000000264|\n",
      "|[1821302.3920999982]|1821302.3920999982| 1821302.392099998|\n",
      "| [8852050.004400076]| 8852050.004400076| 8852050.004400073|\n",
      "+--------------------+------------------+------------------+\n",
      "\n",
      "Root Mean Squared Error (RMSE): 1.4539677786696573e-09\n"
     ]
    }
   ],
   "execution_count": 54
  },
  {
   "metadata": {
    "ExecuteTime": {
     "end_time": "2025-01-08T09:10:43.712547Z",
     "start_time": "2025-01-07T21:14:37.433105Z"
    }
   },
   "cell_type": "code",
   "source": [
    "#most frequent product category a customer is likely to purchase based on their demographic information and purchase behavior\n",
    "# Step 2: Join with DimCustomer\n",
    "customer_product_sales = product_sales.join(dim_customer, \"CustomerKey\")\n"
   ],
   "id": "ae78075b054b7e73",
   "outputs": [],
   "execution_count": 60
  },
  {
   "metadata": {
    "ExecuteTime": {
     "end_time": "2025-01-08T09:10:43.713856Z",
     "start_time": "2025-01-07T21:21:56.857466Z"
    }
   },
   "cell_type": "code",
   "source": "customer_product_sales.show()",
   "id": "6314b65044c7ace9",
   "outputs": [
    {
     "name": "stderr",
     "output_type": "stream",
     "text": [
      "                                                                                \r"
     ]
    },
    {
     "name": "stdout",
     "output_type": "stream",
     "text": [
      "+-----------+----------+------------+----------+-----------+------------+-----------+-----------------+----------------+--------------------+--------------+-------------+---------+--------------+--------------------+--------------+-------------------+----------------+-----------+--------+-------+---------------------+----------------+-------------------+-------------------+-------------------+-------------------+---------------------+---------------------+-------------------+--------------------+--------------------+--------------------+------------+-----------------+------+----------------+------------+---------+----+---------+------+-----------------+-----------+-----------+-----+-----+------------+--------------------+----------------+----------------+------+------------+--------------------+-----+---------+----------+---------+---------+----------+-------------+------+------+--------------------+------------+-------------+--------------------+-------------------+--------------------+---------------+-----------------+--------------------+----------------+--------------+---------------+--------------------+------------+-------------------+-----------------+---------------+\n",
      "|CustomerKey|ProductKey|OrderDateKey|DueDateKey|ShipDateKey|PromotionKey|CurrencyKey|SalesTerritoryKey|SalesOrderNumber|SalesOrderLineNumber|RevisionNumber|OrderQuantity|UnitPrice|ExtendedAmount|UnitPriceDiscountPct|DiscountAmount|ProductStandardCost|TotalProductCost|SalesAmount|  TaxAmt|Freight|CarrierTrackingNumber|CustomerPONumber|          OrderDate|            DueDate|           ShipDate|ProductAlternateKey|ProductSubcategoryKey|WeightUnitMeasureCode|SizeUnitMeasureCode|  EnglishProductName|  SpanishProductName|   FrenchProductName|StandardCost|FinishedGoodsFlag| Color|SafetyStockLevel|ReorderPoint|ListPrice|Size|SizeRange|Weight|DaysToManufacture|ProductLine|DealerPrice|Class|Style|   ModelName|  EnglishDescription|       StartDate|         EndDate|Status|GeographyKey|CustomerAlternateKey|Title|FirstName|MiddleName| LastName|NameStyle| BirthDate|MaritalStatus|Suffix|Gender|        EmailAddress|YearlyIncome|TotalChildren|NumberChildrenAtHome|   EnglishEducation|    SpanishEducation|FrenchEducation|EnglishOccupation|   SpanishOccupation|FrenchOccupation|HouseOwnerFlag|NumberCarsOwned|        AddressLine1|AddressLine2|              Phone|DateFirstPurchase|CommuteDistance|\n",
      "+-----------+----------+------------+----------+-----------+------------+-----------+-----------------+----------------+--------------------+--------------+-------------+---------+--------------+--------------------+--------------+-------------------+----------------+-----------+--------+-------+---------------------+----------------+-------------------+-------------------+-------------------+-------------------+---------------------+---------------------+-------------------+--------------------+--------------------+--------------------+------------+-----------------+------+----------------+------------+---------+----+---------+------+-----------------+-----------+-----------+-----+-----+------------+--------------------+----------------+----------------+------+------------+--------------------+-----+---------+----------+---------+---------+----------+-------------+------+------+--------------------+------------+-------------+--------------------+-------------------+--------------------+---------------+-----------------+--------------------+----------------+--------------+---------------+--------------------+------------+-------------------+-----------------+---------------+\n",
      "|      21768|       310|    20101229|  20110110|   20110105|           1|         19|                6|         SO43697|                   1|             1|            1|  3578.27|       3578.27|                   0|             0|          2171.2942|       2171.2942|    3578.27|286.2616|89.4568|                 NULL|            NULL|2010-12-29 00:00:00|2011-01-10 00:00:00|2011-01-05 00:00:00|         BK-R93R-62|                    2|                  LB |                CM |    Road-150 Red, 62|Carretera: 150, r...|V�lo de route 150...|   2171.2942|             true|   Red|             100|          75|  3578.27|  62| 60-62 CM|  15.0|                4|         R |   2146.962|   H |   U |    Road-150|This bike is ridd...|01/07/2005 00:00|30/06/2002 00:00|  NULL|          53|          AW00021768| NULL|     Cole|         A|   Watson|    false|1946-08-22|            S|  NULL|     M|cole1@adventure-w...|       70000|            5|                   0|          Bachelors|        Licenciatura|        Bac + 4|       Management|             Gesti�n|       Direction|             1|              3|    601 Asilomar Dr.|        NULL|       110-555-0129|       2005-07-01|      10+ Miles|\n",
      "|      28389|       346|    20101229|  20110110|   20110105|           1|         39|                7|         SO43698|                   1|             1|            1|  3399.99|       3399.99|                   0|             0|          1912.1544|       1912.1544|    3399.99|271.9992|84.9998|                 NULL|            NULL|2010-12-29 00:00:00|2011-01-10 00:00:00|2011-01-05 00:00:00|         BK-M82S-44|                    1|                  LB |                CM |Mountain-100 Silv...|Monta�a: 100, pla...|  VTT 100 argent, 44|   1912.1544|             true|Silver|             100|          75|  3399.99|  44| 42-46 CM| 21.13|                4|         M |   2039.994|   H |   U |Mountain-100|Top-of-the-line c...|01/07/2005 00:00|30/06/2002 00:00|  NULL|         222|          AW00028389| NULL|  Rachael|         M| Martinez|    false|1964-12-18|            S|  NULL|     F|rachael16@adventu...|       20000|            3|                   3|        High School|Educaci�n secundaria|        Bac + 2|           Manual|              Obrero|         Ouvrier|             0|              0|  14, avenue du Port|        NULL|1 (11) 500 555-0190|       2005-07-01|      0-1 Miles|\n",
      "|      25863|       346|    20101229|  20110110|   20110105|           1|        100|                1|         SO43699|                   1|             1|            1|  3399.99|       3399.99|                   0|             0|          1912.1544|       1912.1544|    3399.99|271.9992|84.9998|                 NULL|            NULL|2010-12-29 00:00:00|2011-01-10 00:00:00|2011-01-05 00:00:00|         BK-M82S-44|                    1|                  LB |                CM |Mountain-100 Silv...|Monta�a: 100, pla...|  VTT 100 argent, 44|   1912.1544|             true|Silver|             100|          75|  3399.99|  44| 42-46 CM| 21.13|                4|         M |   2039.994|   H |   U |Mountain-100|Top-of-the-line c...|01/07/2005 00:00|30/06/2002 00:00|  NULL|         543|          AW00025863| NULL|   Sydney|         S|   Wright|    false|1946-12-03|            S|  NULL|     F|sydney61@adventur...|       40000|            5|                   0|        High School|Educaci�n secundaria|        Bac + 2|     Professional|         Profesional|           Cadre|             1|              3| 4193 E. 28th Street|        NULL|       285-555-0113|       2005-07-01|      10+ Miles|\n",
      "|      14501|       336|    20101229|  20110110|   20110105|           1|        100|                4|         SO43700|                   1|             1|            1| 699.0982|      699.0982|                   0|             0|           413.1463|        413.1463|   699.0982| 55.9279|17.4775|                 NULL|            NULL|2010-12-29 00:00:00|2011-01-10 00:00:00|2011-01-05 00:00:00|         BK-R50B-62|                    2|                  LB |                CM |  Road-650 Black, 62|Carretera: 650, n...|V�lo de route 650...|    413.1463|             true| Black|             100|          75| 699.0982|  62| 60-62 CM|  20.0|                4|         R |   419.4589|   L |   U |    Road-650|Value-priced bike...|01/07/2005 00:00|30/06/2002 00:00|  NULL|         300|          AW00014501| NULL|    Ruben|      NULL|   Prasad|    false|1938-05-13|            M|  NULL|     M|ruben10@adventure...|       80000|            4|                   0|    Graduate Degree|Estudios de postg...|        Bac + 3|       Management|             Gesti�n|       Direction|             1|              2|   249 Alexander Pl.|        NULL|       175-555-0159|       2005-07-01|      1-2 Miles|\n",
      "|      11003|       346|    20101229|  20110110|   20110105|           1|          6|                9|         SO43701|                   1|             1|            1|  3399.99|       3399.99|                   0|             0|          1912.1544|       1912.1544|    3399.99|271.9992|84.9998|                 NULL|            NULL|2010-12-29 00:00:00|2011-01-10 00:00:00|2011-01-05 00:00:00|         BK-M82S-44|                    1|                  LB |                CM |Mountain-100 Silv...|Monta�a: 100, pla...|  VTT 100 argent, 44|   1912.1544|             true|Silver|             100|          75|  3399.99|  44| 42-46 CM| 21.13|                4|         M |   2039.994|   H |   U |Mountain-100|Top-of-the-line c...|01/07/2005 00:00|30/06/2002 00:00|  NULL|          11|          AW00011003| NULL|  Christy|      NULL|      Zhu|    false|1968-02-15|            S|  NULL|     F|christy12@adventu...|       70000|            0|                   0|          Bachelors|        Licenciatura|        Bac + 4|     Professional|         Profesional|           Cadre|             0|              1|    1825 Village Pl.|        NULL|1 (11) 500 555-0162|       2005-07-01|     5-10 Miles|\n",
      "|      27645|       311|    20101230|  20110111|   20110106|           1|        100|                4|         SO43702|                   1|             1|            1|  3578.27|       3578.27|                   0|             0|          2171.2942|       2171.2942|    3578.27|286.2616|89.4568|                 NULL|            NULL|2010-12-30 00:00:00|2011-01-11 00:00:00|2011-01-06 00:00:00|         BK-R93R-44|                    2|                  LB |                CM |    Road-150 Red, 44|Carretera: 150, r...|V�lo de route 150...|   2171.2942|             true|   Red|             100|          75|  3578.27|  44| 42-46 CM| 13.77|                4|         R |   2146.962|   H |   U |    Road-150|This bike is ridd...|01/07/2005 00:00|30/06/2002 00:00|  NULL|         312|          AW00027645| NULL|    Colin|         G|    Anand|    false|1961-08-18|            M|  NULL|     M|colin45@adventure...|      120000|            1|                   3|        High School|Educaci�n secundaria|        Bac + 2|     Professional|         Profesional|           Cadre|             1|              4|7626 Sinclair Avenue|        NULL|       199-555-0186|       2005-07-02|     5-10 Miles|\n",
      "|      16624|       310|    20101230|  20110111|   20110106|           1|          6|                9|         SO43703|                   1|             1|            1|  3578.27|       3578.27|                   0|             0|          2171.2942|       2171.2942|    3578.27|286.2616|89.4568|                 NULL|            NULL|2010-12-30 00:00:00|2011-01-11 00:00:00|2011-01-06 00:00:00|         BK-R93R-62|                    2|                  LB |                CM |    Road-150 Red, 62|Carretera: 150, r...|V�lo de route 150...|   2171.2942|             true|   Red|             100|          75|  3578.27|  62| 60-62 CM|  15.0|                4|         R |   2146.962|   H |   U |    Road-150|This bike is ridd...|01/07/2005 00:00|30/06/2002 00:00|  NULL|          30|          AW00016624| NULL|   Albert|         R|  Alvarez|    false|1972-07-27|            S|  NULL|     M|albert7@adventure...|       90000|            0|                   0|          Bachelors|        Licenciatura|        Bac + 4|     Professional|         Profesional|           Cadre|             0|              3|  3541 Corte Poquito|        NULL|1 (11) 500 555-0114|       2005-07-02|      10+ Miles|\n",
      "|      11005|       351|    20101230|  20110111|   20110106|           1|          6|                9|         SO43704|                   1|             1|            1|  3374.99|       3374.99|                   0|             0|          1898.0944|       1898.0944|    3374.99|269.9992|84.3748|                 NULL|            NULL|2010-12-30 00:00:00|2011-01-11 00:00:00|2011-01-06 00:00:00|         BK-M82B-48|                    1|                  LB |                CM |Mountain-100 Blac...|Monta�a: 100, neg...|    VTT 100 noir, 48|   1898.0944|             true| Black|             100|          75|  3374.99|  48| 48-52 CM| 21.42|                4|         M |   2024.994|   H |   U |Mountain-100|Top-of-the-line c...|01/07/2005 00:00|30/06/2002 00:00|  NULL|          22|          AW00011005| NULL|    Julio|      NULL|     Ruiz|    false|1965-08-05|            S|  NULL|     M|julio1@adventure-...|       70000|            0|                   0|          Bachelors|        Licenciatura|        Bac + 4|     Professional|         Profesional|           Cadre|             1|              1| 7305 Humphrey Drive|        NULL|1 (11) 500 555-0151|       2005-07-02|     5-10 Miles|\n",
      "|      11011|       344|    20101230|  20110111|   20110106|           1|          6|                9|         SO43705|                   1|             1|            1|  3399.99|       3399.99|                   0|             0|          1912.1544|       1912.1544|    3399.99|271.9992|84.9998|                 NULL|            NULL|2010-12-30 00:00:00|2011-01-11 00:00:00|2011-01-06 00:00:00|         BK-M82S-38|                    1|                  LB |                CM |Mountain-100 Silv...|Monta�a: 100, pla...|  VTT 100 argent, 38|   1912.1544|             true|Silver|             100|          75|  3399.99|  38| 38-40 CM| 20.35|                4|         M |   2039.994|   H |   U |Mountain-100|Top-of-the-line c...|01/07/2005 00:00|30/06/2002 00:00|  NULL|          22|          AW00011011| NULL|   Curtis|      NULL|       Lu|    false|1963-11-04|            M|  NULL|     M|curtis9@adventure...|       60000|            4|                   4|          Bachelors|        Licenciatura|        Bac + 4|     Professional|         Profesional|           Cadre|             1|              4|        1224 Shoenic|        NULL|1 (11) 500 555-0117|       2005-07-02|      10+ Miles|\n",
      "|      27621|       312|    20101231|  20110112|   20110107|           1|        100|                4|         SO43706|                   1|             1|            1|  3578.27|       3578.27|                   0|             0|          2171.2942|       2171.2942|    3578.27|286.2616|89.4568|                 NULL|            NULL|2010-12-31 00:00:00|2011-01-12 00:00:00|2011-01-07 00:00:00|         BK-R93R-48|                    2|                  LB |                CM |    Road-150 Red, 48|Carretera: 150, r...|V�lo de route 150...|   2171.2942|             true|   Red|             100|          75|  3578.27|  48| 48-52 CM| 14.13|                4|         R |   2146.962|   H |   U |    Road-150|This bike is ridd...|01/07/2005 00:00|30/06/2002 00:00|  NULL|         369|          AW00027621| NULL|   Edward|      NULL|    Brown|    false|1964-01-27|            S|  NULL|     M|edward26@adventur...|      160000|            0|                   0|    Graduate Degree|Estudios de postg...|        Bac + 3|       Management|             Gesti�n|       Direction|             0|              4|2226 Cleveland Av...|        NULL|       238-555-0128|       2005-07-03|      1-2 Miles|\n",
      "|      27616|       312|    20101231|  20110112|   20110107|           1|        100|                4|         SO43707|                   1|             1|            1|  3578.27|       3578.27|                   0|             0|          2171.2942|       2171.2942|    3578.27|286.2616|89.4568|                 NULL|            NULL|2010-12-31 00:00:00|2011-01-12 00:00:00|2011-01-07 00:00:00|         BK-R93R-48|                    2|                  LB |                CM |    Road-150 Red, 48|Carretera: 150, r...|V�lo de route 150...|   2171.2942|             true|   Red|             100|          75|  3578.27|  48| 48-52 CM| 14.13|                4|         R |   2146.962|   H |   U |    Road-150|This bike is ridd...|01/07/2005 00:00|30/06/2002 00:00|  NULL|         335|          AW00027616| NULL|     Emma|         W|    Brown|    false|1965-12-11|            S|  NULL|     F|emma3@adventure-w...|      120000|            3|                   2|          Bachelors|        Licenciatura|        Bac + 4|       Management|             Gesti�n|       Direction|             1|              4| 3455 Southbrook Dr.|        NULL|       231-555-0147|       2005-07-03|      2-5 Miles|\n",
      "|      20042|       330|    20101231|  20110112|   20110107|           1|         98|               10|         SO43708|                   1|             1|            1| 699.0982|      699.0982|                   0|             0|           413.1463|        413.1463|   699.0982| 55.9279|17.4775|                 NULL|            NULL|2010-12-31 00:00:00|2011-01-12 00:00:00|2011-01-07 00:00:00|         BK-R50R-52|                    2|                  LB |                CM |    Road-650 Red, 52|Carretera: 650, r...|V�lo de route 650...|    413.1463|             true|   Red|             100|          75| 699.0982|  52| 48-52 CM| 19.42|                4|         R |   419.4589|   L |   U |    Road-650|Value-priced bike...|01/07/2005 00:00|30/06/2002 00:00|  NULL|         268|          AW00020042| NULL|     Brad|         D|     Deng|    false|1974-05-04|            M|  NULL|     M|brad2@adventure-w...|       40000|            1|                   1|          Bachelors|        Licenciatura|        Bac + 4|   Skilled Manual|Obrero especializado|      Technicien|             1|              0|    2732 Frisbie Ct.|        NULL|1 (11) 500 555-0111|       2005-07-03|      1-2 Miles|\n",
      "|      16351|       313|    20101231|  20110112|   20110107|           1|          6|                9|         SO43709|                   1|             1|            1|  3578.27|       3578.27|                   0|             0|          2171.2942|       2171.2942|    3578.27|286.2616|89.4568|                 NULL|            NULL|2010-12-31 00:00:00|2011-01-12 00:00:00|2011-01-07 00:00:00|         BK-R93R-52|                    2|                  LB |                CM |    Road-150 Red, 52|Carretera: 150, r...|V�lo de route 150...|   2171.2942|             true|   Red|             100|          75|  3578.27|  52| 48-52 CM| 14.42|                4|         R |   2146.962|   H |   U |    Road-150|This bike is ridd...|01/07/2005 00:00|30/06/2002 00:00|  NULL|          26|          AW00016351| NULL|   Martha|         C|       Xu|    false|1954-07-07|            S|  NULL|     F|martha12@adventur...|       80000|            2|                   0|    Partial College|Estudios universi...|   Baccalaur�at|   Skilled Manual|Obrero especializado|      Technicien|             0|              2|    7418 Jumping St.|        NULL|1 (11) 500 555-0118|       2005-07-03|      1-2 Miles|\n",
      "|      16517|       314|    20101231|  20110112|   20110107|           1|          6|                9|         SO43710|                   1|             1|            1|  3578.27|       3578.27|                   0|             0|          2171.2942|       2171.2942|    3578.27|286.2616|89.4568|                 NULL|            NULL|2010-12-31 00:00:00|2011-01-12 00:00:00|2011-01-07 00:00:00|         BK-R93R-56|                    2|                  LB |                CM |    Road-150 Red, 56|Carretera: 150, r...|V�lo de route 150...|   2171.2942|             true|   Red|             100|          75|  3578.27|  56| 54-58 CM| 14.68|                4|         R |   2146.962|   H |   U |    Road-150|This bike is ridd...|01/07/2005 00:00|30/06/2002 00:00|  NULL|          19|          AW00016517| NULL|  Katrina|         M|     Raji|    false|1976-03-19|            M|  NULL|     F|katrina20@adventu...|       10000|            1|                   1|        High School|Educaci�n secundaria|        Bac + 2|           Manual|              Obrero|         Ouvrier|             1|              0|    3196 Peachwillow|        NULL|1 (11) 500 555-0113|       2005-07-03|      2-5 Miles|\n",
      "|      27606|       314|    20110101|  20110113|   20110108|           1|        100|                1|         SO43711|                   1|             1|            1|  3578.27|       3578.27|                   0|             0|          2171.2942|       2171.2942|    3578.27|286.2616|89.4568|                 NULL|            NULL|2011-01-01 00:00:00|2011-01-13 00:00:00|2011-01-08 00:00:00|         BK-R93R-56|                    2|                  LB |                CM |    Road-150 Red, 56|Carretera: 150, r...|V�lo de route 150...|   2171.2942|             true|   Red|             100|          75|  3578.27|  56| 54-58 CM| 14.68|                4|         R |   2146.962|   H |   U |    Road-150|This bike is ridd...|01/07/2005 00:00|30/06/2002 00:00|  NULL|         545|          AW00027606| NULL| Courtney|         A|  Edwards|    false|1957-05-27|            S|  NULL|     F|courtney1@adventu...|       70000|            2|                   1|    Partial College|Estudios universi...|   Baccalaur�at|     Professional|         Profesional|           Cadre|             0|              0|  1627 Ashford Court|        NULL|       257-555-0188|       2005-07-04|      0-1 Miles|\n",
      "|      13513|       311|    20110101|  20110113|   20110108|           1|         29|                8|         SO43712|                   1|             1|            1|  3578.27|       3578.27|                   0|             0|          2171.2942|       2171.2942|    3578.27|286.2616|89.4568|                 NULL|            NULL|2011-01-01 00:00:00|2011-01-13 00:00:00|2011-01-08 00:00:00|         BK-R93R-44|                    2|                  LB |                CM |    Road-150 Red, 44|Carretera: 150, r...|V�lo de route 150...|   2171.2942|             true|   Red|             100|          75|  3578.27|  44| 42-46 CM| 13.77|                4|         R |   2146.962|   H |   U |    Road-150|This bike is ridd...|01/07/2005 00:00|30/06/2002 00:00|  NULL|         162|          AW00013513| NULL|  Abigail|         R|Henderson|    false|1941-09-08|            M|  NULL|     F|abigail73@adventu...|       30000|            1|                   0|          Bachelors|        Licenciatura|        Bac + 4|         Clerical|      Administrativo|         Employ�|             1|              0|Am Grossen Dern 4284|        NULL|1 (11) 500 555-0133|       2005-07-04|      0-1 Miles|\n",
      "|      27601|       310|    20110102|  20110114|   20110109|           1|        100|                4|         SO43713|                   1|             1|            1|  3578.27|       3578.27|                   0|             0|          2171.2942|       2171.2942|    3578.27|286.2616|89.4568|                 NULL|            NULL|2011-01-02 00:00:00|2011-01-14 00:00:00|2011-01-09 00:00:00|         BK-R93R-62|                    2|                  LB |                CM |    Road-150 Red, 62|Carretera: 150, r...|V�lo de route 150...|   2171.2942|             true|   Red|             100|          75|  3578.27|  62| 60-62 CM|  15.0|                4|         R |   2146.962|   H |   U |    Road-150|This bike is ridd...|01/07/2005 00:00|30/06/2002 00:00|  NULL|         301|          AW00027601| NULL|   Sydney|         C|   Rogers|    false|1953-11-10|            S|  NULL|     F|sydney3@adventure...|       60000|            3|                   1|Partial High School|Educaci�n secunda...|     Niveau bac|   Skilled Manual|Obrero especializado|      Technicien|             0|              3|    1016 Park Avenue|        NULL|       958-555-0163|       2005-07-05|      2-5 Miles|\n",
      "|      13591|       311|    20110102|  20110114|   20110109|           1|         98|               10|         SO43714|                   1|             1|            1|  3578.27|       3578.27|                   0|             0|          2171.2942|       2171.2942|    3578.27|286.2616|89.4568|                 NULL|            NULL|2011-01-02 00:00:00|2011-01-14 00:00:00|2011-01-09 00:00:00|         BK-R93R-44|                    2|                  LB |                CM |    Road-150 Red, 44|Carretera: 150, r...|V�lo de route 150...|   2171.2942|             true|   Red|             100|          75|  3578.27|  44| 42-46 CM| 13.77|                4|         R |   2146.962|   H |   U |    Road-150|This bike is ridd...|01/07/2005 00:00|30/06/2002 00:00|  NULL|         278|          AW00013591| NULL|  Latasha|         A|   Alonso|    false|1953-05-25|            M|  NULL|     F|latasha8@adventur...|      170000|            0|                   5|          Bachelors|        Licenciatura|        Bac + 4|       Management|             Gesti�n|       Direction|             1|              3|  2168 Reading Drive|        NULL|1 (11) 500 555-0110|       2005-07-05|      0-1 Miles|\n",
      "|      16483|       314|    20110102|  20110114|   20110109|           1|          6|                9|         SO43715|                   1|             1|            1|  3578.27|       3578.27|                   0|             0|          2171.2942|       2171.2942|    3578.27|286.2616|89.4568|                 NULL|            NULL|2011-01-02 00:00:00|2011-01-14 00:00:00|2011-01-09 00:00:00|         BK-R93R-56|                    2|                  LB |                CM |    Road-150 Red, 56|Carretera: 150, r...|V�lo de route 150...|   2171.2942|             true|   Red|             100|          75|  3578.27|  56| 54-58 CM| 14.68|                4|         R |   2146.962|   H |   U |    Road-150|This bike is ridd...|01/07/2005 00:00|30/06/2002 00:00|  NULL|          35|          AW00016483| NULL|   Warren|         S|      Jai|    false|1950-10-17|            M|  NULL|     M|warren42@adventur...|       40000|            2|                   0|          Bachelors|        Licenciatura|        Bac + 4|       Management|             Gesti�n|       Direction|             1|              2|9276 Blackwood Drive|        NULL|1 (11) 500 555-0119|       2005-07-05|     5-10 Miles|\n",
      "|      16529|       311|    20110102|  20110114|   20110109|           1|          6|                9|         SO43716|                   1|             1|            1|  3578.27|       3578.27|                   0|             0|          2171.2942|       2171.2942|    3578.27|286.2616|89.4568|                 NULL|            NULL|2011-01-02 00:00:00|2011-01-14 00:00:00|2011-01-09 00:00:00|         BK-R93R-44|                    2|                  LB |                CM |    Road-150 Red, 44|Carretera: 150, r...|V�lo de route 150...|   2171.2942|             true|   Red|             100|          75|  3578.27|  44| 42-46 CM| 13.77|                4|         R |   2146.962|   H |   U |    Road-150|This bike is ridd...|01/07/2005 00:00|30/06/2002 00:00|  NULL|           4|          AW00016529| NULL| Jonathon|         R|Gutierrez|    false|1977-07-28|            M|  NULL|     M|jonathon8@adventu...|       20000|            0|                   0|          Bachelors|        Licenciatura|        Bac + 4|         Clerical|      Administrativo|         Employ�|             1|              0|          3571 N St.|        NULL|1 (11) 500 555-0161|       2005-07-05|      0-1 Miles|\n",
      "+-----------+----------+------------+----------+-----------+------------+-----------+-----------------+----------------+--------------------+--------------+-------------+---------+--------------+--------------------+--------------+-------------------+----------------+-----------+--------+-------+---------------------+----------------+-------------------+-------------------+-------------------+-------------------+---------------------+---------------------+-------------------+--------------------+--------------------+--------------------+------------+-----------------+------+----------------+------------+---------+----+---------+------+-----------------+-----------+-----------+-----+-----+------------+--------------------+----------------+----------------+------+------------+--------------------+-----+---------+----------+---------+---------+----------+-------------+------+------+--------------------+------------+-------------+--------------------+-------------------+--------------------+---------------+-----------------+--------------------+----------------+--------------+---------------+--------------------+------------+-------------------+-----------------+---------------+\n",
      "only showing top 20 rows\n",
      "\n"
     ]
    }
   ],
   "execution_count": 62
  },
  {
   "metadata": {
    "ExecuteTime": {
     "end_time": "2025-01-08T09:10:43.714891Z",
     "start_time": "2025-01-07T21:28:40.207583Z"
    }
   },
   "cell_type": "code",
   "source": "customer_product_sales.printSchema()\n",
   "id": "902d40a0d96ae51e",
   "outputs": [
    {
     "name": "stdout",
     "output_type": "stream",
     "text": [
      "root\n",
      " |-- CustomerKey: integer (nullable = true)\n",
      " |-- ProductKey: integer (nullable = true)\n",
      " |-- OrderDateKey: integer (nullable = true)\n",
      " |-- DueDateKey: integer (nullable = true)\n",
      " |-- ShipDateKey: integer (nullable = true)\n",
      " |-- PromotionKey: integer (nullable = true)\n",
      " |-- CurrencyKey: integer (nullable = true)\n",
      " |-- SalesTerritoryKey: integer (nullable = true)\n",
      " |-- SalesOrderNumber: string (nullable = true)\n",
      " |-- SalesOrderLineNumber: integer (nullable = true)\n",
      " |-- RevisionNumber: integer (nullable = true)\n",
      " |-- OrderQuantity: integer (nullable = true)\n",
      " |-- UnitPrice: double (nullable = true)\n",
      " |-- ExtendedAmount: double (nullable = true)\n",
      " |-- UnitPriceDiscountPct: integer (nullable = true)\n",
      " |-- DiscountAmount: integer (nullable = true)\n",
      " |-- ProductStandardCost: double (nullable = true)\n",
      " |-- TotalProductCost: double (nullable = true)\n",
      " |-- SalesAmount: double (nullable = true)\n",
      " |-- TaxAmt: double (nullable = true)\n",
      " |-- Freight: double (nullable = true)\n",
      " |-- CarrierTrackingNumber: string (nullable = true)\n",
      " |-- CustomerPONumber: string (nullable = true)\n",
      " |-- OrderDate: timestamp (nullable = true)\n",
      " |-- DueDate: timestamp (nullable = true)\n",
      " |-- ShipDate: timestamp (nullable = true)\n",
      " |-- ProductAlternateKey: string (nullable = true)\n",
      " |-- ProductSubcategoryKey: integer (nullable = true)\n",
      " |-- WeightUnitMeasureCode: string (nullable = true)\n",
      " |-- SizeUnitMeasureCode: string (nullable = true)\n",
      " |-- EnglishProductName: string (nullable = true)\n",
      " |-- SpanishProductName: string (nullable = true)\n",
      " |-- FrenchProductName: string (nullable = true)\n",
      " |-- StandardCost: double (nullable = true)\n",
      " |-- FinishedGoodsFlag: boolean (nullable = true)\n",
      " |-- Color: string (nullable = true)\n",
      " |-- SafetyStockLevel: integer (nullable = true)\n",
      " |-- ReorderPoint: integer (nullable = true)\n",
      " |-- ListPrice: double (nullable = true)\n",
      " |-- Size: string (nullable = true)\n",
      " |-- SizeRange: string (nullable = true)\n",
      " |-- Weight: double (nullable = true)\n",
      " |-- DaysToManufacture: integer (nullable = true)\n",
      " |-- ProductLine: string (nullable = true)\n",
      " |-- DealerPrice: double (nullable = true)\n",
      " |-- Class: string (nullable = true)\n",
      " |-- Style: string (nullable = true)\n",
      " |-- ModelName: string (nullable = true)\n",
      " |-- EnglishDescription: string (nullable = true)\n",
      " |-- StartDate: string (nullable = true)\n",
      " |-- EndDate: string (nullable = true)\n",
      " |-- Status: string (nullable = true)\n",
      " |-- GeographyKey: integer (nullable = true)\n",
      " |-- CustomerAlternateKey: string (nullable = true)\n",
      " |-- Title: string (nullable = true)\n",
      " |-- FirstName: string (nullable = true)\n",
      " |-- MiddleName: string (nullable = true)\n",
      " |-- LastName: string (nullable = true)\n",
      " |-- NameStyle: boolean (nullable = true)\n",
      " |-- BirthDate: date (nullable = true)\n",
      " |-- MaritalStatus: string (nullable = true)\n",
      " |-- Suffix: string (nullable = true)\n",
      " |-- Gender: string (nullable = true)\n",
      " |-- EmailAddress: string (nullable = true)\n",
      " |-- YearlyIncome: integer (nullable = true)\n",
      " |-- TotalChildren: integer (nullable = true)\n",
      " |-- NumberChildrenAtHome: integer (nullable = true)\n",
      " |-- EnglishEducation: string (nullable = true)\n",
      " |-- SpanishEducation: string (nullable = true)\n",
      " |-- FrenchEducation: string (nullable = true)\n",
      " |-- EnglishOccupation: string (nullable = true)\n",
      " |-- SpanishOccupation: string (nullable = true)\n",
      " |-- FrenchOccupation: string (nullable = true)\n",
      " |-- HouseOwnerFlag: integer (nullable = true)\n",
      " |-- NumberCarsOwned: integer (nullable = true)\n",
      " |-- AddressLine1: string (nullable = true)\n",
      " |-- AddressLine2: string (nullable = true)\n",
      " |-- Phone: string (nullable = true)\n",
      " |-- DateFirstPurchase: date (nullable = true)\n",
      " |-- CommuteDistance: string (nullable = true)\n",
      "\n"
     ]
    }
   ],
   "execution_count": 63
  },
  {
   "metadata": {
    "ExecuteTime": {
     "end_time": "2025-01-08T09:10:43.716339Z",
     "start_time": "2025-01-07T21:48:58.758500Z"
    }
   },
   "cell_type": "code",
   "source": [
    "# Step 2: Join with DimProductSubcategory\n",
    "customer_sales_product_subcategory = customer_product_sales.join(dim_product_subcategory, \"ProductSubcategoryKey\", \"inner\")\n",
    "\n",
    "\n",
    "# Step 3: Join with DimProductCategory\n",
    "customer_sales_product_category = sales_product_subcategory.join(dim_product_category, \"ProductCategoryKey\", \"inner\")\n",
    "\n"
   ],
   "id": "cc32617bd6ba09bf",
   "outputs": [],
   "execution_count": 69
  },
  {
   "metadata": {
    "ExecuteTime": {
     "end_time": "2025-01-08T09:10:43.717590Z",
     "start_time": "2025-01-07T21:47:45.788617Z"
    }
   },
   "cell_type": "code",
   "source": "customer_sales_product_subcategory.printSchema()\n",
   "id": "a38a5421f443880f",
   "outputs": [
    {
     "name": "stdout",
     "output_type": "stream",
     "text": [
      "root\n",
      " |-- ProductSubcategoryKey: integer (nullable = true)\n",
      " |-- CustomerKey: integer (nullable = true)\n",
      " |-- ProductKey: integer (nullable = true)\n",
      " |-- OrderDateKey: integer (nullable = true)\n",
      " |-- DueDateKey: integer (nullable = true)\n",
      " |-- ShipDateKey: integer (nullable = true)\n",
      " |-- PromotionKey: integer (nullable = true)\n",
      " |-- CurrencyKey: integer (nullable = true)\n",
      " |-- SalesTerritoryKey: integer (nullable = true)\n",
      " |-- SalesOrderNumber: string (nullable = true)\n",
      " |-- SalesOrderLineNumber: integer (nullable = true)\n",
      " |-- RevisionNumber: integer (nullable = true)\n",
      " |-- OrderQuantity: integer (nullable = true)\n",
      " |-- UnitPrice: double (nullable = true)\n",
      " |-- ExtendedAmount: double (nullable = true)\n",
      " |-- UnitPriceDiscountPct: integer (nullable = true)\n",
      " |-- DiscountAmount: integer (nullable = true)\n",
      " |-- ProductStandardCost: double (nullable = true)\n",
      " |-- TotalProductCost: double (nullable = true)\n",
      " |-- SalesAmount: double (nullable = true)\n",
      " |-- TaxAmt: double (nullable = true)\n",
      " |-- Freight: double (nullable = true)\n",
      " |-- CarrierTrackingNumber: string (nullable = true)\n",
      " |-- CustomerPONumber: string (nullable = true)\n",
      " |-- OrderDate: timestamp (nullable = true)\n",
      " |-- DueDate: timestamp (nullable = true)\n",
      " |-- ShipDate: timestamp (nullable = true)\n",
      " |-- ProductAlternateKey: string (nullable = true)\n",
      " |-- WeightUnitMeasureCode: string (nullable = true)\n",
      " |-- SizeUnitMeasureCode: string (nullable = true)\n",
      " |-- EnglishProductName: string (nullable = true)\n",
      " |-- SpanishProductName: string (nullable = true)\n",
      " |-- FrenchProductName: string (nullable = true)\n",
      " |-- StandardCost: double (nullable = true)\n",
      " |-- FinishedGoodsFlag: boolean (nullable = true)\n",
      " |-- Color: string (nullable = true)\n",
      " |-- SafetyStockLevel: integer (nullable = true)\n",
      " |-- ReorderPoint: integer (nullable = true)\n",
      " |-- ListPrice: double (nullable = true)\n",
      " |-- Size: string (nullable = true)\n",
      " |-- SizeRange: string (nullable = true)\n",
      " |-- Weight: double (nullable = true)\n",
      " |-- DaysToManufacture: integer (nullable = true)\n",
      " |-- ProductLine: string (nullable = true)\n",
      " |-- DealerPrice: double (nullable = true)\n",
      " |-- Class: string (nullable = true)\n",
      " |-- Style: string (nullable = true)\n",
      " |-- ModelName: string (nullable = true)\n",
      " |-- EnglishDescription: string (nullable = true)\n",
      " |-- StartDate: string (nullable = true)\n",
      " |-- EndDate: string (nullable = true)\n",
      " |-- Status: string (nullable = true)\n",
      " |-- GeographyKey: integer (nullable = true)\n",
      " |-- CustomerAlternateKey: string (nullable = true)\n",
      " |-- Title: string (nullable = true)\n",
      " |-- FirstName: string (nullable = true)\n",
      " |-- MiddleName: string (nullable = true)\n",
      " |-- LastName: string (nullable = true)\n",
      " |-- NameStyle: boolean (nullable = true)\n",
      " |-- BirthDate: date (nullable = true)\n",
      " |-- MaritalStatus: string (nullable = true)\n",
      " |-- Suffix: string (nullable = true)\n",
      " |-- Gender: string (nullable = true)\n",
      " |-- EmailAddress: string (nullable = true)\n",
      " |-- YearlyIncome: integer (nullable = true)\n",
      " |-- TotalChildren: integer (nullable = true)\n",
      " |-- NumberChildrenAtHome: integer (nullable = true)\n",
      " |-- EnglishEducation: string (nullable = true)\n",
      " |-- SpanishEducation: string (nullable = true)\n",
      " |-- FrenchEducation: string (nullable = true)\n",
      " |-- EnglishOccupation: string (nullable = true)\n",
      " |-- SpanishOccupation: string (nullable = true)\n",
      " |-- FrenchOccupation: string (nullable = true)\n",
      " |-- HouseOwnerFlag: integer (nullable = true)\n",
      " |-- NumberCarsOwned: integer (nullable = true)\n",
      " |-- AddressLine1: string (nullable = true)\n",
      " |-- AddressLine2: string (nullable = true)\n",
      " |-- Phone: string (nullable = true)\n",
      " |-- DateFirstPurchase: date (nullable = true)\n",
      " |-- CommuteDistance: string (nullable = true)\n",
      " |-- ProductSubcategoryAlternateKey: integer (nullable = true)\n",
      " |-- EnglishProductSubcategoryName: string (nullable = true)\n",
      " |-- ProductCategoryKey: integer (nullable = true)\n",
      "\n"
     ]
    }
   ],
   "execution_count": 67
  },
  {
   "metadata": {
    "ExecuteTime": {
     "end_time": "2025-01-08T09:10:43.719655Z",
     "start_time": "2025-01-07T21:49:02.262480Z"
    }
   },
   "cell_type": "code",
   "source": "customer_sales_product_category.printSchema()",
   "id": "7ffa4b52bc4833bd",
   "outputs": [
    {
     "name": "stdout",
     "output_type": "stream",
     "text": [
      "root\n",
      " |-- ProductCategoryKey: integer (nullable = true)\n",
      " |-- ProductSubcategoryKey: integer (nullable = true)\n",
      " |-- ProductKey: integer (nullable = true)\n",
      " |-- OrderDateKey: integer (nullable = true)\n",
      " |-- DueDateKey: integer (nullable = true)\n",
      " |-- ShipDateKey: integer (nullable = true)\n",
      " |-- CustomerKey: integer (nullable = true)\n",
      " |-- PromotionKey: integer (nullable = true)\n",
      " |-- CurrencyKey: integer (nullable = true)\n",
      " |-- SalesTerritoryKey: integer (nullable = true)\n",
      " |-- SalesOrderNumber: string (nullable = true)\n",
      " |-- SalesOrderLineNumber: integer (nullable = true)\n",
      " |-- RevisionNumber: integer (nullable = true)\n",
      " |-- OrderQuantity: integer (nullable = true)\n",
      " |-- UnitPrice: double (nullable = true)\n",
      " |-- ExtendedAmount: double (nullable = true)\n",
      " |-- UnitPriceDiscountPct: integer (nullable = true)\n",
      " |-- DiscountAmount: integer (nullable = true)\n",
      " |-- ProductStandardCost: double (nullable = true)\n",
      " |-- TotalProductCost: double (nullable = true)\n",
      " |-- SalesAmount: double (nullable = true)\n",
      " |-- TaxAmt: double (nullable = true)\n",
      " |-- Freight: double (nullable = true)\n",
      " |-- CarrierTrackingNumber: string (nullable = true)\n",
      " |-- CustomerPONumber: string (nullable = true)\n",
      " |-- OrderDate: timestamp (nullable = true)\n",
      " |-- DueDate: timestamp (nullable = true)\n",
      " |-- ShipDate: timestamp (nullable = true)\n",
      " |-- ProductAlternateKey: string (nullable = true)\n",
      " |-- WeightUnitMeasureCode: string (nullable = true)\n",
      " |-- SizeUnitMeasureCode: string (nullable = true)\n",
      " |-- EnglishProductName: string (nullable = true)\n",
      " |-- SpanishProductName: string (nullable = true)\n",
      " |-- FrenchProductName: string (nullable = true)\n",
      " |-- StandardCost: double (nullable = true)\n",
      " |-- FinishedGoodsFlag: boolean (nullable = true)\n",
      " |-- Color: string (nullable = true)\n",
      " |-- SafetyStockLevel: integer (nullable = true)\n",
      " |-- ReorderPoint: integer (nullable = true)\n",
      " |-- ListPrice: double (nullable = true)\n",
      " |-- Size: string (nullable = true)\n",
      " |-- SizeRange: string (nullable = true)\n",
      " |-- Weight: double (nullable = true)\n",
      " |-- DaysToManufacture: integer (nullable = true)\n",
      " |-- ProductLine: string (nullable = true)\n",
      " |-- DealerPrice: double (nullable = true)\n",
      " |-- Class: string (nullable = true)\n",
      " |-- Style: string (nullable = true)\n",
      " |-- ModelName: string (nullable = true)\n",
      " |-- EnglishDescription: string (nullable = true)\n",
      " |-- StartDate: string (nullable = true)\n",
      " |-- EndDate: string (nullable = true)\n",
      " |-- Status: string (nullable = true)\n",
      " |-- ProductSubcategoryAlternateKey: integer (nullable = true)\n",
      " |-- EnglishProductSubcategoryName: string (nullable = true)\n",
      " |-- ProductCategoryAlternateKey: integer (nullable = true)\n",
      " |-- EnglishProductCategoryName: string (nullable = true)\n",
      " |-- SpanishProductCategoryName: string (nullable = true)\n",
      " |-- FrenchProductCategoryName: string (nullable = true)\n",
      "\n"
     ]
    }
   ],
   "execution_count": 70
  },
  {
   "metadata": {
    "ExecuteTime": {
     "end_time": "2025-01-08T09:10:43.721788Z",
     "start_time": "2025-01-07T21:50:00.466144Z"
    }
   },
   "cell_type": "code",
   "source": [
    "\n",
    "# Step 3: Aggregate data to find the most frequent product category per customer\n",
    "# customer_labels = customer_product_sales.groupBy(\"CustomerKey\", \"EnglishProductCategoryName\") \\\n",
    "#     .agg(count(\"SalesAmount\").alias(\"PurchaseCount\")) \\\n",
    "#     .orderBy(\"CustomerKey\", desc(\"PurchaseCount\"))\n",
    "\n",
    "\n",
    "customer_labels = customer_sales_product_category.groupBy(\"CustomerKey\", \"EnglishProductCategoryName\") \\\n",
    "    .agg(count(\"SalesAmount\").alias(\"PurchaseCount\")) \\\n",
    "    .orderBy(\"CustomerKey\", desc(\"PurchaseCount\"))"
   ],
   "id": "1a565f3f65beac16",
   "outputs": [],
   "execution_count": 72
  },
  {
   "metadata": {
    "ExecuteTime": {
     "end_time": "2025-01-08T09:10:43.722614Z",
     "start_time": "2025-01-07T21:50:38.954958Z"
    }
   },
   "cell_type": "code",
   "source": "customer_labels.show()",
   "id": "6054d10a65841f8e",
   "outputs": [
    {
     "name": "stderr",
     "output_type": "stream",
     "text": [
      "[Stage 268:>                                                        (0 + 3) / 3]\r"
     ]
    },
    {
     "name": "stdout",
     "output_type": "stream",
     "text": [
      "+-----------+--------------------------+-------------+\n",
      "|CustomerKey|EnglishProductCategoryName|PurchaseCount|\n",
      "+-----------+--------------------------+-------------+\n",
      "|      11000|               Accessories|            4|\n",
      "|      11000|                     Bikes|            3|\n",
      "|      11000|                  Clothing|            1|\n",
      "|      11001|               Accessories|            6|\n",
      "|      11001|                     Bikes|            3|\n",
      "|      11001|                  Clothing|            2|\n",
      "|      11002|                     Bikes|            3|\n",
      "|      11002|               Accessories|            1|\n",
      "|      11003|               Accessories|            5|\n",
      "|      11003|                     Bikes|            3|\n",
      "|      11003|                  Clothing|            1|\n",
      "|      11004|               Accessories|            3|\n",
      "|      11004|                     Bikes|            3|\n",
      "|      11005|                     Bikes|            3|\n",
      "|      11005|               Accessories|            3|\n",
      "|      11006|                     Bikes|            3|\n",
      "|      11006|               Accessories|            2|\n",
      "|      11007|               Accessories|            5|\n",
      "|      11007|                     Bikes|            3|\n",
      "|      11008|               Accessories|            4|\n",
      "+-----------+--------------------------+-------------+\n",
      "only showing top 20 rows\n",
      "\n"
     ]
    },
    {
     "name": "stderr",
     "output_type": "stream",
     "text": [
      "                                                                                \r"
     ]
    }
   ],
   "execution_count": 74
  },
  {
   "metadata": {
    "ExecuteTime": {
     "end_time": "2025-01-08T09:10:43.742652Z",
     "start_time": "2025-01-07T21:52:45.051148Z"
    }
   },
   "cell_type": "code",
   "source": [
    "# Select the most frequent product category for each customer\n",
    "customer_labels = customer_labels.groupBy(\"CustomerKey\").agg(first(\"EnglishProductCategoryName\").alias(\"MostFrequentCategory\"))\n"
   ],
   "id": "4cf4dc1b62bb250d",
   "outputs": [],
   "execution_count": 75
  },
  {
   "metadata": {
    "ExecuteTime": {
     "end_time": "2025-01-08T09:10:43.747387Z",
     "start_time": "2025-01-07T21:52:49.453108Z"
    }
   },
   "cell_type": "code",
   "source": [
    "\n",
    "# Join with DimCustomer for demographic data\n",
    "customer_data = customer_labels.join(dim_customer, \"CustomerKey\")"
   ],
   "id": "3e0774de6a037070",
   "outputs": [],
   "execution_count": 76
  },
  {
   "metadata": {},
   "cell_type": "markdown",
   "source": "Create Features",
   "id": "4b9f6570eeef14c0"
  },
  {
   "metadata": {
    "ExecuteTime": {
     "end_time": "2025-01-08T09:10:43.749436Z",
     "start_time": "2025-01-07T21:53:55.075587Z"
    }
   },
   "cell_type": "code",
   "source": [
    "# Step 1: Encode the target variable (Product Category) as numeric\n",
    "category_indexer = StringIndexer(inputCol=\"MostFrequentCategory\", outputCol=\"label\")\n",
    "customer_data = category_indexer.fit(customer_data).transform(customer_data)\n"
   ],
   "id": "422da1ea301cefc9",
   "outputs": [
    {
     "name": "stderr",
     "output_type": "stream",
     "text": [
      "                                                                                \r"
     ]
    }
   ],
   "execution_count": 79
  },
  {
   "metadata": {
    "ExecuteTime": {
     "end_time": "2025-01-08T09:10:43.750640Z",
     "start_time": "2025-01-07T21:59:51.039144Z"
    }
   },
   "cell_type": "code",
   "source": [
    "\n",
    "# Step 2: Select features (demographics + aggregated purchase behavior)\n",
    "feature_columns = [\"YearlyIncome\", \"TotalChildren\", \"NumberCarsOwned\"]\n",
    "assembler = VectorAssembler(inputCols=feature_columns, outputCol=\"features\")"
   ],
   "id": "d525090135ea9fdc",
   "outputs": [],
   "execution_count": 82
  },
  {
   "metadata": {
    "ExecuteTime": {
     "end_time": "2025-01-08T09:10:43.752653Z",
     "start_time": "2025-01-07T21:59:53.929100Z"
    }
   },
   "cell_type": "code",
   "source": [
    "\n",
    "# Step 3: Transform the dataset\n",
    "ml_data = assembler.transform(customer_data).select(\"features\", \"label\")"
   ],
   "id": "f89cc037c7edbac4",
   "outputs": [],
   "execution_count": 83
  },
  {
   "metadata": {},
   "cell_type": "markdown",
   "source": "3. Split Data and Train Random Forest Classifier",
   "id": "279e1a3fdad19d0b"
  },
  {
   "metadata": {
    "ExecuteTime": {
     "end_time": "2025-01-08T09:10:43.755667Z",
     "start_time": "2025-01-07T21:59:58.243014Z"
    }
   },
   "cell_type": "code",
   "source": [
    "\n",
    "# Split into training and test datasets\n",
    "train_data, test_data = ml_data.randomSplit([0.8, 0.2], seed=42)\n"
   ],
   "id": "fb41eec40b1c5c93",
   "outputs": [],
   "execution_count": 84
  },
  {
   "metadata": {
    "ExecuteTime": {
     "end_time": "2025-01-08T09:10:43.757200Z",
     "start_time": "2025-01-07T22:01:04.369223Z"
    }
   },
   "cell_type": "code",
   "source": [
    "\n",
    "# Train a Random Forest model\n",
    "rf = RandomForestClassifier(featuresCol=\"features\", labelCol=\"label\", numTrees=50)\n",
    "rf_model = rf.fit(train_data)\n"
   ],
   "id": "ac7b393a63feae22",
   "outputs": [
    {
     "name": "stderr",
     "output_type": "stream",
     "text": [
      "                                                                                \r"
     ]
    }
   ],
   "execution_count": 87
  },
  {
   "metadata": {
    "ExecuteTime": {
     "end_time": "2025-01-08T09:10:43.758219Z",
     "start_time": "2025-01-07T22:03:41.575903Z"
    }
   },
   "cell_type": "code",
   "source": [
    "# Make predictions on the test data\n",
    "rf_predictions = rf_model.transform(test_data)\n",
    "\n",
    "\n",
    "# Evaluate the model\n",
    "evaluator = MulticlassClassificationEvaluator(labelCol=\"label\", predictionCol=\"prediction\", metricName=\"accuracy\")\n",
    "rf_accuracy = evaluator.evaluate(rf_predictions)\n",
    "print(f\"Random Forest Accuracy: {rf_accuracy}\")"
   ],
   "id": "d2586457256dbbc7",
   "outputs": [
    {
     "name": "stderr",
     "output_type": "stream",
     "text": [
      "[Stage 381:>                                                        (0 + 1) / 1]\r"
     ]
    },
    {
     "name": "stdout",
     "output_type": "stream",
     "text": [
      "Random Forest Accuracy: 0.6085761407366685\n"
     ]
    },
    {
     "name": "stderr",
     "output_type": "stream",
     "text": [
      "                                                                                \r"
     ]
    }
   ],
   "execution_count": 93
  },
  {
   "metadata": {},
   "cell_type": "markdown",
   "source": "###",
   "id": "b6f007d1a18ac566"
  },
  {
   "metadata": {
    "ExecuteTime": {
     "end_time": "2025-01-08T09:10:43.759179Z",
     "start_time": "2025-01-07T05:17:35.934266Z"
    }
   },
   "cell_type": "code",
   "source": [
    "# Stop the current Spark session spark.stop()\n",
    "spark.stop()\n"
   ],
   "id": "d51f4e635eb8528",
   "outputs": [
    {
     "ename": "ConnectionRefusedError",
     "evalue": "[Errno 61] Connection refused",
     "output_type": "error",
     "traceback": [
      "\u001B[0;31m---------------------------------------------------------------------------\u001B[0m",
      "\u001B[0;31mConnectionRefusedError\u001B[0m                    Traceback (most recent call last)",
      "Cell \u001B[0;32mIn[21], line 2\u001B[0m\n\u001B[1;32m      1\u001B[0m \u001B[38;5;66;03m# Stop the current Spark session spark.stop()\u001B[39;00m\n\u001B[0;32m----> 2\u001B[0m \u001B[43mspark\u001B[49m\u001B[38;5;241;43m.\u001B[39;49m\u001B[43mstop\u001B[49m\u001B[43m(\u001B[49m\u001B[43m)\u001B[49m\n",
      "File \u001B[0;32m~/Documents/MSc/SchoolStuff/Bigdata/coursework/project/BigDataProcessing/.venv/lib/python3.11/site-packages/pyspark/sql/session.py:1796\u001B[0m, in \u001B[0;36mSparkSession.stop\u001B[0;34m(self)\u001B[0m\n\u001B[1;32m   1782\u001B[0m \u001B[38;5;250m\u001B[39m\u001B[38;5;124;03m\"\"\"\u001B[39;00m\n\u001B[1;32m   1783\u001B[0m \u001B[38;5;124;03mStop the underlying :class:`SparkContext`.\u001B[39;00m\n\u001B[1;32m   1784\u001B[0m \n\u001B[0;32m   (...)\u001B[0m\n\u001B[1;32m   1792\u001B[0m \u001B[38;5;124;03m>>> spark.stop()  # doctest: +SKIP\u001B[39;00m\n\u001B[1;32m   1793\u001B[0m \u001B[38;5;124;03m\"\"\"\u001B[39;00m\n\u001B[1;32m   1794\u001B[0m \u001B[38;5;28;01mfrom\u001B[39;00m \u001B[38;5;21;01mpyspark\u001B[39;00m\u001B[38;5;21;01m.\u001B[39;00m\u001B[38;5;21;01msql\u001B[39;00m\u001B[38;5;21;01m.\u001B[39;00m\u001B[38;5;21;01mcontext\u001B[39;00m \u001B[38;5;28;01mimport\u001B[39;00m SQLContext\n\u001B[0;32m-> 1796\u001B[0m \u001B[38;5;28;43mself\u001B[39;49m\u001B[38;5;241;43m.\u001B[39;49m\u001B[43m_sc\u001B[49m\u001B[38;5;241;43m.\u001B[39;49m\u001B[43mstop\u001B[49m\u001B[43m(\u001B[49m\u001B[43m)\u001B[49m\n\u001B[1;32m   1797\u001B[0m \u001B[38;5;66;03m# We should clean the default session up. See SPARK-23228.\u001B[39;00m\n\u001B[1;32m   1798\u001B[0m \u001B[38;5;28;01massert\u001B[39;00m \u001B[38;5;28mself\u001B[39m\u001B[38;5;241m.\u001B[39m_jvm \u001B[38;5;129;01mis\u001B[39;00m \u001B[38;5;129;01mnot\u001B[39;00m \u001B[38;5;28;01mNone\u001B[39;00m\n",
      "File \u001B[0;32m~/Documents/MSc/SchoolStuff/Bigdata/coursework/project/BigDataProcessing/.venv/lib/python3.11/site-packages/pyspark/context.py:654\u001B[0m, in \u001B[0;36mSparkContext.stop\u001B[0;34m(self)\u001B[0m\n\u001B[1;32m    652\u001B[0m \u001B[38;5;28;01mif\u001B[39;00m \u001B[38;5;28mgetattr\u001B[39m(\u001B[38;5;28mself\u001B[39m, \u001B[38;5;124m\"\u001B[39m\u001B[38;5;124m_jsc\u001B[39m\u001B[38;5;124m\"\u001B[39m, \u001B[38;5;28;01mNone\u001B[39;00m):\n\u001B[1;32m    653\u001B[0m     \u001B[38;5;28;01mtry\u001B[39;00m:\n\u001B[0;32m--> 654\u001B[0m         \u001B[38;5;28;43mself\u001B[39;49m\u001B[38;5;241;43m.\u001B[39;49m\u001B[43m_jsc\u001B[49m\u001B[38;5;241;43m.\u001B[39;49m\u001B[43mstop\u001B[49m\u001B[43m(\u001B[49m\u001B[43m)\u001B[49m\n\u001B[1;32m    655\u001B[0m     \u001B[38;5;28;01mexcept\u001B[39;00m Py4JError:\n\u001B[1;32m    656\u001B[0m         \u001B[38;5;66;03m# Case: SPARK-18523\u001B[39;00m\n\u001B[1;32m    657\u001B[0m         warnings\u001B[38;5;241m.\u001B[39mwarn(\n\u001B[1;32m    658\u001B[0m             \u001B[38;5;124m\"\u001B[39m\u001B[38;5;124mUnable to cleanly shutdown Spark JVM process.\u001B[39m\u001B[38;5;124m\"\u001B[39m\n\u001B[1;32m    659\u001B[0m             \u001B[38;5;124m\"\u001B[39m\u001B[38;5;124m It is possible that the process has crashed,\u001B[39m\u001B[38;5;124m\"\u001B[39m\n\u001B[1;32m    660\u001B[0m             \u001B[38;5;124m\"\u001B[39m\u001B[38;5;124m been killed or may also be in a zombie state.\u001B[39m\u001B[38;5;124m\"\u001B[39m,\n\u001B[1;32m    661\u001B[0m             \u001B[38;5;167;01mRuntimeWarning\u001B[39;00m,\n\u001B[1;32m    662\u001B[0m         )\n",
      "File \u001B[0;32m~/Documents/MSc/SchoolStuff/Bigdata/coursework/project/BigDataProcessing/.venv/lib/python3.11/site-packages/py4j/java_gateway.py:1321\u001B[0m, in \u001B[0;36mJavaMember.__call__\u001B[0;34m(self, *args)\u001B[0m\n\u001B[1;32m   1314\u001B[0m args_command, temp_args \u001B[38;5;241m=\u001B[39m \u001B[38;5;28mself\u001B[39m\u001B[38;5;241m.\u001B[39m_build_args(\u001B[38;5;241m*\u001B[39margs)\n\u001B[1;32m   1316\u001B[0m command \u001B[38;5;241m=\u001B[39m proto\u001B[38;5;241m.\u001B[39mCALL_COMMAND_NAME \u001B[38;5;241m+\u001B[39m\\\n\u001B[1;32m   1317\u001B[0m     \u001B[38;5;28mself\u001B[39m\u001B[38;5;241m.\u001B[39mcommand_header \u001B[38;5;241m+\u001B[39m\\\n\u001B[1;32m   1318\u001B[0m     args_command \u001B[38;5;241m+\u001B[39m\\\n\u001B[1;32m   1319\u001B[0m     proto\u001B[38;5;241m.\u001B[39mEND_COMMAND_PART\n\u001B[0;32m-> 1321\u001B[0m answer \u001B[38;5;241m=\u001B[39m \u001B[38;5;28;43mself\u001B[39;49m\u001B[38;5;241;43m.\u001B[39;49m\u001B[43mgateway_client\u001B[49m\u001B[38;5;241;43m.\u001B[39;49m\u001B[43msend_command\u001B[49m\u001B[43m(\u001B[49m\u001B[43mcommand\u001B[49m\u001B[43m)\u001B[49m\n\u001B[1;32m   1322\u001B[0m return_value \u001B[38;5;241m=\u001B[39m get_return_value(\n\u001B[1;32m   1323\u001B[0m     answer, \u001B[38;5;28mself\u001B[39m\u001B[38;5;241m.\u001B[39mgateway_client, \u001B[38;5;28mself\u001B[39m\u001B[38;5;241m.\u001B[39mtarget_id, \u001B[38;5;28mself\u001B[39m\u001B[38;5;241m.\u001B[39mname)\n\u001B[1;32m   1325\u001B[0m \u001B[38;5;28;01mfor\u001B[39;00m temp_arg \u001B[38;5;129;01min\u001B[39;00m temp_args:\n",
      "File \u001B[0;32m~/Documents/MSc/SchoolStuff/Bigdata/coursework/project/BigDataProcessing/.venv/lib/python3.11/site-packages/py4j/java_gateway.py:1036\u001B[0m, in \u001B[0;36mGatewayClient.send_command\u001B[0;34m(self, command, retry, binary)\u001B[0m\n\u001B[1;32m   1015\u001B[0m \u001B[38;5;28;01mdef\u001B[39;00m \u001B[38;5;21msend_command\u001B[39m(\u001B[38;5;28mself\u001B[39m, command, retry\u001B[38;5;241m=\u001B[39m\u001B[38;5;28;01mTrue\u001B[39;00m, binary\u001B[38;5;241m=\u001B[39m\u001B[38;5;28;01mFalse\u001B[39;00m):\n\u001B[1;32m   1016\u001B[0m \u001B[38;5;250m    \u001B[39m\u001B[38;5;124;03m\"\"\"Sends a command to the JVM. This method is not intended to be\u001B[39;00m\n\u001B[1;32m   1017\u001B[0m \u001B[38;5;124;03m       called directly by Py4J users. It is usually called by\u001B[39;00m\n\u001B[1;32m   1018\u001B[0m \u001B[38;5;124;03m       :class:`JavaMember` instances.\u001B[39;00m\n\u001B[0;32m   (...)\u001B[0m\n\u001B[1;32m   1034\u001B[0m \u001B[38;5;124;03m     if `binary` is `True`.\u001B[39;00m\n\u001B[1;32m   1035\u001B[0m \u001B[38;5;124;03m    \"\"\"\u001B[39;00m\n\u001B[0;32m-> 1036\u001B[0m     connection \u001B[38;5;241m=\u001B[39m \u001B[38;5;28;43mself\u001B[39;49m\u001B[38;5;241;43m.\u001B[39;49m\u001B[43m_get_connection\u001B[49m\u001B[43m(\u001B[49m\u001B[43m)\u001B[49m\n\u001B[1;32m   1037\u001B[0m     \u001B[38;5;28;01mtry\u001B[39;00m:\n\u001B[1;32m   1038\u001B[0m         response \u001B[38;5;241m=\u001B[39m connection\u001B[38;5;241m.\u001B[39msend_command(command)\n",
      "File \u001B[0;32m~/Documents/MSc/SchoolStuff/Bigdata/coursework/project/BigDataProcessing/.venv/lib/python3.11/site-packages/py4j/clientserver.py:284\u001B[0m, in \u001B[0;36mJavaClient._get_connection\u001B[0;34m(self)\u001B[0m\n\u001B[1;32m    281\u001B[0m     \u001B[38;5;28;01mpass\u001B[39;00m\n\u001B[1;32m    283\u001B[0m \u001B[38;5;28;01mif\u001B[39;00m connection \u001B[38;5;129;01mis\u001B[39;00m \u001B[38;5;28;01mNone\u001B[39;00m \u001B[38;5;129;01mor\u001B[39;00m connection\u001B[38;5;241m.\u001B[39msocket \u001B[38;5;129;01mis\u001B[39;00m \u001B[38;5;28;01mNone\u001B[39;00m:\n\u001B[0;32m--> 284\u001B[0m     connection \u001B[38;5;241m=\u001B[39m \u001B[38;5;28;43mself\u001B[39;49m\u001B[38;5;241;43m.\u001B[39;49m\u001B[43m_create_new_connection\u001B[49m\u001B[43m(\u001B[49m\u001B[43m)\u001B[49m\n\u001B[1;32m    285\u001B[0m \u001B[38;5;28;01mreturn\u001B[39;00m connection\n",
      "File \u001B[0;32m~/Documents/MSc/SchoolStuff/Bigdata/coursework/project/BigDataProcessing/.venv/lib/python3.11/site-packages/py4j/clientserver.py:291\u001B[0m, in \u001B[0;36mJavaClient._create_new_connection\u001B[0;34m(self)\u001B[0m\n\u001B[1;32m    287\u001B[0m \u001B[38;5;28;01mdef\u001B[39;00m \u001B[38;5;21m_create_new_connection\u001B[39m(\u001B[38;5;28mself\u001B[39m):\n\u001B[1;32m    288\u001B[0m     connection \u001B[38;5;241m=\u001B[39m ClientServerConnection(\n\u001B[1;32m    289\u001B[0m         \u001B[38;5;28mself\u001B[39m\u001B[38;5;241m.\u001B[39mjava_parameters, \u001B[38;5;28mself\u001B[39m\u001B[38;5;241m.\u001B[39mpython_parameters,\n\u001B[1;32m    290\u001B[0m         \u001B[38;5;28mself\u001B[39m\u001B[38;5;241m.\u001B[39mgateway_property, \u001B[38;5;28mself\u001B[39m)\n\u001B[0;32m--> 291\u001B[0m     \u001B[43mconnection\u001B[49m\u001B[38;5;241;43m.\u001B[39;49m\u001B[43mconnect_to_java_server\u001B[49m\u001B[43m(\u001B[49m\u001B[43m)\u001B[49m\n\u001B[1;32m    292\u001B[0m     \u001B[38;5;28mself\u001B[39m\u001B[38;5;241m.\u001B[39mset_thread_connection(connection)\n\u001B[1;32m    293\u001B[0m     \u001B[38;5;28;01mreturn\u001B[39;00m connection\n",
      "File \u001B[0;32m~/Documents/MSc/SchoolStuff/Bigdata/coursework/project/BigDataProcessing/.venv/lib/python3.11/site-packages/py4j/clientserver.py:438\u001B[0m, in \u001B[0;36mClientServerConnection.connect_to_java_server\u001B[0;34m(self)\u001B[0m\n\u001B[1;32m    435\u001B[0m \u001B[38;5;28;01mif\u001B[39;00m \u001B[38;5;28mself\u001B[39m\u001B[38;5;241m.\u001B[39mssl_context:\n\u001B[1;32m    436\u001B[0m     \u001B[38;5;28mself\u001B[39m\u001B[38;5;241m.\u001B[39msocket \u001B[38;5;241m=\u001B[39m \u001B[38;5;28mself\u001B[39m\u001B[38;5;241m.\u001B[39mssl_context\u001B[38;5;241m.\u001B[39mwrap_socket(\n\u001B[1;32m    437\u001B[0m         \u001B[38;5;28mself\u001B[39m\u001B[38;5;241m.\u001B[39msocket, server_hostname\u001B[38;5;241m=\u001B[39m\u001B[38;5;28mself\u001B[39m\u001B[38;5;241m.\u001B[39mjava_address)\n\u001B[0;32m--> 438\u001B[0m \u001B[38;5;28;43mself\u001B[39;49m\u001B[38;5;241;43m.\u001B[39;49m\u001B[43msocket\u001B[49m\u001B[38;5;241;43m.\u001B[39;49m\u001B[43mconnect\u001B[49m\u001B[43m(\u001B[49m\u001B[43m(\u001B[49m\u001B[38;5;28;43mself\u001B[39;49m\u001B[38;5;241;43m.\u001B[39;49m\u001B[43mjava_address\u001B[49m\u001B[43m,\u001B[49m\u001B[43m \u001B[49m\u001B[38;5;28;43mself\u001B[39;49m\u001B[38;5;241;43m.\u001B[39;49m\u001B[43mjava_port\u001B[49m\u001B[43m)\u001B[49m\u001B[43m)\u001B[49m\n\u001B[1;32m    439\u001B[0m \u001B[38;5;28mself\u001B[39m\u001B[38;5;241m.\u001B[39mstream \u001B[38;5;241m=\u001B[39m \u001B[38;5;28mself\u001B[39m\u001B[38;5;241m.\u001B[39msocket\u001B[38;5;241m.\u001B[39mmakefile(\u001B[38;5;124m\"\u001B[39m\u001B[38;5;124mrb\u001B[39m\u001B[38;5;124m\"\u001B[39m)\n\u001B[1;32m    440\u001B[0m \u001B[38;5;28mself\u001B[39m\u001B[38;5;241m.\u001B[39mis_connected \u001B[38;5;241m=\u001B[39m \u001B[38;5;28;01mTrue\u001B[39;00m\n",
      "\u001B[0;31mConnectionRefusedError\u001B[0m: [Errno 61] Connection refused"
     ]
    }
   ],
   "execution_count": 21
  }
 ],
 "metadata": {
  "kernelspec": {
   "display_name": "Python 3",
   "language": "python",
   "name": "python3"
  },
  "language_info": {
   "codemirror_mode": {
    "name": "ipython",
    "version": 2
   },
   "file_extension": ".py",
   "mimetype": "text/x-python",
   "name": "python",
   "nbconvert_exporter": "python",
   "pygments_lexer": "ipython2",
   "version": "2.7.6"
  }
 },
 "nbformat": 4,
 "nbformat_minor": 5
}
