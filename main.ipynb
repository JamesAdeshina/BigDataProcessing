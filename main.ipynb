{
 "cells": [
  {
   "metadata": {},
   "cell_type": "markdown",
   "source": "## Big Processing Data\n",
   "id": "84729a36b01dc519"
  },
  {
   "metadata": {},
   "cell_type": "markdown",
   "source": [
    "### Importation of Required Libraries\n",
    "We're importing the following libraries for the project: Pyspark, Matplotlib, Seaborn, ...\n",
    "\n",
    "Note: I am using Pycharm environment, so the environment is setup and doesn't need installation, but I'll also provide the code for install the libraries needed to run the project as well."
   ],
   "id": "1fe422a870a5d72a"
  },
  {
   "metadata": {
    "collapsed": true,
    "ExecuteTime": {
     "end_time": "2025-01-07T05:06:29.246337Z",
     "start_time": "2025-01-07T05:06:29.214427Z"
    }
   },
   "cell_type": "code",
   "source": [
    "#\n",
    "from pyspark.sql import SparkSession\n",
    "from pyspark.sql.functions import *\n",
    "from pyspark.sql.functions import col, sum as _sum, desc, asc\n",
    "from pyspark.ml.feature import VectorAssembler\n",
    "from pyspark.ml.regression import LinearRegression\n",
    "import matplotlib.pyplot as plt\n",
    "import seaborn as sns"
   ],
   "id": "initial_id",
   "outputs": [],
   "execution_count": 14
  },
  {
   "metadata": {},
   "cell_type": "markdown",
   "source": "### Initialize Spark Session\n",
   "id": "ab06ff5ca892e868"
  },
  {
   "metadata": {
    "ExecuteTime": {
     "end_time": "2025-01-06T19:44:36.953865Z",
     "start_time": "2025-01-06T19:44:23.782586Z"
    }
   },
   "cell_type": "code",
   "source": [
    "# Initialize Spark Session\n",
    "# spark = SparkSession.builder.appName(\"BigDataProcessing\").getOrCreate()\n",
    "\n",
    "\n",
    "# Initialize SparkSession in one line\n",
    "spark = SparkSession.builder.appName(\"BigDataProcessing\").master(\"local[*]\").getOrCreate()\n",
    "\n",
    "# Verify Spark session creation\n",
    "print(\"Spark session created successfully!\")"
   ],
   "id": "bc94c964b923b9f2",
   "outputs": [
    {
     "name": "stderr",
     "output_type": "stream",
     "text": [
      "Setting default log level to \"WARN\".\n",
      "To adjust logging level use sc.setLogLevel(newLevel). For SparkR, use setLogLevel(newLevel).\n",
      "25/01/06 19:44:33 WARN NativeCodeLoader: Unable to load native-hadoop library for your platform... using builtin-java classes where applicable\n"
     ]
    },
    {
     "name": "stdout",
     "output_type": "stream",
     "text": [
      "Spark session created successfully!\n"
     ]
    }
   ],
   "execution_count": 2
  },
  {
   "metadata": {},
   "cell_type": "markdown",
   "source": [
    "### Loading the Datasets\n",
    "This analytics section will focus on using the follwing datasets: <b>DimProduct.csv, FactInternetSales.csv, DimCustomer.csv, DimCustomer.csv, DimSalesTerritory.csv</b>"
   ],
   "id": "a7b04be064b872e8"
  },
  {
   "metadata": {
    "ExecuteTime": {
     "end_time": "2025-01-06T19:45:45.550498Z",
     "start_time": "2025-01-06T19:45:37.720971Z"
    }
   },
   "cell_type": "code",
   "source": [
    "# Load datasets\n",
    "dim_product = spark.read.csv(\"Dataset/DimProduct.csv\", header=True, inferSchema=True)\n",
    "fact_sales = spark.read.csv(\"Dataset/FactInternetSales.csv\", header=True, inferSchema=True)\n",
    "dim_customer = spark.read.csv(\"Dataset/DimCustomer.csv\", header=True, inferSchema=True)\n",
    "dim_date = spark.read.csv(\"Dataset/DimDate.csv\", header=True, inferSchema=True)\n",
    "dim_sales_territory = spark.read.csv(\"Dataset/DimSalesTerritory.csv\", header=True, inferSchema=True)"
   ],
   "id": "d2ffc509c30d7fee",
   "outputs": [
    {
     "name": "stderr",
     "output_type": "stream",
     "text": [
      "                                                                                \r"
     ]
    }
   ],
   "execution_count": 5
  },
  {
   "metadata": {},
   "cell_type": "markdown",
   "source": "### Exploratory Data Analysis\n",
   "id": "225f07234a5c16e5"
  },
  {
   "metadata": {},
   "cell_type": "code",
   "outputs": [],
   "execution_count": null,
   "source": [
    "# # Cache datasets for performance\n",
    "# fact_sales.cache()\n",
    "# dim_customer.cache()\n",
    "# dim_product.cache()\n",
    "# dim_date.cache()\n",
    "# dim_sales_territory.cache()"
   ],
   "id": "358ccc93863c95e8"
  },
  {
   "metadata": {
    "ExecuteTime": {
     "end_time": "2025-01-06T20:09:11.031399Z",
     "start_time": "2025-01-06T20:09:07.939876Z"
    }
   },
   "cell_type": "code",
   "source": [
    "# Step 2: Descriptive Statistics\n",
    "print(\"Overview of Sales Data\")\n",
    "fact_sales.describe().show()\n",
    "\n",
    "print(\"Overview of Product Data\")\n",
    "dim_product.describe().show()\n",
    "\n",
    "print(\"Overview of Customer Data\")\n",
    "dim_customer.describe().show()\n",
    "\n",
    "print(\"Overview of Date Data\")\n",
    "dim_date.describe().show()\n",
    "\n",
    "print(\"Overview of Sales Territory Data\")\n",
    "dim_sales_territory.describe().show()"
   ],
   "id": "e3934057aa18e48e",
   "outputs": [
    {
     "name": "stdout",
     "output_type": "stream",
     "text": [
      "Overview of Sales Data\n"
     ]
    },
    {
     "name": "stderr",
     "output_type": "stream",
     "text": [
      "[Stage 63:===================>                                      (1 + 2) / 3]\r"
     ]
    },
    {
     "name": "stdout",
     "output_type": "stream",
     "text": [
      "+-------+------------------+-------------------+-------------------+--------------------+------------------+------------------+-----------------+------------------+----------------+--------------------+--------------+-------------+-----------------+-----------------+--------------------+--------------+-------------------+-----------------+-----------------+-----------------+------------------+---------------------+----------------+\n",
      "|summary|        ProductKey|       OrderDateKey|         DueDateKey|         ShipDateKey|       CustomerKey|      PromotionKey|      CurrencyKey| SalesTerritoryKey|SalesOrderNumber|SalesOrderLineNumber|RevisionNumber|OrderQuantity|        UnitPrice|   ExtendedAmount|UnitPriceDiscountPct|DiscountAmount|ProductStandardCost| TotalProductCost|      SalesAmount|           TaxAmt|           Freight|CarrierTrackingNumber|CustomerPONumber|\n",
      "+-------+------------------+-------------------+-------------------+--------------------+------------------+------------------+-----------------+------------------+----------------+--------------------+--------------+-------------+-----------------+-----------------+--------------------+--------------+-------------------+-----------------+-----------------+-----------------+------------------+---------------------+----------------+\n",
      "|  count|             60398|              60398|              60398|               60398|             60398|             60398|            60398|             60398|           60398|               60398|         60398|        60398|            60398|            60398|               60398|         60398|              60398|            60398|            60398|            60398|             60398|                60398|           60398|\n",
      "|   mean|  437.557932381867|2.012973493314348E7|2.013010416608166E7|2.0129938434186563E7|18841.685420047022|1.0418391337461506|69.84532600417232| 6.244461737143614|            NULL|  1.8863207390973211|           1.0|          1.0|486.0869105053777|486.0869105053777|                 0.0|           0.0|  286.0656574008933|286.0656574008933|486.0869105053777|38.88695370873952|12.152217111493709|                 NULL|            NULL|\n",
      "| stddev|118.08839049700838|  4745.050337715953|  4985.453229317869|   4851.060708327112| 5432.430404014202|0.3426045700737133|42.14636315123781|2.9611497332880745|            NULL|   1.016328421173876|           0.0|          0.0| 928.489891980807| 928.489891980807|                 0.0|           0.0|  552.4576408810632|552.4576408810632| 928.489891980807|74.27919255248155|23.212248232767838|                 NULL|            NULL|\n",
      "|    min|               214|           20101229|           20110110|            20110105|             11000|                 1|                6|                 1|         SO43697|                   1|             1|            1|             2.29|             2.29|                   0|             0|             0.8565|           0.8565|             2.29|           0.1832|            0.0573|                 NULL|            NULL|\n",
      "|    max|               606|           20140128|           20140209|            20140204|             29483|                14|              100|                10|         SO75123|                   8|             1|            1|          3578.27|          3578.27|                   0|             0|          2171.2942|        2171.2942|          3578.27|         286.2616|           89.4568|                 NULL|            NULL|\n",
      "+-------+------------------+-------------------+-------------------+--------------------+------------------+------------------+-----------------+------------------+----------------+--------------------+--------------+-------------+-----------------+-----------------+--------------------+--------------+-------------------+-----------------+-----------------+-----------------+------------------+---------------------+----------------+\n",
      "\n"
     ]
    },
    {
     "name": "stderr",
     "output_type": "stream",
     "text": [
      "                                                                                \r"
     ]
    }
   ],
   "execution_count": 11
  },
  {
   "metadata": {
    "ExecuteTime": {
     "end_time": "2025-01-06T19:50:50.093239Z",
     "start_time": "2025-01-06T19:50:49.155844Z"
    }
   },
   "cell_type": "code",
   "source": "",
   "id": "e6f8592930f0681e",
   "outputs": [
    {
     "name": "stdout",
     "output_type": "stream",
     "text": [
      "+-------+-----------------+--------------------------+--------------------+---------------------+-------------------+\n",
      "|summary|SalesTerritoryKey|SalesTerritoryAlternateKey|SalesTerritoryRegion|SalesTerritoryCountry|SalesTerritoryGroup|\n",
      "+-------+-----------------+--------------------------+--------------------+---------------------+-------------------+\n",
      "|  count|               11|                        11|                  11|                   11|                 11|\n",
      "|   mean|              6.0|                       5.0|                NULL|                 NULL|               NULL|\n",
      "| stddev|  3.3166247903554|           3.3166247903554|                NULL|                 NULL|               NULL|\n",
      "|    min|                1|                         0|           Australia|            Australia|             Europe|\n",
      "|    max|               11|                        10|      United Kingdom|        United States|            Pacific|\n",
      "+-------+-----------------+--------------------------+--------------------+---------------------+-------------------+\n",
      "\n"
     ]
    }
   ],
   "execution_count": 8
  },
  {
   "metadata": {},
   "cell_type": "code",
   "outputs": [],
   "execution_count": null,
   "source": "",
   "id": "9fec92095802247a"
  },
  {
   "metadata": {},
   "cell_type": "code",
   "outputs": [],
   "execution_count": null,
   "source": "",
   "id": "ed032b80e8c9171a"
  },
  {
   "metadata": {},
   "cell_type": "code",
   "outputs": [],
   "execution_count": null,
   "source": "",
   "id": "5615f9cebd24d838"
  },
  {
   "metadata": {},
   "cell_type": "code",
   "outputs": [],
   "execution_count": null,
   "source": "",
   "id": "62268ca51b9c4067"
  },
  {
   "metadata": {},
   "cell_type": "markdown",
   "source": [
    "## Business and Research Questions\n",
    "The Analysis will focus on the following product analysis, sales analysis, customer analysis, and financial analysis\n",
    "\n",
    "- Customer Analysis<br>\n",
    "<b>Business Questions:</b>\n",
    "Who are the most valuable customers based on revenue and profit contributions?\n",
    "What are the most common customer demographics (age, location, income, etc.)?\n",
    "What are the most common reasons customers stop purchasing from us (using DimSalesReason)?\n",
    "\n",
    "<b>Research Questions:</b>\n",
    "What factors drive customer loyalty and repeat purchases?\n",
    "Is there a relationship between customer demographics and promotion effectiveness?\n",
    "How does customer behaviour differ based on product category preferences?\n",
    "\n",
    "\n",
    "\n",
    "- Sales Analysis<br>\n",
    "<b>Business Questions:</b>\n",
    "Which products generate the highest sales revenue and profit margins?\n",
    "How do sales trends vary across different sales territories (DimSalesTerritory)?\n",
    "What are the most successful product categories and subcategories (DimProductCategory, DimProductSubcategory)?\n",
    "Which sales channels (e.g., Resellers vs. Direct Sales) are performing best?\n",
    "\n",
    "\n",
    "<b>Research Questions:</b>\n",
    "What factors influence the success of sales promotions?\n",
    "Are there patterns in sales that align with external factors such as holidays or economic trends?\n",
    "Can we predict future sales performance using historical data (FactSalesTargets)?\n",
    "\n",
    "\n",
    "\n",
    "- Financial Analysis\n",
    "Business Questions\n",
    "What is the trend in revenue and profit over time?\n",
    "Which departments or organizations contribute the most to financial performance (DimOrganization, DimDepartmentGroup)?\n",
    "Can we identify patterns in financial anomalies or irregularities?\n"
   ],
   "id": "d4bb57420cec25a4"
  },
  {
   "metadata": {},
   "cell_type": "markdown",
   "source": [
    "- Product Analysis<br>\n",
    "\n",
    "<b>Business Questions</b>\n",
    "What are the most and least popular products?\n",
    "How does product performance vary across different categories and subcategories?\n",
    "Which products have the highest profitability margin?\n",
    "What are the top-selling products for specific sales territories?"
   ],
   "id": "4d3da2618c29bdc3"
  },
  {
   "metadata": {
    "ExecuteTime": {
     "end_time": "2025-01-07T05:05:39.786682Z",
     "start_time": "2025-01-07T05:05:39.356142Z"
    }
   },
   "cell_type": "code",
   "source": [
    "#What are the most and least popular products?\n",
    "## Join FactInternetSales with DimProduct to get product names\n",
    "sales_data = fact_sales.join(dim_product, fact_sales.ProductKey == dim_product.ProductKey)\n"
   ],
   "id": "881a514e309abfc7",
   "outputs": [],
   "execution_count": 12
  },
  {
   "metadata": {
    "ExecuteTime": {
     "end_time": "2025-01-07T05:06:33.988627Z",
     "start_time": "2025-01-07T05:06:33.769905Z"
    }
   },
   "cell_type": "code",
   "source": [
    "# Aggregate sales data to calculate total quantity sold for each product\n",
    "product_popularity = sales_data.groupBy(\"EnglishProductName\") \\\n",
    "    .agg(_sum(\"OrderQuantity\").alias(\"TotalQuantitySold\")) \\\n",
    "    .orderBy(desc(\"TotalQuantitySold\"))  # Sort in descending order\n"
   ],
   "id": "9a53b1f1348fa612",
   "outputs": [],
   "execution_count": 15
  },
  {
   "metadata": {
    "ExecuteTime": {
     "end_time": "2025-01-07T05:06:44.150350Z",
     "start_time": "2025-01-07T05:06:40.859141Z"
    }
   },
   "cell_type": "code",
   "source": [
    "# Most popular products\n",
    "most_popular = product_popularity.limit(10)  # Top 10 most popular products\n",
    "most_popular.show()"
   ],
   "id": "8937f0d6cf083c96",
   "outputs": [
    {
     "name": "stderr",
     "output_type": "stream",
     "text": [
      "[Stage 67:======================================>                   (2 + 1) / 3]\r"
     ]
    },
    {
     "name": "stdout",
     "output_type": "stream",
     "text": [
      "+--------------------+-----------------+\n",
      "|  EnglishProductName|TotalQuantitySold|\n",
      "+--------------------+-----------------+\n",
      "|Water Bottle - 30...|             4244|\n",
      "| Patch Kit/8 Patches|             3191|\n",
      "|  Mountain Tire Tube|             3095|\n",
      "|      Road Tire Tube|             2376|\n",
      "|Sport-100 Helmet,...|             2230|\n",
      "|        AWC Logo Cap|             2190|\n",
      "|Sport-100 Helmet,...|             2125|\n",
      "|Fender Set - Moun...|             2121|\n",
      "|Sport-100 Helmet,...|             2085|\n",
      "|Mountain Bottle Cage|             2025|\n",
      "+--------------------+-----------------+\n",
      "\n"
     ]
    },
    {
     "name": "stderr",
     "output_type": "stream",
     "text": [
      "                                                                                \r"
     ]
    }
   ],
   "execution_count": 16
  },
  {
   "metadata": {
    "ExecuteTime": {
     "end_time": "2025-01-07T05:07:00.413622Z",
     "start_time": "2025-01-07T05:06:59.559746Z"
    }
   },
   "cell_type": "code",
   "source": [
    "# Least popular products\n",
    "least_popular = product_popularity.orderBy(asc(\"TotalQuantitySold\")).limit(10)\n",
    "least_popular.show()"
   ],
   "id": "7211a47a053725c",
   "outputs": [
    {
     "name": "stdout",
     "output_type": "stream",
     "text": [
      "+--------------------+-----------------+\n",
      "|  EnglishProductName|TotalQuantitySold|\n",
      "+--------------------+-----------------+\n",
      "|Mountain-100 Silv...|               36|\n",
      "|Mountain-500 Silv...|               39|\n",
      "|Mountain-500 Blac...|               41|\n",
      "|Mountain-100 Silv...|               42|\n",
      "|Mountain-500 Silv...|               45|\n",
      "|Mountain-500 Silv...|               45|\n",
      "|Mountain-100 Blac...|               45|\n",
      "|Touring-3000 Yell...|               47|\n",
      "|Touring-3000 Blue...|               48|\n",
      "|Mountain-500 Silv...|               48|\n",
      "+--------------------+-----------------+\n",
      "\n"
     ]
    }
   ],
   "execution_count": 17
  },
  {
   "metadata": {},
   "cell_type": "code",
   "outputs": [],
   "execution_count": null,
   "source": [
    "# Save results to CSV\n",
    "most_popular.write.csv(\"MostPopularProducts.csv\", header=True)\n",
    "least_popular.write.csv(\"LeastPopularProducts.csv\", header=True)"
   ],
   "id": "546ca23b247a2be2"
  },
  {
   "metadata": {},
   "cell_type": "code",
   "outputs": [],
   "execution_count": null,
   "source": "",
   "id": "317bd4b4aa7fe4f"
  },
  {
   "metadata": {},
   "cell_type": "markdown",
   "source": "### Visualizing the Most and Least Popular Products",
   "id": "7e5de78ce1fdd582"
  },
  {
   "metadata": {
    "ExecuteTime": {
     "end_time": "2025-01-07T05:09:39.867012Z",
     "start_time": "2025-01-07T05:09:39.280356Z"
    }
   },
   "cell_type": "code",
   "source": [
    "# Convert PySpark DataFrames to Pandas\n",
    "most_popular_pd = most_popular.toPandas()\n",
    "least_popular_pd = least_popular.toPandas()\n",
    "\n",
    "# Visualization for Most Popular Products\n",
    "plt.figure(figsize=(10, 6))\n",
    "plt.bar(most_popular_pd['EnglishProductName'], most_popular_pd['TotalQuantitySold'], color='blue')\n",
    "plt.xticks(rotation=45, ha='right')\n",
    "plt.title('Top 10 Most Popular Products')\n",
    "plt.xlabel('Product Name')\n",
    "plt.ylabel('Total Quantity Sold')\n",
    "plt.tight_layout()\n",
    "plt.show()\n"
   ],
   "id": "505b143d4ea9c3af",
   "outputs": [
    {
     "data": {
      "text/plain": [
       "<Figure size 1000x600 with 1 Axes>"
      ],
      "image/png": "[encoded data removed]"
     },
     "metadata": {},
     "output_type": "display_data"
    }
   ],
   "execution_count": 19
  },
  {
   "metadata": {},
   "cell_type": "code",
   "outputs": [],
   "execution_count": null,
   "source": [
    "\n",
    "\n",
    "# Visualization for Least Popular Products\n",
    "plt.figure(figsize=(10, 6))\n",
    "plt.bar(least_popular_pd['EnglishProductName'], least_popular_pd['TotalQuantitySold'], color='red')\n",
    "plt.xticks(rotation=45, ha='right')\n",
    "plt.title('Top 10 Least Popular Products')\n",
    "plt.xlabel('Product Name')\n",
    "plt.ylabel('Total Quantity Sold')\n",
    "plt.tight_layout()\n",
    "plt.show()"
   ],
   "id": "5228b3b455c58af0"
  }
 ],
 "metadata": {
  "kernelspec": {
   "display_name": "Python 3",
   "language": "python",
   "name": "python3"
  },
  "language_info": {
   "codemirror_mode": {
    "name": "ipython",
    "version": 2
   },
   "file_extension": ".py",
   "mimetype": "text/x-python",
   "name": "python",
   "nbconvert_exporter": "python",
   "pygments_lexer": "ipython2",
   "version": "2.7.6"
  }
 },
 "nbformat": 4,
 "nbformat_minor": 5
}
