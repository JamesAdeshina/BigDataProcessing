{
 "cells": [
  {
   "metadata": {
    "ExecuteTime": {
     "end_time": "2025-01-08T16:59:03.656142Z",
     "start_time": "2025-01-08T16:59:03.629398Z"
    }
   },
   "cell_type": "code",
   "source": [
    "import matplotlib.pyplot as plt\n",
    "import seaborn as sns\n"
   ],
   "id": "19f6f51ac0c587cd",
   "outputs": [],
   "execution_count": 39
  },
  {
   "metadata": {
    "collapsed": true,
    "ExecuteTime": {
     "end_time": "2025-01-08T14:01:32.398252Z",
     "start_time": "2025-01-08T14:01:28.105212Z"
    }
   },
   "cell_type": "code",
   "outputs": [
    {
     "name": "stderr",
     "output_type": "stream",
     "text": [
      "                                                                                \r"
     ]
    }
   ],
   "execution_count": 2,
   "source": [
    "from pyspark.sql import SparkSession\n",
    "\n",
    "# Initialize Spark Session\n",
    "spark = SparkSession.builder.appName(\"DataMerge\").getOrCreate()\n",
    "\n",
    "# File paths\n",
    "files = {\n",
    "    \"DimProduct\": \"Dataset/DimProduct.csv\",\n",
    "    \"FactInternetSales\": \"Dataset/FactInternetSales.csv\",\n",
    "    \"DimCustomer\": \"Dataset/DimCustomer.csv\",\n",
    "    \"DimProductCategory\": \"Dataset/DimProductCategory.csv\",\n",
    "    \"DimProductSubcategory\": \"Dataset/DimProductSubcategory.csv\",\n",
    "    \"DimSalesTerritory\": \"Dataset/DimSalesTerritory.csv\",\n",
    "    \"DimDate\": \"Dataset/DimDate.csv\",\n",
    "}\n",
    "\n",
    "# Load datasets\n",
    "datasets = {name: spark.read.csv(path, header=True, inferSchema=True) for name, path in files.items()}"
   ],
   "id": "initial_id"
  },
  {
   "metadata": {
    "ExecuteTime": {
     "end_time": "2025-01-08T14:05:09.171487Z",
     "start_time": "2025-01-08T14:05:08.709294Z"
    }
   },
   "cell_type": "code",
   "source": [
    "# Display schema for all datasets\n",
    "for name, df in datasets.items():\n",
    "    print(f\"Schema for {name}:\")\n",
    "    df.printSchema()\n",
    "    print(\"\\n\" + \"=\"*50 + \"\\n\")\n"
   ],
   "id": "95c2d20eb7f76325",
   "outputs": [
    {
     "name": "stdout",
     "output_type": "stream",
     "text": [
      "Schema for DimProduct:\n",
      "root\n",
      " |-- ProductKey: integer (nullable = true)\n",
      " |-- ProductAlternateKey: string (nullable = true)\n",
      " |-- ProductSubcategoryKey: integer (nullable = true)\n",
      " |-- WeightUnitMeasureCode: string (nullable = true)\n",
      " |-- SizeUnitMeasureCode: string (nullable = true)\n",
      " |-- EnglishProductName: string (nullable = true)\n",
      " |-- SpanishProductName: string (nullable = true)\n",
      " |-- FrenchProductName: string (nullable = true)\n",
      " |-- StandardCost: double (nullable = true)\n",
      " |-- FinishedGoodsFlag: boolean (nullable = true)\n",
      " |-- Color: string (nullable = true)\n",
      " |-- SafetyStockLevel: integer (nullable = true)\n",
      " |-- ReorderPoint: integer (nullable = true)\n",
      " |-- ListPrice: double (nullable = true)\n",
      " |-- Size: string (nullable = true)\n",
      " |-- SizeRange: string (nullable = true)\n",
      " |-- Weight: double (nullable = true)\n",
      " |-- DaysToManufacture: integer (nullable = true)\n",
      " |-- ProductLine: string (nullable = true)\n",
      " |-- DealerPrice: double (nullable = true)\n",
      " |-- Class: string (nullable = true)\n",
      " |-- Style: string (nullable = true)\n",
      " |-- ModelName: string (nullable = true)\n",
      " |-- EnglishDescription: string (nullable = true)\n",
      " |-- StartDate: string (nullable = true)\n",
      " |-- EndDate: string (nullable = true)\n",
      " |-- Status: string (nullable = true)\n",
      "\n",
      "\n",
      "==================================================\n",
      "\n",
      "Schema for FactInternetSales:\n",
      "root\n",
      " |-- ProductKey: integer (nullable = true)\n",
      " |-- OrderDateKey: integer (nullable = true)\n",
      " |-- DueDateKey: integer (nullable = true)\n",
      " |-- ShipDateKey: integer (nullable = true)\n",
      " |-- CustomerKey: integer (nullable = true)\n",
      " |-- PromotionKey: integer (nullable = true)\n",
      " |-- CurrencyKey: integer (nullable = true)\n",
      " |-- SalesTerritoryKey: integer (nullable = true)\n",
      " |-- SalesOrderNumber: string (nullable = true)\n",
      " |-- SalesOrderLineNumber: integer (nullable = true)\n",
      " |-- RevisionNumber: integer (nullable = true)\n",
      " |-- OrderQuantity: integer (nullable = true)\n",
      " |-- UnitPrice: double (nullable = true)\n",
      " |-- ExtendedAmount: double (nullable = true)\n",
      " |-- UnitPriceDiscountPct: integer (nullable = true)\n",
      " |-- DiscountAmount: integer (nullable = true)\n",
      " |-- ProductStandardCost: double (nullable = true)\n",
      " |-- TotalProductCost: double (nullable = true)\n",
      " |-- SalesAmount: double (nullable = true)\n",
      " |-- TaxAmt: double (nullable = true)\n",
      " |-- Freight: double (nullable = true)\n",
      " |-- CarrierTrackingNumber: string (nullable = true)\n",
      " |-- CustomerPONumber: string (nullable = true)\n",
      " |-- OrderDate: timestamp (nullable = true)\n",
      " |-- DueDate: timestamp (nullable = true)\n",
      " |-- ShipDate: timestamp (nullable = true)\n",
      "\n",
      "\n",
      "==================================================\n",
      "\n",
      "Schema for DimCustomer:\n",
      "root\n",
      " |-- CustomerKey: integer (nullable = true)\n",
      " |-- GeographyKey: integer (nullable = true)\n",
      " |-- CustomerAlternateKey: string (nullable = true)\n",
      " |-- Title: string (nullable = true)\n",
      " |-- FirstName: string (nullable = true)\n",
      " |-- MiddleName: string (nullable = true)\n",
      " |-- LastName: string (nullable = true)\n",
      " |-- NameStyle: boolean (nullable = true)\n",
      " |-- BirthDate: date (nullable = true)\n",
      " |-- MaritalStatus: string (nullable = true)\n",
      " |-- Suffix: string (nullable = true)\n",
      " |-- Gender: string (nullable = true)\n",
      " |-- EmailAddress: string (nullable = true)\n",
      " |-- YearlyIncome: integer (nullable = true)\n",
      " |-- TotalChildren: integer (nullable = true)\n",
      " |-- NumberChildrenAtHome: integer (nullable = true)\n",
      " |-- EnglishEducation: string (nullable = true)\n",
      " |-- SpanishEducation: string (nullable = true)\n",
      " |-- FrenchEducation: string (nullable = true)\n",
      " |-- EnglishOccupation: string (nullable = true)\n",
      " |-- SpanishOccupation: string (nullable = true)\n",
      " |-- FrenchOccupation: string (nullable = true)\n",
      " |-- HouseOwnerFlag: integer (nullable = true)\n",
      " |-- NumberCarsOwned: integer (nullable = true)\n",
      " |-- AddressLine1: string (nullable = true)\n",
      " |-- AddressLine2: string (nullable = true)\n",
      " |-- Phone: string (nullable = true)\n",
      " |-- DateFirstPurchase: date (nullable = true)\n",
      " |-- CommuteDistance: string (nullable = true)\n",
      "\n",
      "\n",
      "==================================================\n",
      "\n",
      "Schema for DimProductCategory:\n",
      "root\n",
      " |-- ProductCategoryKey: integer (nullable = true)\n",
      " |-- ProductCategoryAlternateKey: integer (nullable = true)\n",
      " |-- EnglishProductCategoryName: string (nullable = true)\n",
      " |-- SpanishProductCategoryName: string (nullable = true)\n",
      " |-- FrenchProductCategoryName: string (nullable = true)\n",
      "\n",
      "\n",
      "==================================================\n",
      "\n",
      "Schema for DimProductSubcategory:\n",
      "root\n",
      " |-- ProductSubcategoryKey: integer (nullable = true)\n",
      " |-- ProductSubcategoryAlternateKey: integer (nullable = true)\n",
      " |-- EnglishProductSubcategoryName: string (nullable = true)\n",
      " |-- ProductCategoryKey: integer (nullable = true)\n",
      "\n",
      "\n",
      "==================================================\n",
      "\n",
      "Schema for DimSalesTerritory:\n",
      "root\n",
      " |-- SalesTerritoryKey: integer (nullable = true)\n",
      " |-- SalesTerritoryAlternateKey: integer (nullable = true)\n",
      " |-- SalesTerritoryRegion: string (nullable = true)\n",
      " |-- SalesTerritoryCountry: string (nullable = true)\n",
      " |-- SalesTerritoryGroup: string (nullable = true)\n",
      "\n",
      "\n",
      "==================================================\n",
      "\n",
      "Schema for DimDate:\n",
      "root\n",
      " |-- DateKey: integer (nullable = true)\n",
      " |-- FullDateAlternateKey: string (nullable = true)\n",
      " |-- DayNumberOfWeek: integer (nullable = true)\n",
      " |-- EnglishDayNameOfWeek: string (nullable = true)\n",
      " |-- SpanishDayNameOfWeek: string (nullable = true)\n",
      " |-- FrenchDayNameOfWeek: string (nullable = true)\n",
      " |-- DayNumberOfMonth: integer (nullable = true)\n",
      " |-- DayNumberOfYear: integer (nullable = true)\n",
      " |-- WeekNumberOfYear: integer (nullable = true)\n",
      " |-- EnglishMonthName: string (nullable = true)\n",
      " |-- SpanishMonthName: string (nullable = true)\n",
      " |-- FrenchMonthName: string (nullable = true)\n",
      " |-- MonthNumberOfYear: integer (nullable = true)\n",
      " |-- CalendarQuarter: integer (nullable = true)\n",
      " |-- CalendarYear: integer (nullable = true)\n",
      " |-- CalendarSemester: integer (nullable = true)\n",
      " |-- FiscalQuarter: integer (nullable = true)\n",
      " |-- FiscalYear: integer (nullable = true)\n",
      " |-- FiscalSemester: integer (nullable = true)\n",
      " |-- Max Year: string (nullable = true)\n",
      "\n",
      "\n",
      "==================================================\n",
      "\n"
     ]
    }
   ],
   "execution_count": 3
  },
  {
   "metadata": {
    "ExecuteTime": {
     "end_time": "2025-01-08T14:07:05.398770Z",
     "start_time": "2025-01-08T14:07:01.467070Z"
    }
   },
   "cell_type": "code",
   "source": [
    "from pyspark.sql.functions import col\n",
    "\n",
    "# Function to convert column names to snake_case\n",
    "def standardize_column_names(df):\n",
    "    for col_name in df.columns:\n",
    "        new_col_name = col_name[0].lower() + \"\".join([\"_\" + c.lower() if c.isupper() else c for c in col_name[1:]])\n",
    "        df = df.withColumnRenamed(col_name, new_col_name)\n",
    "    return df\n",
    "\n",
    "# Apply column renaming to all datasets\n",
    "datasets = {name: standardize_column_names(df) for name, df in datasets.items()}\n",
    "\n",
    "# Verify column name updates\n",
    "for name, df in datasets.items():\n",
    "    print(f\"Updated columns in {name}: {df.columns}\")\n"
   ],
   "id": "124706c592c3d73d",
   "outputs": [
    {
     "name": "stdout",
     "output_type": "stream",
     "text": [
      "Updated columns in DimProduct: ['product_key', 'product_alternate_key', 'product_subcategory_key', 'weight_unit_measure_code', 'size_unit_measure_code', 'english_product_name', 'spanish_product_name', 'french_product_name', 'standard_cost', 'finished_goods_flag', 'color', 'safety_stock_level', 'reorder_point', 'list_price', 'size', 'size_range', 'weight', 'days_to_manufacture', 'product_line', 'dealer_price', 'class', 'style', 'model_name', 'english_description', 'start_date', 'end_date', 'status']\n",
      "Updated columns in FactInternetSales: ['product_key', 'order_date_key', 'due_date_key', 'ship_date_key', 'customer_key', 'promotion_key', 'currency_key', 'sales_territory_key', 'sales_order_number', 'sales_order_line_number', 'revision_number', 'order_quantity', 'unit_price', 'extended_amount', 'unit_price_discount_pct', 'discount_amount', 'product_standard_cost', 'total_product_cost', 'sales_amount', 'tax_amt', 'freight', 'carrier_tracking_number', 'customer_p_o_number', 'order_date', 'due_date', 'ship_date']\n",
      "Updated columns in DimCustomer: ['customer_key', 'geography_key', 'customer_alternate_key', 'title', 'first_name', 'middle_name', 'last_name', 'name_style', 'birth_date', 'marital_status', 'suffix', 'gender', 'email_address', 'yearly_income', 'total_children', 'number_children_at_home', 'english_education', 'spanish_education', 'french_education', 'english_occupation', 'spanish_occupation', 'french_occupation', 'house_owner_flag', 'number_cars_owned', 'address_line1', 'address_line2', 'phone', 'date_first_purchase', 'commute_distance']\n",
      "Updated columns in DimProductCategory: ['product_category_key', 'product_category_alternate_key', 'english_product_category_name', 'spanish_product_category_name', 'french_product_category_name']\n",
      "Updated columns in DimProductSubcategory: ['product_subcategory_key', 'product_subcategory_alternate_key', 'english_product_subcategory_name', 'product_category_key']\n",
      "Updated columns in DimSalesTerritory: ['sales_territory_key', 'sales_territory_alternate_key', 'sales_territory_region', 'sales_territory_country', 'sales_territory_group']\n",
      "Updated columns in DimDate: ['date_key', 'full_date_alternate_key', 'day_number_of_week', 'english_day_name_of_week', 'spanish_day_name_of_week', 'french_day_name_of_week', 'day_number_of_month', 'day_number_of_year', 'week_number_of_year', 'english_month_name', 'spanish_month_name', 'french_month_name', 'month_number_of_year', 'calendar_quarter', 'calendar_year', 'calendar_semester', 'fiscal_quarter', 'fiscal_year', 'fiscal_semester', 'max _year']\n"
     ]
    }
   ],
   "execution_count": 4
  },
  {
   "metadata": {
    "ExecuteTime": {
     "end_time": "2025-01-08T14:15:34.016694Z",
     "start_time": "2025-01-08T14:15:33.917344Z"
    }
   },
   "cell_type": "code",
   "source": [
    "key_columns = {\n",
    "    \"FactInternetSales\": [\"product_key\", \"customer_key\", \"order_date_key\", \"sales_territory_key\"],\n",
    "    \"DimProduct\": [\"product_key\", \"product_subcategory_key\"],\n",
    "    \"DimProductSubcategory\": [\"product_subcategory_key\", \"product_category_key\"],\n",
    "    \"DimProductCategory\": [\"product_category_key\"],\n",
    "    \"DimCustomer\": [\"customer_key\"],\n",
    "    \"DimSalesTerritory\": [\"sales_territory_key\"],\n",
    "    \"DimDate\": [\"date_key\"]\n",
    "}\n",
    "\n",
    "# Print key column names for verification\n",
    "for dataset, keys in key_columns.items():\n",
    "    print(f\"Checking keys in {dataset}:\")\n",
    "    for key in keys:\n",
    "        if key in datasets[dataset].columns:\n",
    "            print(f\"{key} exists in {dataset}\")\n",
    "        else:\n",
    "            print(f\"{key} is MISSING in {dataset}!\")\n",
    "    print(\"\\n\" + \"=\"*50 + \"\\n\")\n"
   ],
   "id": "6471b1eac8addc60",
   "outputs": [
    {
     "name": "stdout",
     "output_type": "stream",
     "text": [
      "Checking keys in FactInternetSales:\n",
      "✅ product_key exists in FactInternetSales\n",
      "✅ customer_key exists in FactInternetSales\n",
      "✅ order_date_key exists in FactInternetSales\n",
      "✅ sales_territory_key exists in FactInternetSales\n",
      "\n",
      "==================================================\n",
      "\n",
      "Checking keys in DimProduct:\n",
      "✅ product_key exists in DimProduct\n",
      "✅ product_subcategory_key exists in DimProduct\n",
      "\n",
      "==================================================\n",
      "\n",
      "Checking keys in DimProductSubcategory:\n",
      "✅ product_subcategory_key exists in DimProductSubcategory\n",
      "✅ product_category_key exists in DimProductSubcategory\n",
      "\n",
      "==================================================\n",
      "\n",
      "Checking keys in DimProductCategory:\n",
      "✅ product_category_key exists in DimProductCategory\n",
      "\n",
      "==================================================\n",
      "\n",
      "Checking keys in DimCustomer:\n",
      "✅ customer_key exists in DimCustomer\n",
      "\n",
      "==================================================\n",
      "\n",
      "Checking keys in DimSalesTerritory:\n",
      "✅ sales_territory_key exists in DimSalesTerritory\n",
      "\n",
      "==================================================\n",
      "\n",
      "Checking keys in DimDate:\n",
      "✅ date_key exists in DimDate\n",
      "\n",
      "==================================================\n",
      "\n"
     ]
    }
   ],
   "execution_count": 5
  },
  {
   "metadata": {
    "ExecuteTime": {
     "end_time": "2025-01-08T14:18:21.935360Z",
     "start_time": "2025-01-08T14:18:18.392733Z"
    }
   },
   "cell_type": "code",
   "source": [
    "# Check data types of key columns in each dataset\n",
    "for dataset, keys in key_columns.items():\n",
    "    print(f\"Checking data types in {dataset}:\")\n",
    "    datasets[dataset].select(keys).printSchema()\n",
    "    print(\"\\n\" + \"=\"*50 + \"\\n\")\n"
   ],
   "id": "3d17b2fa25c91131",
   "outputs": [
    {
     "name": "stdout",
     "output_type": "stream",
     "text": [
      "Checking data types in FactInternetSales:\n",
      "root\n",
      " |-- product_key: integer (nullable = true)\n",
      " |-- customer_key: integer (nullable = true)\n",
      " |-- order_date_key: integer (nullable = true)\n",
      " |-- sales_territory_key: integer (nullable = true)\n",
      "\n",
      "\n",
      "==================================================\n",
      "\n",
      "Checking data types in DimProduct:\n",
      "root\n",
      " |-- product_key: integer (nullable = true)\n",
      " |-- product_subcategory_key: integer (nullable = true)\n",
      "\n",
      "\n",
      "==================================================\n",
      "\n",
      "Checking data types in DimProductSubcategory:\n",
      "root\n",
      " |-- product_subcategory_key: integer (nullable = true)\n",
      " |-- product_category_key: integer (nullable = true)\n",
      "\n",
      "\n",
      "==================================================\n",
      "\n",
      "Checking data types in DimProductCategory:\n",
      "root\n",
      " |-- product_category_key: integer (nullable = true)\n",
      "\n",
      "\n",
      "==================================================\n",
      "\n",
      "Checking data types in DimCustomer:\n",
      "root\n",
      " |-- customer_key: integer (nullable = true)\n",
      "\n",
      "\n",
      "==================================================\n",
      "\n",
      "Checking data types in DimSalesTerritory:\n",
      "root\n",
      " |-- sales_territory_key: integer (nullable = true)\n",
      "\n",
      "\n",
      "==================================================\n",
      "\n",
      "Checking data types in DimDate:\n",
      "root\n",
      " |-- date_key: integer (nullable = true)\n",
      "\n",
      "\n",
      "==================================================\n",
      "\n"
     ]
    }
   ],
   "execution_count": 6
  },
  {
   "metadata": {
    "ExecuteTime": {
     "end_time": "2025-01-08T14:19:25.971284Z",
     "start_time": "2025-01-08T14:19:13.769704Z"
    }
   },
   "cell_type": "code",
   "source": [
    "from pyspark.sql.functions import col, count\n",
    "\n",
    "# Check for NULL values in key columns\n",
    "for dataset, keys in key_columns.items():\n",
    "    print(f\"Checking for NULL values in {dataset}:\")\n",
    "    for key in keys:\n",
    "        null_count = datasets[dataset].filter(col(key).isNull()).count()\n",
    "        print(f\"🔍 {key} has {null_count} NULL values in {dataset}\")\n",
    "    print(\"\\n\" + \"=\"*50 + \"\\n\")\n"
   ],
   "id": "eb16e208eff2b591",
   "outputs": [
    {
     "name": "stdout",
     "output_type": "stream",
     "text": [
      "Checking for NULL values in FactInternetSales:\n"
     ]
    },
    {
     "name": "stderr",
     "output_type": "stream",
     "text": [
      "                                                                                \r"
     ]
    },
    {
     "name": "stdout",
     "output_type": "stream",
     "text": [
      "🔍 product_key has 0 NULL values in FactInternetSales\n"
     ]
    },
    {
     "name": "stderr",
     "output_type": "stream",
     "text": [
      "                                                                                \r"
     ]
    },
    {
     "name": "stdout",
     "output_type": "stream",
     "text": [
      "🔍 customer_key has 0 NULL values in FactInternetSales\n",
      "🔍 order_date_key has 0 NULL values in FactInternetSales\n",
      "🔍 sales_territory_key has 0 NULL values in FactInternetSales\n",
      "\n",
      "==================================================\n",
      "\n",
      "Checking for NULL values in DimProduct:\n",
      "🔍 product_key has 0 NULL values in DimProduct\n",
      "🔍 product_subcategory_key has 0 NULL values in DimProduct\n",
      "\n",
      "==================================================\n",
      "\n",
      "Checking for NULL values in DimProductSubcategory:\n",
      "🔍 product_subcategory_key has 0 NULL values in DimProductSubcategory\n",
      "🔍 product_category_key has 0 NULL values in DimProductSubcategory\n",
      "\n",
      "==================================================\n",
      "\n",
      "Checking for NULL values in DimProductCategory:\n",
      "🔍 product_category_key has 0 NULL values in DimProductCategory\n",
      "\n",
      "==================================================\n",
      "\n",
      "Checking for NULL values in DimCustomer:\n",
      "🔍 customer_key has 0 NULL values in DimCustomer\n",
      "\n",
      "==================================================\n",
      "\n",
      "Checking for NULL values in DimSalesTerritory:\n",
      "🔍 sales_territory_key has 0 NULL values in DimSalesTerritory\n",
      "\n",
      "==================================================\n",
      "\n",
      "Checking for NULL values in DimDate:\n",
      "🔍 date_key has 0 NULL values in DimDate\n",
      "\n",
      "==================================================\n",
      "\n"
     ]
    }
   ],
   "execution_count": 7
  },
  {
   "metadata": {
    "ExecuteTime": {
     "end_time": "2025-01-08T14:20:59.109870Z",
     "start_time": "2025-01-08T14:20:53.266744Z"
    }
   },
   "cell_type": "code",
   "source": [
    "# Start with the fact table\n",
    "fact_sales = datasets[\"FactInternetSales\"]\n",
    "\n",
    "# Join FactInternetSales with DimProduct\n",
    "fact_sales = fact_sales.join(datasets[\"DimProduct\"], \"product_key\", \"left\")\n",
    "\n",
    "# Join FactInternetSales with DimCustomer\n",
    "fact_sales = fact_sales.join(datasets[\"DimCustomer\"], \"customer_key\", \"left\")\n",
    "\n",
    "# Join FactInternetSales with DimDate\n",
    "fact_sales = fact_sales.join(datasets[\"DimDate\"], fact_sales.order_date_key == datasets[\"DimDate\"].date_key, \"left\").drop(\"date_key\")\n",
    "\n",
    "# Join FactInternetSales with DimSalesTerritory\n",
    "fact_sales = fact_sales.join(datasets[\"DimSalesTerritory\"], \"sales_territory_key\", \"left\")\n",
    "\n",
    "# Join DimProduct with DimProductSubcategory\n",
    "dim_product = datasets[\"DimProduct\"].join(datasets[\"DimProductSubcategory\"], \"product_subcategory_key\", \"left\")\n",
    "\n",
    "# Join DimProductSubcategory with DimProductCategory\n",
    "dim_product = dim_product.join(datasets[\"DimProductCategory\"], \"product_category_key\", \"left\")\n",
    "\n",
    "# Display final merged fact_sales dataset\n",
    "fact_sales.show(5)\n"
   ],
   "id": "b06832ce57a62fb0",
   "outputs": [
    {
     "name": "stderr",
     "output_type": "stream",
     "text": [
      "25/01/08 14:20:54 WARN SparkStringUtils: Truncated the string representation of a plan since it was too large. This behavior can be adjusted by setting 'spark.sql.debug.maxToStringFields'.\n",
      "                                                                                \r"
     ]
    },
    {
     "name": "stdout",
     "output_type": "stream",
     "text": [
      "+-------------------+------------+-----------+--------------+------------+-------------+-------------+------------+------------------+-----------------------+---------------+--------------+----------+---------------+-----------------------+---------------+---------------------+------------------+------------+--------+-------+-----------------------+-------------------+-------------------+-------------------+-------------------+---------------------+-----------------------+------------------------+----------------------+--------------------+--------------------+--------------------+-------------+-------------------+------+------------------+-------------+----------+----+----------+------+-------------------+------------+------------+-----+-----+------------+--------------------+----------------+----------------+------+-------------+----------------------+-----+----------+-----------+---------+----------+----------+--------------+------+------+--------------------+-------------+--------------+-----------------------+-----------------+--------------------+----------------+------------------+------------------+-----------------+----------------+-----------------+-------------------+-------------+-------------------+-------------------+----------------+-----------------------+------------------+------------------------+------------------------+-----------------------+-------------------+------------------+-------------------+------------------+------------------+-----------------+--------------------+----------------+-------------+-----------------+--------------+-----------+---------------+----------+-----------------------------+----------------------+-----------------------+---------------------+\n",
      "|sales_territory_key|customer_key|product_key|order_date_key|due_date_key|ship_date_key|promotion_key|currency_key|sales_order_number|sales_order_line_number|revision_number|order_quantity|unit_price|extended_amount|unit_price_discount_pct|discount_amount|product_standard_cost|total_product_cost|sales_amount| tax_amt|freight|carrier_tracking_number|customer_p_o_number|         order_date|           due_date|          ship_date|product_alternate_key|product_subcategory_key|weight_unit_measure_code|size_unit_measure_code|english_product_name|spanish_product_name| french_product_name|standard_cost|finished_goods_flag| color|safety_stock_level|reorder_point|list_price|size|size_range|weight|days_to_manufacture|product_line|dealer_price|class|style|  model_name| english_description|      start_date|        end_date|status|geography_key|customer_alternate_key|title|first_name|middle_name|last_name|name_style|birth_date|marital_status|suffix|gender|       email_address|yearly_income|total_children|number_children_at_home|english_education|   spanish_education|french_education|english_occupation|spanish_occupation|french_occupation|house_owner_flag|number_cars_owned|      address_line1|address_line2|              phone|date_first_purchase|commute_distance|full_date_alternate_key|day_number_of_week|english_day_name_of_week|spanish_day_name_of_week|french_day_name_of_week|day_number_of_month|day_number_of_year|week_number_of_year|english_month_name|spanish_month_name|french_month_name|month_number_of_year|calendar_quarter|calendar_year|calendar_semester|fiscal_quarter|fiscal_year|fiscal_semester| max _year|sales_territory_alternate_key|sales_territory_region|sales_territory_country|sales_territory_group|\n",
      "+-------------------+------------+-----------+--------------+------------+-------------+-------------+------------+------------------+-----------------------+---------------+--------------+----------+---------------+-----------------------+---------------+---------------------+------------------+------------+--------+-------+-----------------------+-------------------+-------------------+-------------------+-------------------+---------------------+-----------------------+------------------------+----------------------+--------------------+--------------------+--------------------+-------------+-------------------+------+------------------+-------------+----------+----+----------+------+-------------------+------------+------------+-----+-----+------------+--------------------+----------------+----------------+------+-------------+----------------------+-----+----------+-----------+---------+----------+----------+--------------+------+------+--------------------+-------------+--------------+-----------------------+-----------------+--------------------+----------------+------------------+------------------+-----------------+----------------+-----------------+-------------------+-------------+-------------------+-------------------+----------------+-----------------------+------------------+------------------------+------------------------+-----------------------+-------------------+------------------+-------------------+------------------+------------------+-----------------+--------------------+----------------+-------------+-----------------+--------------+-----------+---------------+----------+-----------------------------+----------------------+-----------------------+---------------------+\n",
      "|                  6|       21768|        310|      20101229|    20110110|     20110105|            1|          19|           SO43697|                      1|              1|             1|   3578.27|        3578.27|                      0|              0|            2171.2942|         2171.2942|     3578.27|286.2616|89.4568|                   NULL|               NULL|2010-12-29 00:00:00|2011-01-10 00:00:00|2011-01-05 00:00:00|           BK-R93R-62|                      2|                     LB |                   CM |    Road-150 Red, 62|Carretera: 150, r...|V�lo de route 150...|    2171.2942|               true|   Red|               100|           75|   3578.27|  62|  60-62 CM|  15.0|                  4|          R |    2146.962|   H |   U |    Road-150|This bike is ridd...|01/07/2005 00:00|30/06/2002 00:00|  NULL|           53|            AW00021768| NULL|      Cole|          A|   Watson|     false|1946-08-22|             S|  NULL|     M|cole1@adventure-w...|        70000|             5|                      0|        Bachelors|        Licenciatura|         Bac + 4|        Management|           Gesti�n|        Direction|               1|                3|   601 Asilomar Dr.|         NULL|       110-555-0129|         2005-07-01|       10+ Miles|             29/12/2010|                 4|               Wednesday|               Mi�rcoles|               Mercredi|                 29|               363|                 53|          December|         Diciembre|         D�cembre|                  12|               4|         2010|                2|             2|       2011|              1|01/01/2008|                            6|                Canada|                 Canada|        North America|\n",
      "|                  7|       28389|        346|      20101229|    20110110|     20110105|            1|          39|           SO43698|                      1|              1|             1|   3399.99|        3399.99|                      0|              0|            1912.1544|         1912.1544|     3399.99|271.9992|84.9998|                   NULL|               NULL|2010-12-29 00:00:00|2011-01-10 00:00:00|2011-01-05 00:00:00|           BK-M82S-44|                      1|                     LB |                   CM |Mountain-100 Silv...|Monta�a: 100, pla...|  VTT 100 argent, 44|    1912.1544|               true|Silver|               100|           75|   3399.99|  44|  42-46 CM| 21.13|                  4|          M |    2039.994|   H |   U |Mountain-100|Top-of-the-line c...|01/07/2005 00:00|30/06/2002 00:00|  NULL|          222|            AW00028389| NULL|   Rachael|          M| Martinez|     false|1964-12-18|             S|  NULL|     F|rachael16@adventu...|        20000|             3|                      3|      High School|Educaci�n secundaria|         Bac + 2|            Manual|            Obrero|          Ouvrier|               0|                0| 14, avenue du Port|         NULL|1 (11) 500 555-0190|         2005-07-01|       0-1 Miles|             29/12/2010|                 4|               Wednesday|               Mi�rcoles|               Mercredi|                 29|               363|                 53|          December|         Diciembre|         D�cembre|                  12|               4|         2010|                2|             2|       2011|              1|01/01/2008|                            7|                France|                 France|               Europe|\n",
      "|                  1|       25863|        346|      20101229|    20110110|     20110105|            1|         100|           SO43699|                      1|              1|             1|   3399.99|        3399.99|                      0|              0|            1912.1544|         1912.1544|     3399.99|271.9992|84.9998|                   NULL|               NULL|2010-12-29 00:00:00|2011-01-10 00:00:00|2011-01-05 00:00:00|           BK-M82S-44|                      1|                     LB |                   CM |Mountain-100 Silv...|Monta�a: 100, pla...|  VTT 100 argent, 44|    1912.1544|               true|Silver|               100|           75|   3399.99|  44|  42-46 CM| 21.13|                  4|          M |    2039.994|   H |   U |Mountain-100|Top-of-the-line c...|01/07/2005 00:00|30/06/2002 00:00|  NULL|          543|            AW00025863| NULL|    Sydney|          S|   Wright|     false|1946-12-03|             S|  NULL|     F|sydney61@adventur...|        40000|             5|                      0|      High School|Educaci�n secundaria|         Bac + 2|      Professional|       Profesional|            Cadre|               1|                3|4193 E. 28th Street|         NULL|       285-555-0113|         2005-07-01|       10+ Miles|             29/12/2010|                 4|               Wednesday|               Mi�rcoles|               Mercredi|                 29|               363|                 53|          December|         Diciembre|         D�cembre|                  12|               4|         2010|                2|             2|       2011|              1|01/01/2008|                            1|             Northwest|          United States|        North America|\n",
      "|                  4|       14501|        336|      20101229|    20110110|     20110105|            1|         100|           SO43700|                      1|              1|             1|  699.0982|       699.0982|                      0|              0|             413.1463|          413.1463|    699.0982| 55.9279|17.4775|                   NULL|               NULL|2010-12-29 00:00:00|2011-01-10 00:00:00|2011-01-05 00:00:00|           BK-R50B-62|                      2|                     LB |                   CM |  Road-650 Black, 62|Carretera: 650, n...|V�lo de route 650...|     413.1463|               true| Black|               100|           75|  699.0982|  62|  60-62 CM|  20.0|                  4|          R |    419.4589|   L |   U |    Road-650|Value-priced bike...|01/07/2005 00:00|30/06/2002 00:00|  NULL|          300|            AW00014501| NULL|     Ruben|       NULL|   Prasad|     false|1938-05-13|             M|  NULL|     M|ruben10@adventure...|        80000|             4|                      0|  Graduate Degree|Estudios de postg...|         Bac + 3|        Management|           Gesti�n|        Direction|               1|                2|  249 Alexander Pl.|         NULL|       175-555-0159|         2005-07-01|       1-2 Miles|             29/12/2010|                 4|               Wednesday|               Mi�rcoles|               Mercredi|                 29|               363|                 53|          December|         Diciembre|         D�cembre|                  12|               4|         2010|                2|             2|       2011|              1|01/01/2008|                            4|             Southwest|          United States|        North America|\n",
      "|                  9|       11003|        346|      20101229|    20110110|     20110105|            1|           6|           SO43701|                      1|              1|             1|   3399.99|        3399.99|                      0|              0|            1912.1544|         1912.1544|     3399.99|271.9992|84.9998|                   NULL|               NULL|2010-12-29 00:00:00|2011-01-10 00:00:00|2011-01-05 00:00:00|           BK-M82S-44|                      1|                     LB |                   CM |Mountain-100 Silv...|Monta�a: 100, pla...|  VTT 100 argent, 44|    1912.1544|               true|Silver|               100|           75|   3399.99|  44|  42-46 CM| 21.13|                  4|          M |    2039.994|   H |   U |Mountain-100|Top-of-the-line c...|01/07/2005 00:00|30/06/2002 00:00|  NULL|           11|            AW00011003| NULL|   Christy|       NULL|      Zhu|     false|1968-02-15|             S|  NULL|     F|christy12@adventu...|        70000|             0|                      0|        Bachelors|        Licenciatura|         Bac + 4|      Professional|       Profesional|            Cadre|               0|                1|   1825 Village Pl.|         NULL|1 (11) 500 555-0162|         2005-07-01|      5-10 Miles|             29/12/2010|                 4|               Wednesday|               Mi�rcoles|               Mercredi|                 29|               363|                 53|          December|         Diciembre|         D�cembre|                  12|               4|         2010|                2|             2|       2011|              1|01/01/2008|                            9|             Australia|              Australia|              Pacific|\n",
      "+-------------------+------------+-----------+--------------+------------+-------------+-------------+------------+------------------+-----------------------+---------------+--------------+----------+---------------+-----------------------+---------------+---------------------+------------------+------------+--------+-------+-----------------------+-------------------+-------------------+-------------------+-------------------+---------------------+-----------------------+------------------------+----------------------+--------------------+--------------------+--------------------+-------------+-------------------+------+------------------+-------------+----------+----+----------+------+-------------------+------------+------------+-----+-----+------------+--------------------+----------------+----------------+------+-------------+----------------------+-----+----------+-----------+---------+----------+----------+--------------+------+------+--------------------+-------------+--------------+-----------------------+-----------------+--------------------+----------------+------------------+------------------+-----------------+----------------+-----------------+-------------------+-------------+-------------------+-------------------+----------------+-----------------------+------------------+------------------------+------------------------+-----------------------+-------------------+------------------+-------------------+------------------+------------------+-----------------+--------------------+----------------+-------------+-----------------+--------------+-----------+---------------+----------+-----------------------------+----------------------+-----------------------+---------------------+\n",
      "only showing top 5 rows\n",
      "\n"
     ]
    }
   ],
   "execution_count": 8
  },
  {
   "metadata": {
    "ExecuteTime": {
     "end_time": "2025-01-08T14:24:07.715026Z",
     "start_time": "2025-01-08T14:24:03.561929Z"
    }
   },
   "cell_type": "code",
   "source": [
    "# Check row count before and after joining\n",
    "fact_sales_count = datasets[\"FactInternetSales\"].count()\n",
    "merged_fact_sales_count = fact_sales.count()\n",
    "\n",
    "print(f\"✅ FactInternetSales before join: {fact_sales_count} rows\")\n",
    "print(f\"✅ Merged dataset after join: {merged_fact_sales_count} rows\")\n"
   ],
   "id": "d600665eee228466",
   "outputs": [
    {
     "name": "stdout",
     "output_type": "stream",
     "text": [
      "✅ FactInternetSales before join: 60398 rows\n",
      "✅ Merged dataset after join: 60398 rows\n"
     ]
    }
   ],
   "execution_count": 9
  },
  {
   "metadata": {
    "ExecuteTime": {
     "end_time": "2025-01-08T14:26:56.358603Z",
     "start_time": "2025-01-08T14:26:28.977181Z"
    }
   },
   "cell_type": "code",
   "source": [
    "# Check for duplicate rows\n",
    "duplicate_count = fact_sales.groupBy(fact_sales.columns).count().filter(\"count > 1\").count()\n",
    "print(f\"🔍 Duplicate rows in merged dataset: {duplicate_count}\")\n"
   ],
   "id": "2ac503c4e501ae8",
   "outputs": [
    {
     "name": "stderr",
     "output_type": "stream",
     "text": [
      "[Stage 85:>                                                         (0 + 4) / 4]\r"
     ]
    },
    {
     "name": "stdout",
     "output_type": "stream",
     "text": [
      "🔍 Duplicate rows in merged dataset: 0\n"
     ]
    },
    {
     "name": "stderr",
     "output_type": "stream",
     "text": [
      "                                                                                \r"
     ]
    }
   ],
   "execution_count": 10
  },
  {
   "metadata": {
    "ExecuteTime": {
     "end_time": "2025-01-08T14:34:31.652260Z",
     "start_time": "2025-01-08T14:34:19.839556Z"
    }
   },
   "cell_type": "code",
   "source": [
    "from pyspark.sql.functions import col\n",
    "\n",
    "# List of important columns to check\n",
    "important_columns = [\"product_key\", \"customer_key\", \"order_date_key\", \"sales_territory_key\", \"sales_amount\"]\n",
    "\n",
    "# Check for NULL values in important columns\n",
    "for col_name in important_columns:\n",
    "    null_count = fact_sales.filter(col(col_name).isNull()).count()\n",
    "    print(f\"🔍 {col_name} has {null_count} NULL values\")\n"
   ],
   "id": "e916bba0c0fa316d",
   "outputs": [
    {
     "name": "stderr",
     "output_type": "stream",
     "text": [
      "                                                                                \r"
     ]
    },
    {
     "name": "stdout",
     "output_type": "stream",
     "text": [
      "🔍 product_key has 0 NULL values\n",
      "🔍 customer_key has 0 NULL values\n",
      "🔍 order_date_key has 0 NULL values\n",
      "🔍 sales_territory_key has 0 NULL values\n"
     ]
    },
    {
     "name": "stderr",
     "output_type": "stream",
     "text": [
      "[Stage 121:>                                                        (0 + 3) / 3]\r"
     ]
    },
    {
     "name": "stdout",
     "output_type": "stream",
     "text": [
      "🔍 sales_amount has 0 NULL values\n"
     ]
    },
    {
     "name": "stderr",
     "output_type": "stream",
     "text": [
      "                                                                                \r"
     ]
    }
   ],
   "execution_count": 11
  },
  {
   "metadata": {
    "ExecuteTime": {
     "end_time": "2025-01-08T14:39:32.540662Z",
     "start_time": "2025-01-08T14:39:23.752519Z"
    }
   },
   "cell_type": "code",
   "source": "fact_sales.select(\"order_quantity\", \"unit_price\", \"sales_amount\", \"tax_amt\", \"freight\").describe().show()\n",
   "id": "d268d1476e2be77d",
   "outputs": [
    {
     "name": "stderr",
     "output_type": "stream",
     "text": [
      "[Stage 128:>                                                        (0 + 3) / 3]\r"
     ]
    },
    {
     "name": "stdout",
     "output_type": "stream",
     "text": [
      "+-------+--------------+-----------------+-----------------+-----------------+------------------+\n",
      "|summary|order_quantity|       unit_price|     sales_amount|          tax_amt|           freight|\n",
      "+-------+--------------+-----------------+-----------------+-----------------+------------------+\n",
      "|  count|         60398|            60398|            60398|            60398|             60398|\n",
      "|   mean|           1.0|486.0869105053777|486.0869105053777|38.88695370873952|12.152217111493709|\n",
      "| stddev|           0.0| 928.489891980807| 928.489891980807|74.27919255248155|23.212248232767838|\n",
      "|    min|             1|             2.29|             2.29|           0.1832|            0.0573|\n",
      "|    max|             1|          3578.27|          3578.27|         286.2616|           89.4568|\n",
      "+-------+--------------+-----------------+-----------------+-----------------+------------------+\n",
      "\n"
     ]
    },
    {
     "name": "stderr",
     "output_type": "stream",
     "text": [
      "                                                                                \r"
     ]
    }
   ],
   "execution_count": 12
  },
  {
   "metadata": {},
   "cell_type": "markdown",
   "source": "### Questions",
   "id": "72b67d4cd70792c3"
  },
  {
   "metadata": {
    "ExecuteTime": {
     "end_time": "2025-01-08T15:12:35.547520Z",
     "start_time": "2025-01-08T15:12:33.949068Z"
    }
   },
   "cell_type": "code",
   "source": [
    "\n",
    "from pyspark.sql.functions import sum, expr\n",
    "\n",
    "product_analysis = fact_sales.groupBy(\"english_product_name\") \\\n",
    "    .agg(\n",
    "        sum(\"sales_amount\").alias(\"total_sales\"),\n",
    "        sum(expr(\"sales_amount - total_product_cost\")).alias(\"profit_margin\")\n",
    "    ) \\\n",
    "    .orderBy(\"total_sales\", ascending=False)\n",
    "\n",
    "product_analysis.show(10)"
   ],
   "id": "2ca0bb3968f7c730",
   "outputs": [
    {
     "name": "stdout",
     "output_type": "stream",
     "text": [
      "+--------------------+------------------+------------------+\n",
      "|english_product_name|       total_sales|     profit_margin|\n",
      "+--------------------+------------------+------------------+\n",
      "|Mountain-200 Blac...|1373469.5481999982| 626621.5735000019|\n",
      "|Mountain-200 Blac...| 1363142.093399998| 621759.6083000018|\n",
      "|Mountain-200 Silv...| 1339462.790399998| 610864.4347999995|\n",
      "|Mountain-200 Silv...|1301100.0983999984| 593490.4727999989|\n",
      "|Mountain-200 Blac...| 1294866.141199998| 590477.4604000015|\n",
      "|Mountain-200 Silv...| 1257434.572799998| 573511.9375999994|\n",
      "|    Road-150 Red, 48|1205876.9900000044|474150.84460000356|\n",
      "|    Road-150 Red, 62|1202298.7200000044|472743.86880000355|\n",
      "|    Road-150 Red, 52|1080637.5400000038|424906.69160000305|\n",
      "|    Road-150 Red, 56|1055589.6500000036|415057.86100000294|\n",
      "+--------------------+------------------+------------------+\n",
      "only showing top 10 rows\n",
      "\n"
     ]
    }
   ],
   "execution_count": 14
  },
  {
   "metadata": {
    "ExecuteTime": {
     "end_time": "2025-01-08T15:21:04.983402Z",
     "start_time": "2025-01-08T15:21:04.701317Z"
    }
   },
   "cell_type": "code",
   "outputs": [
    {
     "name": "stdout",
     "output_type": "stream",
     "text": [
      "root\n",
      " |-- sales_territory_key: integer (nullable = true)\n",
      " |-- customer_key: integer (nullable = true)\n",
      " |-- product_key: integer (nullable = true)\n",
      " |-- order_date_key: integer (nullable = true)\n",
      " |-- due_date_key: integer (nullable = true)\n",
      " |-- ship_date_key: integer (nullable = true)\n",
      " |-- promotion_key: integer (nullable = true)\n",
      " |-- currency_key: integer (nullable = true)\n",
      " |-- sales_order_number: string (nullable = true)\n",
      " |-- sales_order_line_number: integer (nullable = true)\n",
      " |-- revision_number: integer (nullable = true)\n",
      " |-- order_quantity: integer (nullable = true)\n",
      " |-- unit_price: double (nullable = true)\n",
      " |-- extended_amount: double (nullable = true)\n",
      " |-- unit_price_discount_pct: integer (nullable = true)\n",
      " |-- discount_amount: integer (nullable = true)\n",
      " |-- product_standard_cost: double (nullable = true)\n",
      " |-- total_product_cost: double (nullable = true)\n",
      " |-- sales_amount: double (nullable = true)\n",
      " |-- tax_amt: double (nullable = true)\n",
      " |-- freight: double (nullable = true)\n",
      " |-- carrier_tracking_number: string (nullable = true)\n",
      " |-- customer_p_o_number: string (nullable = true)\n",
      " |-- order_date: timestamp (nullable = true)\n",
      " |-- due_date: timestamp (nullable = true)\n",
      " |-- ship_date: timestamp (nullable = true)\n",
      " |-- product_alternate_key: string (nullable = true)\n",
      " |-- product_subcategory_key: integer (nullable = true)\n",
      " |-- weight_unit_measure_code: string (nullable = true)\n",
      " |-- size_unit_measure_code: string (nullable = true)\n",
      " |-- english_product_name: string (nullable = true)\n",
      " |-- spanish_product_name: string (nullable = true)\n",
      " |-- french_product_name: string (nullable = true)\n",
      " |-- standard_cost: double (nullable = true)\n",
      " |-- finished_goods_flag: boolean (nullable = true)\n",
      " |-- color: string (nullable = true)\n",
      " |-- safety_stock_level: integer (nullable = true)\n",
      " |-- reorder_point: integer (nullable = true)\n",
      " |-- list_price: double (nullable = true)\n",
      " |-- size: string (nullable = true)\n",
      " |-- size_range: string (nullable = true)\n",
      " |-- weight: double (nullable = true)\n",
      " |-- days_to_manufacture: integer (nullable = true)\n",
      " |-- product_line: string (nullable = true)\n",
      " |-- dealer_price: double (nullable = true)\n",
      " |-- class: string (nullable = true)\n",
      " |-- style: string (nullable = true)\n",
      " |-- model_name: string (nullable = true)\n",
      " |-- english_description: string (nullable = true)\n",
      " |-- start_date: string (nullable = true)\n",
      " |-- end_date: string (nullable = true)\n",
      " |-- status: string (nullable = true)\n",
      " |-- geography_key: integer (nullable = true)\n",
      " |-- customer_alternate_key: string (nullable = true)\n",
      " |-- title: string (nullable = true)\n",
      " |-- first_name: string (nullable = true)\n",
      " |-- middle_name: string (nullable = true)\n",
      " |-- last_name: string (nullable = true)\n",
      " |-- name_style: boolean (nullable = true)\n",
      " |-- birth_date: date (nullable = true)\n",
      " |-- marital_status: string (nullable = true)\n",
      " |-- suffix: string (nullable = true)\n",
      " |-- gender: string (nullable = true)\n",
      " |-- email_address: string (nullable = true)\n",
      " |-- yearly_income: integer (nullable = true)\n",
      " |-- total_children: integer (nullable = true)\n",
      " |-- number_children_at_home: integer (nullable = true)\n",
      " |-- english_education: string (nullable = true)\n",
      " |-- spanish_education: string (nullable = true)\n",
      " |-- french_education: string (nullable = true)\n",
      " |-- english_occupation: string (nullable = true)\n",
      " |-- spanish_occupation: string (nullable = true)\n",
      " |-- french_occupation: string (nullable = true)\n",
      " |-- house_owner_flag: integer (nullable = true)\n",
      " |-- number_cars_owned: integer (nullable = true)\n",
      " |-- address_line1: string (nullable = true)\n",
      " |-- address_line2: string (nullable = true)\n",
      " |-- phone: string (nullable = true)\n",
      " |-- date_first_purchase: date (nullable = true)\n",
      " |-- commute_distance: string (nullable = true)\n",
      " |-- full_date_alternate_key: string (nullable = true)\n",
      " |-- day_number_of_week: integer (nullable = true)\n",
      " |-- english_day_name_of_week: string (nullable = true)\n",
      " |-- spanish_day_name_of_week: string (nullable = true)\n",
      " |-- french_day_name_of_week: string (nullable = true)\n",
      " |-- day_number_of_month: integer (nullable = true)\n",
      " |-- day_number_of_year: integer (nullable = true)\n",
      " |-- week_number_of_year: integer (nullable = true)\n",
      " |-- english_month_name: string (nullable = true)\n",
      " |-- spanish_month_name: string (nullable = true)\n",
      " |-- french_month_name: string (nullable = true)\n",
      " |-- month_number_of_year: integer (nullable = true)\n",
      " |-- calendar_quarter: integer (nullable = true)\n",
      " |-- calendar_year: integer (nullable = true)\n",
      " |-- calendar_semester: integer (nullable = true)\n",
      " |-- fiscal_quarter: integer (nullable = true)\n",
      " |-- fiscal_year: integer (nullable = true)\n",
      " |-- fiscal_semester: integer (nullable = true)\n",
      " |-- max _year: string (nullable = true)\n",
      " |-- sales_territory_alternate_key: integer (nullable = true)\n",
      " |-- sales_territory_region: string (nullable = true)\n",
      " |-- sales_territory_country: string (nullable = true)\n",
      " |-- sales_territory_group: string (nullable = true)\n",
      "\n"
     ]
    }
   ],
   "execution_count": 19,
   "source": "fact_sales.printSchema()",
   "id": "fd879aff64215001"
  },
  {
   "metadata": {
    "ExecuteTime": {
     "end_time": "2025-01-08T15:29:48.836194Z",
     "start_time": "2025-01-08T15:29:48.742502Z"
    }
   },
   "cell_type": "code",
   "source": [
    "# Check if english_product_category_name exists in the dataset\n",
    "fact_sales.columns\n"
   ],
   "id": "2b03d5ceaeb10913",
   "outputs": [
    {
     "data": {
      "text/plain": [
       "['sales_territory_key',\n",
       " 'customer_key',\n",
       " 'product_key',\n",
       " 'order_date_key',\n",
       " 'due_date_key',\n",
       " 'ship_date_key',\n",
       " 'promotion_key',\n",
       " 'currency_key',\n",
       " 'sales_order_number',\n",
       " 'sales_order_line_number',\n",
       " 'revision_number',\n",
       " 'order_quantity',\n",
       " 'unit_price',\n",
       " 'extended_amount',\n",
       " 'unit_price_discount_pct',\n",
       " 'discount_amount',\n",
       " 'product_standard_cost',\n",
       " 'total_product_cost',\n",
       " 'sales_amount',\n",
       " 'tax_amt',\n",
       " 'freight',\n",
       " 'carrier_tracking_number',\n",
       " 'customer_p_o_number',\n",
       " 'order_date',\n",
       " 'due_date',\n",
       " 'ship_date',\n",
       " 'product_alternate_key',\n",
       " 'product_subcategory_key',\n",
       " 'weight_unit_measure_code',\n",
       " 'size_unit_measure_code',\n",
       " 'english_product_name',\n",
       " 'spanish_product_name',\n",
       " 'french_product_name',\n",
       " 'standard_cost',\n",
       " 'finished_goods_flag',\n",
       " 'color',\n",
       " 'safety_stock_level',\n",
       " 'reorder_point',\n",
       " 'list_price',\n",
       " 'size',\n",
       " 'size_range',\n",
       " 'weight',\n",
       " 'days_to_manufacture',\n",
       " 'product_line',\n",
       " 'dealer_price',\n",
       " 'class',\n",
       " 'style',\n",
       " 'model_name',\n",
       " 'english_description',\n",
       " 'start_date',\n",
       " 'end_date',\n",
       " 'status',\n",
       " 'geography_key',\n",
       " 'customer_alternate_key',\n",
       " 'title',\n",
       " 'first_name',\n",
       " 'middle_name',\n",
       " 'last_name',\n",
       " 'name_style',\n",
       " 'birth_date',\n",
       " 'marital_status',\n",
       " 'suffix',\n",
       " 'gender',\n",
       " 'email_address',\n",
       " 'yearly_income',\n",
       " 'total_children',\n",
       " 'number_children_at_home',\n",
       " 'english_education',\n",
       " 'spanish_education',\n",
       " 'french_education',\n",
       " 'english_occupation',\n",
       " 'spanish_occupation',\n",
       " 'french_occupation',\n",
       " 'house_owner_flag',\n",
       " 'number_cars_owned',\n",
       " 'address_line1',\n",
       " 'address_line2',\n",
       " 'phone',\n",
       " 'date_first_purchase',\n",
       " 'commute_distance',\n",
       " 'full_date_alternate_key',\n",
       " 'day_number_of_week',\n",
       " 'english_day_name_of_week',\n",
       " 'spanish_day_name_of_week',\n",
       " 'french_day_name_of_week',\n",
       " 'day_number_of_month',\n",
       " 'day_number_of_year',\n",
       " 'week_number_of_year',\n",
       " 'english_month_name',\n",
       " 'spanish_month_name',\n",
       " 'french_month_name',\n",
       " 'month_number_of_year',\n",
       " 'calendar_quarter',\n",
       " 'calendar_year',\n",
       " 'calendar_semester',\n",
       " 'fiscal_quarter',\n",
       " 'fiscal_year',\n",
       " 'fiscal_semester',\n",
       " 'max _year',\n",
       " 'sales_territory_alternate_key',\n",
       " 'sales_territory_region',\n",
       " 'sales_territory_country',\n",
       " 'sales_territory_group']"
      ]
     },
     "execution_count": 20,
     "metadata": {},
     "output_type": "execute_result"
    }
   ],
   "execution_count": 20
  },
  {
   "metadata": {
    "ExecuteTime": {
     "end_time": "2025-01-08T15:35:29.019283Z",
     "start_time": "2025-01-08T15:35:23.191771Z"
    }
   },
   "cell_type": "code",
   "source": [
    "# Join FactInternetSales with DimProduct\n",
    "fact_sales_with_product = fact_sales.join(\n",
    "    datasets[\"DimProduct\"], \"product_key\", \"inner\"\n",
    ")\n",
    "\n",
    "# Join with DimProductSubcategory\n",
    "fact_sales_with_subcategory = fact_sales_with_product.join(\n",
    "    datasets[\"DimProductSubcategory\"], \"product_subcategory_key\", \"inner\"\n",
    ")\n",
    "\n",
    "# Join with DimProductCategory to get the category name\n",
    "fact_sales_with_category = fact_sales_with_subcategory.join(\n",
    "    datasets[\"DimProductCategory\"], \"product_category_key\", \"inner\"\n",
    ")\n",
    "\n",
    "# Perform category-level sales and profit analysis\n",
    "category_analysis = fact_sales_with_category.groupBy(\"english_product_category_name\") \\\n",
    "    .agg(\n",
    "        sum(\"sales_amount\").alias(\"total_sales\"),\n",
    "        sum(expr(\"sales_amount - total_product_cost\")).alias(\"profit_margin\")\n",
    "    ) \\\n",
    "    .orderBy(\"total_sales\", ascending=False)\n",
    "\n",
    "category_analysis.show()\n"
   ],
   "id": "97be08f35ba855e3",
   "outputs": [
    {
     "name": "stderr",
     "output_type": "stream",
     "text": [
      "                                                                                \r"
     ]
    },
    {
     "name": "stdout",
     "output_type": "stream",
     "text": [
      "+-----------------------------+--------------------+--------------------+\n",
      "|english_product_category_name|         total_sales|       profit_margin|\n",
      "+-----------------------------+--------------------+--------------------+\n",
      "|                        Bikes|2.8318144650701128E7|1.1505796500600025E7|\n",
      "|                  Accessories|   700759.9599999422|  438674.56809997605|\n",
      "|                     Clothing|   339772.6100000149|  136412.57629999678|\n",
      "+-----------------------------+--------------------+--------------------+\n",
      "\n"
     ]
    }
   ],
   "execution_count": 21
  },
  {
   "metadata": {
    "ExecuteTime": {
     "end_time": "2025-01-08T15:36:43.547877Z",
     "start_time": "2025-01-08T15:36:41.512801Z"
    }
   },
   "cell_type": "code",
   "source": [
    "#2️⃣ Analyze Sales by Territory\n",
    "\n",
    "territory_sales = fact_sales.groupBy(\"sales_territory_group\") \\\n",
    "    .agg(sum(\"sales_amount\").alias(\"total_sales\")) \\\n",
    "    .orderBy(\"total_sales\", ascending=False)\n",
    "\n",
    "territory_sales.show()"
   ],
   "id": "7ab8eb6b345ce005",
   "outputs": [
    {
     "name": "stdout",
     "output_type": "stream",
     "text": [
      "+---------------------+--------------------+\n",
      "|sales_territory_group|         total_sales|\n",
      "+---------------------+--------------------+\n",
      "|        North America|1.1367634372902095E7|\n",
      "|              Pacific|   9061000.584400563|\n",
      "|               Europe|   8930042.263400966|\n",
      "+---------------------+--------------------+\n",
      "\n"
     ]
    }
   ],
   "execution_count": 24
  },
  {
   "metadata": {},
   "cell_type": "code",
   "outputs": [],
   "execution_count": null,
   "source": "",
   "id": "4617fb20a8bf07ac"
  },
  {
   "metadata": {},
   "cell_type": "markdown",
   "source": "# Data Visualization: Turning Insights into Actionable Plots!",
   "id": "ff9719bbc6599b53"
  },
  {
   "metadata": {
    "ExecuteTime": {
     "end_time": "2025-01-08T16:59:26.642134Z",
     "start_time": "2025-01-08T16:59:16.936483Z"
    }
   },
   "cell_type": "code",
   "source": [
    "#Monthly Sales Trend\n",
    "from pyspark.sql.functions import year, month, sum\n",
    "\n",
    "# Aggregate sales data by month and year\n",
    "monthly_sales = fact_sales.groupBy(\n",
    "    year(\"order_date\").alias(\"year\"),\n",
    "    month(\"order_date\").alias(\"month\")\n",
    ").agg(\n",
    "    sum(\"sales_amount\").alias(\"total_sales\")\n",
    ").orderBy(\"year\", \"month\")\n",
    "\n",
    "# Convert to Pandas for visualization\n",
    "monthly_sales_df = monthly_sales.toPandas()\n",
    "\n",
    "# Plot Monthly Sales Trend\n",
    "plt.figure(figsize=(12, 6))\n",
    "sns.lineplot(x=\"month\", y=\"total_sales\", hue=\"year\", data=monthly_sales_df, marker=\"o\")\n",
    "plt.xlabel(\"Month\")\n",
    "plt.ylabel(\"Total Sales\")\n",
    "plt.title(\"📈 Monthly Sales Trends\")\n",
    "plt.legend(title=\"Year\")\n",
    "plt.show()\n"
   ],
   "id": "d9b722915cd764d1",
   "outputs": [
    {
     "name": "stderr",
     "output_type": "stream",
     "text": [
      "/Users/apple2015/Documents/MSc/SchoolStuff/Bigdata/coursework/project/BigDataProcessing/.venv/lib/python3.11/site-packages/IPython/core/pylabtools.py:170: UserWarning: Glyph 128200 (\\N{CHART WITH UPWARDS TREND}) missing from font(s) Arial.\n",
      "  fig.canvas.print_figure(bytes_io, **kw)\n"
     ]
    },
    {
     "data": {
      "text/plain": [
       "<Figure size 1200x600 with 1 Axes>"
      ],
      "image/png": "[encoded data removed]"
     },
     "metadata": {},
     "output_type": "display_data"
    }
   ],
   "execution_count": 40
  },
  {
   "metadata": {},
   "cell_type": "markdown",
   "source": "## Sales by Product Category",
   "id": "b28d4b8966e0f317"
  },
  {
   "metadata": {
    "ExecuteTime": {
     "end_time": "2025-01-08T17:03:43.501986Z",
     "start_time": "2025-01-08T17:03:40.306940Z"
    }
   },
   "cell_type": "code",
   "source": [
    "from pyspark.sql.functions import sum\n",
    "\n",
    "# Aggregate sales by product category\n",
    "category_sales = fact_sales_with_category.groupBy(\"english_product_category_name\") \\\n",
    "    .agg(sum(\"sales_amount\").alias(\"total_sales\")) \\\n",
    "    .orderBy(\"total_sales\", ascending=False)\n",
    "\n",
    "# Convert to Pandas for visualization\n",
    "category_sales_df = category_sales.toPandas()\n",
    "\n",
    "# Plot Sales by Product Category\n",
    "plt.figure(figsize=(12, 6))\n",
    "sns.barplot(x=\"total_sales\", y=\"english_product_category_name\", data=category_sales_df, palette=\"viridis\")\n",
    "plt.xlabel(\"Total Sales\")\n",
    "plt.ylabel(\"Product Category\")\n",
    "plt.title(\"Sales by Product Category\")\n",
    "plt.show()\n"
   ],
   "id": "5784f6a63e915412",
   "outputs": [
    {
     "name": "stderr",
     "output_type": "stream",
     "text": [
      "/var/folders/vq/2z3hvmh94k13pb_1b0fmr7wm0000gn/T/ipykernel_19901/497069099.py:13: FutureWarning: \n",
      "\n",
      "Passing `palette` without assigning `hue` is deprecated and will be removed in v0.14.0. Assign the `y` variable to `hue` and set `legend=False` for the same effect.\n",
      "\n",
      "  sns.barplot(x=\"total_sales\", y=\"english_product_category_name\", data=category_sales_df, palette=\"viridis\")\n"
     ]
    },
    {
     "data": {
      "text/plain": [
       "<Figure size 1200x600 with 1 Axes>"
      ],
      "image/png": "[encoded data removed]"
     },
     "metadata": {},
     "output_type": "display_data"
    }
   ],
   "execution_count": 42
  },
  {
   "metadata": {
    "ExecuteTime": {
     "end_time": "2025-01-08T17:06:08.609241Z",
     "start_time": "2025-01-08T17:06:05.729490Z"
    }
   },
   "cell_type": "code",
   "source": [
    "#Sales Distribution Across Territories\n",
    "\n",
    "\n",
    "# Aggregate sales by sales territory\n",
    "territory_sales = fact_sales.groupBy(\"sales_territory_group\") \\\n",
    "    .agg(sum(\"sales_amount\").alias(\"total_sales\")) \\\n",
    "    .orderBy(\"total_sales\", ascending=False)\n",
    "\n",
    "# Convert to Pandas for visualization\n",
    "territory_sales_df = territory_sales.toPandas()\n",
    "\n",
    "# Plot Sales by Territory\n",
    "plt.figure(figsize=(12, 6))\n",
    "sns.barplot(x=\"total_sales\", y=\"sales_territory_group\", data=territory_sales_df, palette=\"coolwarm\")\n",
    "plt.xlabel(\"Total Sales\")\n",
    "plt.ylabel(\"Sales Territory\")\n",
    "plt.title(\"Sales Distribution Across Territories\")\n",
    "plt.show()\n",
    "\n"
   ],
   "id": "5d2ca142ed0ac93d",
   "outputs": [
    {
     "name": "stderr",
     "output_type": "stream",
     "text": [
      "/var/folders/vq/2z3hvmh94k13pb_1b0fmr7wm0000gn/T/ipykernel_19901/3844259221.py:14: FutureWarning: \n",
      "\n",
      "Passing `palette` without assigning `hue` is deprecated and will be removed in v0.14.0. Assign the `y` variable to `hue` and set `legend=False` for the same effect.\n",
      "\n",
      "  sns.barplot(x=\"total_sales\", y=\"sales_territory_group\", data=territory_sales_df, palette=\"coolwarm\")\n"
     ]
    },
    {
     "data": {
      "text/plain": [
       "<Figure size 1200x600 with 1 Axes>"
      ],
      "image/png": "[encoded data removed]"
     },
     "metadata": {},
     "output_type": "display_data"
    }
   ],
   "execution_count": 45
  },
  {
   "metadata": {},
   "cell_type": "markdown",
   "source": "# Machine Learning Predictions",
   "id": "4f302122423ca467"
  },
  {
   "metadata": {},
   "cell_type": "markdown",
   "source": "### Predicting Product Categories for Future Purchases (Classification)\n",
   "id": "59903b0f09d78ed0"
  },
  {
   "metadata": {
    "ExecuteTime": {
     "end_time": "2025-01-08T15:38:44.989548Z",
     "start_time": "2025-01-08T15:38:39.999180Z"
    }
   },
   "cell_type": "code",
   "source": [
    "# Join with category data\n",
    "product_category_data = fact_sales.join(\n",
    "    datasets[\"DimProduct\"].join(\n",
    "        datasets[\"DimProductSubcategory\"],\n",
    "        \"product_subcategory_key\"\n",
    "    ).join(\n",
    "        datasets[\"DimProductCategory\"],\n",
    "        \"product_category_key\"\n",
    "    ),\n",
    "    \"product_key\"\n",
    ").select(\n",
    "    \"customer_key\",\n",
    "    \"sales_territory_group\",\n",
    "    \"english_product_category_name\",\n",
    "    \"sales_amount\"\n",
    ")\n",
    "\n",
    "product_category_data.show()\n"
   ],
   "id": "672beb5d49bec28a",
   "outputs": [
    {
     "name": "stderr",
     "output_type": "stream",
     "text": [
      "                                                                                \r"
     ]
    },
    {
     "name": "stdout",
     "output_type": "stream",
     "text": [
      "+------------+---------------------+-----------------------------+------------+\n",
      "|customer_key|sales_territory_group|english_product_category_name|sales_amount|\n",
      "+------------+---------------------+-----------------------------+------------+\n",
      "|       25086|        North America|                     Clothing|       24.49|\n",
      "|       19225|        North America|                     Clothing|        63.5|\n",
      "|       23105|              Pacific|                     Clothing|       24.49|\n",
      "|       16944|               Europe|                     Clothing|       24.49|\n",
      "|       29356|               Europe|                     Clothing|        63.5|\n",
      "|       28207|              Pacific|                     Clothing|        63.5|\n",
      "|       22432|               Europe|                     Clothing|       24.49|\n",
      "|       21349|        North America|                     Clothing|       24.49|\n",
      "|       21017|               Europe|                     Clothing|       24.49|\n",
      "|       11088|        North America|                     Clothing|       24.49|\n",
      "|       11041|        North America|                     Clothing|        63.5|\n",
      "|       26381|               Europe|                     Clothing|        63.5|\n",
      "|       13747|        North America|                     Clothing|       24.49|\n",
      "|       21448|        North America|                     Clothing|       24.49|\n",
      "|       18242|              Pacific|                     Clothing|        63.5|\n",
      "|       24102|               Europe|                     Clothing|       24.49|\n",
      "|       11090|        North America|                     Clothing|       24.49|\n",
      "|       14567|        North America|                     Clothing|       24.49|\n",
      "|       13571|               Europe|                     Clothing|       24.49|\n",
      "|       16192|               Europe|                     Clothing|       24.49|\n",
      "+------------+---------------------+-----------------------------+------------+\n",
      "only showing top 20 rows\n",
      "\n"
     ]
    }
   ],
   "execution_count": 25
  },
  {
   "metadata": {
    "ExecuteTime": {
     "end_time": "2025-01-08T15:40:37.486155Z",
     "start_time": "2025-01-08T15:40:33.470868Z"
    }
   },
   "cell_type": "code",
   "source": [
    "#2️⃣ Predict Product Categories for Future Purchases\n",
    "from pyspark.sql.functions import col\n",
    "\n",
    "# Join fact_sales with product dimensions\n",
    "labeled_data = fact_sales_with_category.select(\n",
    "    \"customer_key\",\n",
    "    \"sales_territory_group\",\n",
    "    \"order_quantity\",\n",
    "    \"sales_amount\",\n",
    "    \"freight\",\n",
    "    \"english_product_category_name\"  # Target variable\n",
    ")\n",
    "\n",
    "labeled_data.show(10)\n"
   ],
   "id": "b5301ad81a71c91a",
   "outputs": [
    {
     "name": "stdout",
     "output_type": "stream",
     "text": [
      "+------------+---------------------+--------------+------------+-------+-----------------------------+\n",
      "|customer_key|sales_territory_group|order_quantity|sales_amount|freight|english_product_category_name|\n",
      "+------------+---------------------+--------------+------------+-------+-----------------------------+\n",
      "|       21768|        North America|             1|     3578.27|89.4568|                        Bikes|\n",
      "|       28389|               Europe|             1|     3399.99|84.9998|                        Bikes|\n",
      "|       25863|        North America|             1|     3399.99|84.9998|                        Bikes|\n",
      "|       14501|        North America|             1|    699.0982|17.4775|                        Bikes|\n",
      "|       11003|              Pacific|             1|     3399.99|84.9998|                        Bikes|\n",
      "|       27645|        North America|             1|     3578.27|89.4568|                        Bikes|\n",
      "|       16624|              Pacific|             1|     3578.27|89.4568|                        Bikes|\n",
      "|       11005|              Pacific|             1|     3374.99|84.3748|                        Bikes|\n",
      "|       11011|              Pacific|             1|     3399.99|84.9998|                        Bikes|\n",
      "|       27621|        North America|             1|     3578.27|89.4568|                        Bikes|\n",
      "+------------+---------------------+--------------+------------+-------+-----------------------------+\n",
      "only showing top 10 rows\n",
      "\n"
     ]
    }
   ],
   "execution_count": 26
  },
  {
   "metadata": {
    "ExecuteTime": {
     "end_time": "2025-01-08T15:53:52.417662Z",
     "start_time": "2025-01-08T15:53:52.318307Z"
    }
   },
   "cell_type": "code",
   "source": "print(labeled_data.columns)\n",
   "id": "ef2854c2cacbbeaa",
   "outputs": [
    {
     "name": "stdout",
     "output_type": "stream",
     "text": [
      "['customer_key', 'sales_territory_group', 'order_quantity', 'sales_amount', 'freight', 'english_product_category_name', 'label']\n"
     ]
    }
   ],
   "execution_count": 32
  },
  {
   "metadata": {
    "ExecuteTime": {
     "end_time": "2025-01-08T15:55:36.906907Z",
     "start_time": "2025-01-08T15:55:25.963363Z"
    }
   },
   "cell_type": "code",
   "source": [
    "# Show the label column alongside the original category\n",
    "labeled_data.select(\"english_product_category_name\", \"label\").show(5)\n",
    "\n",
    "# Assemble feature columns into a single vector\n",
    "from pyspark.ml.feature import VectorAssembler\n",
    "\n",
    "feature_cols = [\"order_quantity\", \"sales_amount\", \"freight\"]\n",
    "assembler = VectorAssembler(inputCols=feature_cols, outputCol=\"features\")\n",
    "labeled_data = assembler.transform(labeled_data)\n",
    "\n",
    "# Verify the features column\n",
    "labeled_data.select(\"features\", \"label\").show(5, truncate=False)\n"
   ],
   "id": "fe00a5800b0cc0fc",
   "outputs": [
    {
     "name": "stderr",
     "output_type": "stream",
     "text": [
      "                                                                                \r"
     ]
    },
    {
     "name": "stdout",
     "output_type": "stream",
     "text": [
      "+-----------------------------+-----+\n",
      "|english_product_category_name|label|\n",
      "+-----------------------------+-----+\n",
      "|                        Bikes|  1.0|\n",
      "|                        Bikes|  1.0|\n",
      "|                        Bikes|  1.0|\n",
      "|                        Bikes|  1.0|\n",
      "|                        Bikes|  1.0|\n",
      "+-----------------------------+-----+\n",
      "only showing top 5 rows\n",
      "\n",
      "+----------------------+-----+\n",
      "|features              |label|\n",
      "+----------------------+-----+\n",
      "|[1.0,3578.27,89.4568] |1.0  |\n",
      "|[1.0,3399.99,84.9998] |1.0  |\n",
      "|[1.0,3399.99,84.9998] |1.0  |\n",
      "|[1.0,699.0982,17.4775]|1.0  |\n",
      "|[1.0,3399.99,84.9998] |1.0  |\n",
      "+----------------------+-----+\n",
      "only showing top 5 rows\n",
      "\n"
     ]
    }
   ],
   "execution_count": 33
  },
  {
   "metadata": {
    "ExecuteTime": {
     "end_time": "2025-01-08T15:55:54.944554Z",
     "start_time": "2025-01-08T15:55:53.806306Z"
    }
   },
   "cell_type": "code",
   "source": [
    "# Train-Test Split\n",
    "train_data, test_data = labeled_data.randomSplit([0.8, 0.2], seed=42)\n"
   ],
   "id": "99752db4c2d67999",
   "outputs": [],
   "execution_count": 34
  },
  {
   "metadata": {
    "ExecuteTime": {
     "end_time": "2025-01-08T15:56:41.425957Z",
     "start_time": "2025-01-08T15:56:17.231374Z"
    }
   },
   "cell_type": "code",
   "source": [
    "from pyspark.ml.classification import RandomForestClassifier\n",
    "from pyspark.ml.evaluation import MulticlassClassificationEvaluator\n",
    "\n",
    "# Train a Random Forest model\n",
    "rf = RandomForestClassifier(featuresCol=\"features\", labelCol=\"label\", numTrees=100)\n",
    "rf_model = rf.fit(train_data)\n",
    "\n",
    "# Make predictions\n",
    "predictions = rf_model.transform(test_data)\n",
    "\n",
    "# Evaluate the model\n",
    "evaluator = MulticlassClassificationEvaluator(labelCol=\"label\", predictionCol=\"prediction\", metricName=\"accuracy\")\n",
    "accuracy = evaluator.evaluate(predictions)\n",
    "print(f\"Accuracy: {accuracy}\")\n"
   ],
   "id": "849efd569e6fb4c6",
   "outputs": [
    {
     "name": "stderr",
     "output_type": "stream",
     "text": [
      "[Stage 258:>                                                        (0 + 3) / 3]\r"
     ]
    },
    {
     "name": "stdout",
     "output_type": "stream",
     "text": [
      "Accuracy: 0.9478696741854636\n"
     ]
    },
    {
     "name": "stderr",
     "output_type": "stream",
     "text": [
      "                                                                                \r"
     ]
    }
   ],
   "execution_count": 35
  },
  {
   "metadata": {},
   "cell_type": "code",
   "outputs": [],
   "execution_count": null,
   "source": "#Evaluate Precision, Recall, and F1-Score",
   "id": "aeb295e79289cf6f"
  },
  {
   "metadata": {
    "ExecuteTime": {
     "end_time": "2025-01-08T16:38:26.774237Z",
     "start_time": "2025-01-08T16:38:25.544816Z"
    }
   },
   "cell_type": "code",
   "source": [
    "# Compute precision, recall, and F1-score\n",
    "evaluator_f1 = MulticlassClassificationEvaluator(labelCol=\"label\", predictionCol=\"prediction\", metricName=\"f1\")\n",
    "evaluator_precision = MulticlassClassificationEvaluator(labelCol=\"label\", predictionCol=\"prediction\", metricName=\"weightedPrecision\")\n",
    "evaluator_recall = MulticlassClassificationEvaluator(labelCol=\"label\", predictionCol=\"prediction\", metricName=\"weightedRecall\")\n"
   ],
   "id": "c8a98bf55bf6c9",
   "outputs": [],
   "execution_count": 36
  },
  {
   "metadata": {
    "ExecuteTime": {
     "end_time": "2025-01-08T16:38:45.065095Z",
     "start_time": "2025-01-08T16:38:27.859373Z"
    }
   },
   "cell_type": "code",
   "source": [
    "f1_score = evaluator_f1.evaluate(predictions)\n",
    "precision = evaluator_precision.evaluate(predictions)\n",
    "recall = evaluator_recall.evaluate(predictions)\n",
    "\n",
    "print(f\"F1-Score: {f1_score}\")\n",
    "print(f\"Precision: {precision}\")\n",
    "print(f\"Recall: {recall}\")"
   ],
   "id": "9cdb9cc798ce209f",
   "outputs": [
    {
     "name": "stderr",
     "output_type": "stream",
     "text": [
      "[Stage 285:>                                                        (0 + 3) / 3]\r"
     ]
    },
    {
     "name": "stdout",
     "output_type": "stream",
     "text": [
      "F1-Score: 0.9481818288439081\n",
      "Precision: 0.9485808847352818\n",
      "Recall: 0.9478696741854636\n"
     ]
    },
    {
     "name": "stderr",
     "output_type": "stream",
     "text": [
      "                                                                                \r"
     ]
    }
   ],
   "execution_count": 37
  },
  {
   "metadata": {
    "ExecuteTime": {
     "end_time": "2025-01-08T17:15:49.094382Z",
     "start_time": "2025-01-08T17:15:10.195347Z"
    }
   },
   "cell_type": "code",
   "source": [
    "#Confusion Matrix for Model Performance\n",
    "\n",
    "from sklearn.metrics import confusion_matrix\n",
    "import numpy as np\n",
    "\n",
    "# Convert Spark Predictions to Pandas\n",
    "predictions_pd = predictions.select(\"label\", \"prediction\").toPandas()\n",
    "\n",
    "# Generate Confusion Matrix\n",
    "conf_matrix = confusion_matrix(predictions_pd[\"label\"], predictions_pd[\"prediction\"])\n",
    "\n",
    "# Plot Confusion Matrix\n",
    "plt.figure(figsize=(8, 6))\n",
    "sns.heatmap(conf_matrix, annot=True, fmt=\"d\", cmap=\"Blues\", xticklabels=sorted(predictions_pd[\"label\"].unique()), yticklabels=sorted(predictions_pd[\"label\"].unique()))\n",
    "plt.xlabel(\"Predicted Category\")\n",
    "plt.ylabel(\"Actual Category\")\n",
    "plt.title(\"✅ Confusion Matrix for Product Category Prediction\")\n",
    "plt.show()\n"
   ],
   "id": "a6a7c3c3ec34c944",
   "outputs": [
    {
     "name": "stderr",
     "output_type": "stream",
     "text": [
      "/Users/apple2015/Documents/MSc/SchoolStuff/Bigdata/coursework/project/BigDataProcessing/.venv/lib/python3.11/site-packages/IPython/core/pylabtools.py:170: UserWarning: Glyph 9989 (\\N{WHITE HEAVY CHECK MARK}) missing from font(s) Arial.\n",
      "  fig.canvas.print_figure(bytes_io, **kw)\n"
     ]
    },
    {
     "data": {
      "text/plain": [
       "<Figure size 800x600 with 2 Axes>"
      ],
      "image/png": "[encoded data removed]"
     },
     "metadata": {},
     "output_type": "display_data"
    }
   ],
   "execution_count": 47
  }
 ],
 "metadata": {
  "kernelspec": {
   "display_name": "Python 3",
   "language": "python",
   "name": "python3"
  },
  "language_info": {
   "codemirror_mode": {
    "name": "ipython",
    "version": 2
   },
   "file_extension": ".py",
   "mimetype": "text/x-python",
   "name": "python",
   "nbconvert_exporter": "python",
   "pygments_lexer": "ipython2",
   "version": "2.7.6"
  }
 },
 "nbformat": 4,
 "nbformat_minor": 5
}
