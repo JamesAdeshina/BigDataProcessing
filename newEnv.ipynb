{
 "cells": [
  {
   "metadata": {},
   "cell_type": "markdown",
   "source": "# Big Data Processing and Machine Learning using PySpark",
   "id": "4901f92a8337e669"
  },
  {
   "metadata": {},
   "cell_type": "markdown",
   "source": [
    "#### Importation of Required Libraries\n",
    "We're importing the following libraries for the project: Pyspark, Matplotlib, Seaborn, ...\n",
    "\n",
    "Note: I am using Pycharm environment, so the environment is setup and doesn't need installation.\n",
    "\n",
    "\n",
    "## **Sections Covered**\n",
    "- **1️⃣ Importing Required Libraries**\n",
    "- **2️⃣ Initializing Spark Session**\n",
    "- **3️⃣ Loading and Preprocessing Data**\n",
    "- **4️⃣ Data Quality Checks**\n",
    "- **5️⃣ Data Transformation and Feature Engineering**\n",
    "- **6️⃣ Business Questions and Exploratory Analysis**\n",
    "- **7️⃣ Machine Learning Implementation (Classification)**\n",
    "- **8️⃣ Model Optimization (Hyperparameter Tuning)**\n",
    "- **9️⃣ Model Evaluation and Comparison**\n",
    "- **🔟 Regression-Based Prediction for Sales Forecasting**"
   ],
   "id": "bec21ba63660af91"
  },
  {
   "metadata": {},
   "cell_type": "markdown",
   "source": "### Importing Required Libraries",
   "id": "f0eb6488780be5ac"
  },
  {
   "metadata": {
    "ExecuteTime": {
     "end_time": "2025-01-13T05:03:28.837951Z",
     "start_time": "2025-01-13T05:03:27.756488Z"
    }
   },
   "cell_type": "code",
   "source": [
    "import matplotlib.pyplot as plt\n",
    "import seaborn as sns\n",
    "from pyspark.sql import SparkSession\n",
    "from pyspark.sql.functions import col, count\n",
    "from sklearn.metrics import confusion_matrix\n",
    "from pyspark.sql.functions import expr, sum\n",
    "import numpy as np\n",
    "import pandas as pd\n",
    "from pyspark.ml.feature import VectorAssembler\n",
    "from pyspark.ml.feature import StringIndexer\n",
    "from pyspark.sql.functions import sum\n",
    "from pyspark.ml.classification import RandomForestClassifier\n",
    "from pyspark.ml.evaluation import MulticlassClassificationEvaluator\n",
    "from pyspark.ml.tuning import ParamGridBuilder, CrossValidator\n",
    "from pyspark.ml.evaluation import MulticlassClassificationEvaluator\n",
    "from pyspark.ml.classification import DecisionTreeClassifier\n",
    "from pyspark.ml.tuning import ParamGridBuilder, CrossValidator\n",
    "from pyspark.ml.evaluation import MulticlassClassificationEvaluator"
   ],
   "id": "19f6f51ac0c587cd",
   "outputs": [],
   "execution_count": 1
  },
  {
   "metadata": {},
   "cell_type": "markdown",
   "source": "#### Initializing Spark Session\n",
   "id": "7afba644447c37f3"
  },
  {
   "metadata": {
    "collapsed": true,
    "ExecuteTime": {
     "end_time": "2025-01-13T05:03:56.365303Z",
     "start_time": "2025-01-13T05:03:28.868696Z"
    }
   },
   "cell_type": "code",
   "source": [
    "# Initialize Spark Session\n",
    "spark = SparkSession.builder.appName(\"DataMerge\").getOrCreate()\n",
    "\n",
    "# Verify Spark session creation by performing a simple operation\n",
    "try:\n",
    "    # Try creating a simple DataFrame and show it\n",
    "    test_df = spark.range(2)  # Create a DataFrame with numbers 0 to 9\n",
    "    test_df.show()  # Display the DataFrame\n",
    "    print(\"Spark session is working and operational!\")\n",
    "except Exception as e:\n",
    "    print(f\"Error while verifying Spark session: {e}\")"
   ],
   "id": "initial_id",
   "outputs": [
    {
     "name": "stderr",
     "output_type": "stream",
     "text": [
      "Setting default log level to \"WARN\".\n",
      "To adjust logging level use sc.setLogLevel(newLevel). For SparkR, use setLogLevel(newLevel).\n",
      "25/01/13 05:03:37 WARN NativeCodeLoader: Unable to load native-hadoop library for your platform... using builtin-java classes where applicable\n",
      "[Stage 0:>                                                          (0 + 4) / 4]\r"
     ]
    },
    {
     "name": "stdout",
     "output_type": "stream",
     "text": [
      "+---+\n",
      "| id|\n",
      "+---+\n",
      "|  0|\n",
      "|  1|\n",
      "+---+\n",
      "\n",
      "Spark session is working and operational!\n"
     ]
    },
    {
     "name": "stderr",
     "output_type": "stream",
     "text": [
      "                                                                                \r"
     ]
    }
   ],
   "execution_count": 2
  },
  {
   "metadata": {},
   "cell_type": "markdown",
   "source": [
    "## Loading and Preprocessing Data\n",
    "This section will focus on loading the following datasets: <b>DimProduct.csv, FactInternetSales.csv, DimCustomer.csv, DimProductCategory.csv, DimProductSubCategory.csv, DimDate.csv, DimSalesTerritory.csv, </b> for our processing and analysis."
   ],
   "id": "bc3dd1102f18017c"
  },
  {
   "metadata": {
    "ExecuteTime": {
     "end_time": "2025-01-13T05:04:09.894704Z",
     "start_time": "2025-01-13T05:03:57.287168Z"
    }
   },
   "cell_type": "code",
   "source": [
    "# File paths\n",
    "files = {\n",
    "    \"DimProduct\": \"Dataset/DimProduct.csv\",\n",
    "    \"FactInternetSales\": \"Dataset/FactInternetSales.csv\",\n",
    "    \"DimCustomer\": \"Dataset/DimCustomer.csv\",\n",
    "    \"DimProductCategory\": \"Dataset/DimProductCategory.csv\",\n",
    "    \"DimProductSubcategory\": \"Dataset/DimProductSubcategory.csv\",\n",
    "    \"DimSalesTerritory\": \"Dataset/DimSalesTerritory.csv\",\n",
    "    \"DimDate\": \"Dataset/DimDate.csv\",\n",
    "}\n",
    "\n",
    "# Load datasets\n",
    "datasets = {name: spark.read.csv(path, header=True, inferSchema=True) for name, path in files.items()}"
   ],
   "id": "3a75823c5742437e",
   "outputs": [
    {
     "name": "stderr",
     "output_type": "stream",
     "text": [
      "                                                                                \r"
     ]
    }
   ],
   "execution_count": 3
  },
  {
   "metadata": {},
   "cell_type": "markdown",
   "source": [
    "### Display Schema\n",
    "Checking the structure of each schema by verifying column names and data types to spot unexpected inconsistencies"
   ],
   "id": "7506a428fe0fcce7"
  },
  {
   "metadata": {
    "ExecuteTime": {
     "end_time": "2025-01-13T05:04:10.088817Z",
     "start_time": "2025-01-13T05:04:10.074718Z"
    }
   },
   "cell_type": "code",
   "source": [
    "# Displaying the schema for all datasets\n",
    "for name, df in datasets.items():\n",
    "    print(f\"Schema for {name}:\")\n",
    "    df.printSchema()\n",
    "    print(\"\\n\" + \"=\"*50 + \"\\n\")\n"
   ],
   "id": "95c2d20eb7f76325",
   "outputs": [
    {
     "name": "stdout",
     "output_type": "stream",
     "text": [
      "Schema for DimProduct:\n",
      "root\n",
      " |-- ProductKey: integer (nullable = true)\n",
      " |-- ProductAlternateKey: string (nullable = true)\n",
      " |-- ProductSubcategoryKey: integer (nullable = true)\n",
      " |-- WeightUnitMeasureCode: string (nullable = true)\n",
      " |-- SizeUnitMeasureCode: string (nullable = true)\n",
      " |-- EnglishProductName: string (nullable = true)\n",
      " |-- SpanishProductName: string (nullable = true)\n",
      " |-- FrenchProductName: string (nullable = true)\n",
      " |-- StandardCost: double (nullable = true)\n",
      " |-- FinishedGoodsFlag: boolean (nullable = true)\n",
      " |-- Color: string (nullable = true)\n",
      " |-- SafetyStockLevel: integer (nullable = true)\n",
      " |-- ReorderPoint: integer (nullable = true)\n",
      " |-- ListPrice: double (nullable = true)\n",
      " |-- Size: string (nullable = true)\n",
      " |-- SizeRange: string (nullable = true)\n",
      " |-- Weight: double (nullable = true)\n",
      " |-- DaysToManufacture: integer (nullable = true)\n",
      " |-- ProductLine: string (nullable = true)\n",
      " |-- DealerPrice: double (nullable = true)\n",
      " |-- Class: string (nullable = true)\n",
      " |-- Style: string (nullable = true)\n",
      " |-- ModelName: string (nullable = true)\n",
      " |-- EnglishDescription: string (nullable = true)\n",
      " |-- StartDate: string (nullable = true)\n",
      " |-- EndDate: string (nullable = true)\n",
      " |-- Status: string (nullable = true)\n",
      "\n",
      "\n",
      "==================================================\n",
      "\n",
      "Schema for FactInternetSales:\n",
      "root\n",
      " |-- ProductKey: integer (nullable = true)\n",
      " |-- OrderDateKey: integer (nullable = true)\n",
      " |-- DueDateKey: integer (nullable = true)\n",
      " |-- ShipDateKey: integer (nullable = true)\n",
      " |-- CustomerKey: integer (nullable = true)\n",
      " |-- PromotionKey: integer (nullable = true)\n",
      " |-- CurrencyKey: integer (nullable = true)\n",
      " |-- SalesTerritoryKey: integer (nullable = true)\n",
      " |-- SalesOrderNumber: string (nullable = true)\n",
      " |-- SalesOrderLineNumber: integer (nullable = true)\n",
      " |-- RevisionNumber: integer (nullable = true)\n",
      " |-- OrderQuantity: integer (nullable = true)\n",
      " |-- UnitPrice: double (nullable = true)\n",
      " |-- ExtendedAmount: double (nullable = true)\n",
      " |-- UnitPriceDiscountPct: integer (nullable = true)\n",
      " |-- DiscountAmount: integer (nullable = true)\n",
      " |-- ProductStandardCost: double (nullable = true)\n",
      " |-- TotalProductCost: double (nullable = true)\n",
      " |-- SalesAmount: double (nullable = true)\n",
      " |-- TaxAmt: double (nullable = true)\n",
      " |-- Freight: double (nullable = true)\n",
      " |-- CarrierTrackingNumber: string (nullable = true)\n",
      " |-- CustomerPONumber: string (nullable = true)\n",
      " |-- OrderDate: timestamp (nullable = true)\n",
      " |-- DueDate: timestamp (nullable = true)\n",
      " |-- ShipDate: timestamp (nullable = true)\n",
      "\n",
      "\n",
      "==================================================\n",
      "\n",
      "Schema for DimCustomer:\n",
      "root\n",
      " |-- CustomerKey: integer (nullable = true)\n",
      " |-- GeographyKey: integer (nullable = true)\n",
      " |-- CustomerAlternateKey: string (nullable = true)\n",
      " |-- Title: string (nullable = true)\n",
      " |-- FirstName: string (nullable = true)\n",
      " |-- MiddleName: string (nullable = true)\n",
      " |-- LastName: string (nullable = true)\n",
      " |-- NameStyle: boolean (nullable = true)\n",
      " |-- BirthDate: date (nullable = true)\n",
      " |-- MaritalStatus: string (nullable = true)\n",
      " |-- Suffix: string (nullable = true)\n",
      " |-- Gender: string (nullable = true)\n",
      " |-- EmailAddress: string (nullable = true)\n",
      " |-- YearlyIncome: integer (nullable = true)\n",
      " |-- TotalChildren: integer (nullable = true)\n",
      " |-- NumberChildrenAtHome: integer (nullable = true)\n",
      " |-- EnglishEducation: string (nullable = true)\n",
      " |-- SpanishEducation: string (nullable = true)\n",
      " |-- FrenchEducation: string (nullable = true)\n",
      " |-- EnglishOccupation: string (nullable = true)\n",
      " |-- SpanishOccupation: string (nullable = true)\n",
      " |-- FrenchOccupation: string (nullable = true)\n",
      " |-- HouseOwnerFlag: integer (nullable = true)\n",
      " |-- NumberCarsOwned: integer (nullable = true)\n",
      " |-- AddressLine1: string (nullable = true)\n",
      " |-- AddressLine2: string (nullable = true)\n",
      " |-- Phone: string (nullable = true)\n",
      " |-- DateFirstPurchase: date (nullable = true)\n",
      " |-- CommuteDistance: string (nullable = true)\n",
      "\n",
      "\n",
      "==================================================\n",
      "\n",
      "Schema for DimProductCategory:\n",
      "root\n",
      " |-- ProductCategoryKey: integer (nullable = true)\n",
      " |-- ProductCategoryAlternateKey: integer (nullable = true)\n",
      " |-- EnglishProductCategoryName: string (nullable = true)\n",
      " |-- SpanishProductCategoryName: string (nullable = true)\n",
      " |-- FrenchProductCategoryName: string (nullable = true)\n",
      "\n",
      "\n",
      "==================================================\n",
      "\n",
      "Schema for DimProductSubcategory:\n",
      "root\n",
      " |-- ProductSubcategoryKey: integer (nullable = true)\n",
      " |-- ProductSubcategoryAlternateKey: integer (nullable = true)\n",
      " |-- EnglishProductSubcategoryName: string (nullable = true)\n",
      " |-- ProductCategoryKey: integer (nullable = true)\n",
      "\n",
      "\n",
      "==================================================\n",
      "\n",
      "Schema for DimSalesTerritory:\n",
      "root\n",
      " |-- SalesTerritoryKey: integer (nullable = true)\n",
      " |-- SalesTerritoryAlternateKey: integer (nullable = true)\n",
      " |-- SalesTerritoryRegion: string (nullable = true)\n",
      " |-- SalesTerritoryCountry: string (nullable = true)\n",
      " |-- SalesTerritoryGroup: string (nullable = true)\n",
      "\n",
      "\n",
      "==================================================\n",
      "\n",
      "Schema for DimDate:\n",
      "root\n",
      " |-- DateKey: integer (nullable = true)\n",
      " |-- FullDateAlternateKey: string (nullable = true)\n",
      " |-- DayNumberOfWeek: integer (nullable = true)\n",
      " |-- EnglishDayNameOfWeek: string (nullable = true)\n",
      " |-- SpanishDayNameOfWeek: string (nullable = true)\n",
      " |-- FrenchDayNameOfWeek: string (nullable = true)\n",
      " |-- DayNumberOfMonth: integer (nullable = true)\n",
      " |-- DayNumberOfYear: integer (nullable = true)\n",
      " |-- WeekNumberOfYear: integer (nullable = true)\n",
      " |-- EnglishMonthName: string (nullable = true)\n",
      " |-- SpanishMonthName: string (nullable = true)\n",
      " |-- FrenchMonthName: string (nullable = true)\n",
      " |-- MonthNumberOfYear: integer (nullable = true)\n",
      " |-- CalendarQuarter: integer (nullable = true)\n",
      " |-- CalendarYear: integer (nullable = true)\n",
      " |-- CalendarSemester: integer (nullable = true)\n",
      " |-- FiscalQuarter: integer (nullable = true)\n",
      " |-- FiscalYear: integer (nullable = true)\n",
      " |-- FiscalSemester: integer (nullable = true)\n",
      " |-- Max Year: string (nullable = true)\n",
      "\n",
      "\n",
      "==================================================\n",
      "\n"
     ]
    }
   ],
   "execution_count": 4
  },
  {
   "metadata": {},
   "cell_type": "markdown",
   "source": "#### Data Quality Checks",
   "id": "8492ca543aaab0d"
  },
  {
   "metadata": {
    "ExecuteTime": {
     "end_time": "2025-01-13T05:04:12.232329Z",
     "start_time": "2025-01-13T05:04:11.022739Z"
    }
   },
   "cell_type": "code",
   "source": [
    "# Standardizing Column Names to Snake Case\n",
    "# Function to convert column names to snake_case\n",
    "def standardize_column_names(df):\n",
    "    for col_name in df.columns:\n",
    "        new_col_name = col_name[0].lower() + \"\".join([\"_\" + c.lower() if c.isupper() else c for c in col_name[1:]])\n",
    "        df = df.withColumnRenamed(col_name, new_col_name)\n",
    "    return df\n",
    "\n",
    "# Apply column renaming to all datasets\n",
    "datasets = {name: standardize_column_names(df) for name, df in datasets.items()}\n",
    "\n",
    "# Verify column name updates\n",
    "for name, df in datasets.items():\n",
    "    print(f\"Updated columns in {name}: {df.columns}\")\n"
   ],
   "id": "124706c592c3d73d",
   "outputs": [
    {
     "name": "stdout",
     "output_type": "stream",
     "text": [
      "Updated columns in DimProduct: ['product_key', 'product_alternate_key', 'product_subcategory_key', 'weight_unit_measure_code', 'size_unit_measure_code', 'english_product_name', 'spanish_product_name', 'french_product_name', 'standard_cost', 'finished_goods_flag', 'color', 'safety_stock_level', 'reorder_point', 'list_price', 'size', 'size_range', 'weight', 'days_to_manufacture', 'product_line', 'dealer_price', 'class', 'style', 'model_name', 'english_description', 'start_date', 'end_date', 'status']\n",
      "Updated columns in FactInternetSales: ['product_key', 'order_date_key', 'due_date_key', 'ship_date_key', 'customer_key', 'promotion_key', 'currency_key', 'sales_territory_key', 'sales_order_number', 'sales_order_line_number', 'revision_number', 'order_quantity', 'unit_price', 'extended_amount', 'unit_price_discount_pct', 'discount_amount', 'product_standard_cost', 'total_product_cost', 'sales_amount', 'tax_amt', 'freight', 'carrier_tracking_number', 'customer_p_o_number', 'order_date', 'due_date', 'ship_date']\n",
      "Updated columns in DimCustomer: ['customer_key', 'geography_key', 'customer_alternate_key', 'title', 'first_name', 'middle_name', 'last_name', 'name_style', 'birth_date', 'marital_status', 'suffix', 'gender', 'email_address', 'yearly_income', 'total_children', 'number_children_at_home', 'english_education', 'spanish_education', 'french_education', 'english_occupation', 'spanish_occupation', 'french_occupation', 'house_owner_flag', 'number_cars_owned', 'address_line1', 'address_line2', 'phone', 'date_first_purchase', 'commute_distance']\n",
      "Updated columns in DimProductCategory: ['product_category_key', 'product_category_alternate_key', 'english_product_category_name', 'spanish_product_category_name', 'french_product_category_name']\n",
      "Updated columns in DimProductSubcategory: ['product_subcategory_key', 'product_subcategory_alternate_key', 'english_product_subcategory_name', 'product_category_key']\n",
      "Updated columns in DimSalesTerritory: ['sales_territory_key', 'sales_territory_alternate_key', 'sales_territory_region', 'sales_territory_country', 'sales_territory_group']\n",
      "Updated columns in DimDate: ['date_key', 'full_date_alternate_key', 'day_number_of_week', 'english_day_name_of_week', 'spanish_day_name_of_week', 'french_day_name_of_week', 'day_number_of_month', 'day_number_of_year', 'week_number_of_year', 'english_month_name', 'spanish_month_name', 'french_month_name', 'month_number_of_year', 'calendar_quarter', 'calendar_year', 'calendar_semester', 'fiscal_quarter', 'fiscal_year', 'fiscal_semester', 'max _year']\n"
     ]
    }
   ],
   "execution_count": 5
  },
  {
   "metadata": {},
   "cell_type": "markdown",
   "source": "#### Checking to see if there's Key Column Names Match in Datasets",
   "id": "a4ce78c645ff7eda"
  },
  {
   "metadata": {
    "ExecuteTime": {
     "end_time": "2025-01-13T05:04:16.601475Z",
     "start_time": "2025-01-13T05:04:16.595710Z"
    }
   },
   "cell_type": "code",
   "source": [
    "key_columns = {\n",
    "    \"FactInternetSales\": [\"product_key\", \"customer_key\", \"order_date_key\", \"sales_territory_key\"],\n",
    "    \"DimProduct\": [\"product_key\", \"product_subcategory_key\"],\n",
    "    \"DimProductSubcategory\": [\"product_subcategory_key\", \"product_category_key\"],\n",
    "    \"DimProductCategory\": [\"product_category_key\"],\n",
    "    \"DimCustomer\": [\"customer_key\"],\n",
    "    \"DimSalesTerritory\": [\"sales_territory_key\"],\n",
    "    \"DimDate\": [\"date_key\"]\n",
    "}\n",
    "\n",
    "# Print key column names for verification\n",
    "for dataset, keys in key_columns.items():\n",
    "    print(f\"Checking keys in {dataset}:\")\n",
    "    for key in keys:\n",
    "        if key in datasets[dataset].columns:\n",
    "            print(f\"{key} exists in {dataset}\")\n",
    "        else:\n",
    "            print(f\"{key} is MISSING in {dataset}!\")\n",
    "    print(\"\\n\" + \"=\"*50 + \"\\n\")\n"
   ],
   "id": "6471b1eac8addc60",
   "outputs": [
    {
     "name": "stdout",
     "output_type": "stream",
     "text": [
      "Checking keys in FactInternetSales:\n",
      "product_key exists in FactInternetSales\n",
      "customer_key exists in FactInternetSales\n",
      "order_date_key exists in FactInternetSales\n",
      "sales_territory_key exists in FactInternetSales\n",
      "\n",
      "==================================================\n",
      "\n",
      "Checking keys in DimProduct:\n",
      "product_key exists in DimProduct\n",
      "product_subcategory_key exists in DimProduct\n",
      "\n",
      "==================================================\n",
      "\n",
      "Checking keys in DimProductSubcategory:\n",
      "product_subcategory_key exists in DimProductSubcategory\n",
      "product_category_key exists in DimProductSubcategory\n",
      "\n",
      "==================================================\n",
      "\n",
      "Checking keys in DimProductCategory:\n",
      "product_category_key exists in DimProductCategory\n",
      "\n",
      "==================================================\n",
      "\n",
      "Checking keys in DimCustomer:\n",
      "customer_key exists in DimCustomer\n",
      "\n",
      "==================================================\n",
      "\n",
      "Checking keys in DimSalesTerritory:\n",
      "sales_territory_key exists in DimSalesTerritory\n",
      "\n",
      "==================================================\n",
      "\n",
      "Checking keys in DimDate:\n",
      "date_key exists in DimDate\n",
      "\n",
      "==================================================\n",
      "\n"
     ]
    }
   ],
   "execution_count": 6
  },
  {
   "metadata": {},
   "cell_type": "markdown",
   "source": "#### Checking to see if Key Columns have the same data type",
   "id": "a3dc169bd99f97e9"
  },
  {
   "metadata": {
    "ExecuteTime": {
     "end_time": "2025-01-13T05:04:19.863780Z",
     "start_time": "2025-01-13T05:04:19.695747Z"
    }
   },
   "cell_type": "code",
   "source": [
    "# Check data types of key columns in each dataset\n",
    "for dataset, keys in key_columns.items():\n",
    "    print(f\"Checking data types in {dataset}:\")\n",
    "    datasets[dataset].select(keys).printSchema()\n",
    "    print(\"\\n\" + \"=\"*50 + \"\\n\")\n"
   ],
   "id": "3d17b2fa25c91131",
   "outputs": [
    {
     "name": "stdout",
     "output_type": "stream",
     "text": [
      "Checking data types in FactInternetSales:\n",
      "root\n",
      " |-- product_key: integer (nullable = true)\n",
      " |-- customer_key: integer (nullable = true)\n",
      " |-- order_date_key: integer (nullable = true)\n",
      " |-- sales_territory_key: integer (nullable = true)\n",
      "\n",
      "\n",
      "==================================================\n",
      "\n",
      "Checking data types in DimProduct:\n",
      "root\n",
      " |-- product_key: integer (nullable = true)\n",
      " |-- product_subcategory_key: integer (nullable = true)\n",
      "\n",
      "\n",
      "==================================================\n",
      "\n",
      "Checking data types in DimProductSubcategory:\n",
      "root\n",
      " |-- product_subcategory_key: integer (nullable = true)\n",
      " |-- product_category_key: integer (nullable = true)\n",
      "\n",
      "\n",
      "==================================================\n",
      "\n",
      "Checking data types in DimProductCategory:\n",
      "root\n",
      " |-- product_category_key: integer (nullable = true)\n",
      "\n",
      "\n",
      "==================================================\n",
      "\n",
      "Checking data types in DimCustomer:\n",
      "root\n",
      " |-- customer_key: integer (nullable = true)\n",
      "\n",
      "\n",
      "==================================================\n",
      "\n",
      "Checking data types in DimSalesTerritory:\n",
      "root\n",
      " |-- sales_territory_key: integer (nullable = true)\n",
      "\n",
      "\n",
      "==================================================\n",
      "\n",
      "Checking data types in DimDate:\n",
      "root\n",
      " |-- date_key: integer (nullable = true)\n",
      "\n",
      "\n",
      "==================================================\n",
      "\n"
     ]
    }
   ],
   "execution_count": 7
  },
  {
   "metadata": {},
   "cell_type": "markdown",
   "source": "#### Checking for Null values in key columns",
   "id": "ed4389749f9c0ee3"
  },
  {
   "metadata": {
    "ExecuteTime": {
     "end_time": "2025-01-13T05:04:36.557338Z",
     "start_time": "2025-01-13T05:04:29.814930Z"
    }
   },
   "cell_type": "code",
   "source": [
    "# Check for NULL values in key columns\n",
    "for dataset, keys in key_columns.items():\n",
    "    print(f\"Checking for NULL values in {dataset}:\")\n",
    "    for key in keys:\n",
    "        null_count = datasets[dataset].filter(col(key).isNull()).count()\n",
    "        print(f\"{key} has {null_count} NULL values in {dataset}\")\n",
    "    print(\"\\n\" + \"=\"*50 + \"\\n\")\n"
   ],
   "id": "eb16e208eff2b591",
   "outputs": [
    {
     "name": "stdout",
     "output_type": "stream",
     "text": [
      "Checking for NULL values in FactInternetSales:\n"
     ]
    },
    {
     "name": "stderr",
     "output_type": "stream",
     "text": [
      "                                                                                \r"
     ]
    },
    {
     "name": "stdout",
     "output_type": "stream",
     "text": [
      "product_key has 0 NULL values in FactInternetSales\n",
      "customer_key has 0 NULL values in FactInternetSales\n",
      "order_date_key has 0 NULL values in FactInternetSales\n",
      "sales_territory_key has 0 NULL values in FactInternetSales\n",
      "\n",
      "==================================================\n",
      "\n",
      "Checking for NULL values in DimProduct:\n",
      "product_key has 0 NULL values in DimProduct\n",
      "product_subcategory_key has 0 NULL values in DimProduct\n",
      "\n",
      "==================================================\n",
      "\n",
      "Checking for NULL values in DimProductSubcategory:\n",
      "product_subcategory_key has 0 NULL values in DimProductSubcategory\n",
      "product_category_key has 0 NULL values in DimProductSubcategory\n",
      "\n",
      "==================================================\n",
      "\n",
      "Checking for NULL values in DimProductCategory:\n",
      "product_category_key has 0 NULL values in DimProductCategory\n",
      "\n",
      "==================================================\n",
      "\n",
      "Checking for NULL values in DimCustomer:\n",
      "customer_key has 0 NULL values in DimCustomer\n",
      "\n",
      "==================================================\n",
      "\n",
      "Checking for NULL values in DimSalesTerritory:\n",
      "sales_territory_key has 0 NULL values in DimSalesTerritory\n",
      "\n",
      "==================================================\n",
      "\n",
      "Checking for NULL values in DimDate:\n",
      "date_key has 0 NULL values in DimDate\n",
      "\n",
      "==================================================\n",
      "\n"
     ]
    }
   ],
   "execution_count": 8
  },
  {
   "metadata": {},
   "cell_type": "markdown",
   "source": "### Data Transformation (Joining the Our Datasets)",
   "id": "ae8b8dfc2ab5c741"
  },
  {
   "metadata": {
    "ExecuteTime": {
     "end_time": "2025-01-13T05:04:42.406555Z",
     "start_time": "2025-01-13T05:04:36.618252Z"
    }
   },
   "cell_type": "code",
   "source": [
    "# Start with the fact table\n",
    "fact_sales = datasets[\"FactInternetSales\"]\n",
    "\n",
    "# Join FactInternetSales with DimProduct\n",
    "fact_sales = fact_sales.join(datasets[\"DimProduct\"], \"product_key\", \"left\")\n",
    "\n",
    "# Join FactInternetSales with DimCustomer\n",
    "fact_sales = fact_sales.join(datasets[\"DimCustomer\"], \"customer_key\", \"left\")\n",
    "\n",
    "# Join FactInternetSales with DimDate\n",
    "fact_sales = fact_sales.join(datasets[\"DimDate\"], fact_sales.order_date_key == datasets[\"DimDate\"].date_key, \"left\").drop(\"date_key\")\n",
    "\n",
    "# Join FactInternetSales with DimSalesTerritory\n",
    "fact_sales = fact_sales.join(datasets[\"DimSalesTerritory\"], \"sales_territory_key\", \"left\")\n",
    "\n",
    "# Join DimProduct with DimProductSubcategory\n",
    "dim_product = datasets[\"DimProduct\"].join(datasets[\"DimProductSubcategory\"], \"product_subcategory_key\", \"left\")\n",
    "\n",
    "# Join DimProductSubcategory with DimProductCategory\n",
    "dim_product = dim_product.join(datasets[\"DimProductCategory\"], \"product_category_key\", \"left\")\n",
    "\n",
    "# Display final merged fact_sales dataset\n",
    "fact_sales.show(10)\n"
   ],
   "id": "b06832ce57a62fb0",
   "outputs": [
    {
     "name": "stderr",
     "output_type": "stream",
     "text": [
      "25/01/13 05:04:37 WARN SparkStringUtils: Truncated the string representation of a plan since it was too large. This behavior can be adjusted by setting 'spark.sql.debug.maxToStringFields'.\n",
      "                                                                                \r"
     ]
    },
    {
     "name": "stdout",
     "output_type": "stream",
     "text": [
      "+-------------------+------------+-----------+--------------+------------+-------------+-------------+------------+------------------+-----------------------+---------------+--------------+----------+---------------+-----------------------+---------------+---------------------+------------------+------------+--------+-------+-----------------------+-------------------+-------------------+-------------------+-------------------+---------------------+-----------------------+------------------------+----------------------+--------------------+--------------------+--------------------+-------------+-------------------+------+------------------+-------------+----------+----+----------+------+-------------------+------------+------------+-----+-----+------------+--------------------+----------------+----------------+------+-------------+----------------------+-----+----------+-----------+---------+----------+----------+--------------+------+------+--------------------+-------------+--------------+-----------------------+-----------------+--------------------+----------------+------------------+------------------+-----------------+----------------+-----------------+--------------------+-------------+-------------------+-------------------+----------------+-----------------------+------------------+------------------------+------------------------+-----------------------+-------------------+------------------+-------------------+------------------+------------------+-----------------+--------------------+----------------+-------------+-----------------+--------------+-----------+---------------+----------+-----------------------------+----------------------+-----------------------+---------------------+\n",
      "|sales_territory_key|customer_key|product_key|order_date_key|due_date_key|ship_date_key|promotion_key|currency_key|sales_order_number|sales_order_line_number|revision_number|order_quantity|unit_price|extended_amount|unit_price_discount_pct|discount_amount|product_standard_cost|total_product_cost|sales_amount| tax_amt|freight|carrier_tracking_number|customer_p_o_number|         order_date|           due_date|          ship_date|product_alternate_key|product_subcategory_key|weight_unit_measure_code|size_unit_measure_code|english_product_name|spanish_product_name| french_product_name|standard_cost|finished_goods_flag| color|safety_stock_level|reorder_point|list_price|size|size_range|weight|days_to_manufacture|product_line|dealer_price|class|style|  model_name| english_description|      start_date|        end_date|status|geography_key|customer_alternate_key|title|first_name|middle_name|last_name|name_style|birth_date|marital_status|suffix|gender|       email_address|yearly_income|total_children|number_children_at_home|english_education|   spanish_education|french_education|english_occupation|spanish_occupation|french_occupation|house_owner_flag|number_cars_owned|       address_line1|address_line2|              phone|date_first_purchase|commute_distance|full_date_alternate_key|day_number_of_week|english_day_name_of_week|spanish_day_name_of_week|french_day_name_of_week|day_number_of_month|day_number_of_year|week_number_of_year|english_month_name|spanish_month_name|french_month_name|month_number_of_year|calendar_quarter|calendar_year|calendar_semester|fiscal_quarter|fiscal_year|fiscal_semester| max _year|sales_territory_alternate_key|sales_territory_region|sales_territory_country|sales_territory_group|\n",
      "+-------------------+------------+-----------+--------------+------------+-------------+-------------+------------+------------------+-----------------------+---------------+--------------+----------+---------------+-----------------------+---------------+---------------------+------------------+------------+--------+-------+-----------------------+-------------------+-------------------+-------------------+-------------------+---------------------+-----------------------+------------------------+----------------------+--------------------+--------------------+--------------------+-------------+-------------------+------+------------------+-------------+----------+----+----------+------+-------------------+------------+------------+-----+-----+------------+--------------------+----------------+----------------+------+-------------+----------------------+-----+----------+-----------+---------+----------+----------+--------------+------+------+--------------------+-------------+--------------+-----------------------+-----------------+--------------------+----------------+------------------+------------------+-----------------+----------------+-----------------+--------------------+-------------+-------------------+-------------------+----------------+-----------------------+------------------+------------------------+------------------------+-----------------------+-------------------+------------------+-------------------+------------------+------------------+-----------------+--------------------+----------------+-------------+-----------------+--------------+-----------+---------------+----------+-----------------------------+----------------------+-----------------------+---------------------+\n",
      "|                  6|       21768|        310|      20101229|    20110110|     20110105|            1|          19|           SO43697|                      1|              1|             1|   3578.27|        3578.27|                      0|              0|            2171.2942|         2171.2942|     3578.27|286.2616|89.4568|                   NULL|               NULL|2010-12-29 00:00:00|2011-01-10 00:00:00|2011-01-05 00:00:00|           BK-R93R-62|                      2|                     LB |                   CM |    Road-150 Red, 62|Carretera: 150, r...|V�lo de route 150...|    2171.2942|               true|   Red|               100|           75|   3578.27|  62|  60-62 CM|  15.0|                  4|          R |    2146.962|   H |   U |    Road-150|This bike is ridd...|01/07/2005 00:00|30/06/2002 00:00|  NULL|           53|            AW00021768| NULL|      Cole|          A|   Watson|     false|1946-08-22|             S|  NULL|     M|cole1@adventure-w...|        70000|             5|                      0|        Bachelors|        Licenciatura|         Bac + 4|        Management|           Gesti�n|        Direction|               1|                3|    601 Asilomar Dr.|         NULL|       110-555-0129|         2005-07-01|       10+ Miles|             29/12/2010|                 4|               Wednesday|               Mi�rcoles|               Mercredi|                 29|               363|                 53|          December|         Diciembre|         D�cembre|                  12|               4|         2010|                2|             2|       2011|              1|01/01/2008|                            6|                Canada|                 Canada|        North America|\n",
      "|                  7|       28389|        346|      20101229|    20110110|     20110105|            1|          39|           SO43698|                      1|              1|             1|   3399.99|        3399.99|                      0|              0|            1912.1544|         1912.1544|     3399.99|271.9992|84.9998|                   NULL|               NULL|2010-12-29 00:00:00|2011-01-10 00:00:00|2011-01-05 00:00:00|           BK-M82S-44|                      1|                     LB |                   CM |Mountain-100 Silv...|Monta�a: 100, pla...|  VTT 100 argent, 44|    1912.1544|               true|Silver|               100|           75|   3399.99|  44|  42-46 CM| 21.13|                  4|          M |    2039.994|   H |   U |Mountain-100|Top-of-the-line c...|01/07/2005 00:00|30/06/2002 00:00|  NULL|          222|            AW00028389| NULL|   Rachael|          M| Martinez|     false|1964-12-18|             S|  NULL|     F|rachael16@adventu...|        20000|             3|                      3|      High School|Educaci�n secundaria|         Bac + 2|            Manual|            Obrero|          Ouvrier|               0|                0|  14, avenue du Port|         NULL|1 (11) 500 555-0190|         2005-07-01|       0-1 Miles|             29/12/2010|                 4|               Wednesday|               Mi�rcoles|               Mercredi|                 29|               363|                 53|          December|         Diciembre|         D�cembre|                  12|               4|         2010|                2|             2|       2011|              1|01/01/2008|                            7|                France|                 France|               Europe|\n",
      "|                  1|       25863|        346|      20101229|    20110110|     20110105|            1|         100|           SO43699|                      1|              1|             1|   3399.99|        3399.99|                      0|              0|            1912.1544|         1912.1544|     3399.99|271.9992|84.9998|                   NULL|               NULL|2010-12-29 00:00:00|2011-01-10 00:00:00|2011-01-05 00:00:00|           BK-M82S-44|                      1|                     LB |                   CM |Mountain-100 Silv...|Monta�a: 100, pla...|  VTT 100 argent, 44|    1912.1544|               true|Silver|               100|           75|   3399.99|  44|  42-46 CM| 21.13|                  4|          M |    2039.994|   H |   U |Mountain-100|Top-of-the-line c...|01/07/2005 00:00|30/06/2002 00:00|  NULL|          543|            AW00025863| NULL|    Sydney|          S|   Wright|     false|1946-12-03|             S|  NULL|     F|sydney61@adventur...|        40000|             5|                      0|      High School|Educaci�n secundaria|         Bac + 2|      Professional|       Profesional|            Cadre|               1|                3| 4193 E. 28th Street|         NULL|       285-555-0113|         2005-07-01|       10+ Miles|             29/12/2010|                 4|               Wednesday|               Mi�rcoles|               Mercredi|                 29|               363|                 53|          December|         Diciembre|         D�cembre|                  12|               4|         2010|                2|             2|       2011|              1|01/01/2008|                            1|             Northwest|          United States|        North America|\n",
      "|                  4|       14501|        336|      20101229|    20110110|     20110105|            1|         100|           SO43700|                      1|              1|             1|  699.0982|       699.0982|                      0|              0|             413.1463|          413.1463|    699.0982| 55.9279|17.4775|                   NULL|               NULL|2010-12-29 00:00:00|2011-01-10 00:00:00|2011-01-05 00:00:00|           BK-R50B-62|                      2|                     LB |                   CM |  Road-650 Black, 62|Carretera: 650, n...|V�lo de route 650...|     413.1463|               true| Black|               100|           75|  699.0982|  62|  60-62 CM|  20.0|                  4|          R |    419.4589|   L |   U |    Road-650|Value-priced bike...|01/07/2005 00:00|30/06/2002 00:00|  NULL|          300|            AW00014501| NULL|     Ruben|       NULL|   Prasad|     false|1938-05-13|             M|  NULL|     M|ruben10@adventure...|        80000|             4|                      0|  Graduate Degree|Estudios de postg...|         Bac + 3|        Management|           Gesti�n|        Direction|               1|                2|   249 Alexander Pl.|         NULL|       175-555-0159|         2005-07-01|       1-2 Miles|             29/12/2010|                 4|               Wednesday|               Mi�rcoles|               Mercredi|                 29|               363|                 53|          December|         Diciembre|         D�cembre|                  12|               4|         2010|                2|             2|       2011|              1|01/01/2008|                            4|             Southwest|          United States|        North America|\n",
      "|                  9|       11003|        346|      20101229|    20110110|     20110105|            1|           6|           SO43701|                      1|              1|             1|   3399.99|        3399.99|                      0|              0|            1912.1544|         1912.1544|     3399.99|271.9992|84.9998|                   NULL|               NULL|2010-12-29 00:00:00|2011-01-10 00:00:00|2011-01-05 00:00:00|           BK-M82S-44|                      1|                     LB |                   CM |Mountain-100 Silv...|Monta�a: 100, pla...|  VTT 100 argent, 44|    1912.1544|               true|Silver|               100|           75|   3399.99|  44|  42-46 CM| 21.13|                  4|          M |    2039.994|   H |   U |Mountain-100|Top-of-the-line c...|01/07/2005 00:00|30/06/2002 00:00|  NULL|           11|            AW00011003| NULL|   Christy|       NULL|      Zhu|     false|1968-02-15|             S|  NULL|     F|christy12@adventu...|        70000|             0|                      0|        Bachelors|        Licenciatura|         Bac + 4|      Professional|       Profesional|            Cadre|               0|                1|    1825 Village Pl.|         NULL|1 (11) 500 555-0162|         2005-07-01|      5-10 Miles|             29/12/2010|                 4|               Wednesday|               Mi�rcoles|               Mercredi|                 29|               363|                 53|          December|         Diciembre|         D�cembre|                  12|               4|         2010|                2|             2|       2011|              1|01/01/2008|                            9|             Australia|              Australia|              Pacific|\n",
      "|                  4|       27645|        311|      20101230|    20110111|     20110106|            1|         100|           SO43702|                      1|              1|             1|   3578.27|        3578.27|                      0|              0|            2171.2942|         2171.2942|     3578.27|286.2616|89.4568|                   NULL|               NULL|2010-12-30 00:00:00|2011-01-11 00:00:00|2011-01-06 00:00:00|           BK-R93R-44|                      2|                     LB |                   CM |    Road-150 Red, 44|Carretera: 150, r...|V�lo de route 150...|    2171.2942|               true|   Red|               100|           75|   3578.27|  44|  42-46 CM| 13.77|                  4|          R |    2146.962|   H |   U |    Road-150|This bike is ridd...|01/07/2005 00:00|30/06/2002 00:00|  NULL|          312|            AW00027645| NULL|     Colin|          G|    Anand|     false|1961-08-18|             M|  NULL|     M|colin45@adventure...|       120000|             1|                      3|      High School|Educaci�n secundaria|         Bac + 2|      Professional|       Profesional|            Cadre|               1|                4|7626 Sinclair Avenue|         NULL|       199-555-0186|         2005-07-02|      5-10 Miles|             30/12/2010|                 5|                Thursday|                  Jueves|                  Jeudi|                 30|               364|                 53|          December|         Diciembre|         D�cembre|                  12|               4|         2010|                2|             2|       2011|              1|01/01/2008|                            4|             Southwest|          United States|        North America|\n",
      "|                  9|       16624|        310|      20101230|    20110111|     20110106|            1|           6|           SO43703|                      1|              1|             1|   3578.27|        3578.27|                      0|              0|            2171.2942|         2171.2942|     3578.27|286.2616|89.4568|                   NULL|               NULL|2010-12-30 00:00:00|2011-01-11 00:00:00|2011-01-06 00:00:00|           BK-R93R-62|                      2|                     LB |                   CM |    Road-150 Red, 62|Carretera: 150, r...|V�lo de route 150...|    2171.2942|               true|   Red|               100|           75|   3578.27|  62|  60-62 CM|  15.0|                  4|          R |    2146.962|   H |   U |    Road-150|This bike is ridd...|01/07/2005 00:00|30/06/2002 00:00|  NULL|           30|            AW00016624| NULL|    Albert|          R|  Alvarez|     false|1972-07-27|             S|  NULL|     M|albert7@adventure...|        90000|             0|                      0|        Bachelors|        Licenciatura|         Bac + 4|      Professional|       Profesional|            Cadre|               0|                3|  3541 Corte Poquito|         NULL|1 (11) 500 555-0114|         2005-07-02|       10+ Miles|             30/12/2010|                 5|                Thursday|                  Jueves|                  Jeudi|                 30|               364|                 53|          December|         Diciembre|         D�cembre|                  12|               4|         2010|                2|             2|       2011|              1|01/01/2008|                            9|             Australia|              Australia|              Pacific|\n",
      "|                  9|       11005|        351|      20101230|    20110111|     20110106|            1|           6|           SO43704|                      1|              1|             1|   3374.99|        3374.99|                      0|              0|            1898.0944|         1898.0944|     3374.99|269.9992|84.3748|                   NULL|               NULL|2010-12-30 00:00:00|2011-01-11 00:00:00|2011-01-06 00:00:00|           BK-M82B-48|                      1|                     LB |                   CM |Mountain-100 Blac...|Monta�a: 100, neg...|    VTT 100 noir, 48|    1898.0944|               true| Black|               100|           75|   3374.99|  48|  48-52 CM| 21.42|                  4|          M |    2024.994|   H |   U |Mountain-100|Top-of-the-line c...|01/07/2005 00:00|30/06/2002 00:00|  NULL|           22|            AW00011005| NULL|     Julio|       NULL|     Ruiz|     false|1965-08-05|             S|  NULL|     M|julio1@adventure-...|        70000|             0|                      0|        Bachelors|        Licenciatura|         Bac + 4|      Professional|       Profesional|            Cadre|               1|                1| 7305 Humphrey Drive|         NULL|1 (11) 500 555-0151|         2005-07-02|      5-10 Miles|             30/12/2010|                 5|                Thursday|                  Jueves|                  Jeudi|                 30|               364|                 53|          December|         Diciembre|         D�cembre|                  12|               4|         2010|                2|             2|       2011|              1|01/01/2008|                            9|             Australia|              Australia|              Pacific|\n",
      "|                  9|       11011|        344|      20101230|    20110111|     20110106|            1|           6|           SO43705|                      1|              1|             1|   3399.99|        3399.99|                      0|              0|            1912.1544|         1912.1544|     3399.99|271.9992|84.9998|                   NULL|               NULL|2010-12-30 00:00:00|2011-01-11 00:00:00|2011-01-06 00:00:00|           BK-M82S-38|                      1|                     LB |                   CM |Mountain-100 Silv...|Monta�a: 100, pla...|  VTT 100 argent, 38|    1912.1544|               true|Silver|               100|           75|   3399.99|  38|  38-40 CM| 20.35|                  4|          M |    2039.994|   H |   U |Mountain-100|Top-of-the-line c...|01/07/2005 00:00|30/06/2002 00:00|  NULL|           22|            AW00011011| NULL|    Curtis|       NULL|       Lu|     false|1963-11-04|             M|  NULL|     M|curtis9@adventure...|        60000|             4|                      4|        Bachelors|        Licenciatura|         Bac + 4|      Professional|       Profesional|            Cadre|               1|                4|        1224 Shoenic|         NULL|1 (11) 500 555-0117|         2005-07-02|       10+ Miles|             30/12/2010|                 5|                Thursday|                  Jueves|                  Jeudi|                 30|               364|                 53|          December|         Diciembre|         D�cembre|                  12|               4|         2010|                2|             2|       2011|              1|01/01/2008|                            9|             Australia|              Australia|              Pacific|\n",
      "|                  4|       27621|        312|      20101231|    20110112|     20110107|            1|         100|           SO43706|                      1|              1|             1|   3578.27|        3578.27|                      0|              0|            2171.2942|         2171.2942|     3578.27|286.2616|89.4568|                   NULL|               NULL|2010-12-31 00:00:00|2011-01-12 00:00:00|2011-01-07 00:00:00|           BK-R93R-48|                      2|                     LB |                   CM |    Road-150 Red, 48|Carretera: 150, r...|V�lo de route 150...|    2171.2942|               true|   Red|               100|           75|   3578.27|  48|  48-52 CM| 14.13|                  4|          R |    2146.962|   H |   U |    Road-150|This bike is ridd...|01/07/2005 00:00|30/06/2002 00:00|  NULL|          369|            AW00027621| NULL|    Edward|       NULL|    Brown|     false|1964-01-27|             S|  NULL|     M|edward26@adventur...|       160000|             0|                      0|  Graduate Degree|Estudios de postg...|         Bac + 3|        Management|           Gesti�n|        Direction|               0|                4|2226 Cleveland Av...|         NULL|       238-555-0128|         2005-07-03|       1-2 Miles|             31/12/2010|                 6|                  Friday|                 Viernes|               Vendredi|                 31|               365|                 53|          December|         Diciembre|         D�cembre|                  12|               4|         2010|                2|             2|       2011|              1|01/01/2008|                            4|             Southwest|          United States|        North America|\n",
      "+-------------------+------------+-----------+--------------+------------+-------------+-------------+------------+------------------+-----------------------+---------------+--------------+----------+---------------+-----------------------+---------------+---------------------+------------------+------------+--------+-------+-----------------------+-------------------+-------------------+-------------------+-------------------+---------------------+-----------------------+------------------------+----------------------+--------------------+--------------------+--------------------+-------------+-------------------+------+------------------+-------------+----------+----+----------+------+-------------------+------------+------------+-----+-----+------------+--------------------+----------------+----------------+------+-------------+----------------------+-----+----------+-----------+---------+----------+----------+--------------+------+------+--------------------+-------------+--------------+-----------------------+-----------------+--------------------+----------------+------------------+------------------+-----------------+----------------+-----------------+--------------------+-------------+-------------------+-------------------+----------------+-----------------------+------------------+------------------------+------------------------+-----------------------+-------------------+------------------+-------------------+------------------+------------------+-----------------+--------------------+----------------+-------------+-----------------+--------------+-----------+---------------+----------+-----------------------------+----------------------+-----------------------+---------------------+\n",
      "only showing top 10 rows\n",
      "\n"
     ]
    }
   ],
   "execution_count": 9
  },
  {
   "metadata": {},
   "cell_type": "markdown",
   "source": "## Data quality checks and data cleaning process",
   "id": "292898034c74fa5"
  },
  {
   "metadata": {},
   "cell_type": "markdown",
   "source": "#### Checking row count check before and after joining",
   "id": "e0c8c0074296a8e3"
  },
  {
   "metadata": {
    "ExecuteTime": {
     "end_time": "2025-01-13T05:04:44.289894Z",
     "start_time": "2025-01-13T05:04:42.474290Z"
    }
   },
   "cell_type": "code",
   "source": [
    "# Check row count before and after joining\n",
    "fact_sales_count = datasets[\"FactInternetSales\"].count()\n",
    "merged_fact_sales_count = fact_sales.count()\n",
    "\n",
    "print(f\"FactInternetSales before join: {fact_sales_count} rows\")\n",
    "print(f\"Merged dataset after join: {merged_fact_sales_count} rows\")\n"
   ],
   "id": "d600665eee228466",
   "outputs": [
    {
     "name": "stdout",
     "output_type": "stream",
     "text": [
      "FactInternetSales before join: 60398 rows\n",
      "Merged dataset after join: 60398 rows\n"
     ]
    }
   ],
   "execution_count": 10
  },
  {
   "metadata": {},
   "cell_type": "markdown",
   "source": "#### Check for duplicate rows",
   "id": "4688d7d816b70324"
  },
  {
   "metadata": {
    "ExecuteTime": {
     "end_time": "2025-01-13T05:04:55.903577Z",
     "start_time": "2025-01-13T05:04:44.416719Z"
    }
   },
   "cell_type": "code",
   "source": [
    "# Check for duplicate rows\n",
    "duplicate_count = fact_sales.groupBy(fact_sales.columns).count().filter(\"count > 1\").count()\n",
    "print(f\"Duplicate rows in merged dataset: {duplicate_count}\")"
   ],
   "id": "2ac503c4e501ae8",
   "outputs": [
    {
     "name": "stderr",
     "output_type": "stream",
     "text": [
      "[Stage 72:>                                                         (0 + 4) / 4]\r"
     ]
    },
    {
     "name": "stdout",
     "output_type": "stream",
     "text": [
      "Duplicate rows in merged dataset: 0\n"
     ]
    },
    {
     "name": "stderr",
     "output_type": "stream",
     "text": [
      "                                                                                \r"
     ]
    }
   ],
   "execution_count": 11
  },
  {
   "metadata": {},
   "cell_type": "markdown",
   "source": "#### Check for NULL Values in Important Columns",
   "id": "b3b6f5e4ffcd4e37"
  },
  {
   "metadata": {
    "ExecuteTime": {
     "end_time": "2025-01-13T05:04:59.172943Z",
     "start_time": "2025-01-13T05:04:55.976348Z"
    }
   },
   "cell_type": "code",
   "source": [
    "\n",
    "# List of important columns to check\n",
    "important_columns = [\"product_key\", \"customer_key\", \"order_date_key\", \"sales_territory_key\", \"sales_amount\"]\n",
    "\n",
    "# Check for NULL values in important columns\n",
    "for col_name in important_columns:\n",
    "    null_count = fact_sales.filter(col(col_name).isNull()).count()\n",
    "    print(f\"{col_name} has {null_count} NULL values\")"
   ],
   "id": "e916bba0c0fa316d",
   "outputs": [
    {
     "name": "stdout",
     "output_type": "stream",
     "text": [
      "product_key has 0 NULL values\n",
      "customer_key has 0 NULL values\n",
      "order_date_key has 0 NULL values\n",
      "sales_territory_key has 0 NULL values\n",
      "sales_amount has 0 NULL values\n"
     ]
    }
   ],
   "execution_count": 12
  },
  {
   "metadata": {},
   "cell_type": "markdown",
   "source": "#### Check for Duplicate Rows",
   "id": "33d7eba2c3d5df19"
  },
  {
   "metadata": {
    "ExecuteTime": {
     "end_time": "2025-01-13T05:05:01.071518Z",
     "start_time": "2025-01-13T05:04:59.202425Z"
    }
   },
   "cell_type": "code",
   "source": "fact_sales.select(\"order_quantity\", \"unit_price\", \"sales_amount\", \"tax_amt\", \"freight\").describe().show()",
   "id": "d268d1476e2be77d",
   "outputs": [
    {
     "name": "stdout",
     "output_type": "stream",
     "text": [
      "+-------+--------------+-----------------+-----------------+-----------------+------------------+\n",
      "|summary|order_quantity|       unit_price|     sales_amount|          tax_amt|           freight|\n",
      "+-------+--------------+-----------------+-----------------+-----------------+------------------+\n",
      "|  count|         60398|            60398|            60398|            60398|             60398|\n",
      "|   mean|           1.0|486.0869105053777|486.0869105053777|38.88695370873952|12.152217111493709|\n",
      "| stddev|           0.0| 928.489891980807| 928.489891980807|74.27919255248155|23.212248232767838|\n",
      "|    min|             1|             2.29|             2.29|           0.1832|            0.0573|\n",
      "|    max|             1|          3578.27|          3578.27|         286.2616|           89.4568|\n",
      "+-------+--------------+-----------------+-----------------+-----------------+------------------+\n",
      "\n"
     ]
    }
   ],
   "execution_count": 13
  },
  {
   "metadata": {},
   "cell_type": "markdown",
   "source": "## Business Questions & Exploratory Analysis",
   "id": "72b67d4cd70792c3"
  },
  {
   "metadata": {},
   "cell_type": "markdown",
   "source": [
    "#### Sales and Product Analysis\n",
    "\n",
    "1. \tWhich products generate the highest sales revenue and profit margins?\n",
    "2.\tHow does product performance vary across different categories and subcategories?\n",
    "3.\tHow do sales trends vary across different sales territories?\n",
    "4.\tHow does customer income level impact total sales?\n",
    "5.\tWhich occupations contribute the most to total sales?\"\n",
    "6.\tHow does customer income level influence product category preference?\n"
   ],
   "id": "2b233496c484891d"
  },
  {
   "metadata": {},
   "cell_type": "markdown",
   "source": "#### Which products generate the highest sales revenue and profit margins?\n",
   "id": "acc90246164cbf5e"
  },
  {
   "metadata": {
    "ExecuteTime": {
     "end_time": "2025-01-13T05:05:03.304665Z",
     "start_time": "2025-01-13T05:05:01.105927Z"
    }
   },
   "cell_type": "code",
   "source": [
    "# Aggregating total sales revenue and profit margins for each product to identify the highest-grossing and most profitable products.\n",
    "\n",
    "product_analysis = fact_sales.groupBy(\"english_product_name\") \\\n",
    "    .agg(\n",
    "        sum(\"sales_amount\").alias(\"total_sales\"),\n",
    "        sum(expr(\"sales_amount - total_product_cost\")).alias(\"profit_margin\")\n",
    "    ) \\\n",
    "    .orderBy(\"total_sales\", ascending=False)\n",
    "\n",
    "product_analysis.show(10)"
   ],
   "id": "2ca0bb3968f7c730",
   "outputs": [
    {
     "name": "stdout",
     "output_type": "stream",
     "text": [
      "+--------------------+------------------+------------------+\n",
      "|english_product_name|       total_sales|     profit_margin|\n",
      "+--------------------+------------------+------------------+\n",
      "|Mountain-200 Blac...|1373469.5481999982| 626621.5735000019|\n",
      "|Mountain-200 Blac...| 1363142.093399998| 621759.6083000018|\n",
      "|Mountain-200 Silv...| 1339462.790399998| 610864.4347999995|\n",
      "|Mountain-200 Silv...|1301100.0983999984| 593490.4727999989|\n",
      "|Mountain-200 Blac...| 1294866.141199998| 590477.4604000015|\n",
      "|Mountain-200 Silv...| 1257434.572799998| 573511.9375999994|\n",
      "|    Road-150 Red, 48|1205876.9900000044|474150.84460000356|\n",
      "|    Road-150 Red, 62|1202298.7200000044|472743.86880000355|\n",
      "|    Road-150 Red, 52|1080637.5400000038|424906.69160000305|\n",
      "|    Road-150 Red, 56|1055589.6500000036|415057.86100000294|\n",
      "+--------------------+------------------+------------------+\n",
      "only showing top 10 rows\n",
      "\n"
     ]
    }
   ],
   "execution_count": 14
  },
  {
   "metadata": {
    "ExecuteTime": {
     "end_time": "2025-01-13T05:05:05.003089Z",
     "start_time": "2025-01-13T05:05:03.374512Z"
    }
   },
   "cell_type": "code",
   "source": [
    " # Calculate total sales for all products\n",
    "total_sales = fact_sales.agg(sum(\"sales_amount\").alias(\"total_sales\")).collect()[0][\"total_sales\"]\n",
    "\n",
    "# Calculate total sales for Mountain-200 Black and Mountain-200 Silver\n",
    "mountain_sales = fact_sales.filter(\n",
    "    (col(\"english_product_name\").like(\"Mountain-200 Black%\")) |\n",
    "    (col(\"english_product_name\").like(\"Mountain-200 Silver%\"))\n",
    ").agg(sum(\"sales_amount\").alias(\"mountain_total_sales\")).collect()[0][\"mountain_total_sales\"]\n",
    "\n",
    "# Calculate the percentage contribution\n",
    "percentage_contribution = (mountain_sales / total_sales) * 100\n",
    "\n",
    "# Display result\n",
    "print(f\"Mountain-200 Black & Silver contribute {percentage_contribution:.2f}% to total revenue.\")\n"
   ],
   "id": "d044760349baaf99",
   "outputs": [
    {
     "name": "stdout",
     "output_type": "stream",
     "text": [
      "Mountain-200 Black & Silver contribute 27.01% to total revenue.\n"
     ]
    }
   ],
   "execution_count": 15
  },
  {
   "metadata": {
    "ExecuteTime": {
     "end_time": "2025-01-13T05:05:06.819441Z",
     "start_time": "2025-01-13T05:05:05.032233Z"
    }
   },
   "cell_type": "code",
   "source": [
    "#Top-Selling Products (Bar Chart)\n",
    "# Convert to Pandas\n",
    "product_sales_df = product_analysis.limit(10).toPandas()\n",
    "\n",
    "# Plot Top-Selling Products\n",
    "plt.figure(figsize=(12, 6))\n",
    "sns.barplot(\n",
    "    x=\"total_sales\",\n",
    "    y=\"english_product_name\",\n",
    "    data=product_sales_df,\n",
    "    hue=\"english_product_name\",  # Assign hue to the y-axis variable\n",
    "    dodge=False,                 # Prevent bars from being split\n",
    "    legend=False,                 # Remove redundant legend\n",
    "    palette=\"Blues_r\"\n",
    ")\n",
    "plt.xlabel(\"Total Sales ($)\")\n",
    "plt.ylabel(\"Product Name\")\n",
    "plt.title(\"Top 10 Best-Selling Products\")\n",
    "plt.show()"
   ],
   "id": "76deeeb98e1d2f38",
   "outputs": [
    {
     "data": {
      "text/plain": [
       "<Figure size 1200x600 with 1 Axes>"
      ],
      "image/png": "[encoded data removed]"
     },
     "metadata": {},
     "output_type": "display_data"
    }
   ],
   "execution_count": 16
  },
  {
   "metadata": {},
   "cell_type": "markdown",
   "source": "<b>Insight:</b> The top-selling products are Mountain-200 Black and Mountain-200 Silver, contributing the highest sales revenue of 27.01%. These products also show strong profit margins, indicating their profitability.",
   "id": "a66ac9e52eff28d6"
  },
  {
   "metadata": {},
   "cell_type": "markdown",
   "source": "### How does product performance vary across different categories and subcategories?",
   "id": "98f58d3fed421f44"
  },
  {
   "metadata": {
    "ExecuteTime": {
     "end_time": "2025-01-13T05:05:10.184460Z",
     "start_time": "2025-01-13T05:05:07.385663Z"
    }
   },
   "cell_type": "code",
   "source": [
    "# Join FactInternetSales with DimProduct to associate sales data with product details\n",
    "fact_sales_with_product = fact_sales.join(\n",
    "    datasets[\"DimProduct\"], \"product_key\", \"inner\"\n",
    ")\n",
    "\n",
    "# Join with DimProductSubcategory to include product subcategory information\n",
    "fact_sales_with_subcategory = fact_sales_with_product.join(\n",
    "    datasets[\"DimProductSubcategory\"], \"product_subcategory_key\", \"inner\"\n",
    ")\n",
    "\n",
    "# Join with DimProductCategory to associate each product with its category\n",
    "fact_sales_with_category = fact_sales_with_subcategory.join(\n",
    "    datasets[\"DimProductCategory\"], \"product_category_key\", \"inner\"\n",
    ")\n",
    "\n",
    "# Aggregate sales and profit margin at the category level\n",
    "category_analysis = fact_sales_with_category.groupBy(\"english_product_category_name\") \\\n",
    "    .agg(\n",
    "        sum(\"sales_amount\").alias(\"total_sales\"),\n",
    "        sum(expr(\"sales_amount - total_product_cost\")).alias(\"profit_margin\")\n",
    "    ) \\\n",
    "    .orderBy(\"total_sales\", ascending=False)\n",
    "\n",
    "\n",
    "\n",
    "# Aggregate sales and profit margin at the subcategory level\n",
    "subcategory_analysis = fact_sales_with_subcategory.groupBy(\"english_product_subcategory_name\") \\\n",
    "    .agg(\n",
    "        sum(\"sales_amount\").alias(\"total_sales\"),\n",
    "        sum(expr(\"sales_amount - total_product_cost\")).alias(\"profit_margin\")\n",
    "    ) \\\n",
    "    .orderBy(\"total_sales\", ascending=False)\n",
    "\n",
    "\n",
    "category_analysis.show()\n",
    "subcategory_analysis.show()"
   ],
   "id": "97be08f35ba855e3",
   "outputs": [
    {
     "name": "stdout",
     "output_type": "stream",
     "text": [
      "+-----------------------------+--------------------+--------------------+\n",
      "|english_product_category_name|         total_sales|       profit_margin|\n",
      "+-----------------------------+--------------------+--------------------+\n",
      "|                        Bikes|2.8318144650701128E7|1.1505796500600025E7|\n",
      "|                  Accessories|   700759.9599999422|  438674.56809997605|\n",
      "|                     Clothing|   339772.6100000149|  136412.57629999678|\n",
      "+-----------------------------+--------------------+--------------------+\n",
      "\n",
      "+--------------------------------+--------------------+------------------+\n",
      "|english_product_subcategory_name|         total_sales|     profit_margin|\n",
      "+--------------------------------+--------------------+------------------+\n",
      "|                      Road Bikes|1.4520584036299847E7| 5537299.698599855|\n",
      "|                  Mountain Bikes|   9952759.564400222| 4513624.106100044|\n",
      "|                   Touring Bikes|  3844801.0500000035| 1454872.695899993|\n",
      "|                 Tires and Tubes|  245529.32000000443|153700.75119999525|\n",
      "|                         Helmets|  225335.60000000076|141059.82800000336|\n",
      "|                         Jerseys|  172950.67999999886| 39778.65639999979|\n",
      "|                          Shorts|   71319.81000000038|  44646.1603000002|\n",
      "|               Bottles and Cages|    56798.1900000005| 35555.34769999969|\n",
      "|                         Fenders|   46619.57999999933| 29183.89950000017|\n",
      "|                 Hydration Packs|   40307.66999999987| 25232.57210000004|\n",
      "|                     Bike Stands|             39591.0|24783.965999999968|\n",
      "|                      Bike Racks|             39360.0| 24639.35999999998|\n",
      "|                           Vests|             35687.0|22340.062000000078|\n",
      "|                          Gloves|   35020.69999999975|21922.901000000256|\n",
      "|                            Caps|   19688.09999999968| 4528.263000000003|\n",
      "|                        Cleaners|              7218.6|4518.8435999999965|\n",
      "|                           Socks|   5106.320000000004| 3196.533600000002|\n",
      "+--------------------------------+--------------------+------------------+\n",
      "\n"
     ]
    }
   ],
   "execution_count": 17
  },
  {
   "metadata": {},
   "cell_type": "markdown",
   "source": "#### Which product categories generate the highest sales?",
   "id": "39f8ec944dd0a917"
  },
  {
   "metadata": {
    "ExecuteTime": {
     "end_time": "2025-01-13T05:05:11.592028Z",
     "start_time": "2025-01-13T05:05:10.430410Z"
    }
   },
   "cell_type": "code",
   "source": [
    "# Convert category sales data to Pandas for visualization\n",
    "category_sales_df = category_analysis.toPandas()\n",
    "\n",
    "# Plot total sales by product category\n",
    "plt.figure(figsize=(12, 6))\n",
    "sns.barplot(\n",
    "    x=\"total_sales\",\n",
    "    y=\"english_product_category_name\",\n",
    "    data=category_sales_df,\n",
    "    hue=\"english_product_category_name\",  # Assign hue to the y-axis variable\n",
    "    dodge=False,                           # Prevent bars from being split\n",
    "    legend=False,                          # Remove redundant legend\n",
    "    palette=\"viridis\"\n",
    ")\n",
    "plt.xlabel(\"Total Sales ($)\")\n",
    "plt.ylabel(\"Product Category\")\n",
    "plt.title(\"Sales by Product Category\")\n",
    "plt.show()"
   ],
   "id": "6f34a4127a400945",
   "outputs": [
    {
     "data": {
      "text/plain": [
       "<Figure size 1200x600 with 1 Axes>"
      ],
      "image/png": "[encoded data removed]"
     },
     "metadata": {},
     "output_type": "display_data"
    }
   ],
   "execution_count": 18
  },
  {
   "metadata": {},
   "cell_type": "markdown",
   "source": "#### Which product subcategories generate the highest sales?",
   "id": "ce65e975dd2a1ff3"
  },
  {
   "metadata": {
    "ExecuteTime": {
     "end_time": "2025-01-13T05:05:13.941775Z",
     "start_time": "2025-01-13T05:05:12.781361Z"
    }
   },
   "cell_type": "code",
   "source": [
    "# Convert subcategory sales data to Pandas for visualization\n",
    "subcategory_sales_df = subcategory_analysis.toPandas()\n",
    "\n",
    "# Plot total sales by product subcategory\n",
    "plt.figure(figsize=(12, 6))\n",
    "sns.barplot(\n",
    "    x=\"total_sales\",\n",
    "    y=\"english_product_subcategory_name\",\n",
    "    data=subcategory_sales_df,\n",
    "    hue=\"english_product_subcategory_name\",  # Assign hue to the y-axis variable\n",
    "    dodge=False,                             # Prevent bars from being split\n",
    "    legend=False,                            # Remove redundant legend\n",
    "    palette=\"coolwarm\"\n",
    ")\n",
    "plt.xlabel(\"Total Sales ($)\")\n",
    "plt.ylabel(\"Product Subcategory\")\n",
    "plt.title(\"Sales by Product Subcategory\")\n",
    "plt.show()"
   ],
   "id": "67e3340288bae2ca",
   "outputs": [
    {
     "data": {
      "text/plain": [
       "<Figure size 1200x600 with 1 Axes>"
      ],
      "image/png": "[encoded data removed]"
     },
     "metadata": {},
     "output_type": "display_data"
    }
   ],
   "execution_count": 19
  },
  {
   "metadata": {},
   "cell_type": "markdown",
   "source": "<b>Insight:</b> Bikes generate the highest sales and profit margin, outperforming other product categories. Within the subcategories, Road Bikes and Mountain Bikes are the top contributors to sales. Accessories and Clothing have lower sales and profit margins.",
   "id": "9ec27af5529c427e"
  },
  {
   "metadata": {},
   "cell_type": "markdown",
   "source": [
    "### How Do Sales Trends Vary Across Different Sales Territories?\n",
    "\n"
   ],
   "id": "a49b2add53066805"
  },
  {
   "metadata": {
    "ExecuteTime": {
     "end_time": "2025-01-13T05:05:16.615026Z",
     "start_time": "2025-01-13T05:05:15.877328Z"
    }
   },
   "cell_type": "code",
   "source": [
    "#Analyze Sales by Territory\n",
    "\n",
    "territory_sales = fact_sales.groupBy(\"sales_territory_group\") \\\n",
    "    .agg(sum(\"sales_amount\").alias(\"total_sales\")) \\\n",
    "    .orderBy(\"total_sales\", ascending=False)\n",
    "\n",
    "territory_sales.show()"
   ],
   "id": "7ab8eb6b345ce005",
   "outputs": [
    {
     "name": "stdout",
     "output_type": "stream",
     "text": [
      "+---------------------+--------------------+\n",
      "|sales_territory_group|         total_sales|\n",
      "+---------------------+--------------------+\n",
      "|        North America|1.1367634372902095E7|\n",
      "|              Pacific|   9061000.584400563|\n",
      "|               Europe|   8930042.263400966|\n",
      "+---------------------+--------------------+\n",
      "\n"
     ]
    }
   ],
   "execution_count": 20
  },
  {
   "metadata": {},
   "cell_type": "markdown",
   "source": "#### Sales Distribution Across Territories",
   "id": "78f7cb95780a2c08"
  },
  {
   "metadata": {
    "ExecuteTime": {
     "end_time": "2025-01-13T05:05:18.205412Z",
     "start_time": "2025-01-13T05:05:17.435895Z"
    }
   },
   "cell_type": "code",
   "source": [
    "# Aggregate sales by sales territory\n",
    "territory_sales = fact_sales.groupBy(\"sales_territory_group\") \\\n",
    "    .agg(sum(\"sales_amount\").alias(\"total_sales\")) \\\n",
    "    .orderBy(\"total_sales\", ascending=False)\n",
    "\n",
    "# Convert to Pandas for visualization\n",
    "territory_sales_df = territory_sales.toPandas()\n",
    "\n",
    "# Plot Sales by Territory\n",
    "plt.figure(figsize=(12, 6))\n",
    "sns.barplot(x=\"total_sales\", y=\"sales_territory_group\", data=territory_sales_df, hue=\"sales_territory_group\", dodge=False, legend=False, palette=\"coolwarm\")\n",
    "plt.xlabel(\"Total Sales\")\n",
    "plt.ylabel(\"Sales Territory\")\n",
    "plt.title(\"Sales Distribution Across Territories\")\n",
    "plt.show()"
   ],
   "id": "5d2ca142ed0ac93d",
   "outputs": [
    {
     "data": {
      "text/plain": [
       "<Figure size 1200x600 with 1 Axes>"
      ],
      "image/png": "[encoded data removed]"
     },
     "metadata": {},
     "output_type": "display_data"
    }
   ],
   "execution_count": 21
  },
  {
   "metadata": {},
   "cell_type": "markdown",
   "source": "<b>Insight:<b/> The analysis shows that North America has the highest total sales, followed by the Pacific and Europe. This indicates that sales performance is strongest in North America, suggesting a larger market presence or demand in this region. Marketing efforts and inventory distribution can be strategized.",
   "id": "2864d9946073cb1e"
  },
  {
   "metadata": {},
   "cell_type": "markdown",
   "source": "### How does customer income level impact total sales?",
   "id": "6ee82942005b9bb"
  },
  {
   "metadata": {
    "ExecuteTime": {
     "end_time": "2025-01-13T05:05:21.712106Z",
     "start_time": "2025-01-13T05:05:20.571900Z"
    }
   },
   "cell_type": "code",
   "source": [
    "customer_sales = fact_sales.groupBy(\"yearly_income\") \\\n",
    "    .agg(sum(\"sales_amount\").alias(\"total_sales\")) \\\n",
    "    .orderBy(\"total_sales\", ascending=False)\n",
    "\n",
    "customer_sales_df = customer_sales.toPandas()\n",
    "\n",
    "# Bar Plot for Customer Income vs. Sales\n",
    "plt.figure(figsize=(12, 6))\n",
    "sns.barplot(x=\"yearly_income\", y=\"total_sales\", data=customer_sales_df, hue=\"yearly_income\", palette=\"magma\", legend=False)\n",
    "plt.xlabel(\"Yearly Income\")\n",
    "plt.ylabel(\"Total Sales ($)\")\n",
    "plt.title(\"Sales Distribution by Customer Income Level\")\n",
    "plt.xticks(rotation=45)\n",
    "plt.show()\n",
    "\n"
   ],
   "id": "bcc66255c6744218",
   "outputs": [
    {
     "data": {
      "text/plain": [
       "<Figure size 1200x600 with 1 Axes>"
      ],
      "image/png": "[encoded data removed]"
     },
     "metadata": {},
     "output_type": "display_data"
    }
   ],
   "execution_count": 22
  },
  {
   "metadata": {},
   "cell_type": "markdown",
   "source": "<b>Insight:</b> The middle-income customers earning between $40,000 and $70,000 generate the highest sales, while both lower and higher-income groups contribute significantly less. This suggests that the sales optimisation should target the mid-range income earners.",
   "id": "83ca758cf5d85e5d"
  },
  {
   "metadata": {},
   "cell_type": "markdown",
   "source": "### Which occupations contribute the most to total sales?\"",
   "id": "aa9f086b349d288"
  },
  {
   "metadata": {
    "ExecuteTime": {
     "end_time": "2025-01-13T05:05:31.278903Z",
     "start_time": "2025-01-13T05:05:28.913871Z"
    }
   },
   "cell_type": "code",
   "source": [
    "# Aggregate total sales by occupation\n",
    "occupation_sales = fact_sales.groupBy(\"english_occupation\") \\\n",
    "    .agg(sum(\"sales_amount\").alias(\"total_sales\")) \\\n",
    "    .orderBy(\"total_sales\", ascending=False)\n",
    "\n",
    "# Convert to Pandas for visualization\n",
    "occupation_sales_df = occupation_sales.toPandas()\n",
    "\n",
    "# Bar Chart for Sales by Occupation\n",
    "plt.figure(figsize=(12, 6))\n",
    "sns.barplot(x=\"total_sales\", y=\"english_occupation\", data=occupation_sales_df, hue=\"english_occupation\", dodge=False, palette=\"viridis\", legend=False)\n",
    "plt.xlabel(\"Total Sales ($)\")\n",
    "plt.ylabel(\"Occupation\")\n",
    "plt.title(\"Sales Contribution by Occupation\")\n",
    "plt.xticks(rotation=45, ha=\"right\")  # Rotate x-axis labels for better readability\n",
    "plt.show()\n",
    "\n"
   ],
   "id": "fea7dd4118acc214",
   "outputs": [
    {
     "data": {
      "text/plain": [
       "<Figure size 1200x600 with 1 Axes>"
      ],
      "image/png": "[encoded data removed]"
     },
     "metadata": {},
     "output_type": "display_data"
    }
   ],
   "execution_count": 23
  },
  {
   "metadata": {},
   "cell_type": "markdown",
   "source": "<b>Insight:</b> The highest sales revenue is contributed by professionals, followed by skilled manual and management occupations. This suggests that targeting professionals with premium products or specialised marketing campaigns could be beneficial for the revenue growth of the business.",
   "id": "762d0b68c27279ac"
  },
  {
   "metadata": {},
   "cell_type": "markdown",
   "source": "### How does customer income level influence product category preference?",
   "id": "8fccadaac3650874"
  },
  {
   "metadata": {
    "ExecuteTime": {
     "end_time": "2025-01-13T05:05:52.273958Z",
     "start_time": "2025-01-13T05:05:48.178475Z"
    }
   },
   "cell_type": "code",
   "source": [
    "# Join the result with DimProductCategory\n",
    "fact_sales_with_category = fact_sales.join(dim_product, \"product_subcategory_key\", \"left\")\n",
    "\n",
    "# Aggregate total sales by income level and product category\n",
    "income_category_sales = fact_sales_with_category.groupBy(\"yearly_income\", \"english_product_category_name\") \\\n",
    "    .agg(sum(\"sales_amount\").alias(\"total_sales\")) \\\n",
    "    .orderBy(\"yearly_income\", ascending=True)\n",
    "\n",
    "# Convert to Pandas\n",
    "income_category_sales_df = income_category_sales.toPandas()\n",
    "\n",
    "# Scatter Plot: Income vs. Product Category Sales\n",
    "plt.figure(figsize=(12, 6))\n",
    "plt.xticks(rotation=45)\n",
    "plt.style.use(\"ggplot\")  # or \"seaborn-whitegrid\"\n",
    "sns.scatterplot(x=\"yearly_income\", y=\"english_product_category_name\", size=\"total_sales\",\n",
    "                hue=\"english_product_category_name\", data=income_category_sales_df,\n",
    "                sizes=(10, 500), alpha=0.7)\n",
    "plt.xlabel(\"Yearly Income ($)\")\n",
    "plt.ylabel(\"Product Category\")\n",
    "plt.title(\"Customer Income Level vs. Product Category Preference\")\n",
    "plt.grid(True)\n",
    "plt.show()\n"
   ],
   "id": "cc0dbfce7cc322ee",
   "outputs": [
    {
     "name": "stderr",
     "output_type": "stream",
     "text": [
      "                                                                                \r"
     ]
    },
    {
     "data": {
      "text/plain": [
       "<Figure size 1200x600 with 1 Axes>"
      ],
      "image/png": "[encoded data removed]"
     },
     "metadata": {},
     "output_type": "display_data"
    }
   ],
   "execution_count": 24
  },
  {
   "metadata": {},
   "cell_type": "markdown",
   "source": "<b>Insight:</b> Suggests that customer income level significantly influences product category preference. Higher-income customers tend to purchase premium products, while lower to mid-income customers contribute more to essential or budget-friendly categories.",
   "id": "d3a90c7a43467778"
  },
  {
   "metadata": {},
   "cell_type": "markdown",
   "source": "# Machine Learning Predictions",
   "id": "4f302122423ca467"
  },
  {
   "metadata": {},
   "cell_type": "markdown",
   "source": "### Predicting Product Categories for Future Purchases (Classification)\n",
   "id": "59903b0f09d78ed0"
  },
  {
   "metadata": {
    "ExecuteTime": {
     "end_time": "2025-01-13T05:06:12.855852Z",
     "start_time": "2025-01-13T05:06:10.872287Z"
    }
   },
   "cell_type": "code",
   "source": [
    "# Prepare dataset\n",
    "product_category_data = fact_sales.join(dim_product, \"product_key\").select(\n",
    "    \"customer_key\",\n",
    "    \"sales_territory_group\",\n",
    "    \"english_product_category_name\",\n",
    "    \"sales_amount\"\n",
    ")\n",
    "\n",
    "product_category_data.show()"
   ],
   "id": "9d91c9df71767907",
   "outputs": [
    {
     "name": "stdout",
     "output_type": "stream",
     "text": [
      "+------------+---------------------+-----------------------------+------------+\n",
      "|customer_key|sales_territory_group|english_product_category_name|sales_amount|\n",
      "+------------+---------------------+-----------------------------+------------+\n",
      "|       25086|        North America|                     Clothing|       24.49|\n",
      "|       19225|        North America|                     Clothing|        63.5|\n",
      "|       23105|              Pacific|                     Clothing|       24.49|\n",
      "|       16944|               Europe|                     Clothing|       24.49|\n",
      "|       29356|               Europe|                     Clothing|        63.5|\n",
      "|       28207|              Pacific|                     Clothing|        63.5|\n",
      "|       22432|               Europe|                     Clothing|       24.49|\n",
      "|       21349|        North America|                     Clothing|       24.49|\n",
      "|       21017|               Europe|                     Clothing|       24.49|\n",
      "|       11088|        North America|                     Clothing|       24.49|\n",
      "|       11041|        North America|                     Clothing|        63.5|\n",
      "|       26381|               Europe|                     Clothing|        63.5|\n",
      "|       13747|        North America|                     Clothing|       24.49|\n",
      "|       21448|        North America|                     Clothing|       24.49|\n",
      "|       18242|              Pacific|                     Clothing|        63.5|\n",
      "|       24102|               Europe|                     Clothing|       24.49|\n",
      "|       11090|        North America|                     Clothing|       24.49|\n",
      "|       14567|        North America|                     Clothing|       24.49|\n",
      "|       13571|               Europe|                     Clothing|       24.49|\n",
      "|       16192|               Europe|                     Clothing|       24.49|\n",
      "+------------+---------------------+-----------------------------+------------+\n",
      "only showing top 20 rows\n",
      "\n"
     ]
    }
   ],
   "execution_count": 25
  },
  {
   "metadata": {
    "ExecuteTime": {
     "end_time": "2025-01-13T05:06:14.673942Z",
     "start_time": "2025-01-13T05:06:13.957336Z"
    }
   },
   "cell_type": "code",
   "source": [
    "# Join fact_sales with product dimensions\n",
    "labeled_data = fact_sales_with_category.select(\n",
    "    \"customer_key\",\n",
    "    \"sales_territory_group\",\n",
    "    \"order_quantity\",\n",
    "    \"sales_amount\",\n",
    "    \"freight\",\n",
    "    \"english_product_category_name\"  # Target variable\n",
    ")\n",
    "\n",
    "labeled_data.show(10)\n"
   ],
   "id": "b5301ad81a71c91a",
   "outputs": [
    {
     "name": "stdout",
     "output_type": "stream",
     "text": [
      "+------------+---------------------+--------------+------------+-------+-----------------------------+\n",
      "|customer_key|sales_territory_group|order_quantity|sales_amount|freight|english_product_category_name|\n",
      "+------------+---------------------+--------------+------------+-------+-----------------------------+\n",
      "|       28389|               Europe|             1|     3399.99|84.9998|                        Bikes|\n",
      "|       28389|               Europe|             1|     3399.99|84.9998|                        Bikes|\n",
      "|       28389|               Europe|             1|     3399.99|84.9998|                        Bikes|\n",
      "|       28389|               Europe|             1|     3399.99|84.9998|                        Bikes|\n",
      "|       28389|               Europe|             1|     3399.99|84.9998|                        Bikes|\n",
      "|       28389|               Europe|             1|     3399.99|84.9998|                        Bikes|\n",
      "|       28389|               Europe|             1|     3399.99|84.9998|                        Bikes|\n",
      "|       28389|               Europe|             1|     3399.99|84.9998|                        Bikes|\n",
      "|       28389|               Europe|             1|     3399.99|84.9998|                        Bikes|\n",
      "|       28389|               Europe|             1|     3399.99|84.9998|                        Bikes|\n",
      "+------------+---------------------+--------------+------------+-------+-----------------------------+\n",
      "only showing top 10 rows\n",
      "\n"
     ]
    }
   ],
   "execution_count": 26
  },
  {
   "metadata": {
    "ExecuteTime": {
     "end_time": "2025-01-13T05:06:35.112136Z",
     "start_time": "2025-01-13T05:06:35.106374Z"
    }
   },
   "cell_type": "code",
   "source": "print(labeled_data.columns)\n",
   "id": "ef2854c2cacbbeaa",
   "outputs": [
    {
     "name": "stdout",
     "output_type": "stream",
     "text": [
      "['customer_key', 'sales_territory_group', 'order_quantity', 'sales_amount', 'freight', 'english_product_category_name']\n"
     ]
    }
   ],
   "execution_count": 27
  },
  {
   "metadata": {
    "ExecuteTime": {
     "end_time": "2025-01-13T05:06:39.224845Z",
     "start_time": "2025-01-13T05:06:35.477304Z"
    }
   },
   "cell_type": "code",
   "source": [
    "\n",
    "# Convert category name to numerical labels\n",
    "indexer = StringIndexer(inputCol=\"english_product_category_name\", outputCol=\"label\")\n",
    "labeled_data = indexer.fit(labeled_data).transform(labeled_data)\n",
    "\n",
    "# Verify if label column exists now\n",
    "print(labeled_data.columns)\n",
    "labeled_data.select(\"english_product_category_name\", \"label\").show(5)\n"
   ],
   "id": "77c2535b7b507d",
   "outputs": [
    {
     "name": "stderr",
     "output_type": "stream",
     "text": [
      "                                                                                \r"
     ]
    },
    {
     "name": "stdout",
     "output_type": "stream",
     "text": [
      "['customer_key', 'sales_territory_group', 'order_quantity', 'sales_amount', 'freight', 'english_product_category_name', 'label']\n",
      "+-----------------------------+-----+\n",
      "|english_product_category_name|label|\n",
      "+-----------------------------+-----+\n",
      "|                  Accessories|  1.0|\n",
      "|                  Accessories|  1.0|\n",
      "|                  Accessories|  1.0|\n",
      "|                  Accessories|  1.0|\n",
      "|                  Accessories|  1.0|\n",
      "+-----------------------------+-----+\n",
      "only showing top 5 rows\n",
      "\n"
     ]
    }
   ],
   "execution_count": 28
  },
  {
   "metadata": {
    "ExecuteTime": {
     "end_time": "2025-01-13T05:06:41.369697Z",
     "start_time": "2025-01-13T05:06:39.380326Z"
    }
   },
   "cell_type": "code",
   "source": [
    "# Assemble features\n",
    "feature_cols = [\"order_quantity\", \"sales_amount\", \"freight\"]\n",
    "assembler = VectorAssembler(inputCols=feature_cols, outputCol=\"features\")\n",
    "labeled_data = assembler.transform(labeled_data)\n",
    "\n",
    "# Verify the features column\n",
    "labeled_data.select(\"features\", \"label\").show(5, truncate=False)\n"
   ],
   "id": "872fb63d266cb868",
   "outputs": [
    {
     "name": "stdout",
     "output_type": "stream",
     "text": [
      "+------------------+-----+\n",
      "|features          |label|\n",
      "+------------------+-----+\n",
      "|[1.0,34.99,0.8748]|1.0  |\n",
      "|[1.0,34.99,0.8748]|1.0  |\n",
      "|[1.0,34.99,0.8748]|1.0  |\n",
      "|[1.0,34.99,0.8748]|1.0  |\n",
      "|[1.0,34.99,0.8748]|1.0  |\n",
      "+------------------+-----+\n",
      "only showing top 5 rows\n",
      "\n"
     ]
    }
   ],
   "execution_count": 29
  },
  {
   "metadata": {
    "ExecuteTime": {
     "end_time": "2025-01-13T05:06:41.519674Z",
     "start_time": "2025-01-13T05:06:41.453975Z"
    }
   },
   "cell_type": "code",
   "source": [
    "# Train-Test Split\n",
    "train_data, test_data = labeled_data.randomSplit([0.8, 0.2], seed=42)\n"
   ],
   "id": "99752db4c2d67999",
   "outputs": [],
   "execution_count": 30
  },
  {
   "metadata": {
    "ExecuteTime": {
     "end_time": "2025-01-13T05:08:11.124645Z",
     "start_time": "2025-01-13T05:06:41.803573Z"
    }
   },
   "cell_type": "code",
   "source": [
    "\n",
    "# Train a Random Forest model\n",
    "rf = RandomForestClassifier(featuresCol=\"features\", labelCol=\"label\", numTrees=100)\n",
    "rf_model = rf.fit(train_data)\n",
    "\n",
    "# Make predictions\n",
    "predictions = rf_model.transform(test_data)\n",
    "\n",
    "# Evaluate the model\n",
    "evaluator = MulticlassClassificationEvaluator(labelCol=\"label\", predictionCol=\"prediction\", metricName=\"accuracy\")\n",
    "accuracy = evaluator.evaluate(predictions)\n",
    "print(f\"Accuracy: {accuracy}\")\n"
   ],
   "id": "849efd569e6fb4c6",
   "outputs": [
    {
     "name": "stderr",
     "output_type": "stream",
     "text": [
      "25/01/13 05:07:06 WARN MemoryStore: Not enough space to cache rdd_1051_0 in memory! (computed 160.6 MiB so far)\n",
      "25/01/13 05:07:06 WARN BlockManager: Persisting block rdd_1051_0 to disk instead.\n",
      "25/01/13 05:07:16 WARN MemoryStore: Not enough space to cache rdd_1051_0 in memory! (computed 362.4 MiB so far)\n",
      "25/01/13 05:07:25 WARN MemoryStore: Not enough space to cache rdd_1051_0 in memory! (computed 362.4 MiB so far)\n",
      "25/01/13 05:07:35 WARN MemoryStore: Not enough space to cache rdd_1051_0 in memory! (computed 362.4 MiB so far)\n",
      "25/01/13 05:07:45 WARN MemoryStore: Not enough space to cache rdd_1051_0 in memory! (computed 362.4 MiB so far)\n",
      "25/01/13 05:07:55 WARN MemoryStore: Not enough space to cache rdd_1051_0 in memory! (computed 362.4 MiB so far)\n",
      "[Stage 385:>                                                        (0 + 1) / 1]\r"
     ]
    },
    {
     "name": "stdout",
     "output_type": "stream",
     "text": [
      "Accuracy: 0.9820253922037092\n"
     ]
    },
    {
     "name": "stderr",
     "output_type": "stream",
     "text": [
      "                                                                                \r"
     ]
    }
   ],
   "execution_count": 31
  },
  {
   "metadata": {
    "ExecuteTime": {
     "end_time": "2025-01-13T05:08:11.374065Z",
     "start_time": "2025-01-13T05:08:11.368443Z"
    }
   },
   "cell_type": "code",
   "source": "#Evaluate Precision, Recall, and F1-Score",
   "id": "aeb295e79289cf6f",
   "outputs": [],
   "execution_count": 32
  },
  {
   "metadata": {
    "ExecuteTime": {
     "end_time": "2025-01-13T05:08:11.619057Z",
     "start_time": "2025-01-13T05:08:11.580089Z"
    }
   },
   "cell_type": "code",
   "source": [
    "# Compute precision, recall, and F1-score\n",
    "evaluator_f1 = MulticlassClassificationEvaluator(labelCol=\"label\", predictionCol=\"prediction\", metricName=\"f1\")\n",
    "evaluator_precision = MulticlassClassificationEvaluator(labelCol=\"label\", predictionCol=\"prediction\", metricName=\"weightedPrecision\")\n",
    "evaluator_recall = MulticlassClassificationEvaluator(labelCol=\"label\", predictionCol=\"prediction\", metricName=\"weightedRecall\")\n"
   ],
   "id": "c8a98bf55bf6c9",
   "outputs": [],
   "execution_count": 33
  },
  {
   "metadata": {
    "ExecuteTime": {
     "end_time": "2025-01-13T05:08:28.213415Z",
     "start_time": "2025-01-13T05:08:11.703807Z"
    }
   },
   "cell_type": "code",
   "source": [
    "f1_score = evaluator_f1.evaluate(predictions)\n",
    "precision = evaluator_precision.evaluate(predictions)\n",
    "recall = evaluator_recall.evaluate(predictions)\n",
    "\n",
    "print(f\"F1-Score: {f1_score}\")\n",
    "print(f\"Precision: {precision}\")\n",
    "print(f\"Recall: {recall}\")"
   ],
   "id": "9cdb9cc798ce209f",
   "outputs": [
    {
     "name": "stderr",
     "output_type": "stream",
     "text": [
      "[Stage 424:>                                                        (0 + 1) / 1]\r"
     ]
    },
    {
     "name": "stdout",
     "output_type": "stream",
     "text": [
      "F1-Score: 0.9818160917889468\n",
      "Precision: 0.9817932508605011\n",
      "Recall: 0.9820253922037092\n"
     ]
    },
    {
     "name": "stderr",
     "output_type": "stream",
     "text": [
      "                                                                                \r"
     ]
    }
   ],
   "execution_count": 34
  },
  {
   "metadata": {
    "ExecuteTime": {
     "end_time": "2025-01-13T05:08:35.776163Z",
     "start_time": "2025-01-13T05:08:28.324258Z"
    }
   },
   "cell_type": "code",
   "source": [
    "#Confusion Matrix for Model Performance\n",
    "\n",
    "# Convert Spark Predictions to Pandas\n",
    "predictions_pd = predictions.select(\"label\", \"prediction\").toPandas()\n",
    "\n",
    "# Generate Confusion Matrix\n",
    "conf_matrix = confusion_matrix(predictions_pd[\"label\"], predictions_pd[\"prediction\"])\n",
    "\n",
    "# Plot Confusion Matrix\n",
    "plt.figure(figsize=(8, 6))\n",
    "sns.heatmap(conf_matrix, annot=True, fmt=\"d\", cmap=\"Blues\", xticklabels=sorted(predictions_pd[\"label\"].unique()), yticklabels=sorted(predictions_pd[\"label\"].unique()))\n",
    "plt.xlabel(\"Predicted Category\")\n",
    "plt.ylabel(\"Actual Category\")\n",
    "plt.title(\"Confusion Matrix for Product Category Prediction\")\n",
    "plt.show()\n"
   ],
   "id": "a6a7c3c3ec34c944",
   "outputs": [
    {
     "name": "stderr",
     "output_type": "stream",
     "text": [
      "                                                                                \r"
     ]
    },
    {
     "data": {
      "text/plain": [
       "<Figure size 800x600 with 2 Axes>"
      ],
      "image/png": "[encoded data removed]"
     },
     "metadata": {},
     "output_type": "display_data"
    }
   ],
   "execution_count": 35
  },
  {
   "metadata": {},
   "cell_type": "markdown",
   "source": [
    "#### Feature Importance Analysis\n",
    "Random Forest models provide feature importance scores. You can use them to understand which factors (e.g., order_quantity, sales_amount, freight) are most influential in predicting product categories."
   ],
   "id": "ca9d140a65489d95"
  },
  {
   "metadata": {
    "ExecuteTime": {
     "end_time": "2025-01-13T05:08:36.049532Z",
     "start_time": "2025-01-13T05:08:35.847344Z"
    }
   },
   "cell_type": "code",
   "source": [
    "# Extract feature importance\n",
    "\n",
    "feature_importances = rf_model.featureImportances.toArray()\n",
    "feature_names = [\"order_quantity\", \"sales_amount\", \"freight\"]\n",
    "\n",
    "# Convert to DataFrame for visualization\n",
    "importance_df = pd.DataFrame({\"Feature\": feature_names, \"Importance\": feature_importances})\n",
    "importance_df = importance_df.sort_values(by=\"Importance\", ascending=False)\n",
    "\n",
    "# Plot feature importance\n",
    "plt.figure(figsize=(8, 4))\n",
    "plt.barh(importance_df[\"Feature\"], importance_df[\"Importance\"], color=\"skyblue\")\n",
    "plt.xlabel(\"Importance Score\")\n",
    "plt.ylabel(\"Feature Name\")\n",
    "plt.title(\"Feature Importance in Random Forest Model\")\n",
    "plt.show()\n"
   ],
   "id": "14cf12365d1940e2",
   "outputs": [
    {
     "data": {
      "text/plain": [
       "<Figure size 800x400 with 1 Axes>"
      ],
      "image/png": "[encoded data removed]"
     },
     "metadata": {},
     "output_type": "display_data"
    }
   ],
   "execution_count": 36
  },
  {
   "metadata": {},
   "cell_type": "markdown",
   "source": "#### Hyperparameter Tuning (Model Optimization)",
   "id": "8beeb94fcf71d34f"
  },
  {
   "metadata": {
    "ExecuteTime": {
     "end_time": "2025-01-13T05:08:36.198121Z",
     "start_time": "2025-01-13T05:08:36.175236Z"
    }
   },
   "cell_type": "code",
   "source": [
    "\n",
    "# Define model\n",
    "rf = RandomForestClassifier(featuresCol=\"features\", labelCol=\"label\")\n",
    "\n",
    "# Create hyperparameter grid\n",
    "paramGrid = ParamGridBuilder() \\\n",
    "    .addGrid(rf.numTrees, [50, 100, 150]) \\\n",
    "    .addGrid(rf.maxDepth, [5, 10, 15]) \\\n",
    "    .addGrid(rf.minInstancesPerNode, [1, 5, 10]) \\\n",
    "    .build()"
   ],
   "id": "2d280cff60574e35",
   "outputs": [],
   "execution_count": 37
  },
  {
   "metadata": {
    "ExecuteTime": {
     "end_time": "2025-01-13T05:08:36.301726Z",
     "start_time": "2025-01-13T05:08:36.287343Z"
    }
   },
   "cell_type": "code",
   "source": [
    "# Define cross-validation\n",
    "crossval = CrossValidator(\n",
    "    estimator=rf,\n",
    "    estimatorParamMaps=paramGrid,\n",
    "    evaluator=MulticlassClassificationEvaluator(labelCol=\"label\", predictionCol=\"prediction\", metricName=\"accuracy\"),\n",
    "    numFolds=3\n",
    ")\n"
   ],
   "id": "d074f972cc8138bc",
   "outputs": [],
   "execution_count": 38
  },
  {
   "metadata": {
    "ExecuteTime": {
     "end_time": "2025-01-13T06:46:52.400816Z",
     "start_time": "2025-01-13T05:08:36.385413Z"
    }
   },
   "cell_type": "code",
   "source": [
    "\n",
    "# Fit the model\n",
    "cv_model = crossval.fit(train_data)"
   ],
   "id": "4f1de719840e697c",
   "outputs": [
    {
     "name": "stderr",
     "output_type": "stream",
     "text": [
      "25/01/13 05:30:44 WARN MemoryStore: Not enough space to cache rdd_2454_174 in memory! (computed 148.3 MiB so far)\n",
      "25/01/13 05:30:44 WARN BlockManager: Persisting block rdd_2454_174 to disk instead.\n",
      "25/01/13 05:30:46 WARN MemoryStore: Not enough space to cache rdd_2454_174 in memory! (computed 148.3 MiB so far)\n",
      "25/01/13 05:31:04 WARN MemoryStore: Not enough space to cache rdd_2454_174 in memory! (computed 148.3 MiB so far)\n",
      "25/01/13 05:31:21 WARN MemoryStore: Not enough space to cache rdd_2454_174 in memory! (computed 148.3 MiB so far)\n",
      "25/01/13 05:31:41 WARN MemoryStore: Not enough space to cache rdd_2454_174 in memory! (computed 148.3 MiB so far)\n",
      "25/01/13 05:32:01 WARN MemoryStore: Not enough space to cache rdd_2454_174 in memory! (computed 148.3 MiB so far)\n",
      "25/01/13 05:32:37 WARN MemoryStore: Not enough space to cache rdd_2510_174 in memory! (computed 148.3 MiB so far)\n",
      "25/01/13 05:32:37 WARN BlockManager: Persisting block rdd_2510_174 to disk instead.\n",
      "25/01/13 05:32:40 WARN MemoryStore: Not enough space to cache rdd_2510_174 in memory! (computed 148.3 MiB so far)\n",
      "25/01/13 05:32:55 WARN MemoryStore: Not enough space to cache rdd_2510_174 in memory! (computed 148.3 MiB so far)\n",
      "25/01/13 05:33:13 WARN MemoryStore: Not enough space to cache rdd_2510_174 in memory! (computed 148.3 MiB so far)\n",
      "25/01/13 05:33:32 WARN MemoryStore: Not enough space to cache rdd_2510_174 in memory! (computed 148.3 MiB so far)\n",
      "25/01/13 05:33:52 WARN MemoryStore: Not enough space to cache rdd_2510_174 in memory! (computed 148.3 MiB so far)\n",
      "25/01/13 05:34:25 WARN MemoryStore: Not enough space to cache rdd_2566_174 in memory! (computed 148.3 MiB so far)\n",
      "25/01/13 05:34:25 WARN BlockManager: Persisting block rdd_2566_174 to disk instead.\n",
      "25/01/13 05:34:28 WARN MemoryStore: Not enough space to cache rdd_2566_174 in memory! (computed 148.3 MiB so far)\n",
      "25/01/13 05:34:43 WARN MemoryStore: Not enough space to cache rdd_2566_174 in memory! (computed 148.3 MiB so far)\n",
      "25/01/13 05:35:00 WARN MemoryStore: Not enough space to cache rdd_2566_174 in memory! (computed 148.3 MiB so far)\n",
      "25/01/13 05:35:20 WARN MemoryStore: Not enough space to cache rdd_2566_174 in memory! (computed 148.3 MiB so far)\n",
      "25/01/13 05:35:39 WARN MemoryStore: Not enough space to cache rdd_2566_174 in memory! (computed 148.3 MiB so far)\n",
      "25/01/13 05:36:12 WARN MemoryStore: Not enough space to cache rdd_2622_174 in memory! (computed 148.3 MiB so far)\n",
      "25/01/13 05:36:12 WARN BlockManager: Persisting block rdd_2622_174 to disk instead.\n",
      "25/01/13 05:36:14 WARN MemoryStore: Not enough space to cache rdd_2622_174 in memory! (computed 148.3 MiB so far)\n",
      "25/01/13 05:36:30 WARN MemoryStore: Not enough space to cache rdd_2622_174 in memory! (computed 148.3 MiB so far)\n",
      "25/01/13 05:36:47 WARN MemoryStore: Not enough space to cache rdd_2622_174 in memory! (computed 148.3 MiB so far)\n",
      "25/01/13 05:37:07 WARN MemoryStore: Not enough space to cache rdd_2622_174 in memory! (computed 148.3 MiB so far)\n",
      "25/01/13 05:37:28 WARN MemoryStore: Not enough space to cache rdd_2622_174 in memory! (computed 148.3 MiB so far)\n",
      "25/01/13 05:37:48 WARN MemoryStore: Not enough space to cache rdd_2622_174 in memory! (computed 148.3 MiB so far)\n",
      "25/01/13 05:38:20 WARN MemoryStore: Not enough space to cache rdd_2681_174 in memory! (computed 148.3 MiB so far)\n",
      "25/01/13 05:38:20 WARN BlockManager: Persisting block rdd_2681_174 to disk instead.\n",
      "25/01/13 05:38:23 WARN MemoryStore: Not enough space to cache rdd_2681_174 in memory! (computed 148.3 MiB so far)\n",
      "25/01/13 05:38:40 WARN MemoryStore: Not enough space to cache rdd_2681_174 in memory! (computed 148.3 MiB so far)\n",
      "25/01/13 05:38:56 WARN MemoryStore: Not enough space to cache rdd_2681_174 in memory! (computed 148.3 MiB so far)\n",
      "25/01/13 05:39:16 WARN MemoryStore: Not enough space to cache rdd_2681_174 in memory! (computed 148.3 MiB so far)\n",
      "25/01/13 05:39:37 WARN MemoryStore: Not enough space to cache rdd_2681_174 in memory! (computed 148.3 MiB so far)\n",
      "25/01/13 05:39:56 WARN MemoryStore: Not enough space to cache rdd_2681_174 in memory! (computed 148.3 MiB so far)\n",
      "25/01/13 05:40:29 WARN MemoryStore: Not enough space to cache rdd_2740_174 in memory! (computed 148.3 MiB so far)\n",
      "25/01/13 05:40:29 WARN BlockManager: Persisting block rdd_2740_174 to disk instead.\n",
      "25/01/13 05:40:32 WARN MemoryStore: Not enough space to cache rdd_2740_174 in memory! (computed 148.3 MiB so far)\n",
      "25/01/13 05:40:49 WARN MemoryStore: Not enough space to cache rdd_2740_174 in memory! (computed 148.3 MiB so far)\n",
      "25/01/13 05:41:07 WARN MemoryStore: Not enough space to cache rdd_2740_174 in memory! (computed 148.3 MiB so far)\n",
      "25/01/13 05:41:26 WARN MemoryStore: Not enough space to cache rdd_2740_174 in memory! (computed 148.3 MiB so far)\n",
      "25/01/13 05:41:46 WARN MemoryStore: Not enough space to cache rdd_2740_174 in memory! (computed 148.3 MiB so far)\n",
      "25/01/13 05:42:04 WARN MemoryStore: Not enough space to cache rdd_2740_174 in memory! (computed 148.3 MiB so far)\n",
      "25/01/13 05:42:37 WARN MemoryStore: Not enough space to cache rdd_2799_174 in memory! (computed 148.3 MiB so far)\n",
      "25/01/13 05:42:37 WARN BlockManager: Persisting block rdd_2799_174 to disk instead.\n",
      "25/01/13 05:42:41 WARN MemoryStore: Not enough space to cache rdd_2799_174 in memory! (computed 148.3 MiB so far)\n",
      "25/01/13 05:42:56 WARN MemoryStore: Not enough space to cache rdd_2799_174 in memory! (computed 148.3 MiB so far)\n",
      "25/01/13 05:43:13 WARN MemoryStore: Not enough space to cache rdd_2799_174 in memory! (computed 148.3 MiB so far)\n",
      "25/01/13 05:43:33 WARN MemoryStore: Not enough space to cache rdd_2799_174 in memory! (computed 148.3 MiB so far)\n",
      "25/01/13 05:43:57 WARN MemoryStore: Not enough space to cache rdd_2799_174 in memory! (computed 148.3 MiB so far)\n",
      "25/01/13 05:44:17 WARN MemoryStore: Not enough space to cache rdd_2799_174 in memory! (computed 148.3 MiB so far)\n",
      "25/01/13 05:44:51 WARN MemoryStore: Not enough space to cache rdd_2858_174 in memory! (computed 148.3 MiB so far)\n",
      "25/01/13 05:44:51 WARN BlockManager: Persisting block rdd_2858_174 to disk instead.\n",
      "25/01/13 05:44:53 WARN MemoryStore: Not enough space to cache rdd_2858_174 in memory! (computed 148.3 MiB so far)\n",
      "25/01/13 05:45:09 WARN MemoryStore: Not enough space to cache rdd_2858_174 in memory! (computed 148.3 MiB so far)\n",
      "25/01/13 05:45:24 WARN MemoryStore: Not enough space to cache rdd_2858_174 in memory! (computed 148.3 MiB so far)\n",
      "25/01/13 05:45:44 WARN MemoryStore: Not enough space to cache rdd_2858_174 in memory! (computed 148.3 MiB so far)\n",
      "25/01/13 05:46:07 WARN MemoryStore: Not enough space to cache rdd_2858_174 in memory! (computed 148.3 MiB so far)\n",
      "25/01/13 05:46:26 WARN MemoryStore: Not enough space to cache rdd_2858_174 in memory! (computed 148.3 MiB so far)\n",
      "25/01/13 05:46:59 WARN MemoryStore: Not enough space to cache rdd_2917_174 in memory! (computed 148.3 MiB so far)\n",
      "25/01/13 05:46:59 WARN BlockManager: Persisting block rdd_2917_174 to disk instead.\n",
      "25/01/13 05:47:02 WARN MemoryStore: Not enough space to cache rdd_2917_174 in memory! (computed 148.3 MiB so far)\n",
      "25/01/13 05:47:17 WARN MemoryStore: Not enough space to cache rdd_2917_174 in memory! (computed 148.3 MiB so far)\n",
      "25/01/13 05:47:33 WARN MemoryStore: Not enough space to cache rdd_2917_174 in memory! (computed 148.3 MiB so far)\n",
      "25/01/13 05:47:52 WARN MemoryStore: Not enough space to cache rdd_2917_174 in memory! (computed 148.3 MiB so far)\n",
      "25/01/13 05:48:13 WARN MemoryStore: Not enough space to cache rdd_2917_174 in memory! (computed 148.3 MiB so far)\n",
      "25/01/13 05:48:33 WARN MemoryStore: Not enough space to cache rdd_2917_174 in memory! (computed 148.3 MiB so far)\n",
      "25/01/13 05:57:57 WARN MemoryStore: Not enough space to cache rdd_4093_2 in memory! (computed 98.9 MiB so far)\n",
      "25/01/13 05:57:57 WARN MemoryStore: Not enough space to cache rdd_4093_1 in memory! (computed 98.9 MiB so far)\n",
      "25/01/13 05:57:57 WARN BlockManager: Persisting block rdd_4093_2 to disk instead.\n",
      "25/01/13 05:57:57 WARN BlockManager: Persisting block rdd_4093_1 to disk instead.\n",
      "25/01/13 05:58:01 WARN MemoryStore: Not enough space to cache rdd_4093_1 in memory! (computed 62.5 MiB so far)\n",
      "25/01/13 05:58:09 WARN MemoryStore: Not enough space to cache rdd_4093_1 in memory! (computed 98.9 MiB so far)\n",
      "25/01/13 05:58:18 WARN MemoryStore: Not enough space to cache rdd_4093_1 in memory! (computed 98.9 MiB so far)\n",
      "25/01/13 05:58:25 WARN MemoryStore: Not enough space to cache rdd_4093_1 in memory! (computed 98.9 MiB so far)\n",
      "25/01/13 05:58:34 WARN MemoryStore: Not enough space to cache rdd_4093_1 in memory! (computed 98.9 MiB so far)\n",
      "25/01/13 05:58:52 WARN MemoryStore: Not enough space to cache rdd_4149_0 in memory! (computed 98.9 MiB so far)\n",
      "25/01/13 05:58:52 WARN BlockManager: Persisting block rdd_4149_0 to disk instead.\n",
      "25/01/13 05:58:52 WARN MemoryStore: Not enough space to cache rdd_4149_1 in memory! (computed 98.9 MiB so far)\n",
      "25/01/13 05:58:52 WARN BlockManager: Persisting block rdd_4149_1 to disk instead.\n",
      "25/01/13 05:59:47 WARN MemoryStore: Not enough space to cache rdd_4205_1 in memory! (computed 98.9 MiB so far)\n",
      "25/01/13 05:59:47 WARN BlockManager: Persisting block rdd_4205_1 to disk instead.\n",
      "25/01/13 05:59:47 WARN MemoryStore: Not enough space to cache rdd_4205_2 in memory! (computed 98.9 MiB so far)\n",
      "25/01/13 05:59:47 WARN BlockManager: Persisting block rdd_4205_2 to disk instead.\n",
      "25/01/13 05:59:50 WARN MemoryStore: Not enough space to cache rdd_4205_1 in memory! (computed 62.5 MiB so far)\n",
      "25/01/13 05:59:58 WARN MemoryStore: Not enough space to cache rdd_4205_1 in memory! (computed 98.9 MiB so far)\n",
      "25/01/13 06:00:06 WARN MemoryStore: Not enough space to cache rdd_4205_1 in memory! (computed 98.9 MiB so far)\n",
      "25/01/13 06:00:14 WARN MemoryStore: Not enough space to cache rdd_4205_1 in memory! (computed 98.9 MiB so far)\n",
      "25/01/13 06:00:22 WARN MemoryStore: Not enough space to cache rdd_4205_1 in memory! (computed 98.9 MiB so far)\n",
      "25/01/13 06:00:40 WARN MemoryStore: Not enough space to cache rdd_4261_1 in memory! (computed 98.9 MiB so far)\n",
      "25/01/13 06:00:40 WARN BlockManager: Persisting block rdd_4261_1 to disk instead.\n",
      "25/01/13 06:00:40 WARN MemoryStore: Not enough space to cache rdd_4261_2 in memory! (computed 98.9 MiB so far)\n",
      "25/01/13 06:00:40 WARN BlockManager: Persisting block rdd_4261_2 to disk instead.\n",
      "25/01/13 06:00:43 WARN MemoryStore: Not enough space to cache rdd_4261_1 in memory! (computed 62.5 MiB so far)\n",
      "25/01/13 06:00:52 WARN MemoryStore: Not enough space to cache rdd_4261_1 in memory! (computed 98.9 MiB so far)\n",
      "25/01/13 06:01:02 WARN MemoryStore: Not enough space to cache rdd_4261_1 in memory! (computed 98.9 MiB so far)\n",
      "25/01/13 06:01:10 WARN MemoryStore: Not enough space to cache rdd_4261_1 in memory! (computed 98.9 MiB so far)\n",
      "25/01/13 06:01:18 WARN MemoryStore: Not enough space to cache rdd_4261_1 in memory! (computed 98.9 MiB so far)\n",
      "25/01/13 06:01:26 WARN MemoryStore: Not enough space to cache rdd_4261_1 in memory! (computed 98.9 MiB so far)\n",
      "25/01/13 06:01:45 WARN MemoryStore: Not enough space to cache rdd_4320_1 in memory! (computed 98.9 MiB so far)\n",
      "25/01/13 06:01:45 WARN BlockManager: Persisting block rdd_4320_1 to disk instead.\n",
      "25/01/13 06:01:45 WARN MemoryStore: Not enough space to cache rdd_4320_2 in memory! (computed 98.9 MiB so far)\n",
      "25/01/13 06:01:45 WARN BlockManager: Persisting block rdd_4320_2 to disk instead.\n",
      "25/01/13 06:01:48 WARN MemoryStore: Not enough space to cache rdd_4320_1 in memory! (computed 62.5 MiB so far)\n",
      "25/01/13 06:01:56 WARN MemoryStore: Not enough space to cache rdd_4320_1 in memory! (computed 98.9 MiB so far)\n",
      "25/01/13 06:02:04 WARN MemoryStore: Not enough space to cache rdd_4320_1 in memory! (computed 98.9 MiB so far)\n",
      "25/01/13 06:02:12 WARN MemoryStore: Not enough space to cache rdd_4320_1 in memory! (computed 98.9 MiB so far)\n",
      "25/01/13 06:02:20 WARN MemoryStore: Not enough space to cache rdd_4320_1 in memory! (computed 98.9 MiB so far)\n",
      "25/01/13 06:02:29 WARN MemoryStore: Not enough space to cache rdd_4320_1 in memory! (computed 98.9 MiB so far)\n",
      "25/01/13 06:02:48 WARN MemoryStore: Not enough space to cache rdd_4379_1 in memory! (computed 98.9 MiB so far)\n",
      "25/01/13 06:02:48 WARN BlockManager: Persisting block rdd_4379_1 to disk instead.\n",
      "25/01/13 06:02:48 WARN MemoryStore: Not enough space to cache rdd_4379_2 in memory! (computed 98.9 MiB so far)\n",
      "25/01/13 06:02:48 WARN BlockManager: Persisting block rdd_4379_2 to disk instead.\n",
      "25/01/13 06:02:51 WARN MemoryStore: Not enough space to cache rdd_4379_1 in memory! (computed 62.5 MiB so far)\n",
      "25/01/13 06:02:59 WARN MemoryStore: Not enough space to cache rdd_4379_1 in memory! (computed 98.9 MiB so far)\n",
      "25/01/13 06:03:07 WARN MemoryStore: Not enough space to cache rdd_4379_1 in memory! (computed 98.9 MiB so far)\n",
      "25/01/13 06:03:15 WARN MemoryStore: Not enough space to cache rdd_4379_1 in memory! (computed 98.9 MiB so far)\n",
      "25/01/13 06:03:24 WARN MemoryStore: Not enough space to cache rdd_4379_1 in memory! (computed 98.9 MiB so far)\n",
      "25/01/13 06:03:32 WARN MemoryStore: Not enough space to cache rdd_4379_1 in memory! (computed 98.9 MiB so far)\n",
      "25/01/13 06:03:51 WARN MemoryStore: Not enough space to cache rdd_4438_2 in memory! (computed 98.9 MiB so far)\n",
      "25/01/13 06:03:51 WARN BlockManager: Persisting block rdd_4438_2 to disk instead.\n",
      "25/01/13 06:03:51 WARN MemoryStore: Not enough space to cache rdd_4438_1 in memory! (computed 98.9 MiB so far)\n",
      "25/01/13 06:03:51 WARN BlockManager: Persisting block rdd_4438_1 to disk instead.\n",
      "25/01/13 06:03:54 WARN MemoryStore: Not enough space to cache rdd_4438_1 in memory! (computed 62.5 MiB so far)\n",
      "25/01/13 06:04:02 WARN MemoryStore: Not enough space to cache rdd_4438_1 in memory! (computed 98.9 MiB so far)\n",
      "25/01/13 06:04:10 WARN MemoryStore: Not enough space to cache rdd_4438_1 in memory! (computed 98.9 MiB so far)\n",
      "25/01/13 06:04:18 WARN MemoryStore: Not enough space to cache rdd_4438_1 in memory! (computed 98.9 MiB so far)\n",
      "25/01/13 06:04:26 WARN MemoryStore: Not enough space to cache rdd_4438_1 in memory! (computed 98.9 MiB so far)\n",
      "25/01/13 06:04:33 WARN MemoryStore: Not enough space to cache rdd_4438_1 in memory! (computed 98.9 MiB so far)\n",
      "25/01/13 06:04:51 WARN MemoryStore: Not enough space to cache rdd_4497_1 in memory! (computed 98.9 MiB so far)\n",
      "25/01/13 06:04:51 WARN BlockManager: Persisting block rdd_4497_1 to disk instead.\n",
      "25/01/13 06:04:51 WARN MemoryStore: Not enough space to cache rdd_4497_0 in memory! (computed 98.9 MiB so far)\n",
      "25/01/13 06:04:51 WARN BlockManager: Persisting block rdd_4497_0 to disk instead.\n",
      "25/01/13 06:05:53 WARN MemoryStore: Not enough space to cache rdd_4556_2 in memory! (computed 98.9 MiB so far)\n",
      "25/01/13 06:05:53 WARN BlockManager: Persisting block rdd_4556_2 to disk instead.\n",
      "25/01/13 06:05:53 WARN MemoryStore: Not enough space to cache rdd_4556_0 in memory! (computed 98.9 MiB so far)\n",
      "25/01/13 06:05:53 WARN BlockManager: Persisting block rdd_4556_0 to disk instead.\n",
      "25/01/13 06:28:16 WARN MemoryStore: Not enough space to cache rdd_5735_174 in memory! (computed 148.3 MiB so far)\n",
      "25/01/13 06:28:16 WARN BlockManager: Persisting block rdd_5735_174 to disk instead.\n",
      "25/01/13 06:28:19 WARN MemoryStore: Not enough space to cache rdd_5735_174 in memory! (computed 148.3 MiB so far)\n",
      "25/01/13 06:28:35 WARN MemoryStore: Not enough space to cache rdd_5735_174 in memory! (computed 148.3 MiB so far)\n",
      "25/01/13 06:28:51 WARN MemoryStore: Not enough space to cache rdd_5735_174 in memory! (computed 148.3 MiB so far)\n",
      "25/01/13 06:29:11 WARN MemoryStore: Not enough space to cache rdd_5735_174 in memory! (computed 148.3 MiB so far)\n",
      "25/01/13 06:29:30 WARN MemoryStore: Not enough space to cache rdd_5735_174 in memory! (computed 148.3 MiB so far)\n",
      "25/01/13 06:30:02 WARN MemoryStore: Not enough space to cache rdd_5791_174 in memory! (computed 148.3 MiB so far)\n",
      "25/01/13 06:30:02 WARN BlockManager: Persisting block rdd_5791_174 to disk instead.\n",
      "25/01/13 06:30:05 WARN MemoryStore: Not enough space to cache rdd_5791_174 in memory! (computed 148.3 MiB so far)\n",
      "25/01/13 06:30:20 WARN MemoryStore: Not enough space to cache rdd_5791_174 in memory! (computed 148.3 MiB so far)\n",
      "25/01/13 06:30:35 WARN MemoryStore: Not enough space to cache rdd_5791_174 in memory! (computed 148.3 MiB so far)\n",
      "25/01/13 06:30:54 WARN MemoryStore: Not enough space to cache rdd_5791_174 in memory! (computed 148.3 MiB so far)\n",
      "25/01/13 06:31:14 WARN MemoryStore: Not enough space to cache rdd_5791_174 in memory! (computed 148.3 MiB so far)\n",
      "25/01/13 06:31:47 WARN MemoryStore: Not enough space to cache rdd_5847_174 in memory! (computed 148.3 MiB so far)\n",
      "25/01/13 06:31:47 WARN BlockManager: Persisting block rdd_5847_174 to disk instead.\n",
      "25/01/13 06:31:50 WARN MemoryStore: Not enough space to cache rdd_5847_174 in memory! (computed 148.3 MiB so far)\n",
      "25/01/13 06:32:06 WARN MemoryStore: Not enough space to cache rdd_5847_174 in memory! (computed 148.3 MiB so far)\n",
      "25/01/13 06:32:23 WARN MemoryStore: Not enough space to cache rdd_5847_174 in memory! (computed 148.3 MiB so far)\n",
      "25/01/13 06:32:43 WARN MemoryStore: Not enough space to cache rdd_5847_174 in memory! (computed 148.3 MiB so far)\n",
      "25/01/13 06:33:02 WARN MemoryStore: Not enough space to cache rdd_5847_174 in memory! (computed 148.3 MiB so far)\n",
      "25/01/13 06:33:35 WARN MemoryStore: Not enough space to cache rdd_5903_174 in memory! (computed 148.3 MiB so far)\n",
      "25/01/13 06:33:35 WARN BlockManager: Persisting block rdd_5903_174 to disk instead.\n",
      "25/01/13 06:33:38 WARN MemoryStore: Not enough space to cache rdd_5903_174 in memory! (computed 148.3 MiB so far)\n",
      "25/01/13 06:33:53 WARN MemoryStore: Not enough space to cache rdd_5903_174 in memory! (computed 148.3 MiB so far)\n",
      "25/01/13 06:34:10 WARN MemoryStore: Not enough space to cache rdd_5903_174 in memory! (computed 148.3 MiB so far)\n",
      "25/01/13 06:34:30 WARN MemoryStore: Not enough space to cache rdd_5903_174 in memory! (computed 148.3 MiB so far)\n",
      "25/01/13 06:34:51 WARN MemoryStore: Not enough space to cache rdd_5903_174 in memory! (computed 148.3 MiB so far)\n",
      "25/01/13 06:35:11 WARN MemoryStore: Not enough space to cache rdd_5903_174 in memory! (computed 148.3 MiB so far)\n",
      "25/01/13 06:35:42 WARN MemoryStore: Not enough space to cache rdd_5962_174 in memory! (computed 148.3 MiB so far)\n",
      "25/01/13 06:35:42 WARN BlockManager: Persisting block rdd_5962_174 to disk instead.\n",
      "25/01/13 06:35:45 WARN MemoryStore: Not enough space to cache rdd_5962_174 in memory! (computed 148.3 MiB so far)\n",
      "25/01/13 06:36:01 WARN MemoryStore: Not enough space to cache rdd_5962_174 in memory! (computed 148.3 MiB so far)\n",
      "25/01/13 06:36:20 WARN MemoryStore: Not enough space to cache rdd_5962_174 in memory! (computed 148.3 MiB so far)\n",
      "25/01/13 06:36:40 WARN MemoryStore: Not enough space to cache rdd_5962_174 in memory! (computed 148.3 MiB so far)\n",
      "25/01/13 06:37:01 WARN MemoryStore: Not enough space to cache rdd_5962_174 in memory! (computed 148.3 MiB so far)\n",
      "25/01/13 06:37:22 WARN MemoryStore: Not enough space to cache rdd_5962_174 in memory! (computed 148.3 MiB so far)\n",
      "25/01/13 06:37:55 WARN MemoryStore: Not enough space to cache rdd_6021_174 in memory! (computed 148.3 MiB so far)\n",
      "25/01/13 06:37:55 WARN BlockManager: Persisting block rdd_6021_174 to disk instead.\n",
      "25/01/13 06:37:58 WARN MemoryStore: Not enough space to cache rdd_6021_174 in memory! (computed 148.3 MiB so far)\n",
      "25/01/13 06:38:15 WARN MemoryStore: Not enough space to cache rdd_6021_174 in memory! (computed 148.3 MiB so far)\n",
      "25/01/13 06:38:32 WARN MemoryStore: Not enough space to cache rdd_6021_174 in memory! (computed 148.3 MiB so far)\n",
      "25/01/13 06:38:51 WARN MemoryStore: Not enough space to cache rdd_6021_174 in memory! (computed 148.3 MiB so far)\n",
      "25/01/13 06:39:12 WARN MemoryStore: Not enough space to cache rdd_6021_174 in memory! (computed 148.3 MiB so far)\n",
      "25/01/13 06:39:31 WARN MemoryStore: Not enough space to cache rdd_6021_174 in memory! (computed 148.3 MiB so far)\n",
      "25/01/13 06:40:04 WARN MemoryStore: Not enough space to cache rdd_6080_174 in memory! (computed 148.3 MiB so far)\n",
      "25/01/13 06:40:04 WARN BlockManager: Persisting block rdd_6080_174 to disk instead.\n",
      "25/01/13 06:40:06 WARN MemoryStore: Not enough space to cache rdd_6080_174 in memory! (computed 148.3 MiB so far)\n",
      "25/01/13 06:40:21 WARN MemoryStore: Not enough space to cache rdd_6080_174 in memory! (computed 148.3 MiB so far)\n",
      "25/01/13 06:40:39 WARN MemoryStore: Not enough space to cache rdd_6080_174 in memory! (computed 148.3 MiB so far)\n",
      "25/01/13 06:40:59 WARN MemoryStore: Not enough space to cache rdd_6080_174 in memory! (computed 148.3 MiB so far)\n",
      "25/01/13 06:41:19 WARN MemoryStore: Not enough space to cache rdd_6080_174 in memory! (computed 148.3 MiB so far)\n",
      "25/01/13 06:41:38 WARN MemoryStore: Not enough space to cache rdd_6080_174 in memory! (computed 148.3 MiB so far)\n",
      "25/01/13 06:42:11 WARN MemoryStore: Not enough space to cache rdd_6139_174 in memory! (computed 148.3 MiB so far)\n",
      "25/01/13 06:42:11 WARN BlockManager: Persisting block rdd_6139_174 to disk instead.\n",
      "25/01/13 06:42:14 WARN MemoryStore: Not enough space to cache rdd_6139_174 in memory! (computed 148.3 MiB so far)\n",
      "25/01/13 06:42:30 WARN MemoryStore: Not enough space to cache rdd_6139_174 in memory! (computed 148.3 MiB so far)\n",
      "25/01/13 06:42:46 WARN MemoryStore: Not enough space to cache rdd_6139_174 in memory! (computed 148.3 MiB so far)\n",
      "25/01/13 06:43:06 WARN MemoryStore: Not enough space to cache rdd_6139_174 in memory! (computed 148.3 MiB so far)\n",
      "25/01/13 06:43:26 WARN MemoryStore: Not enough space to cache rdd_6139_174 in memory! (computed 148.3 MiB so far)\n",
      "25/01/13 06:43:44 WARN MemoryStore: Not enough space to cache rdd_6139_174 in memory! (computed 148.3 MiB so far)\n",
      "25/01/13 06:44:16 WARN MemoryStore: Not enough space to cache rdd_6198_174 in memory! (computed 148.3 MiB so far)\n",
      "25/01/13 06:44:16 WARN BlockManager: Persisting block rdd_6198_174 to disk instead.\n",
      "25/01/13 06:44:18 WARN MemoryStore: Not enough space to cache rdd_6198_174 in memory! (computed 148.3 MiB so far)\n",
      "25/01/13 06:44:33 WARN MemoryStore: Not enough space to cache rdd_6198_174 in memory! (computed 148.3 MiB so far)\n",
      "25/01/13 06:44:51 WARN MemoryStore: Not enough space to cache rdd_6198_174 in memory! (computed 148.3 MiB so far)\n",
      "25/01/13 06:45:11 WARN MemoryStore: Not enough space to cache rdd_6198_174 in memory! (computed 148.3 MiB so far)\n",
      "25/01/13 06:45:31 WARN MemoryStore: Not enough space to cache rdd_6198_174 in memory! (computed 148.3 MiB so far)\n",
      "25/01/13 06:45:51 WARN MemoryStore: Not enough space to cache rdd_6198_174 in memory! (computed 148.3 MiB so far)\n",
      "25/01/13 06:46:20 WARN MemoryStore: Not enough space to cache rdd_6322_0 in memory! (computed 148.2 MiB so far)\n",
      "25/01/13 06:46:20 WARN BlockManager: Persisting block rdd_6322_0 to disk instead.\n",
      "                                                                                \r"
     ]
    }
   ],
   "execution_count": 39
  },
  {
   "metadata": {
    "ExecuteTime": {
     "end_time": "2025-01-13T06:46:57.734948Z",
     "start_time": "2025-01-13T06:46:52.655944Z"
    }
   },
   "cell_type": "code",
   "source": [
    "# Make predictions\n",
    "cv_predictions = cv_model.transform(test_data)\n",
    "\n",
    "# Evaluate accuracy after tuning\n",
    "cv_accuracy = evaluator.evaluate(cv_predictions)\n",
    "print(f\"Tuned Model Accuracy: {cv_accuracy}\")"
   ],
   "id": "934436ca02ba0246",
   "outputs": [
    {
     "name": "stderr",
     "output_type": "stream",
     "text": [
      "[Stage 2632:>                                                       (0 + 1) / 1]\r"
     ]
    },
    {
     "name": "stdout",
     "output_type": "stream",
     "text": [
      "Tuned Model Accuracy: 0.9820253922037092\n"
     ]
    },
    {
     "name": "stderr",
     "output_type": "stream",
     "text": [
      "                                                                                \r"
     ]
    }
   ],
   "execution_count": 40
  },
  {
   "metadata": {
    "ExecuteTime": {
     "end_time": "2025-01-13T06:47:08.818584Z",
     "start_time": "2025-01-13T06:46:57.753014Z"
    }
   },
   "cell_type": "code",
   "source": [
    "# from pyspark.ml.evaluation import MulticlassClassificationEvaluator\n",
    "\n",
    "precision_evaluator = MulticlassClassificationEvaluator(labelCol=\"label\", predictionCol=\"prediction\", metricName=\"weightedPrecision\")\n",
    "recall_evaluator = MulticlassClassificationEvaluator(labelCol=\"label\", predictionCol=\"prediction\", metricName=\"weightedRecall\")\n",
    "f1_evaluator = MulticlassClassificationEvaluator(labelCol=\"label\", predictionCol=\"prediction\", metricName=\"f1\")\n",
    "\n",
    "precision = precision_evaluator.evaluate(cv_predictions)\n",
    "recall = recall_evaluator.evaluate(cv_predictions)\n",
    "f1_score = f1_evaluator.evaluate(cv_predictions)\n",
    "\n",
    "print(f\"Precision: {precision}\")\n",
    "print(f\"Recall: {recall}\")\n",
    "print(f\"F1 Score: {f1_score}\")\n"
   ],
   "id": "de3812df79707f0d",
   "outputs": [
    {
     "name": "stderr",
     "output_type": "stream",
     "text": [
      "[Stage 2671:>                                                       (0 + 1) / 1]\r"
     ]
    },
    {
     "name": "stdout",
     "output_type": "stream",
     "text": [
      "Precision: 0.9817932508605011\n",
      "Recall: 0.9820253922037092\n",
      "F1 Score: 0.9818160917889468\n"
     ]
    },
    {
     "name": "stderr",
     "output_type": "stream",
     "text": [
      "                                                                                \r"
     ]
    }
   ],
   "execution_count": 41
  },
  {
   "metadata": {
    "ExecuteTime": {
     "end_time": "2025-01-13T06:47:16.062406Z",
     "start_time": "2025-01-13T06:47:08.946928Z"
    }
   },
   "cell_type": "code",
   "source": [
    "# Generate the confusion matrix\n",
    "confusion_matrix = cv_predictions.groupBy(\"label\", \"prediction\").count().orderBy(\"label\", \"prediction\")\n",
    "confusion_matrix_df = confusion_matrix.toPandas()\n",
    "\n",
    "# Pivot the DataFrame for heatmap visualization\n",
    "pivot_df = confusion_matrix_df.pivot(index=\"label\", columns=\"prediction\", values=\"count\").fillna(0)\n",
    "\n",
    "# Plot the confusion matrix\n",
    "plt.figure(figsize=(8, 6))\n",
    "sns.heatmap(pivot_df, annot=True, fmt=\"g\", cmap=\"Blues\", cbar=True)\n",
    "plt.xlabel(\"Predicted Category\")\n",
    "plt.ylabel(\"Actual Category\")\n",
    "plt.title(\"Confusion Matrix for Tuned Model\")\n",
    "plt.show()"
   ],
   "id": "8e1ea440d5382861",
   "outputs": [
    {
     "name": "stderr",
     "output_type": "stream",
     "text": [
      "                                                                                \r"
     ]
    },
    {
     "data": {
      "text/plain": [
       "<Figure size 800x600 with 2 Axes>"
      ],
      "image/png": "[encoded data removed]"
     },
     "metadata": {},
     "output_type": "display_data"
    }
   ],
   "execution_count": 42
  },
  {
   "metadata": {
    "ExecuteTime": {
     "end_time": "2025-01-13T06:47:36.537979Z",
     "start_time": "2025-01-13T06:47:16.297832Z"
    }
   },
   "cell_type": "code",
   "source": [
    "from pyspark.ml.classification import LogisticRegression\n",
    "from pyspark.ml.evaluation import MulticlassClassificationEvaluator\n",
    "\n",
    "# Initialize Logistic Regression\n",
    "lr = LogisticRegression(featuresCol=\"features\", labelCol=\"label\", maxIter=100)\n",
    "\n",
    "# Train the model\n",
    "lr_model = lr.fit(train_data)\n",
    "\n",
    "# Make predictions\n",
    "lr_predictions = lr_model.transform(test_data)\n",
    "\n",
    "# Evaluate accuracy\n",
    "evaluator = MulticlassClassificationEvaluator(labelCol=\"label\", predictionCol=\"prediction\", metricName=\"accuracy\")\n",
    "lr_accuracy = evaluator.evaluate(lr_predictions)\n",
    "\n",
    "print(f\"Logistic Regression Accuracy: {lr_accuracy:.4f}\")\n"
   ],
   "id": "be2186bf2cd741a8",
   "outputs": [
    {
     "name": "stderr",
     "output_type": "stream",
     "text": [
      "25/01/13 06:47:24 WARN InstanceBuilder: Failed to load implementation from:dev.ludovic.netlib.blas.JNIBLAS\n",
      "25/01/13 06:47:24 WARN InstanceBuilder: Failed to load implementation from:dev.ludovic.netlib.blas.VectorBLAS\n",
      "[Stage 2788:>                                                       (0 + 1) / 1]\r"
     ]
    },
    {
     "name": "stdout",
     "output_type": "stream",
     "text": [
      "Logistic Regression Accuracy: 0.9796\n"
     ]
    },
    {
     "name": "stderr",
     "output_type": "stream",
     "text": [
      "                                                                                \r"
     ]
    }
   ],
   "execution_count": 43
  },
  {
   "metadata": {
    "ExecuteTime": {
     "end_time": "2025-01-13T06:47:48.700600Z",
     "start_time": "2025-01-13T06:47:36.662215Z"
    }
   },
   "cell_type": "code",
   "source": [
    "from pyspark.ml.classification import DecisionTreeClassifier\n",
    "\n",
    "# Initialize Decision Tree Classifier\n",
    "dt = DecisionTreeClassifier(featuresCol=\"features\", labelCol=\"label\", maxDepth=10)\n",
    "\n",
    "# Train the model\n",
    "dt_model = dt.fit(train_data)\n",
    "\n",
    "# Make predictions\n",
    "dt_predictions = dt_model.transform(test_data)\n",
    "\n",
    "# Evaluate accuracy\n",
    "dt_accuracy = evaluator.evaluate(dt_predictions)\n",
    "\n",
    "print(f\"Decision Tree Accuracy: {dt_accuracy:.4f}\")\n"
   ],
   "id": "9a1d6414b8f31562",
   "outputs": [
    {
     "name": "stderr",
     "output_type": "stream",
     "text": [
      "[Stage 2846:>                                                       (0 + 1) / 1]\r"
     ]
    },
    {
     "name": "stdout",
     "output_type": "stream",
     "text": [
      "Decision Tree Accuracy: 0.9820\n"
     ]
    },
    {
     "name": "stderr",
     "output_type": "stream",
     "text": [
      "                                                                                \r"
     ]
    }
   ],
   "execution_count": 44
  },
  {
   "metadata": {
    "ExecuteTime": {
     "end_time": "2025-01-13T07:48:36.887404Z",
     "start_time": "2025-01-13T06:47:48.843360Z"
    }
   },
   "cell_type": "code",
   "source": [
    "from pyspark.ml.classification import GBTClassifier, OneVsRest\n",
    "from pyspark.ml.evaluation import MulticlassClassificationEvaluator\n",
    "\n",
    "# Initialize the base GBT classifier\n",
    "gbt = GBTClassifier(featuresCol=\"features\", labelCol=\"label\", maxIter=100, maxDepth=5)\n",
    "\n",
    "# Apply One-vs-Rest to enable multi-class classification\n",
    "ovr = OneVsRest(classifier=gbt)\n",
    "\n",
    "# Train the model\n",
    "ovr_model = ovr.fit(train_data)\n",
    "\n",
    "# Make predictions\n",
    "gbt_predictions = ovr_model.transform(test_data)\n",
    "\n",
    "# Evaluate the model\n",
    "evaluator = MulticlassClassificationEvaluator(labelCol=\"label\", predictionCol=\"prediction\", metricName=\"accuracy\")\n",
    "gbt_accuracy = evaluator.evaluate(gbt_predictions)\n",
    "\n",
    "print(f\"Gradient Boosted Trees Accuracy (One-vs-Rest): {gbt_accuracy}\")\n",
    "\n",
    "# Confusion Matrix\n",
    "from pyspark.mllib.evaluation import MulticlassMetrics\n",
    "from pyspark.sql.functions import col\n",
    "\n",
    "# Convert predictions to RDD format\n",
    "prediction_and_labels = gbt_predictions.select(col(\"prediction\"), col(\"label\")).rdd.map(tuple)\n",
    "\n",
    "# Compute Confusion Matrix\n",
    "metrics = MulticlassMetrics(prediction_and_labels)\n",
    "print(metrics.confusionMatrix().toArray())\n"
   ],
   "id": "b583e80a15d30600",
   "outputs": [
    {
     "name": "stderr",
     "output_type": "stream",
     "text": [
      "25/01/13 07:47:43 WARN DAGScheduler: Broadcasting large task binary with size 1099.1 KiB\n",
      "                                                                                \r"
     ]
    },
    {
     "name": "stdout",
     "output_type": "stream",
     "text": [
      "Gradient Boosted Trees Accuracy (One-vs-Rest): 0.9685865740122055\n"
     ]
    },
    {
     "name": "stderr",
     "output_type": "stream",
     "text": [
      "/Users/apple2015/Documents/MSc/SchoolStuff/Bigdata/coursework/project/BigDataProcessing/.venv/lib/python3.11/site-packages/pyspark/sql/context.py:158: FutureWarning: Deprecated in 3.0.0. Use SparkSession.builder.getOrCreate() instead.\n",
      "  warnings.warn(\n",
      "25/01/13 07:48:15 WARN DAGScheduler: Broadcasting large task binary with size 1099.0 KiB\n",
      "25/01/13 07:48:20 WARN DAGScheduler: Broadcasting large task binary with size 1111.5 KiB\n",
      "[Stage 7144:>                                                       (0 + 1) / 1]\r"
     ]
    },
    {
     "name": "stdout",
     "output_type": "stream",
     "text": [
      "[[151489.      0.      0.]\n",
      " [     0.  51016.   4554.]\n",
      " [     0.   2549.  14319.]]\n"
     ]
    },
    {
     "name": "stderr",
     "output_type": "stream",
     "text": [
      "                                                                                \r"
     ]
    }
   ],
   "execution_count": 45
  },
  {
   "metadata": {
    "ExecuteTime": {
     "end_time": "2025-01-13T07:48:48.977597Z",
     "start_time": "2025-01-13T07:48:37.166922Z"
    }
   },
   "cell_type": "code",
   "source": [
    "from pyspark.ml.classification import NaiveBayes\n",
    "\n",
    "# Define model\n",
    "nb = NaiveBayes(featuresCol=\"features\", labelCol=\"label\")\n",
    "\n",
    "# Train the model\n",
    "nb_model = nb.fit(train_data)\n",
    "\n",
    "# Make predictions\n",
    "nb_predictions = nb_model.transform(test_data)\n",
    "\n",
    "# Evaluate\n",
    "nb_accuracy = evaluator.evaluate(nb_predictions)\n",
    "print(f\"Naïve Bayes Accuracy: {nb_accuracy}\")\n"
   ],
   "id": "5a53dfb530675ea0",
   "outputs": [
    {
     "name": "stderr",
     "output_type": "stream",
     "text": [
      "[Stage 7182:>                                                       (0 + 1) / 1]\r"
     ]
    },
    {
     "name": "stdout",
     "output_type": "stream",
     "text": [
      "Naïve Bayes Accuracy: 0.9241493879701868\n"
     ]
    },
    {
     "name": "stderr",
     "output_type": "stream",
     "text": [
      "                                                                                \r"
     ]
    }
   ],
   "execution_count": 46
  },
  {
   "metadata": {
    "ExecuteTime": {
     "end_time": "2025-01-13T07:50:41.769969Z",
     "start_time": "2025-01-13T07:48:49.120480Z"
    }
   },
   "cell_type": "code",
   "source": [
    "from pyspark.ml.evaluation import MulticlassClassificationEvaluator\n",
    "\n",
    "# Function to evaluate accuracy\n",
    "def evaluate_model(model, train_data, test_data):\n",
    "    # Predictions on training data\n",
    "    train_predictions = model.transform(train_data)\n",
    "    train_accuracy = evaluator.evaluate(train_predictions)\n",
    "\n",
    "    # Predictions on test data\n",
    "    test_predictions = model.transform(test_data)\n",
    "    test_accuracy = evaluator.evaluate(test_predictions)\n",
    "\n",
    "    return train_accuracy, test_accuracy\n",
    "\n",
    "# Define the evaluator\n",
    "evaluator = MulticlassClassificationEvaluator(labelCol=\"label\", predictionCol=\"prediction\", metricName=\"accuracy\")\n",
    "\n",
    "# Evaluate models\n",
    "rf_train_acc, rf_test_acc = evaluate_model(rf_model, train_data, test_data)\n",
    "gbt_train_acc, gbt_test_acc = evaluate_model(ovr_model, train_data, test_data)\n",
    "lr_train_acc, lr_test_acc = evaluate_model(lr_model, train_data, test_data)\n",
    "nb_train_acc, nb_test_acc = evaluate_model(nb_model, train_data, test_data)\n",
    "dt_train_acc, dt_test_acc = evaluate_model(dt_model, train_data, test_data)\n",
    "\n",
    "# Print results dt_model\n",
    "print(f\"Random Forest - Train Accuracy: {rf_train_acc}, Test Accuracy: {rf_test_acc}\")\n",
    "print(f\"Gradient Boosted Trees - Train Accuracy: {gbt_train_acc}, Test Accuracy: {gbt_test_acc}\")\n",
    "print(f\"Decision Tree  - Train Accuracy: {dt_train_acc}, Test Accuracy: {dt_test_acc}\")\n",
    "print(f\"Naïve Bayes - Train Accuracy: {nb_train_acc}, Test Accuracy: {nb_test_acc}\")\n"
   ],
   "id": "75c40afc9fa05749",
   "outputs": [
    {
     "name": "stderr",
     "output_type": "stream",
     "text": [
      "25/01/13 07:49:09 WARN DAGScheduler: Broadcasting large task binary with size 1098.5 KiB\n",
      "25/01/13 07:49:56 WARN DAGScheduler: Broadcasting large task binary with size 1098.5 KiB\n",
      "[Stage 7310:>                                                       (0 + 1) / 1]\r"
     ]
    },
    {
     "name": "stdout",
     "output_type": "stream",
     "text": [
      "Random Forest - Train Accuracy: 0.9819562824974046, Test Accuracy: 0.9820253922037092\n",
      "Gradient Boosted Trees - Train Accuracy: 0.9682800825161179, Test Accuracy: 0.9682798411982476\n",
      "Decision Tree  - Train Accuracy: 0.9819562824974046, Test Accuracy: 0.9820253922037092\n",
      "Naïve Bayes - Train Accuracy: 0.9248856046800719, Test Accuracy: 0.924624704886632\n"
     ]
    },
    {
     "name": "stderr",
     "output_type": "stream",
     "text": [
      "                                                                                \r"
     ]
    }
   ],
   "execution_count": 47
  },
  {
   "metadata": {
    "ExecuteTime": {
     "end_time": "2025-01-13T08:06:14.918214Z",
     "start_time": "2025-01-13T07:50:41.976434Z"
    }
   },
   "cell_type": "code",
   "source": [
    "\n",
    "# Initialize Decision Tree Classifier\n",
    "dt = DecisionTreeClassifier(featuresCol=\"features\", labelCol=\"label\")\n",
    "\n",
    "# Create a hyperparameter grid\n",
    "paramGrid = ParamGridBuilder() \\\n",
    "    .addGrid(dt.maxDepth, [5, 10, 15]) \\\n",
    "    .addGrid(dt.minInstancesPerNode, [1, 5, 10]) \\\n",
    "    .addGrid(dt.impurity, [\"gini\", \"entropy\"]) \\\n",
    "    .build()\n",
    "\n",
    "# Define cross-validation\n",
    "crossval = CrossValidator(\n",
    "    estimator=dt,\n",
    "    estimatorParamMaps=paramGrid,\n",
    "    evaluator=MulticlassClassificationEvaluator(labelCol=\"label\", predictionCol=\"prediction\", metricName=\"accuracy\"),\n",
    "    numFolds=3  # 3-Fold Cross Validation\n",
    ")\n",
    "\n",
    "# Train the model with cross-validation\n",
    "cv_dt_model = crossval.fit(train_data)\n",
    "\n",
    "# Make predictions on the test data\n",
    "cv_dt_predictions = cv_dt_model.transform(test_data)\n",
    "\n",
    "# Evaluate accuracy after tuning\n",
    "evaluator = MulticlassClassificationEvaluator(labelCol=\"label\", predictionCol=\"prediction\", metricName=\"accuracy\")\n",
    "cv_dt_accuracy = evaluator.evaluate(cv_dt_predictions)\n",
    "\n",
    "print(f\"Tuned Decision Tree Accuracy: {cv_dt_accuracy:.4f}\")\n"
   ],
   "id": "3cdf046e61998ed6",
   "outputs": [
    {
     "name": "stderr",
     "output_type": "stream",
     "text": [
      "[Stage 9039:>                                                       (0 + 1) / 1]\r"
     ]
    },
    {
     "name": "stdout",
     "output_type": "stream",
     "text": [
      "Tuned Decision Tree Accuracy: 0.9820\n"
     ]
    },
    {
     "name": "stderr",
     "output_type": "stream",
     "text": [
      "                                                                                \r"
     ]
    }
   ],
   "execution_count": 48
  }
 ],
 "metadata": {
  "kernelspec": {
   "display_name": "Python 3",
   "language": "python",
   "name": "python3"
  },
  "language_info": {
   "codemirror_mode": {
    "name": "ipython",
    "version": 2
   },
   "file_extension": ".py",
   "mimetype": "text/x-python",
   "name": "python",
   "nbconvert_exporter": "python",
   "pygments_lexer": "ipython2",
   "version": "2.7.6"
  }
 },
 "nbformat": 4,
 "nbformat_minor": 5
}
