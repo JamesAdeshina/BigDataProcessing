{
 "cells": [
  {
   "metadata": {},
   "cell_type": "markdown",
   "source": "# Big Processing Data",
   "id": "4901f92a8337e669"
  },
  {
   "metadata": {},
   "cell_type": "markdown",
   "source": [
    "#### Importation of Required Libraries\n",
    "We're importing the following libraries for the project: Pyspark, Matplotlib, Seaborn, ...\n",
    "\n",
    "Note: I am using Pycharm environment, so the environment is setup and doesn't need installation, but I'll also provide the code for install the libraries needed to run the project as well."
   ],
   "id": "bec21ba63660af91"
  },
  {
   "metadata": {
    "ExecuteTime": {
     "end_time": "2025-01-12T01:18:20.083642Z",
     "start_time": "2025-01-12T01:18:18.684489Z"
    }
   },
   "cell_type": "code",
   "source": [
    "import matplotlib.pyplot as plt\n",
    "import seaborn as sns\n",
    "from pyspark.sql import SparkSession\n",
    "from pyspark.sql.functions import col, count\n",
    "from sklearn.metrics import confusion_matrix\n",
    "from pyspark.sql.functions import expr, sum\n",
    "import numpy as np\n",
    "import pandas as pd\n",
    "from pyspark.ml.feature import VectorAssembler\n",
    "from pyspark.ml.feature import StringIndexer\n",
    "from pyspark.sql.functions import sum\n",
    "from pyspark.ml.classification import RandomForestClassifier\n",
    "from pyspark.ml.evaluation import MulticlassClassificationEvaluator\n",
    "from pyspark.ml.tuning import ParamGridBuilder, CrossValidator\n",
    "from pyspark.ml.evaluation import MulticlassClassificationEvaluator\n"
   ],
   "id": "19f6f51ac0c587cd",
   "outputs": [],
   "execution_count": 1
  },
  {
   "metadata": {},
   "cell_type": "markdown",
   "source": "#### Initialize Spark Session\n",
   "id": "7afba644447c37f3"
  },
  {
   "metadata": {
    "collapsed": true,
    "ExecuteTime": {
     "end_time": "2025-01-12T01:18:47.751160Z",
     "start_time": "2025-01-12T01:18:20.150696Z"
    }
   },
   "cell_type": "code",
   "source": [
    "# Initialize Spark Session\n",
    "spark = SparkSession.builder.appName(\"DataMerge\").getOrCreate()\n",
    "\n",
    "# Verify Spark session creation by performing a simple operation\n",
    "try:\n",
    "    # Try creating a simple DataFrame and show it\n",
    "    test_df = spark.range(2)  # Create a DataFrame with numbers 0 to 9\n",
    "    test_df.show()  # Display the DataFrame\n",
    "    print(\"Spark session is working and operational!\")\n",
    "except Exception as e:\n",
    "    print(f\"Error while verifying Spark session: {e}\")"
   ],
   "id": "initial_id",
   "outputs": [
    {
     "name": "stderr",
     "output_type": "stream",
     "text": [
      "Setting default log level to \"WARN\".\n",
      "To adjust logging level use sc.setLogLevel(newLevel). For SparkR, use setLogLevel(newLevel).\n",
      "25/01/12 01:18:33 WARN NativeCodeLoader: Unable to load native-hadoop library for your platform... using builtin-java classes where applicable\n",
      "25/01/12 01:18:46 WARN GarbageCollectionMetrics: To enable non-built-in garbage collector(s) List(G1 Concurrent GC), users should configure it(them) to spark.eventLog.gcMetrics.youngGenerationGarbageCollectors or spark.eventLog.gcMetrics.oldGenerationGarbageCollectors\n",
      "[Stage 0:>                                                          (0 + 4) / 4]\r"
     ]
    },
    {
     "name": "stdout",
     "output_type": "stream",
     "text": [
      "+---+\n",
      "| id|\n",
      "+---+\n",
      "|  0|\n",
      "|  1|\n",
      "+---+\n",
      "\n",
      "Spark session is working and operational!\n"
     ]
    },
    {
     "name": "stderr",
     "output_type": "stream",
     "text": [
      "                                                                                \r"
     ]
    }
   ],
   "execution_count": 2
  },
  {
   "metadata": {},
   "cell_type": "markdown",
   "source": [
    "### Loading the Datasets\n",
    "This section will focus on loading the following datasets: <b>DimProduct.csv, FactInternetSales.csv, DimCustomer.csv, DimProductCategory.csv, DimProductSubCategory.csv, DimDate.csv, DimSalesTerritory.csv, </b> for our processing and analysis."
   ],
   "id": "bc3dd1102f18017c"
  },
  {
   "metadata": {
    "ExecuteTime": {
     "end_time": "2025-01-12T01:18:57.231726Z",
     "start_time": "2025-01-12T01:18:48.340033Z"
    }
   },
   "cell_type": "code",
   "source": [
    "# File paths\n",
    "files = {\n",
    "    \"DimProduct\": \"Dataset/DimProduct.csv\",\n",
    "    \"FactInternetSales\": \"Dataset/FactInternetSales.csv\",\n",
    "    \"DimCustomer\": \"Dataset/DimCustomer.csv\",\n",
    "    \"DimProductCategory\": \"Dataset/DimProductCategory.csv\",\n",
    "    \"DimProductSubcategory\": \"Dataset/DimProductSubcategory.csv\",\n",
    "    \"DimSalesTerritory\": \"Dataset/DimSalesTerritory.csv\",\n",
    "    \"DimDate\": \"Dataset/DimDate.csv\",\n",
    "}\n",
    "\n",
    "# Load datasets\n",
    "datasets = {name: spark.read.csv(path, header=True, inferSchema=True) for name, path in files.items()}"
   ],
   "id": "3a75823c5742437e",
   "outputs": [
    {
     "name": "stderr",
     "output_type": "stream",
     "text": [
      "                                                                                \r"
     ]
    }
   ],
   "execution_count": 3
  },
  {
   "metadata": {},
   "cell_type": "markdown",
   "source": [
    "### Display Schema\n",
    "Checking the structure of each schema by verifying column names and data types to spot unexpected inconsistencies"
   ],
   "id": "7506a428fe0fcce7"
  },
  {
   "metadata": {
    "ExecuteTime": {
     "end_time": "2025-01-12T01:18:57.403032Z",
     "start_time": "2025-01-12T01:18:57.365785Z"
    }
   },
   "cell_type": "code",
   "source": [
    "# Displaying the schema for all datasets\n",
    "for name, df in datasets.items():\n",
    "    print(f\"Schema for {name}:\")\n",
    "    df.printSchema()\n",
    "    print(\"\\n\" + \"=\"*50 + \"\\n\")\n"
   ],
   "id": "95c2d20eb7f76325",
   "outputs": [
    {
     "name": "stdout",
     "output_type": "stream",
     "text": [
      "Schema for DimProduct:\n",
      "root\n",
      " |-- ProductKey: integer (nullable = true)\n",
      " |-- ProductAlternateKey: string (nullable = true)\n",
      " |-- ProductSubcategoryKey: integer (nullable = true)\n",
      " |-- WeightUnitMeasureCode: string (nullable = true)\n",
      " |-- SizeUnitMeasureCode: string (nullable = true)\n",
      " |-- EnglishProductName: string (nullable = true)\n",
      " |-- SpanishProductName: string (nullable = true)\n",
      " |-- FrenchProductName: string (nullable = true)\n",
      " |-- StandardCost: double (nullable = true)\n",
      " |-- FinishedGoodsFlag: boolean (nullable = true)\n",
      " |-- Color: string (nullable = true)\n",
      " |-- SafetyStockLevel: integer (nullable = true)\n",
      " |-- ReorderPoint: integer (nullable = true)\n",
      " |-- ListPrice: double (nullable = true)\n",
      " |-- Size: string (nullable = true)\n",
      " |-- SizeRange: string (nullable = true)\n",
      " |-- Weight: double (nullable = true)\n",
      " |-- DaysToManufacture: integer (nullable = true)\n",
      " |-- ProductLine: string (nullable = true)\n",
      " |-- DealerPrice: double (nullable = true)\n",
      " |-- Class: string (nullable = true)\n",
      " |-- Style: string (nullable = true)\n",
      " |-- ModelName: string (nullable = true)\n",
      " |-- EnglishDescription: string (nullable = true)\n",
      " |-- StartDate: string (nullable = true)\n",
      " |-- EndDate: string (nullable = true)\n",
      " |-- Status: string (nullable = true)\n",
      "\n",
      "\n",
      "==================================================\n",
      "\n",
      "Schema for FactInternetSales:\n",
      "root\n",
      " |-- ProductKey: integer (nullable = true)\n",
      " |-- OrderDateKey: integer (nullable = true)\n",
      " |-- DueDateKey: integer (nullable = true)\n",
      " |-- ShipDateKey: integer (nullable = true)\n",
      " |-- CustomerKey: integer (nullable = true)\n",
      " |-- PromotionKey: integer (nullable = true)\n",
      " |-- CurrencyKey: integer (nullable = true)\n",
      " |-- SalesTerritoryKey: integer (nullable = true)\n",
      " |-- SalesOrderNumber: string (nullable = true)\n",
      " |-- SalesOrderLineNumber: integer (nullable = true)\n",
      " |-- RevisionNumber: integer (nullable = true)\n",
      " |-- OrderQuantity: integer (nullable = true)\n",
      " |-- UnitPrice: double (nullable = true)\n",
      " |-- ExtendedAmount: double (nullable = true)\n",
      " |-- UnitPriceDiscountPct: integer (nullable = true)\n",
      " |-- DiscountAmount: integer (nullable = true)\n",
      " |-- ProductStandardCost: double (nullable = true)\n",
      " |-- TotalProductCost: double (nullable = true)\n",
      " |-- SalesAmount: double (nullable = true)\n",
      " |-- TaxAmt: double (nullable = true)\n",
      " |-- Freight: double (nullable = true)\n",
      " |-- CarrierTrackingNumber: string (nullable = true)\n",
      " |-- CustomerPONumber: string (nullable = true)\n",
      " |-- OrderDate: timestamp (nullable = true)\n",
      " |-- DueDate: timestamp (nullable = true)\n",
      " |-- ShipDate: timestamp (nullable = true)\n",
      "\n",
      "\n",
      "==================================================\n",
      "\n",
      "Schema for DimCustomer:\n",
      "root\n",
      " |-- CustomerKey: integer (nullable = true)\n",
      " |-- GeographyKey: integer (nullable = true)\n",
      " |-- CustomerAlternateKey: string (nullable = true)\n",
      " |-- Title: string (nullable = true)\n",
      " |-- FirstName: string (nullable = true)\n",
      " |-- MiddleName: string (nullable = true)\n",
      " |-- LastName: string (nullable = true)\n",
      " |-- NameStyle: boolean (nullable = true)\n",
      " |-- BirthDate: date (nullable = true)\n",
      " |-- MaritalStatus: string (nullable = true)\n",
      " |-- Suffix: string (nullable = true)\n",
      " |-- Gender: string (nullable = true)\n",
      " |-- EmailAddress: string (nullable = true)\n",
      " |-- YearlyIncome: integer (nullable = true)\n",
      " |-- TotalChildren: integer (nullable = true)\n",
      " |-- NumberChildrenAtHome: integer (nullable = true)\n",
      " |-- EnglishEducation: string (nullable = true)\n",
      " |-- SpanishEducation: string (nullable = true)\n",
      " |-- FrenchEducation: string (nullable = true)\n",
      " |-- EnglishOccupation: string (nullable = true)\n",
      " |-- SpanishOccupation: string (nullable = true)\n",
      " |-- FrenchOccupation: string (nullable = true)\n",
      " |-- HouseOwnerFlag: integer (nullable = true)\n",
      " |-- NumberCarsOwned: integer (nullable = true)\n",
      " |-- AddressLine1: string (nullable = true)\n",
      " |-- AddressLine2: string (nullable = true)\n",
      " |-- Phone: string (nullable = true)\n",
      " |-- DateFirstPurchase: date (nullable = true)\n",
      " |-- CommuteDistance: string (nullable = true)\n",
      "\n",
      "\n",
      "==================================================\n",
      "\n",
      "Schema for DimProductCategory:\n",
      "root\n",
      " |-- ProductCategoryKey: integer (nullable = true)\n",
      " |-- ProductCategoryAlternateKey: integer (nullable = true)\n",
      " |-- EnglishProductCategoryName: string (nullable = true)\n",
      " |-- SpanishProductCategoryName: string (nullable = true)\n",
      " |-- FrenchProductCategoryName: string (nullable = true)\n",
      "\n",
      "\n",
      "==================================================\n",
      "\n",
      "Schema for DimProductSubcategory:\n",
      "root\n",
      " |-- ProductSubcategoryKey: integer (nullable = true)\n",
      " |-- ProductSubcategoryAlternateKey: integer (nullable = true)\n",
      " |-- EnglishProductSubcategoryName: string (nullable = true)\n",
      " |-- ProductCategoryKey: integer (nullable = true)\n",
      "\n",
      "\n",
      "==================================================\n",
      "\n",
      "Schema for DimSalesTerritory:\n",
      "root\n",
      " |-- SalesTerritoryKey: integer (nullable = true)\n",
      " |-- SalesTerritoryAlternateKey: integer (nullable = true)\n",
      " |-- SalesTerritoryRegion: string (nullable = true)\n",
      " |-- SalesTerritoryCountry: string (nullable = true)\n",
      " |-- SalesTerritoryGroup: string (nullable = true)\n",
      "\n",
      "\n",
      "==================================================\n",
      "\n",
      "Schema for DimDate:\n",
      "root\n",
      " |-- DateKey: integer (nullable = true)\n",
      " |-- FullDateAlternateKey: string (nullable = true)\n",
      " |-- DayNumberOfWeek: integer (nullable = true)\n",
      " |-- EnglishDayNameOfWeek: string (nullable = true)\n",
      " |-- SpanishDayNameOfWeek: string (nullable = true)\n",
      " |-- FrenchDayNameOfWeek: string (nullable = true)\n",
      " |-- DayNumberOfMonth: integer (nullable = true)\n",
      " |-- DayNumberOfYear: integer (nullable = true)\n",
      " |-- WeekNumberOfYear: integer (nullable = true)\n",
      " |-- EnglishMonthName: string (nullable = true)\n",
      " |-- SpanishMonthName: string (nullable = true)\n",
      " |-- FrenchMonthName: string (nullable = true)\n",
      " |-- MonthNumberOfYear: integer (nullable = true)\n",
      " |-- CalendarQuarter: integer (nullable = true)\n",
      " |-- CalendarYear: integer (nullable = true)\n",
      " |-- CalendarSemester: integer (nullable = true)\n",
      " |-- FiscalQuarter: integer (nullable = true)\n",
      " |-- FiscalYear: integer (nullable = true)\n",
      " |-- FiscalSemester: integer (nullable = true)\n",
      " |-- Max Year: string (nullable = true)\n",
      "\n",
      "\n",
      "==================================================\n",
      "\n"
     ]
    }
   ],
   "execution_count": 4
  },
  {
   "metadata": {},
   "cell_type": "markdown",
   "source": "#### Standardizing Column Names to Snake Case",
   "id": "8492ca543aaab0d"
  },
  {
   "metadata": {
    "ExecuteTime": {
     "end_time": "2025-01-12T01:19:00.162525Z",
     "start_time": "2025-01-12T01:18:57.486001Z"
    }
   },
   "cell_type": "code",
   "source": [
    "# Function to convert column names to snake_case\n",
    "def standardize_column_names(df):\n",
    "    for col_name in df.columns:\n",
    "        new_col_name = col_name[0].lower() + \"\".join([\"_\" + c.lower() if c.isupper() else c for c in col_name[1:]])\n",
    "        df = df.withColumnRenamed(col_name, new_col_name)\n",
    "    return df\n",
    "\n",
    "# Apply column renaming to all datasets\n",
    "datasets = {name: standardize_column_names(df) for name, df in datasets.items()}\n",
    "\n",
    "# Verify column name updates\n",
    "for name, df in datasets.items():\n",
    "    print(f\"Updated columns in {name}: {df.columns}\")\n"
   ],
   "id": "124706c592c3d73d",
   "outputs": [
    {
     "name": "stdout",
     "output_type": "stream",
     "text": [
      "Updated columns in DimProduct: ['product_key', 'product_alternate_key', 'product_subcategory_key', 'weight_unit_measure_code', 'size_unit_measure_code', 'english_product_name', 'spanish_product_name', 'french_product_name', 'standard_cost', 'finished_goods_flag', 'color', 'safety_stock_level', 'reorder_point', 'list_price', 'size', 'size_range', 'weight', 'days_to_manufacture', 'product_line', 'dealer_price', 'class', 'style', 'model_name', 'english_description', 'start_date', 'end_date', 'status']\n",
      "Updated columns in FactInternetSales: ['product_key', 'order_date_key', 'due_date_key', 'ship_date_key', 'customer_key', 'promotion_key', 'currency_key', 'sales_territory_key', 'sales_order_number', 'sales_order_line_number', 'revision_number', 'order_quantity', 'unit_price', 'extended_amount', 'unit_price_discount_pct', 'discount_amount', 'product_standard_cost', 'total_product_cost', 'sales_amount', 'tax_amt', 'freight', 'carrier_tracking_number', 'customer_p_o_number', 'order_date', 'due_date', 'ship_date']\n",
      "Updated columns in DimCustomer: ['customer_key', 'geography_key', 'customer_alternate_key', 'title', 'first_name', 'middle_name', 'last_name', 'name_style', 'birth_date', 'marital_status', 'suffix', 'gender', 'email_address', 'yearly_income', 'total_children', 'number_children_at_home', 'english_education', 'spanish_education', 'french_education', 'english_occupation', 'spanish_occupation', 'french_occupation', 'house_owner_flag', 'number_cars_owned', 'address_line1', 'address_line2', 'phone', 'date_first_purchase', 'commute_distance']\n",
      "Updated columns in DimProductCategory: ['product_category_key', 'product_category_alternate_key', 'english_product_category_name', 'spanish_product_category_name', 'french_product_category_name']\n",
      "Updated columns in DimProductSubcategory: ['product_subcategory_key', 'product_subcategory_alternate_key', 'english_product_subcategory_name', 'product_category_key']\n",
      "Updated columns in DimSalesTerritory: ['sales_territory_key', 'sales_territory_alternate_key', 'sales_territory_region', 'sales_territory_country', 'sales_territory_group']\n",
      "Updated columns in DimDate: ['date_key', 'full_date_alternate_key', 'day_number_of_week', 'english_day_name_of_week', 'spanish_day_name_of_week', 'french_day_name_of_week', 'day_number_of_month', 'day_number_of_year', 'week_number_of_year', 'english_month_name', 'spanish_month_name', 'french_month_name', 'month_number_of_year', 'calendar_quarter', 'calendar_year', 'calendar_semester', 'fiscal_quarter', 'fiscal_year', 'fiscal_semester', 'max _year']\n"
     ]
    }
   ],
   "execution_count": 5
  },
  {
   "metadata": {},
   "cell_type": "markdown",
   "source": "#### Checking to see if there's Key Column Names Match in Datasets",
   "id": "a4ce78c645ff7eda"
  },
  {
   "metadata": {
    "ExecuteTime": {
     "end_time": "2025-01-12T01:19:00.454996Z",
     "start_time": "2025-01-12T01:19:00.399890Z"
    }
   },
   "cell_type": "code",
   "source": [
    "key_columns = {\n",
    "    \"FactInternetSales\": [\"product_key\", \"customer_key\", \"order_date_key\", \"sales_territory_key\"],\n",
    "    \"DimProduct\": [\"product_key\", \"product_subcategory_key\"],\n",
    "    \"DimProductSubcategory\": [\"product_subcategory_key\", \"product_category_key\"],\n",
    "    \"DimProductCategory\": [\"product_category_key\"],\n",
    "    \"DimCustomer\": [\"customer_key\"],\n",
    "    \"DimSalesTerritory\": [\"sales_territory_key\"],\n",
    "    \"DimDate\": [\"date_key\"]\n",
    "}\n",
    "\n",
    "# Print key column names for verification\n",
    "for dataset, keys in key_columns.items():\n",
    "    print(f\"Checking keys in {dataset}:\")\n",
    "    for key in keys:\n",
    "        if key in datasets[dataset].columns:\n",
    "            print(f\"{key} exists in {dataset}\")\n",
    "        else:\n",
    "            print(f\"{key} is MISSING in {dataset}!\")\n",
    "    print(\"\\n\" + \"=\"*50 + \"\\n\")\n"
   ],
   "id": "6471b1eac8addc60",
   "outputs": [
    {
     "name": "stdout",
     "output_type": "stream",
     "text": [
      "Checking keys in FactInternetSales:\n",
      "product_key exists in FactInternetSales\n",
      "customer_key exists in FactInternetSales\n",
      "order_date_key exists in FactInternetSales\n",
      "sales_territory_key exists in FactInternetSales\n",
      "\n",
      "==================================================\n",
      "\n",
      "Checking keys in DimProduct:\n",
      "product_key exists in DimProduct\n",
      "product_subcategory_key exists in DimProduct\n",
      "\n",
      "==================================================\n",
      "\n",
      "Checking keys in DimProductSubcategory:\n",
      "product_subcategory_key exists in DimProductSubcategory\n",
      "product_category_key exists in DimProductSubcategory\n",
      "\n",
      "==================================================\n",
      "\n",
      "Checking keys in DimProductCategory:\n",
      "product_category_key exists in DimProductCategory\n",
      "\n",
      "==================================================\n",
      "\n",
      "Checking keys in DimCustomer:\n",
      "customer_key exists in DimCustomer\n",
      "\n",
      "==================================================\n",
      "\n",
      "Checking keys in DimSalesTerritory:\n",
      "sales_territory_key exists in DimSalesTerritory\n",
      "\n",
      "==================================================\n",
      "\n",
      "Checking keys in DimDate:\n",
      "date_key exists in DimDate\n",
      "\n",
      "==================================================\n",
      "\n"
     ]
    }
   ],
   "execution_count": 6
  },
  {
   "metadata": {},
   "cell_type": "markdown",
   "source": "#### Checking to see if Key Columns have the same data type",
   "id": "a3dc169bd99f97e9"
  },
  {
   "metadata": {
    "ExecuteTime": {
     "end_time": "2025-01-12T01:19:01.542938Z",
     "start_time": "2025-01-12T01:19:00.759026Z"
    }
   },
   "cell_type": "code",
   "source": [
    "# Check data types of key columns in each dataset\n",
    "for dataset, keys in key_columns.items():\n",
    "    print(f\"Checking data types in {dataset}:\")\n",
    "    datasets[dataset].select(keys).printSchema()\n",
    "    print(\"\\n\" + \"=\"*50 + \"\\n\")\n"
   ],
   "id": "3d17b2fa25c91131",
   "outputs": [
    {
     "name": "stdout",
     "output_type": "stream",
     "text": [
      "Checking data types in FactInternetSales:\n",
      "root\n",
      " |-- product_key: integer (nullable = true)\n",
      " |-- customer_key: integer (nullable = true)\n",
      " |-- order_date_key: integer (nullable = true)\n",
      " |-- sales_territory_key: integer (nullable = true)\n",
      "\n",
      "\n",
      "==================================================\n",
      "\n",
      "Checking data types in DimProduct:\n",
      "root\n",
      " |-- product_key: integer (nullable = true)\n",
      " |-- product_subcategory_key: integer (nullable = true)\n",
      "\n",
      "\n",
      "==================================================\n",
      "\n",
      "Checking data types in DimProductSubcategory:\n",
      "root\n",
      " |-- product_subcategory_key: integer (nullable = true)\n",
      " |-- product_category_key: integer (nullable = true)\n",
      "\n",
      "\n",
      "==================================================\n",
      "\n",
      "Checking data types in DimProductCategory:\n",
      "root\n",
      " |-- product_category_key: integer (nullable = true)\n",
      "\n",
      "\n",
      "==================================================\n",
      "\n",
      "Checking data types in DimCustomer:\n",
      "root\n",
      " |-- customer_key: integer (nullable = true)\n",
      "\n",
      "\n",
      "==================================================\n",
      "\n",
      "Checking data types in DimSalesTerritory:\n",
      "root\n",
      " |-- sales_territory_key: integer (nullable = true)\n",
      "\n",
      "\n",
      "==================================================\n",
      "\n",
      "Checking data types in DimDate:\n",
      "root\n",
      " |-- date_key: integer (nullable = true)\n",
      "\n",
      "\n",
      "==================================================\n",
      "\n"
     ]
    }
   ],
   "execution_count": 7
  },
  {
   "metadata": {},
   "cell_type": "markdown",
   "source": "#### Checking for Null values in key columns",
   "id": "ed4389749f9c0ee3"
  },
  {
   "metadata": {
    "ExecuteTime": {
     "end_time": "2025-01-12T01:19:10.912415Z",
     "start_time": "2025-01-12T01:19:02.371204Z"
    }
   },
   "cell_type": "code",
   "source": [
    "# Check for NULL values in key columns\n",
    "for dataset, keys in key_columns.items():\n",
    "    print(f\"Checking for NULL values in {dataset}:\")\n",
    "    for key in keys:\n",
    "        null_count = datasets[dataset].filter(col(key).isNull()).count()\n",
    "        print(f\"{key} has {null_count} NULL values in {dataset}\")\n",
    "    print(\"\\n\" + \"=\"*50 + \"\\n\")\n"
   ],
   "id": "eb16e208eff2b591",
   "outputs": [
    {
     "name": "stdout",
     "output_type": "stream",
     "text": [
      "Checking for NULL values in FactInternetSales:\n"
     ]
    },
    {
     "name": "stderr",
     "output_type": "stream",
     "text": [
      "                                                                                \r"
     ]
    },
    {
     "name": "stdout",
     "output_type": "stream",
     "text": [
      "product_key has 0 NULL values in FactInternetSales\n"
     ]
    },
    {
     "name": "stderr",
     "output_type": "stream",
     "text": [
      "                                                                                \r"
     ]
    },
    {
     "name": "stdout",
     "output_type": "stream",
     "text": [
      "customer_key has 0 NULL values in FactInternetSales\n",
      "order_date_key has 0 NULL values in FactInternetSales\n",
      "sales_territory_key has 0 NULL values in FactInternetSales\n",
      "\n",
      "==================================================\n",
      "\n",
      "Checking for NULL values in DimProduct:\n",
      "product_key has 0 NULL values in DimProduct\n",
      "product_subcategory_key has 0 NULL values in DimProduct\n",
      "\n",
      "==================================================\n",
      "\n",
      "Checking for NULL values in DimProductSubcategory:\n",
      "product_subcategory_key has 0 NULL values in DimProductSubcategory\n",
      "product_category_key has 0 NULL values in DimProductSubcategory\n",
      "\n",
      "==================================================\n",
      "\n",
      "Checking for NULL values in DimProductCategory:\n",
      "product_category_key has 0 NULL values in DimProductCategory\n",
      "\n",
      "==================================================\n",
      "\n",
      "Checking for NULL values in DimCustomer:\n",
      "customer_key has 0 NULL values in DimCustomer\n",
      "\n",
      "==================================================\n",
      "\n",
      "Checking for NULL values in DimSalesTerritory:\n",
      "sales_territory_key has 0 NULL values in DimSalesTerritory\n",
      "\n",
      "==================================================\n",
      "\n",
      "Checking for NULL values in DimDate:\n",
      "date_key has 0 NULL values in DimDate\n",
      "\n",
      "==================================================\n",
      "\n"
     ]
    }
   ],
   "execution_count": 8
  },
  {
   "metadata": {},
   "cell_type": "markdown",
   "source": "### Joining the Our Datasets",
   "id": "ae8b8dfc2ab5c741"
  },
  {
   "metadata": {
    "ExecuteTime": {
     "end_time": "2025-01-12T01:19:15.794526Z",
     "start_time": "2025-01-12T01:19:10.961674Z"
    }
   },
   "cell_type": "code",
   "source": [
    "# Start with the fact table\n",
    "fact_sales = datasets[\"FactInternetSales\"]\n",
    "\n",
    "# Join FactInternetSales with DimProduct\n",
    "fact_sales = fact_sales.join(datasets[\"DimProduct\"], \"product_key\", \"left\")\n",
    "\n",
    "# Join FactInternetSales with DimCustomer\n",
    "fact_sales = fact_sales.join(datasets[\"DimCustomer\"], \"customer_key\", \"left\")\n",
    "\n",
    "# Join FactInternetSales with DimDate\n",
    "fact_sales = fact_sales.join(datasets[\"DimDate\"], fact_sales.order_date_key == datasets[\"DimDate\"].date_key, \"left\").drop(\"date_key\")\n",
    "\n",
    "# Join FactInternetSales with DimSalesTerritory\n",
    "fact_sales = fact_sales.join(datasets[\"DimSalesTerritory\"], \"sales_territory_key\", \"left\")\n",
    "\n",
    "# Join DimProduct with DimProductSubcategory\n",
    "dim_product = datasets[\"DimProduct\"].join(datasets[\"DimProductSubcategory\"], \"product_subcategory_key\", \"left\")\n",
    "\n",
    "# Join DimProductSubcategory with DimProductCategory\n",
    "dim_product = dim_product.join(datasets[\"DimProductCategory\"], \"product_category_key\", \"left\")\n",
    "\n",
    "# Display final merged fact_sales dataset\n",
    "fact_sales.show(10)\n"
   ],
   "id": "b06832ce57a62fb0",
   "outputs": [
    {
     "name": "stderr",
     "output_type": "stream",
     "text": [
      "25/01/12 01:19:12 WARN SparkStringUtils: Truncated the string representation of a plan since it was too large. This behavior can be adjusted by setting 'spark.sql.debug.maxToStringFields'.\n",
      "                                                                                \r"
     ]
    },
    {
     "name": "stdout",
     "output_type": "stream",
     "text": [
      "+-------------------+------------+-----------+--------------+------------+-------------+-------------+------------+------------------+-----------------------+---------------+--------------+----------+---------------+-----------------------+---------------+---------------------+------------------+------------+--------+-------+-----------------------+-------------------+-------------------+-------------------+-------------------+---------------------+-----------------------+------------------------+----------------------+--------------------+--------------------+--------------------+-------------+-------------------+------+------------------+-------------+----------+----+----------+------+-------------------+------------+------------+-----+-----+------------+--------------------+----------------+----------------+------+-------------+----------------------+-----+----------+-----------+---------+----------+----------+--------------+------+------+--------------------+-------------+--------------+-----------------------+-----------------+--------------------+----------------+------------------+------------------+-----------------+----------------+-----------------+--------------------+-------------+-------------------+-------------------+----------------+-----------------------+------------------+------------------------+------------------------+-----------------------+-------------------+------------------+-------------------+------------------+------------------+-----------------+--------------------+----------------+-------------+-----------------+--------------+-----------+---------------+----------+-----------------------------+----------------------+-----------------------+---------------------+\n",
      "|sales_territory_key|customer_key|product_key|order_date_key|due_date_key|ship_date_key|promotion_key|currency_key|sales_order_number|sales_order_line_number|revision_number|order_quantity|unit_price|extended_amount|unit_price_discount_pct|discount_amount|product_standard_cost|total_product_cost|sales_amount| tax_amt|freight|carrier_tracking_number|customer_p_o_number|         order_date|           due_date|          ship_date|product_alternate_key|product_subcategory_key|weight_unit_measure_code|size_unit_measure_code|english_product_name|spanish_product_name| french_product_name|standard_cost|finished_goods_flag| color|safety_stock_level|reorder_point|list_price|size|size_range|weight|days_to_manufacture|product_line|dealer_price|class|style|  model_name| english_description|      start_date|        end_date|status|geography_key|customer_alternate_key|title|first_name|middle_name|last_name|name_style|birth_date|marital_status|suffix|gender|       email_address|yearly_income|total_children|number_children_at_home|english_education|   spanish_education|french_education|english_occupation|spanish_occupation|french_occupation|house_owner_flag|number_cars_owned|       address_line1|address_line2|              phone|date_first_purchase|commute_distance|full_date_alternate_key|day_number_of_week|english_day_name_of_week|spanish_day_name_of_week|french_day_name_of_week|day_number_of_month|day_number_of_year|week_number_of_year|english_month_name|spanish_month_name|french_month_name|month_number_of_year|calendar_quarter|calendar_year|calendar_semester|fiscal_quarter|fiscal_year|fiscal_semester| max _year|sales_territory_alternate_key|sales_territory_region|sales_territory_country|sales_territory_group|\n",
      "+-------------------+------------+-----------+--------------+------------+-------------+-------------+------------+------------------+-----------------------+---------------+--------------+----------+---------------+-----------------------+---------------+---------------------+------------------+------------+--------+-------+-----------------------+-------------------+-------------------+-------------------+-------------------+---------------------+-----------------------+------------------------+----------------------+--------------------+--------------------+--------------------+-------------+-------------------+------+------------------+-------------+----------+----+----------+------+-------------------+------------+------------+-----+-----+------------+--------------------+----------------+----------------+------+-------------+----------------------+-----+----------+-----------+---------+----------+----------+--------------+------+------+--------------------+-------------+--------------+-----------------------+-----------------+--------------------+----------------+------------------+------------------+-----------------+----------------+-----------------+--------------------+-------------+-------------------+-------------------+----------------+-----------------------+------------------+------------------------+------------------------+-----------------------+-------------------+------------------+-------------------+------------------+------------------+-----------------+--------------------+----------------+-------------+-----------------+--------------+-----------+---------------+----------+-----------------------------+----------------------+-----------------------+---------------------+\n",
      "|                  6|       21768|        310|      20101229|    20110110|     20110105|            1|          19|           SO43697|                      1|              1|             1|   3578.27|        3578.27|                      0|              0|            2171.2942|         2171.2942|     3578.27|286.2616|89.4568|                   NULL|               NULL|2010-12-29 00:00:00|2011-01-10 00:00:00|2011-01-05 00:00:00|           BK-R93R-62|                      2|                     LB |                   CM |    Road-150 Red, 62|Carretera: 150, r...|V�lo de route 150...|    2171.2942|               true|   Red|               100|           75|   3578.27|  62|  60-62 CM|  15.0|                  4|          R |    2146.962|   H |   U |    Road-150|This bike is ridd...|01/07/2005 00:00|30/06/2002 00:00|  NULL|           53|            AW00021768| NULL|      Cole|          A|   Watson|     false|1946-08-22|             S|  NULL|     M|cole1@adventure-w...|        70000|             5|                      0|        Bachelors|        Licenciatura|         Bac + 4|        Management|           Gesti�n|        Direction|               1|                3|    601 Asilomar Dr.|         NULL|       110-555-0129|         2005-07-01|       10+ Miles|             29/12/2010|                 4|               Wednesday|               Mi�rcoles|               Mercredi|                 29|               363|                 53|          December|         Diciembre|         D�cembre|                  12|               4|         2010|                2|             2|       2011|              1|01/01/2008|                            6|                Canada|                 Canada|        North America|\n",
      "|                  7|       28389|        346|      20101229|    20110110|     20110105|            1|          39|           SO43698|                      1|              1|             1|   3399.99|        3399.99|                      0|              0|            1912.1544|         1912.1544|     3399.99|271.9992|84.9998|                   NULL|               NULL|2010-12-29 00:00:00|2011-01-10 00:00:00|2011-01-05 00:00:00|           BK-M82S-44|                      1|                     LB |                   CM |Mountain-100 Silv...|Monta�a: 100, pla...|  VTT 100 argent, 44|    1912.1544|               true|Silver|               100|           75|   3399.99|  44|  42-46 CM| 21.13|                  4|          M |    2039.994|   H |   U |Mountain-100|Top-of-the-line c...|01/07/2005 00:00|30/06/2002 00:00|  NULL|          222|            AW00028389| NULL|   Rachael|          M| Martinez|     false|1964-12-18|             S|  NULL|     F|rachael16@adventu...|        20000|             3|                      3|      High School|Educaci�n secundaria|         Bac + 2|            Manual|            Obrero|          Ouvrier|               0|                0|  14, avenue du Port|         NULL|1 (11) 500 555-0190|         2005-07-01|       0-1 Miles|             29/12/2010|                 4|               Wednesday|               Mi�rcoles|               Mercredi|                 29|               363|                 53|          December|         Diciembre|         D�cembre|                  12|               4|         2010|                2|             2|       2011|              1|01/01/2008|                            7|                France|                 France|               Europe|\n",
      "|                  1|       25863|        346|      20101229|    20110110|     20110105|            1|         100|           SO43699|                      1|              1|             1|   3399.99|        3399.99|                      0|              0|            1912.1544|         1912.1544|     3399.99|271.9992|84.9998|                   NULL|               NULL|2010-12-29 00:00:00|2011-01-10 00:00:00|2011-01-05 00:00:00|           BK-M82S-44|                      1|                     LB |                   CM |Mountain-100 Silv...|Monta�a: 100, pla...|  VTT 100 argent, 44|    1912.1544|               true|Silver|               100|           75|   3399.99|  44|  42-46 CM| 21.13|                  4|          M |    2039.994|   H |   U |Mountain-100|Top-of-the-line c...|01/07/2005 00:00|30/06/2002 00:00|  NULL|          543|            AW00025863| NULL|    Sydney|          S|   Wright|     false|1946-12-03|             S|  NULL|     F|sydney61@adventur...|        40000|             5|                      0|      High School|Educaci�n secundaria|         Bac + 2|      Professional|       Profesional|            Cadre|               1|                3| 4193 E. 28th Street|         NULL|       285-555-0113|         2005-07-01|       10+ Miles|             29/12/2010|                 4|               Wednesday|               Mi�rcoles|               Mercredi|                 29|               363|                 53|          December|         Diciembre|         D�cembre|                  12|               4|         2010|                2|             2|       2011|              1|01/01/2008|                            1|             Northwest|          United States|        North America|\n",
      "|                  4|       14501|        336|      20101229|    20110110|     20110105|            1|         100|           SO43700|                      1|              1|             1|  699.0982|       699.0982|                      0|              0|             413.1463|          413.1463|    699.0982| 55.9279|17.4775|                   NULL|               NULL|2010-12-29 00:00:00|2011-01-10 00:00:00|2011-01-05 00:00:00|           BK-R50B-62|                      2|                     LB |                   CM |  Road-650 Black, 62|Carretera: 650, n...|V�lo de route 650...|     413.1463|               true| Black|               100|           75|  699.0982|  62|  60-62 CM|  20.0|                  4|          R |    419.4589|   L |   U |    Road-650|Value-priced bike...|01/07/2005 00:00|30/06/2002 00:00|  NULL|          300|            AW00014501| NULL|     Ruben|       NULL|   Prasad|     false|1938-05-13|             M|  NULL|     M|ruben10@adventure...|        80000|             4|                      0|  Graduate Degree|Estudios de postg...|         Bac + 3|        Management|           Gesti�n|        Direction|               1|                2|   249 Alexander Pl.|         NULL|       175-555-0159|         2005-07-01|       1-2 Miles|             29/12/2010|                 4|               Wednesday|               Mi�rcoles|               Mercredi|                 29|               363|                 53|          December|         Diciembre|         D�cembre|                  12|               4|         2010|                2|             2|       2011|              1|01/01/2008|                            4|             Southwest|          United States|        North America|\n",
      "|                  9|       11003|        346|      20101229|    20110110|     20110105|            1|           6|           SO43701|                      1|              1|             1|   3399.99|        3399.99|                      0|              0|            1912.1544|         1912.1544|     3399.99|271.9992|84.9998|                   NULL|               NULL|2010-12-29 00:00:00|2011-01-10 00:00:00|2011-01-05 00:00:00|           BK-M82S-44|                      1|                     LB |                   CM |Mountain-100 Silv...|Monta�a: 100, pla...|  VTT 100 argent, 44|    1912.1544|               true|Silver|               100|           75|   3399.99|  44|  42-46 CM| 21.13|                  4|          M |    2039.994|   H |   U |Mountain-100|Top-of-the-line c...|01/07/2005 00:00|30/06/2002 00:00|  NULL|           11|            AW00011003| NULL|   Christy|       NULL|      Zhu|     false|1968-02-15|             S|  NULL|     F|christy12@adventu...|        70000|             0|                      0|        Bachelors|        Licenciatura|         Bac + 4|      Professional|       Profesional|            Cadre|               0|                1|    1825 Village Pl.|         NULL|1 (11) 500 555-0162|         2005-07-01|      5-10 Miles|             29/12/2010|                 4|               Wednesday|               Mi�rcoles|               Mercredi|                 29|               363|                 53|          December|         Diciembre|         D�cembre|                  12|               4|         2010|                2|             2|       2011|              1|01/01/2008|                            9|             Australia|              Australia|              Pacific|\n",
      "|                  4|       27645|        311|      20101230|    20110111|     20110106|            1|         100|           SO43702|                      1|              1|             1|   3578.27|        3578.27|                      0|              0|            2171.2942|         2171.2942|     3578.27|286.2616|89.4568|                   NULL|               NULL|2010-12-30 00:00:00|2011-01-11 00:00:00|2011-01-06 00:00:00|           BK-R93R-44|                      2|                     LB |                   CM |    Road-150 Red, 44|Carretera: 150, r...|V�lo de route 150...|    2171.2942|               true|   Red|               100|           75|   3578.27|  44|  42-46 CM| 13.77|                  4|          R |    2146.962|   H |   U |    Road-150|This bike is ridd...|01/07/2005 00:00|30/06/2002 00:00|  NULL|          312|            AW00027645| NULL|     Colin|          G|    Anand|     false|1961-08-18|             M|  NULL|     M|colin45@adventure...|       120000|             1|                      3|      High School|Educaci�n secundaria|         Bac + 2|      Professional|       Profesional|            Cadre|               1|                4|7626 Sinclair Avenue|         NULL|       199-555-0186|         2005-07-02|      5-10 Miles|             30/12/2010|                 5|                Thursday|                  Jueves|                  Jeudi|                 30|               364|                 53|          December|         Diciembre|         D�cembre|                  12|               4|         2010|                2|             2|       2011|              1|01/01/2008|                            4|             Southwest|          United States|        North America|\n",
      "|                  9|       16624|        310|      20101230|    20110111|     20110106|            1|           6|           SO43703|                      1|              1|             1|   3578.27|        3578.27|                      0|              0|            2171.2942|         2171.2942|     3578.27|286.2616|89.4568|                   NULL|               NULL|2010-12-30 00:00:00|2011-01-11 00:00:00|2011-01-06 00:00:00|           BK-R93R-62|                      2|                     LB |                   CM |    Road-150 Red, 62|Carretera: 150, r...|V�lo de route 150...|    2171.2942|               true|   Red|               100|           75|   3578.27|  62|  60-62 CM|  15.0|                  4|          R |    2146.962|   H |   U |    Road-150|This bike is ridd...|01/07/2005 00:00|30/06/2002 00:00|  NULL|           30|            AW00016624| NULL|    Albert|          R|  Alvarez|     false|1972-07-27|             S|  NULL|     M|albert7@adventure...|        90000|             0|                      0|        Bachelors|        Licenciatura|         Bac + 4|      Professional|       Profesional|            Cadre|               0|                3|  3541 Corte Poquito|         NULL|1 (11) 500 555-0114|         2005-07-02|       10+ Miles|             30/12/2010|                 5|                Thursday|                  Jueves|                  Jeudi|                 30|               364|                 53|          December|         Diciembre|         D�cembre|                  12|               4|         2010|                2|             2|       2011|              1|01/01/2008|                            9|             Australia|              Australia|              Pacific|\n",
      "|                  9|       11005|        351|      20101230|    20110111|     20110106|            1|           6|           SO43704|                      1|              1|             1|   3374.99|        3374.99|                      0|              0|            1898.0944|         1898.0944|     3374.99|269.9992|84.3748|                   NULL|               NULL|2010-12-30 00:00:00|2011-01-11 00:00:00|2011-01-06 00:00:00|           BK-M82B-48|                      1|                     LB |                   CM |Mountain-100 Blac...|Monta�a: 100, neg...|    VTT 100 noir, 48|    1898.0944|               true| Black|               100|           75|   3374.99|  48|  48-52 CM| 21.42|                  4|          M |    2024.994|   H |   U |Mountain-100|Top-of-the-line c...|01/07/2005 00:00|30/06/2002 00:00|  NULL|           22|            AW00011005| NULL|     Julio|       NULL|     Ruiz|     false|1965-08-05|             S|  NULL|     M|julio1@adventure-...|        70000|             0|                      0|        Bachelors|        Licenciatura|         Bac + 4|      Professional|       Profesional|            Cadre|               1|                1| 7305 Humphrey Drive|         NULL|1 (11) 500 555-0151|         2005-07-02|      5-10 Miles|             30/12/2010|                 5|                Thursday|                  Jueves|                  Jeudi|                 30|               364|                 53|          December|         Diciembre|         D�cembre|                  12|               4|         2010|                2|             2|       2011|              1|01/01/2008|                            9|             Australia|              Australia|              Pacific|\n",
      "|                  9|       11011|        344|      20101230|    20110111|     20110106|            1|           6|           SO43705|                      1|              1|             1|   3399.99|        3399.99|                      0|              0|            1912.1544|         1912.1544|     3399.99|271.9992|84.9998|                   NULL|               NULL|2010-12-30 00:00:00|2011-01-11 00:00:00|2011-01-06 00:00:00|           BK-M82S-38|                      1|                     LB |                   CM |Mountain-100 Silv...|Monta�a: 100, pla...|  VTT 100 argent, 38|    1912.1544|               true|Silver|               100|           75|   3399.99|  38|  38-40 CM| 20.35|                  4|          M |    2039.994|   H |   U |Mountain-100|Top-of-the-line c...|01/07/2005 00:00|30/06/2002 00:00|  NULL|           22|            AW00011011| NULL|    Curtis|       NULL|       Lu|     false|1963-11-04|             M|  NULL|     M|curtis9@adventure...|        60000|             4|                      4|        Bachelors|        Licenciatura|         Bac + 4|      Professional|       Profesional|            Cadre|               1|                4|        1224 Shoenic|         NULL|1 (11) 500 555-0117|         2005-07-02|       10+ Miles|             30/12/2010|                 5|                Thursday|                  Jueves|                  Jeudi|                 30|               364|                 53|          December|         Diciembre|         D�cembre|                  12|               4|         2010|                2|             2|       2011|              1|01/01/2008|                            9|             Australia|              Australia|              Pacific|\n",
      "|                  4|       27621|        312|      20101231|    20110112|     20110107|            1|         100|           SO43706|                      1|              1|             1|   3578.27|        3578.27|                      0|              0|            2171.2942|         2171.2942|     3578.27|286.2616|89.4568|                   NULL|               NULL|2010-12-31 00:00:00|2011-01-12 00:00:00|2011-01-07 00:00:00|           BK-R93R-48|                      2|                     LB |                   CM |    Road-150 Red, 48|Carretera: 150, r...|V�lo de route 150...|    2171.2942|               true|   Red|               100|           75|   3578.27|  48|  48-52 CM| 14.13|                  4|          R |    2146.962|   H |   U |    Road-150|This bike is ridd...|01/07/2005 00:00|30/06/2002 00:00|  NULL|          369|            AW00027621| NULL|    Edward|       NULL|    Brown|     false|1964-01-27|             S|  NULL|     M|edward26@adventur...|       160000|             0|                      0|  Graduate Degree|Estudios de postg...|         Bac + 3|        Management|           Gesti�n|        Direction|               0|                4|2226 Cleveland Av...|         NULL|       238-555-0128|         2005-07-03|       1-2 Miles|             31/12/2010|                 6|                  Friday|                 Viernes|               Vendredi|                 31|               365|                 53|          December|         Diciembre|         D�cembre|                  12|               4|         2010|                2|             2|       2011|              1|01/01/2008|                            4|             Southwest|          United States|        North America|\n",
      "+-------------------+------------+-----------+--------------+------------+-------------+-------------+------------+------------------+-----------------------+---------------+--------------+----------+---------------+-----------------------+---------------+---------------------+------------------+------------+--------+-------+-----------------------+-------------------+-------------------+-------------------+-------------------+---------------------+-----------------------+------------------------+----------------------+--------------------+--------------------+--------------------+-------------+-------------------+------+------------------+-------------+----------+----+----------+------+-------------------+------------+------------+-----+-----+------------+--------------------+----------------+----------------+------+-------------+----------------------+-----+----------+-----------+---------+----------+----------+--------------+------+------+--------------------+-------------+--------------+-----------------------+-----------------+--------------------+----------------+------------------+------------------+-----------------+----------------+-----------------+--------------------+-------------+-------------------+-------------------+----------------+-----------------------+------------------+------------------------+------------------------+-----------------------+-------------------+------------------+-------------------+------------------+------------------+-----------------+--------------------+----------------+-------------+-----------------+--------------+-----------+---------------+----------+-----------------------------+----------------------+-----------------------+---------------------+\n",
      "only showing top 10 rows\n",
      "\n"
     ]
    }
   ],
   "execution_count": 9
  },
  {
   "metadata": {},
   "cell_type": "markdown",
   "source": "## Data quality checks and data cleaning process",
   "id": "292898034c74fa5"
  },
  {
   "metadata": {},
   "cell_type": "markdown",
   "source": "#### Checking row count check before and after joining",
   "id": "e0c8c0074296a8e3"
  },
  {
   "metadata": {
    "ExecuteTime": {
     "end_time": "2025-01-12T01:19:17.957598Z",
     "start_time": "2025-01-12T01:19:15.862561Z"
    }
   },
   "cell_type": "code",
   "source": [
    "# Check row count before and after joining\n",
    "fact_sales_count = datasets[\"FactInternetSales\"].count()\n",
    "merged_fact_sales_count = fact_sales.count()\n",
    "\n",
    "print(f\"FactInternetSales before join: {fact_sales_count} rows\")\n",
    "print(f\"Merged dataset after join: {merged_fact_sales_count} rows\")\n"
   ],
   "id": "d600665eee228466",
   "outputs": [
    {
     "name": "stdout",
     "output_type": "stream",
     "text": [
      "FactInternetSales before join: 60398 rows\n",
      "Merged dataset after join: 60398 rows\n"
     ]
    },
    {
     "name": "stderr",
     "output_type": "stream",
     "text": [
      "                                                                                \r"
     ]
    }
   ],
   "execution_count": 10
  },
  {
   "metadata": {},
   "cell_type": "markdown",
   "source": "#### Check for duplicate rows",
   "id": "4688d7d816b70324"
  },
  {
   "metadata": {
    "ExecuteTime": {
     "end_time": "2025-01-12T01:19:27.889489Z",
     "start_time": "2025-01-12T01:19:19.082893Z"
    }
   },
   "cell_type": "code",
   "source": [
    "# Check for duplicate rows\n",
    "duplicate_count = fact_sales.groupBy(fact_sales.columns).count().filter(\"count > 1\").count()\n",
    "print(f\"Duplicate rows in merged dataset: {duplicate_count}\")"
   ],
   "id": "2ac503c4e501ae8",
   "outputs": [
    {
     "name": "stderr",
     "output_type": "stream",
     "text": [
      "[Stage 72:>                                                         (0 + 4) / 4]\r"
     ]
    },
    {
     "name": "stdout",
     "output_type": "stream",
     "text": [
      "Duplicate rows in merged dataset: 0\n"
     ]
    },
    {
     "name": "stderr",
     "output_type": "stream",
     "text": [
      "                                                                                \r"
     ]
    }
   ],
   "execution_count": 11
  },
  {
   "metadata": {},
   "cell_type": "markdown",
   "source": "#### Check for NULL Values in Important Columns",
   "id": "b3b6f5e4ffcd4e37"
  },
  {
   "metadata": {
    "ExecuteTime": {
     "end_time": "2025-01-12T01:19:33.298881Z",
     "start_time": "2025-01-12T01:19:28.017292Z"
    }
   },
   "cell_type": "code",
   "source": [
    "\n",
    "# List of important columns to check\n",
    "important_columns = [\"product_key\", \"customer_key\", \"order_date_key\", \"sales_territory_key\", \"sales_amount\"]\n",
    "\n",
    "# Check for NULL values in important columns\n",
    "for col_name in important_columns:\n",
    "    null_count = fact_sales.filter(col(col_name).isNull()).count()\n",
    "    print(f\"{col_name} has {null_count} NULL values\")"
   ],
   "id": "e916bba0c0fa316d",
   "outputs": [
    {
     "name": "stdout",
     "output_type": "stream",
     "text": [
      "product_key has 0 NULL values\n",
      "customer_key has 0 NULL values\n",
      "order_date_key has 0 NULL values\n",
      "sales_territory_key has 0 NULL values\n",
      "sales_amount has 0 NULL values\n"
     ]
    }
   ],
   "execution_count": 12
  },
  {
   "metadata": {},
   "cell_type": "markdown",
   "source": "#### Check for Duplicate Rows",
   "id": "33d7eba2c3d5df19"
  },
  {
   "metadata": {
    "ExecuteTime": {
     "end_time": "2025-01-12T01:19:35.286987Z",
     "start_time": "2025-01-12T01:19:33.357109Z"
    }
   },
   "cell_type": "code",
   "source": "fact_sales.select(\"order_quantity\", \"unit_price\", \"sales_amount\", \"tax_amt\", \"freight\").describe().show()",
   "id": "d268d1476e2be77d",
   "outputs": [
    {
     "name": "stdout",
     "output_type": "stream",
     "text": [
      "+-------+--------------+-----------------+-----------------+-----------------+------------------+\n",
      "|summary|order_quantity|       unit_price|     sales_amount|          tax_amt|           freight|\n",
      "+-------+--------------+-----------------+-----------------+-----------------+------------------+\n",
      "|  count|         60398|            60398|            60398|            60398|             60398|\n",
      "|   mean|           1.0|486.0869105053777|486.0869105053777|38.88695370873952|12.152217111493709|\n",
      "| stddev|           0.0| 928.489891980807| 928.489891980807|74.27919255248155|23.212248232767838|\n",
      "|    min|             1|             2.29|             2.29|           0.1832|            0.0573|\n",
      "|    max|             1|          3578.27|          3578.27|         286.2616|           89.4568|\n",
      "+-------+--------------+-----------------+-----------------+-----------------+------------------+\n",
      "\n"
     ]
    }
   ],
   "execution_count": 13
  },
  {
   "metadata": {},
   "cell_type": "markdown",
   "source": "## Business Questions",
   "id": "72b67d4cd70792c3"
  },
  {
   "metadata": {},
   "cell_type": "markdown",
   "source": [
    "#### Sales and Product Analysis<br>\n",
    "1. Which products generate the highest sales revenue and profit margins?\n",
    "2. How do sales trends vary across different sales territories?\n",
    "3. How does product performance vary across different categories and subcategories?"
   ],
   "id": "2b233496c484891d"
  },
  {
   "metadata": {},
   "cell_type": "markdown",
   "source": "##### Which products generate the highest sales revenue and profit margins?\n",
   "id": "acc90246164cbf5e"
  },
  {
   "metadata": {
    "ExecuteTime": {
     "end_time": "2025-01-12T01:19:37.447637Z",
     "start_time": "2025-01-12T01:19:35.444920Z"
    }
   },
   "cell_type": "code",
   "source": [
    "#Which products generate the highest sales revenue and profit margins?\n",
    "#\n",
    "product_analysis = fact_sales.groupBy(\"english_product_name\") \\\n",
    "    .agg(\n",
    "        sum(\"sales_amount\").alias(\"total_sales\"),\n",
    "        sum(expr(\"sales_amount - total_product_cost\")).alias(\"profit_margin\")\n",
    "    ) \\\n",
    "    .orderBy(\"total_sales\", ascending=False)\n",
    "\n",
    "product_analysis.show(10)"
   ],
   "id": "2ca0bb3968f7c730",
   "outputs": [
    {
     "name": "stdout",
     "output_type": "stream",
     "text": [
      "+--------------------+------------------+------------------+\n",
      "|english_product_name|       total_sales|     profit_margin|\n",
      "+--------------------+------------------+------------------+\n",
      "|Mountain-200 Blac...|1373469.5481999982| 626621.5735000019|\n",
      "|Mountain-200 Blac...| 1363142.093399998| 621759.6083000018|\n",
      "|Mountain-200 Silv...| 1339462.790399998| 610864.4347999995|\n",
      "|Mountain-200 Silv...|1301100.0983999984| 593490.4727999989|\n",
      "|Mountain-200 Blac...| 1294866.141199998| 590477.4604000015|\n",
      "|Mountain-200 Silv...| 1257434.572799998| 573511.9375999994|\n",
      "|    Road-150 Red, 48|1205876.9900000044|474150.84460000356|\n",
      "|    Road-150 Red, 62|1202298.7200000044|472743.86880000355|\n",
      "|    Road-150 Red, 52|1080637.5400000038|424906.69160000305|\n",
      "|    Road-150 Red, 56|1055589.6500000036|415057.86100000294|\n",
      "+--------------------+------------------+------------------+\n",
      "only showing top 10 rows\n",
      "\n"
     ]
    }
   ],
   "execution_count": 14
  },
  {
   "metadata": {
    "ExecuteTime": {
     "end_time": "2025-01-12T01:19:37.542453Z",
     "start_time": "2025-01-12T01:19:37.523591Z"
    }
   },
   "cell_type": "code",
   "source": "fact_sales.printSchema()",
   "id": "fd879aff64215001",
   "outputs": [
    {
     "name": "stdout",
     "output_type": "stream",
     "text": [
      "root\n",
      " |-- sales_territory_key: integer (nullable = true)\n",
      " |-- customer_key: integer (nullable = true)\n",
      " |-- product_key: integer (nullable = true)\n",
      " |-- order_date_key: integer (nullable = true)\n",
      " |-- due_date_key: integer (nullable = true)\n",
      " |-- ship_date_key: integer (nullable = true)\n",
      " |-- promotion_key: integer (nullable = true)\n",
      " |-- currency_key: integer (nullable = true)\n",
      " |-- sales_order_number: string (nullable = true)\n",
      " |-- sales_order_line_number: integer (nullable = true)\n",
      " |-- revision_number: integer (nullable = true)\n",
      " |-- order_quantity: integer (nullable = true)\n",
      " |-- unit_price: double (nullable = true)\n",
      " |-- extended_amount: double (nullable = true)\n",
      " |-- unit_price_discount_pct: integer (nullable = true)\n",
      " |-- discount_amount: integer (nullable = true)\n",
      " |-- product_standard_cost: double (nullable = true)\n",
      " |-- total_product_cost: double (nullable = true)\n",
      " |-- sales_amount: double (nullable = true)\n",
      " |-- tax_amt: double (nullable = true)\n",
      " |-- freight: double (nullable = true)\n",
      " |-- carrier_tracking_number: string (nullable = true)\n",
      " |-- customer_p_o_number: string (nullable = true)\n",
      " |-- order_date: timestamp (nullable = true)\n",
      " |-- due_date: timestamp (nullable = true)\n",
      " |-- ship_date: timestamp (nullable = true)\n",
      " |-- product_alternate_key: string (nullable = true)\n",
      " |-- product_subcategory_key: integer (nullable = true)\n",
      " |-- weight_unit_measure_code: string (nullable = true)\n",
      " |-- size_unit_measure_code: string (nullable = true)\n",
      " |-- english_product_name: string (nullable = true)\n",
      " |-- spanish_product_name: string (nullable = true)\n",
      " |-- french_product_name: string (nullable = true)\n",
      " |-- standard_cost: double (nullable = true)\n",
      " |-- finished_goods_flag: boolean (nullable = true)\n",
      " |-- color: string (nullable = true)\n",
      " |-- safety_stock_level: integer (nullable = true)\n",
      " |-- reorder_point: integer (nullable = true)\n",
      " |-- list_price: double (nullable = true)\n",
      " |-- size: string (nullable = true)\n",
      " |-- size_range: string (nullable = true)\n",
      " |-- weight: double (nullable = true)\n",
      " |-- days_to_manufacture: integer (nullable = true)\n",
      " |-- product_line: string (nullable = true)\n",
      " |-- dealer_price: double (nullable = true)\n",
      " |-- class: string (nullable = true)\n",
      " |-- style: string (nullable = true)\n",
      " |-- model_name: string (nullable = true)\n",
      " |-- english_description: string (nullable = true)\n",
      " |-- start_date: string (nullable = true)\n",
      " |-- end_date: string (nullable = true)\n",
      " |-- status: string (nullable = true)\n",
      " |-- geography_key: integer (nullable = true)\n",
      " |-- customer_alternate_key: string (nullable = true)\n",
      " |-- title: string (nullable = true)\n",
      " |-- first_name: string (nullable = true)\n",
      " |-- middle_name: string (nullable = true)\n",
      " |-- last_name: string (nullable = true)\n",
      " |-- name_style: boolean (nullable = true)\n",
      " |-- birth_date: date (nullable = true)\n",
      " |-- marital_status: string (nullable = true)\n",
      " |-- suffix: string (nullable = true)\n",
      " |-- gender: string (nullable = true)\n",
      " |-- email_address: string (nullable = true)\n",
      " |-- yearly_income: integer (nullable = true)\n",
      " |-- total_children: integer (nullable = true)\n",
      " |-- number_children_at_home: integer (nullable = true)\n",
      " |-- english_education: string (nullable = true)\n",
      " |-- spanish_education: string (nullable = true)\n",
      " |-- french_education: string (nullable = true)\n",
      " |-- english_occupation: string (nullable = true)\n",
      " |-- spanish_occupation: string (nullable = true)\n",
      " |-- french_occupation: string (nullable = true)\n",
      " |-- house_owner_flag: integer (nullable = true)\n",
      " |-- number_cars_owned: integer (nullable = true)\n",
      " |-- address_line1: string (nullable = true)\n",
      " |-- address_line2: string (nullable = true)\n",
      " |-- phone: string (nullable = true)\n",
      " |-- date_first_purchase: date (nullable = true)\n",
      " |-- commute_distance: string (nullable = true)\n",
      " |-- full_date_alternate_key: string (nullable = true)\n",
      " |-- day_number_of_week: integer (nullable = true)\n",
      " |-- english_day_name_of_week: string (nullable = true)\n",
      " |-- spanish_day_name_of_week: string (nullable = true)\n",
      " |-- french_day_name_of_week: string (nullable = true)\n",
      " |-- day_number_of_month: integer (nullable = true)\n",
      " |-- day_number_of_year: integer (nullable = true)\n",
      " |-- week_number_of_year: integer (nullable = true)\n",
      " |-- english_month_name: string (nullable = true)\n",
      " |-- spanish_month_name: string (nullable = true)\n",
      " |-- french_month_name: string (nullable = true)\n",
      " |-- month_number_of_year: integer (nullable = true)\n",
      " |-- calendar_quarter: integer (nullable = true)\n",
      " |-- calendar_year: integer (nullable = true)\n",
      " |-- calendar_semester: integer (nullable = true)\n",
      " |-- fiscal_quarter: integer (nullable = true)\n",
      " |-- fiscal_year: integer (nullable = true)\n",
      " |-- fiscal_semester: integer (nullable = true)\n",
      " |-- max _year: string (nullable = true)\n",
      " |-- sales_territory_alternate_key: integer (nullable = true)\n",
      " |-- sales_territory_region: string (nullable = true)\n",
      " |-- sales_territory_country: string (nullable = true)\n",
      " |-- sales_territory_group: string (nullable = true)\n",
      "\n"
     ]
    }
   ],
   "execution_count": 15
  },
  {
   "metadata": {
    "ExecuteTime": {
     "end_time": "2025-01-12T01:19:37.868035Z",
     "start_time": "2025-01-12T01:19:37.830045Z"
    }
   },
   "cell_type": "code",
   "source": [
    "# Check if english_product_category_name exists in the dataset\n",
    "fact_sales.columns\n"
   ],
   "id": "2b03d5ceaeb10913",
   "outputs": [
    {
     "data": {
      "text/plain": [
       "['sales_territory_key',\n",
       " 'customer_key',\n",
       " 'product_key',\n",
       " 'order_date_key',\n",
       " 'due_date_key',\n",
       " 'ship_date_key',\n",
       " 'promotion_key',\n",
       " 'currency_key',\n",
       " 'sales_order_number',\n",
       " 'sales_order_line_number',\n",
       " 'revision_number',\n",
       " 'order_quantity',\n",
       " 'unit_price',\n",
       " 'extended_amount',\n",
       " 'unit_price_discount_pct',\n",
       " 'discount_amount',\n",
       " 'product_standard_cost',\n",
       " 'total_product_cost',\n",
       " 'sales_amount',\n",
       " 'tax_amt',\n",
       " 'freight',\n",
       " 'carrier_tracking_number',\n",
       " 'customer_p_o_number',\n",
       " 'order_date',\n",
       " 'due_date',\n",
       " 'ship_date',\n",
       " 'product_alternate_key',\n",
       " 'product_subcategory_key',\n",
       " 'weight_unit_measure_code',\n",
       " 'size_unit_measure_code',\n",
       " 'english_product_name',\n",
       " 'spanish_product_name',\n",
       " 'french_product_name',\n",
       " 'standard_cost',\n",
       " 'finished_goods_flag',\n",
       " 'color',\n",
       " 'safety_stock_level',\n",
       " 'reorder_point',\n",
       " 'list_price',\n",
       " 'size',\n",
       " 'size_range',\n",
       " 'weight',\n",
       " 'days_to_manufacture',\n",
       " 'product_line',\n",
       " 'dealer_price',\n",
       " 'class',\n",
       " 'style',\n",
       " 'model_name',\n",
       " 'english_description',\n",
       " 'start_date',\n",
       " 'end_date',\n",
       " 'status',\n",
       " 'geography_key',\n",
       " 'customer_alternate_key',\n",
       " 'title',\n",
       " 'first_name',\n",
       " 'middle_name',\n",
       " 'last_name',\n",
       " 'name_style',\n",
       " 'birth_date',\n",
       " 'marital_status',\n",
       " 'suffix',\n",
       " 'gender',\n",
       " 'email_address',\n",
       " 'yearly_income',\n",
       " 'total_children',\n",
       " 'number_children_at_home',\n",
       " 'english_education',\n",
       " 'spanish_education',\n",
       " 'french_education',\n",
       " 'english_occupation',\n",
       " 'spanish_occupation',\n",
       " 'french_occupation',\n",
       " 'house_owner_flag',\n",
       " 'number_cars_owned',\n",
       " 'address_line1',\n",
       " 'address_line2',\n",
       " 'phone',\n",
       " 'date_first_purchase',\n",
       " 'commute_distance',\n",
       " 'full_date_alternate_key',\n",
       " 'day_number_of_week',\n",
       " 'english_day_name_of_week',\n",
       " 'spanish_day_name_of_week',\n",
       " 'french_day_name_of_week',\n",
       " 'day_number_of_month',\n",
       " 'day_number_of_year',\n",
       " 'week_number_of_year',\n",
       " 'english_month_name',\n",
       " 'spanish_month_name',\n",
       " 'french_month_name',\n",
       " 'month_number_of_year',\n",
       " 'calendar_quarter',\n",
       " 'calendar_year',\n",
       " 'calendar_semester',\n",
       " 'fiscal_quarter',\n",
       " 'fiscal_year',\n",
       " 'fiscal_semester',\n",
       " 'max _year',\n",
       " 'sales_territory_alternate_key',\n",
       " 'sales_territory_region',\n",
       " 'sales_territory_country',\n",
       " 'sales_territory_group']"
      ]
     },
     "execution_count": 16,
     "metadata": {},
     "output_type": "execute_result"
    }
   ],
   "execution_count": 16
  },
  {
   "metadata": {
    "ExecuteTime": {
     "end_time": "2025-01-12T01:19:40.886565Z",
     "start_time": "2025-01-12T01:19:38.251553Z"
    }
   },
   "cell_type": "code",
   "source": [
    "# Join FactInternetSales with DimProduct\n",
    "fact_sales_with_product = fact_sales.join(\n",
    "    datasets[\"DimProduct\"], \"product_key\", \"inner\"\n",
    ")\n",
    "\n",
    "# Join with DimProductSubcategory\n",
    "fact_sales_with_subcategory = fact_sales_with_product.join(\n",
    "    datasets[\"DimProductSubcategory\"], \"product_subcategory_key\", \"inner\"\n",
    ")\n",
    "\n",
    "# Join with DimProductCategory to get the category name\n",
    "fact_sales_with_category = fact_sales_with_subcategory.join(\n",
    "    datasets[\"DimProductCategory\"], \"product_category_key\", \"inner\"\n",
    ")\n",
    "\n",
    "# Perform category-level sales and profit analysis\n",
    "category_analysis = fact_sales_with_category.groupBy(\"english_product_category_name\") \\\n",
    "    .agg(\n",
    "        sum(\"sales_amount\").alias(\"total_sales\"),\n",
    "        sum(expr(\"sales_amount - total_product_cost\")).alias(\"profit_margin\")\n",
    "    ) \\\n",
    "    .orderBy(\"total_sales\", ascending=False)\n",
    "\n",
    "category_analysis.show()\n"
   ],
   "id": "97be08f35ba855e3",
   "outputs": [
    {
     "name": "stdout",
     "output_type": "stream",
     "text": [
      "+-----------------------------+--------------------+--------------------+\n",
      "|english_product_category_name|         total_sales|       profit_margin|\n",
      "+-----------------------------+--------------------+--------------------+\n",
      "|                        Bikes|2.8318144650701128E7|1.1505796500600025E7|\n",
      "|                  Accessories|   700759.9599999422|  438674.56809997605|\n",
      "|                     Clothing|   339772.6100000149|  136412.57629999678|\n",
      "+-----------------------------+--------------------+--------------------+\n",
      "\n"
     ]
    }
   ],
   "execution_count": 17
  },
  {
   "metadata": {
    "ExecuteTime": {
     "end_time": "2025-01-12T01:19:43.298883Z",
     "start_time": "2025-01-12T01:19:40.914914Z"
    }
   },
   "cell_type": "code",
   "source": [
    "#Top-Selling Products (Bar Chart)\n",
    "# Convert to Pandas\n",
    "product_sales_df = product_analysis.limit(10).toPandas()\n",
    "\n",
    "# Plot Top-Selling Products\n",
    "plt.figure(figsize=(12, 6))\n",
    "sns.barplot(x=\"total_sales\", y=\"english_product_name\", data=product_sales_df, palette=\"Blues_r\")\n",
    "plt.xlabel(\"Total Sales ($)\")\n",
    "plt.ylabel(\"Product Name\")\n",
    "plt.title(\"Top 10 Best-Selling Products\")\n",
    "plt.show()"
   ],
   "id": "2e0f2d7f9dfeb0f6",
   "outputs": [
    {
     "name": "stderr",
     "output_type": "stream",
     "text": [
      "/var/folders/vq/2z3hvmh94k13pb_1b0fmr7wm0000gn/T/ipykernel_10740/3720069064.py:7: FutureWarning: \n",
      "\n",
      "Passing `palette` without assigning `hue` is deprecated and will be removed in v0.14.0. Assign the `y` variable to `hue` and set `legend=False` for the same effect.\n",
      "\n",
      "  sns.barplot(x=\"total_sales\", y=\"english_product_name\", data=product_sales_df, palette=\"Blues_r\")\n"
     ]
    },
    {
     "data": {
      "text/plain": [
       "<Figure size 1200x600 with 1 Axes>"
      ],
      "image/png": "[encoded data removed]"
     },
     "metadata": {},
     "output_type": "display_data"
    }
   ],
   "execution_count": 18
  },
  {
   "metadata": {
    "ExecuteTime": {
     "end_time": "2025-01-12T01:19:43.429604Z",
     "start_time": "2025-01-12T01:19:43.424507Z"
    }
   },
   "cell_type": "code",
   "source": "print(category_analysis.columns)\n",
   "id": "e0cdb2a0f7c5c8ec",
   "outputs": [
    {
     "name": "stdout",
     "output_type": "stream",
     "text": [
      "['english_product_category_name', 'total_sales', 'profit_margin']\n"
     ]
    }
   ],
   "execution_count": 19
  },
  {
   "metadata": {
    "ExecuteTime": {
     "end_time": "2025-01-12T01:19:45.010546Z",
     "start_time": "2025-01-12T01:19:43.595487Z"
    }
   },
   "cell_type": "code",
   "source": [
    "#Profit Margins by Product Category (Bar Chart)\n",
    "# Compute Profit Per Unit\n",
    "product_analysis = product_analysis.withColumn(\"profit_per_unit\", expr(\"profit_margin / total_sales\"))\n",
    "\n",
    "# Convert to Pandas for Visualization\n",
    "profit_per_unit_df = product_analysis.limit(10).toPandas()\n",
    "\n",
    "# Plot Profit Per Unit for Top Products\n",
    "plt.figure(figsize=(12, 6))\n",
    "sns.barplot(x=\"profit_per_unit\", y=\"english_product_name\", data=profit_per_unit_df, palette=\"coolwarm\")\n",
    "plt.xlabel(\"Profit Per Unit ($)\")\n",
    "plt.ylabel(\"Product Name\")\n",
    "plt.title(\"Most Profitable Products (Per Unit)\")\n",
    "plt.show()\n"
   ],
   "id": "d4a2460a76a3f5f8",
   "outputs": [
    {
     "name": "stderr",
     "output_type": "stream",
     "text": [
      "/var/folders/vq/2z3hvmh94k13pb_1b0fmr7wm0000gn/T/ipykernel_10740/1897914809.py:10: FutureWarning: \n",
      "\n",
      "Passing `palette` without assigning `hue` is deprecated and will be removed in v0.14.0. Assign the `y` variable to `hue` and set `legend=False` for the same effect.\n",
      "\n",
      "  sns.barplot(x=\"profit_per_unit\", y=\"english_product_name\", data=profit_per_unit_df, palette=\"coolwarm\")\n"
     ]
    },
    {
     "data": {
      "text/plain": [
       "<Figure size 1200x600 with 1 Axes>"
      ],
      "image/png": "[encoded data removed]"
     },
     "metadata": {},
     "output_type": "display_data"
    }
   ],
   "execution_count": 20
  },
  {
   "metadata": {},
   "cell_type": "markdown",
   "source": [
    "##### How do sales trends vary across different sales territories?\n",
    "\n"
   ],
   "id": "a49b2add53066805"
  },
  {
   "metadata": {
    "ExecuteTime": {
     "end_time": "2025-01-12T01:19:46.349104Z",
     "start_time": "2025-01-12T01:19:45.050501Z"
    }
   },
   "cell_type": "code",
   "source": [
    "#2️⃣ Analyze Sales by Territory\n",
    "\n",
    "territory_sales = fact_sales.groupBy(\"sales_territory_group\") \\\n",
    "    .agg(sum(\"sales_amount\").alias(\"total_sales\")) \\\n",
    "    .orderBy(\"total_sales\", ascending=False)\n",
    "\n",
    "territory_sales.show()"
   ],
   "id": "7ab8eb6b345ce005",
   "outputs": [
    {
     "name": "stdout",
     "output_type": "stream",
     "text": [
      "+---------------------+--------------------+\n",
      "|sales_territory_group|         total_sales|\n",
      "+---------------------+--------------------+\n",
      "|        North America|1.1367634372902095E7|\n",
      "|              Pacific|   9061000.584400563|\n",
      "|               Europe|   8930042.263400966|\n",
      "+---------------------+--------------------+\n",
      "\n"
     ]
    }
   ],
   "execution_count": 21
  },
  {
   "metadata": {},
   "cell_type": "markdown",
   "source": "###### Sales Distribution Across Territories",
   "id": "78f7cb95780a2c08"
  },
  {
   "metadata": {
    "ExecuteTime": {
     "end_time": "2025-01-12T01:19:48.190954Z",
     "start_time": "2025-01-12T01:19:46.426870Z"
    }
   },
   "cell_type": "code",
   "source": [
    "#Sales Distribution Across Territories\n",
    "\n",
    "# Aggregate sales by sales territory\n",
    "territory_sales = fact_sales.groupBy(\"sales_territory_group\") \\\n",
    "    .agg(sum(\"sales_amount\").alias(\"total_sales\")) \\\n",
    "    .orderBy(\"total_sales\", ascending=False)\n",
    "\n",
    "# Convert to Pandas for visualization\n",
    "territory_sales_df = territory_sales.toPandas()\n",
    "\n",
    "# Plot Sales by Territory\n",
    "plt.figure(figsize=(12, 6))\n",
    "sns.barplot(x=\"total_sales\", y=\"sales_territory_group\", data=territory_sales_df, palette=\"coolwarm\")\n",
    "plt.xlabel(\"Total Sales\")\n",
    "plt.ylabel(\"Sales Territory\")\n",
    "plt.title(\"Sales Distribution Across Territories\")\n",
    "plt.show()\n",
    "\n"
   ],
   "id": "5d2ca142ed0ac93d",
   "outputs": [
    {
     "name": "stderr",
     "output_type": "stream",
     "text": [
      "/var/folders/vq/2z3hvmh94k13pb_1b0fmr7wm0000gn/T/ipykernel_10740/2696049287.py:13: FutureWarning: \n",
      "\n",
      "Passing `palette` without assigning `hue` is deprecated and will be removed in v0.14.0. Assign the `y` variable to `hue` and set `legend=False` for the same effect.\n",
      "\n",
      "  sns.barplot(x=\"total_sales\", y=\"sales_territory_group\", data=territory_sales_df, palette=\"coolwarm\")\n"
     ]
    },
    {
     "data": {
      "text/plain": [
       "<Figure size 1200x600 with 1 Axes>"
      ],
      "image/png": "[encoded data removed]"
     },
     "metadata": {},
     "output_type": "display_data"
    }
   ],
   "execution_count": 22
  },
  {
   "metadata": {},
   "cell_type": "markdown",
   "source": "##### How does product performance vary across different categories and subcategories?",
   "id": "ecfd4569495e9419"
  },
  {
   "metadata": {
    "ExecuteTime": {
     "end_time": "2025-01-12T01:19:49.720507Z",
     "start_time": "2025-01-12T01:19:48.296800Z"
    }
   },
   "cell_type": "code",
   "source": [
    "\n",
    "# Aggregate total sales by product category and subcategory\n",
    "category_sales = fact_sales_with_category.groupBy(\"english_product_category_name\", \"english_product_subcategory_name\") \\\n",
    "    .agg(sum(\"sales_amount\").alias(\"total_sales\")) \\\n",
    "    .orderBy(\"total_sales\", ascending=False)\n",
    "\n",
    "category_sales.show(10)\n"
   ],
   "id": "d82f4893d332c93f",
   "outputs": [
    {
     "name": "stdout",
     "output_type": "stream",
     "text": [
      "+-----------------------------+--------------------------------+--------------------+\n",
      "|english_product_category_name|english_product_subcategory_name|         total_sales|\n",
      "+-----------------------------+--------------------------------+--------------------+\n",
      "|                        Bikes|                      Road Bikes|1.4520584036299847E7|\n",
      "|                        Bikes|                  Mountain Bikes|   9952759.564400222|\n",
      "|                        Bikes|                   Touring Bikes|  3844801.0500000035|\n",
      "|                  Accessories|                 Tires and Tubes|  245529.32000000443|\n",
      "|                  Accessories|                         Helmets|  225335.60000000076|\n",
      "|                     Clothing|                         Jerseys|  172950.67999999886|\n",
      "|                     Clothing|                          Shorts|   71319.81000000038|\n",
      "|                  Accessories|               Bottles and Cages|    56798.1900000005|\n",
      "|                  Accessories|                         Fenders|   46619.57999999933|\n",
      "|                  Accessories|                 Hydration Packs|   40307.66999999987|\n",
      "+-----------------------------+--------------------------------+--------------------+\n",
      "only showing top 10 rows\n",
      "\n"
     ]
    }
   ],
   "execution_count": 23
  },
  {
   "metadata": {
    "ExecuteTime": {
     "end_time": "2025-01-12T01:19:54.379127Z",
     "start_time": "2025-01-12T01:19:49.828223Z"
    }
   },
   "cell_type": "code",
   "source": [
    "# Convert to Pandas\n",
    "category_sales_df = category_sales.toPandas()\n",
    "\n",
    "# Plot Sales by Product Category\n",
    "plt.figure(figsize=(12, 6))\n",
    "sns.barplot(x=\"total_sales\", y=\"english_product_category_name\", data=category_sales_df, palette=\"viridis\")\n",
    "plt.xlabel(\"Total Sales ($)\")\n",
    "plt.ylabel(\"Product Category\")\n",
    "plt.title(\"Sales by Product Category\")\n",
    "plt.show()\n",
    "\n",
    "# Plot Sales by Subcategory\n",
    "plt.figure(figsize=(12, 6))\n",
    "sns.barplot(x=\"total_sales\", y=\"english_product_subcategory_name\", data=category_sales_df, palette=\"coolwarm\")\n",
    "plt.xlabel(\"Total Sales ($)\")\n",
    "plt.ylabel(\"Product Subcategory\")\n",
    "plt.title(\"Sales by Product Subcategory\")\n",
    "plt.show()"
   ],
   "id": "eca8cd4898fd71d7",
   "outputs": [
    {
     "name": "stderr",
     "output_type": "stream",
     "text": [
      "/var/folders/vq/2z3hvmh94k13pb_1b0fmr7wm0000gn/T/ipykernel_10740/2632519124.py:6: FutureWarning: \n",
      "\n",
      "Passing `palette` without assigning `hue` is deprecated and will be removed in v0.14.0. Assign the `y` variable to `hue` and set `legend=False` for the same effect.\n",
      "\n",
      "  sns.barplot(x=\"total_sales\", y=\"english_product_category_name\", data=category_sales_df, palette=\"viridis\")\n"
     ]
    },
    {
     "data": {
      "text/plain": [
       "<Figure size 1200x600 with 1 Axes>"
      ],
      "image/png": "[encoded data removed]"
     },
     "metadata": {},
     "output_type": "display_data"
    },
    {
     "name": "stderr",
     "output_type": "stream",
     "text": [
      "/var/folders/vq/2z3hvmh94k13pb_1b0fmr7wm0000gn/T/ipykernel_10740/2632519124.py:14: FutureWarning: \n",
      "\n",
      "Passing `palette` without assigning `hue` is deprecated and will be removed in v0.14.0. Assign the `y` variable to `hue` and set `legend=False` for the same effect.\n",
      "\n",
      "  sns.barplot(x=\"total_sales\", y=\"english_product_subcategory_name\", data=category_sales_df, palette=\"coolwarm\")\n"
     ]
    },
    {
     "data": {
      "text/plain": [
       "<Figure size 1200x600 with 1 Axes>"
      ],
      "image/png": "[encoded data removed]"
     },
     "metadata": {},
     "output_type": "display_data"
    }
   ],
   "execution_count": 24
  },
  {
   "metadata": {},
   "cell_type": "markdown",
   "source": "# Machine Learning Predictions",
   "id": "4f302122423ca467"
  },
  {
   "metadata": {},
   "cell_type": "markdown",
   "source": "### Predicting Product Categories for Future Purchases (Classification)\n",
   "id": "59903b0f09d78ed0"
  },
  {
   "metadata": {
    "ExecuteTime": {
     "end_time": "2025-01-12T01:19:56.303976Z",
     "start_time": "2025-01-12T01:19:54.489592Z"
    }
   },
   "cell_type": "code",
   "source": [
    "# Join with category data\n",
    "product_category_data = fact_sales.join(\n",
    "    datasets[\"DimProduct\"].join(\n",
    "        datasets[\"DimProductSubcategory\"],\n",
    "        \"product_subcategory_key\"\n",
    "    ).join(\n",
    "        datasets[\"DimProductCategory\"],\n",
    "        \"product_category_key\"\n",
    "    ),\n",
    "    \"product_key\"\n",
    ").select(\n",
    "    \"customer_key\",\n",
    "    \"sales_territory_group\",\n",
    "    \"english_product_category_name\",\n",
    "    \"sales_amount\"\n",
    ")\n",
    "\n",
    "product_category_data.show()\n"
   ],
   "id": "672beb5d49bec28a",
   "outputs": [
    {
     "name": "stdout",
     "output_type": "stream",
     "text": [
      "+------------+---------------------+-----------------------------+------------+\n",
      "|customer_key|sales_territory_group|english_product_category_name|sales_amount|\n",
      "+------------+---------------------+-----------------------------+------------+\n",
      "|       25086|        North America|                     Clothing|       24.49|\n",
      "|       19225|        North America|                     Clothing|        63.5|\n",
      "|       23105|              Pacific|                     Clothing|       24.49|\n",
      "|       16944|               Europe|                     Clothing|       24.49|\n",
      "|       29356|               Europe|                     Clothing|        63.5|\n",
      "|       28207|              Pacific|                     Clothing|        63.5|\n",
      "|       22432|               Europe|                     Clothing|       24.49|\n",
      "|       21349|        North America|                     Clothing|       24.49|\n",
      "|       21017|               Europe|                     Clothing|       24.49|\n",
      "|       11088|        North America|                     Clothing|       24.49|\n",
      "|       11041|        North America|                     Clothing|        63.5|\n",
      "|       26381|               Europe|                     Clothing|        63.5|\n",
      "|       13747|        North America|                     Clothing|       24.49|\n",
      "|       21448|        North America|                     Clothing|       24.49|\n",
      "|       18242|              Pacific|                     Clothing|        63.5|\n",
      "|       24102|               Europe|                     Clothing|       24.49|\n",
      "|       11090|        North America|                     Clothing|       24.49|\n",
      "|       14567|        North America|                     Clothing|       24.49|\n",
      "|       13571|               Europe|                     Clothing|       24.49|\n",
      "|       16192|               Europe|                     Clothing|       24.49|\n",
      "+------------+---------------------+-----------------------------+------------+\n",
      "only showing top 20 rows\n",
      "\n"
     ]
    }
   ],
   "execution_count": 25
  },
  {
   "metadata": {
    "ExecuteTime": {
     "end_time": "2025-01-12T01:19:57.573739Z",
     "start_time": "2025-01-12T01:19:56.366095Z"
    }
   },
   "cell_type": "code",
   "source": [
    "#2️⃣ Predict Product Categories for Future Purchases\n",
    "from pyspark.sql.functions import col\n",
    "\n",
    "# Join fact_sales with product dimensions\n",
    "labeled_data = fact_sales_with_category.select(\n",
    "    \"customer_key\",\n",
    "    \"sales_territory_group\",\n",
    "    \"order_quantity\",\n",
    "    \"sales_amount\",\n",
    "    \"freight\",\n",
    "    \"english_product_category_name\"  # Target variable\n",
    ")\n",
    "\n",
    "labeled_data.show(10)\n"
   ],
   "id": "b5301ad81a71c91a",
   "outputs": [
    {
     "name": "stdout",
     "output_type": "stream",
     "text": [
      "+------------+---------------------+--------------+------------+-------+-----------------------------+\n",
      "|customer_key|sales_territory_group|order_quantity|sales_amount|freight|english_product_category_name|\n",
      "+------------+---------------------+--------------+------------+-------+-----------------------------+\n",
      "|       21768|        North America|             1|     3578.27|89.4568|                        Bikes|\n",
      "|       28389|               Europe|             1|     3399.99|84.9998|                        Bikes|\n",
      "|       25863|        North America|             1|     3399.99|84.9998|                        Bikes|\n",
      "|       14501|        North America|             1|    699.0982|17.4775|                        Bikes|\n",
      "|       11003|              Pacific|             1|     3399.99|84.9998|                        Bikes|\n",
      "|       27645|        North America|             1|     3578.27|89.4568|                        Bikes|\n",
      "|       16624|              Pacific|             1|     3578.27|89.4568|                        Bikes|\n",
      "|       11005|              Pacific|             1|     3374.99|84.3748|                        Bikes|\n",
      "|       11011|              Pacific|             1|     3399.99|84.9998|                        Bikes|\n",
      "|       27621|        North America|             1|     3578.27|89.4568|                        Bikes|\n",
      "+------------+---------------------+--------------+------------+-------+-----------------------------+\n",
      "only showing top 10 rows\n",
      "\n"
     ]
    }
   ],
   "execution_count": 26
  },
  {
   "metadata": {
    "ExecuteTime": {
     "end_time": "2025-01-12T01:19:57.637203Z",
     "start_time": "2025-01-12T01:19:57.631962Z"
    }
   },
   "cell_type": "code",
   "source": "print(labeled_data.columns)\n",
   "id": "ef2854c2cacbbeaa",
   "outputs": [
    {
     "name": "stdout",
     "output_type": "stream",
     "text": [
      "['customer_key', 'sales_territory_group', 'order_quantity', 'sales_amount', 'freight', 'english_product_category_name']\n"
     ]
    }
   ],
   "execution_count": 27
  },
  {
   "metadata": {
    "ExecuteTime": {
     "end_time": "2025-01-12T01:20:01.349690Z",
     "start_time": "2025-01-12T01:19:57.903240Z"
    }
   },
   "cell_type": "code",
   "source": [
    "\n",
    "# Convert category name to numerical labels\n",
    "indexer = StringIndexer(inputCol=\"english_product_category_name\", outputCol=\"label\")\n",
    "labeled_data = indexer.fit(labeled_data).transform(labeled_data)\n",
    "\n",
    "# Verify if label column exists now\n",
    "print(labeled_data.columns)\n",
    "labeled_data.select(\"english_product_category_name\", \"label\").show(5)\n"
   ],
   "id": "77c2535b7b507d",
   "outputs": [
    {
     "name": "stderr",
     "output_type": "stream",
     "text": [
      "                                                                                \r"
     ]
    },
    {
     "name": "stdout",
     "output_type": "stream",
     "text": [
      "['customer_key', 'sales_territory_group', 'order_quantity', 'sales_amount', 'freight', 'english_product_category_name', 'label']\n",
      "+-----------------------------+-----+\n",
      "|english_product_category_name|label|\n",
      "+-----------------------------+-----+\n",
      "|                        Bikes|  1.0|\n",
      "|                        Bikes|  1.0|\n",
      "|                        Bikes|  1.0|\n",
      "|                        Bikes|  1.0|\n",
      "|                        Bikes|  1.0|\n",
      "+-----------------------------+-----+\n",
      "only showing top 5 rows\n",
      "\n"
     ]
    }
   ],
   "execution_count": 28
  },
  {
   "metadata": {
    "ExecuteTime": {
     "end_time": "2025-01-12T01:20:02.800193Z",
     "start_time": "2025-01-12T01:20:01.450665Z"
    }
   },
   "cell_type": "code",
   "source": [
    "\n",
    "feature_cols = [\"order_quantity\", \"sales_amount\", \"freight\"]\n",
    "assembler = VectorAssembler(inputCols=feature_cols, outputCol=\"features\")\n",
    "labeled_data = assembler.transform(labeled_data)\n",
    "\n",
    "# Verify the features column\n",
    "labeled_data.select(\"features\", \"label\").show(5, truncate=False)\n"
   ],
   "id": "872fb63d266cb868",
   "outputs": [
    {
     "name": "stdout",
     "output_type": "stream",
     "text": [
      "+----------------------+-----+\n",
      "|features              |label|\n",
      "+----------------------+-----+\n",
      "|[1.0,3578.27,89.4568] |1.0  |\n",
      "|[1.0,3399.99,84.9998] |1.0  |\n",
      "|[1.0,3399.99,84.9998] |1.0  |\n",
      "|[1.0,699.0982,17.4775]|1.0  |\n",
      "|[1.0,3399.99,84.9998] |1.0  |\n",
      "+----------------------+-----+\n",
      "only showing top 5 rows\n",
      "\n"
     ]
    }
   ],
   "execution_count": 29
  },
  {
   "metadata": {
    "ExecuteTime": {
     "end_time": "2025-01-12T01:20:02.940285Z",
     "start_time": "2025-01-12T01:20:02.877019Z"
    }
   },
   "cell_type": "code",
   "source": [
    "# Train-Test Split\n",
    "train_data, test_data = labeled_data.randomSplit([0.8, 0.2], seed=42)\n"
   ],
   "id": "99752db4c2d67999",
   "outputs": [],
   "execution_count": 30
  },
  {
   "metadata": {
    "ExecuteTime": {
     "end_time": "2025-01-12T01:20:16.973327Z",
     "start_time": "2025-01-12T01:20:03.270309Z"
    }
   },
   "cell_type": "code",
   "source": [
    "\n",
    "# Train a Random Forest model\n",
    "rf = RandomForestClassifier(featuresCol=\"features\", labelCol=\"label\", numTrees=100)\n",
    "rf_model = rf.fit(train_data)\n",
    "\n",
    "# Make predictions\n",
    "predictions = rf_model.transform(test_data)\n",
    "\n",
    "# Evaluate the model\n",
    "evaluator = MulticlassClassificationEvaluator(labelCol=\"label\", predictionCol=\"prediction\", metricName=\"accuracy\")\n",
    "accuracy = evaluator.evaluate(predictions)\n",
    "print(f\"Accuracy: {accuracy}\")\n"
   ],
   "id": "849efd569e6fb4c6",
   "outputs": [
    {
     "name": "stderr",
     "output_type": "stream",
     "text": [
      "[Stage 281:>                                                        (0 + 3) / 3]\r"
     ]
    },
    {
     "name": "stdout",
     "output_type": "stream",
     "text": [
      "Accuracy: 0.9478696741854636\n"
     ]
    },
    {
     "name": "stderr",
     "output_type": "stream",
     "text": [
      "                                                                                \r"
     ]
    }
   ],
   "execution_count": 31
  },
  {
   "metadata": {
    "ExecuteTime": {
     "end_time": "2025-01-12T01:20:17.111554Z",
     "start_time": "2025-01-12T01:20:17.105912Z"
    }
   },
   "cell_type": "code",
   "source": "#Evaluate Precision, Recall, and F1-Score",
   "id": "aeb295e79289cf6f",
   "outputs": [],
   "execution_count": 32
  },
  {
   "metadata": {
    "ExecuteTime": {
     "end_time": "2025-01-12T01:20:17.351196Z",
     "start_time": "2025-01-12T01:20:17.284665Z"
    }
   },
   "cell_type": "code",
   "source": [
    "# Compute precision, recall, and F1-score\n",
    "evaluator_f1 = MulticlassClassificationEvaluator(labelCol=\"label\", predictionCol=\"prediction\", metricName=\"f1\")\n",
    "evaluator_precision = MulticlassClassificationEvaluator(labelCol=\"label\", predictionCol=\"prediction\", metricName=\"weightedPrecision\")\n",
    "evaluator_recall = MulticlassClassificationEvaluator(labelCol=\"label\", predictionCol=\"prediction\", metricName=\"weightedRecall\")\n"
   ],
   "id": "c8a98bf55bf6c9",
   "outputs": [],
   "execution_count": 33
  },
  {
   "metadata": {
    "ExecuteTime": {
     "end_time": "2025-01-12T01:20:21.700805Z",
     "start_time": "2025-01-12T01:20:17.547844Z"
    }
   },
   "cell_type": "code",
   "source": [
    "f1_score = evaluator_f1.evaluate(predictions)\n",
    "precision = evaluator_precision.evaluate(predictions)\n",
    "recall = evaluator_recall.evaluate(predictions)\n",
    "\n",
    "print(f\"F1-Score: {f1_score}\")\n",
    "print(f\"Precision: {precision}\")\n",
    "print(f\"Recall: {recall}\")"
   ],
   "id": "9cdb9cc798ce209f",
   "outputs": [
    {
     "name": "stderr",
     "output_type": "stream",
     "text": [
      "                                                                                \r"
     ]
    },
    {
     "name": "stdout",
     "output_type": "stream",
     "text": [
      "F1-Score: 0.9481818288439081\n",
      "Precision: 0.9485808847352818\n",
      "Recall: 0.9478696741854636\n"
     ]
    }
   ],
   "execution_count": 34
  },
  {
   "metadata": {
    "ExecuteTime": {
     "end_time": "2025-01-12T01:20:25.964923Z",
     "start_time": "2025-01-12T01:20:21.772852Z"
    }
   },
   "cell_type": "code",
   "source": [
    "#Confusion Matrix for Model Performance\n",
    "\n",
    "# Convert Spark Predictions to Pandas\n",
    "predictions_pd = predictions.select(\"label\", \"prediction\").toPandas()\n",
    "\n",
    "# Generate Confusion Matrix\n",
    "conf_matrix = confusion_matrix(predictions_pd[\"label\"], predictions_pd[\"prediction\"])\n",
    "\n",
    "# Plot Confusion Matrix\n",
    "plt.figure(figsize=(8, 6))\n",
    "sns.heatmap(conf_matrix, annot=True, fmt=\"d\", cmap=\"Blues\", xticklabels=sorted(predictions_pd[\"label\"].unique()), yticklabels=sorted(predictions_pd[\"label\"].unique()))\n",
    "plt.xlabel(\"Predicted Category\")\n",
    "plt.ylabel(\"Actual Category\")\n",
    "plt.title(\"Confusion Matrix for Product Category Prediction\")\n",
    "plt.show()\n"
   ],
   "id": "a6a7c3c3ec34c944",
   "outputs": [
    {
     "name": "stderr",
     "output_type": "stream",
     "text": [
      "                                                                                \r"
     ]
    },
    {
     "data": {
      "text/plain": [
       "<Figure size 800x600 with 2 Axes>"
      ],
      "image/png": "[encoded data removed]"
     },
     "metadata": {},
     "output_type": "display_data"
    }
   ],
   "execution_count": 35
  },
  {
   "metadata": {},
   "cell_type": "markdown",
   "source": [
    "#### Feature Importance Analysis\n",
    "Random Forest models provide feature importance scores. You can use them to understand which factors (e.g., order_quantity, sales_amount, freight) are most influential in predicting product categories."
   ],
   "id": "ca9d140a65489d95"
  },
  {
   "metadata": {
    "ExecuteTime": {
     "end_time": "2025-01-12T01:20:26.314836Z",
     "start_time": "2025-01-12T01:20:25.989005Z"
    }
   },
   "cell_type": "code",
   "source": [
    "# Extract feature importance\n",
    "\n",
    "feature_importances = rf_model.featureImportances.toArray()\n",
    "feature_names = [\"order_quantity\", \"sales_amount\", \"freight\"]\n",
    "\n",
    "# Convert to DataFrame for visualization\n",
    "importance_df = pd.DataFrame({\"Feature\": feature_names, \"Importance\": feature_importances})\n",
    "importance_df = importance_df.sort_values(by=\"Importance\", ascending=False)\n",
    "\n",
    "# Plot feature importance\n",
    "plt.figure(figsize=(8, 4))\n",
    "plt.barh(importance_df[\"Feature\"], importance_df[\"Importance\"], color=\"skyblue\")\n",
    "plt.xlabel(\"Importance Score\")\n",
    "plt.ylabel(\"Feature Name\")\n",
    "plt.title(\"Feature Importance in Random Forest Model\")\n",
    "plt.show()\n"
   ],
   "id": "14cf12365d1940e2",
   "outputs": [
    {
     "data": {
      "text/plain": [
       "<Figure size 800x400 with 1 Axes>"
      ],
      "image/png": "[encoded data removed]"
     },
     "metadata": {},
     "output_type": "display_data"
    }
   ],
   "execution_count": 36
  },
  {
   "metadata": {},
   "cell_type": "markdown",
   "source": "#### Hyperparameter Tuning (Model Optimization)",
   "id": "8beeb94fcf71d34f"
  },
  {
   "metadata": {
    "ExecuteTime": {
     "end_time": "2025-01-12T01:20:26.601687Z",
     "start_time": "2025-01-12T01:20:26.571319Z"
    }
   },
   "cell_type": "code",
   "source": [
    "\n",
    "# Define model\n",
    "rf = RandomForestClassifier(featuresCol=\"features\", labelCol=\"label\")\n",
    "\n",
    "# Create hyperparameter grid\n",
    "paramGrid = ParamGridBuilder() \\\n",
    "    .addGrid(rf.numTrees, [50, 100, 150]) \\\n",
    "    .addGrid(rf.maxDepth, [5, 10, 15]) \\\n",
    "    .addGrid(rf.minInstancesPerNode, [1, 5, 10]) \\\n",
    "    .build()"
   ],
   "id": "2d280cff60574e35",
   "outputs": [],
   "execution_count": 37
  },
  {
   "metadata": {
    "ExecuteTime": {
     "end_time": "2025-01-12T01:20:26.642634Z",
     "start_time": "2025-01-12T01:20:26.620389Z"
    }
   },
   "cell_type": "code",
   "source": [
    "# Define cross-validation\n",
    "crossval = CrossValidator(\n",
    "    estimator=rf,\n",
    "    estimatorParamMaps=paramGrid,\n",
    "    evaluator=MulticlassClassificationEvaluator(labelCol=\"label\", predictionCol=\"prediction\", metricName=\"accuracy\"),\n",
    "    numFolds=3\n",
    ")\n"
   ],
   "id": "d074f972cc8138bc",
   "outputs": [],
   "execution_count": 38
  },
  {
   "metadata": {
    "ExecuteTime": {
     "end_time": "2025-01-12T01:26:14.288622Z",
     "start_time": "2025-01-12T01:20:26.731485Z"
    }
   },
   "cell_type": "code",
   "source": [
    "\n",
    "# Fit the model\n",
    "cv_model = crossval.fit(train_data)"
   ],
   "id": "4f1de719840e697c",
   "outputs": [
    {
     "name": "stderr",
     "output_type": "stream",
     "text": [
      "                                                                                \r"
     ]
    }
   ],
   "execution_count": 39
  },
  {
   "metadata": {
    "ExecuteTime": {
     "end_time": "2025-01-12T01:26:15.733876Z",
     "start_time": "2025-01-12T01:26:14.613889Z"
    }
   },
   "cell_type": "code",
   "source": [
    "# Make predictions\n",
    "cv_predictions = cv_model.transform(test_data)\n",
    "\n",
    "# Evaluate accuracy after tuning\n",
    "cv_accuracy = evaluator.evaluate(cv_predictions)\n",
    "print(f\"Tuned Model Accuracy: {cv_accuracy}\")"
   ],
   "id": "934436ca02ba0246",
   "outputs": [
    {
     "name": "stdout",
     "output_type": "stream",
     "text": [
      "Tuned Model Accuracy: 0.9714285714285714\n"
     ]
    }
   ],
   "execution_count": 40
  },
  {
   "metadata": {
    "ExecuteTime": {
     "end_time": "2025-01-12T01:26:18.301236Z",
     "start_time": "2025-01-12T01:26:15.752476Z"
    }
   },
   "cell_type": "code",
   "source": [
    "# from pyspark.ml.evaluation import MulticlassClassificationEvaluator\n",
    "\n",
    "precision_evaluator = MulticlassClassificationEvaluator(labelCol=\"label\", predictionCol=\"prediction\", metricName=\"weightedPrecision\")\n",
    "recall_evaluator = MulticlassClassificationEvaluator(labelCol=\"label\", predictionCol=\"prediction\", metricName=\"weightedRecall\")\n",
    "f1_evaluator = MulticlassClassificationEvaluator(labelCol=\"label\", predictionCol=\"prediction\", metricName=\"f1\")\n",
    "\n",
    "precision = precision_evaluator.evaluate(cv_predictions)\n",
    "recall = recall_evaluator.evaluate(cv_predictions)\n",
    "f1_score = f1_evaluator.evaluate(cv_predictions)\n",
    "\n",
    "print(f\"Precision: {precision}\")\n",
    "print(f\"Recall: {recall}\")\n",
    "print(f\"F1 Score: {f1_score}\")\n"
   ],
   "id": "de3812df79707f0d",
   "outputs": [
    {
     "name": "stdout",
     "output_type": "stream",
     "text": [
      "Precision: 0.9759481961147086\n",
      "Recall: 0.9714285714285714\n",
      "F1 Score: 0.9723032199845948\n"
     ]
    }
   ],
   "execution_count": 41
  },
  {
   "metadata": {
    "ExecuteTime": {
     "end_time": "2025-01-12T01:26:19.981934Z",
     "start_time": "2025-01-12T01:26:18.405096Z"
    }
   },
   "cell_type": "code",
   "source": [
    "# Generate the confusion matrix\n",
    "confusion_matrix = cv_predictions.groupBy(\"label\", \"prediction\").count().orderBy(\"label\", \"prediction\")\n",
    "confusion_matrix_df = confusion_matrix.toPandas()\n",
    "\n",
    "# Pivot the DataFrame for heatmap visualization\n",
    "pivot_df = confusion_matrix_df.pivot(index=\"label\", columns=\"prediction\", values=\"count\").fillna(0)\n",
    "\n",
    "# Plot the confusion matrix\n",
    "plt.figure(figsize=(8, 6))\n",
    "sns.heatmap(pivot_df, annot=True, fmt=\"g\", cmap=\"Blues\", cbar=True)\n",
    "plt.xlabel(\"Predicted Category\")\n",
    "plt.ylabel(\"Actual Category\")\n",
    "plt.title(\"Confusion Matrix for Tuned Model\")\n",
    "plt.show()"
   ],
   "id": "8e1ea440d5382861",
   "outputs": [
    {
     "data": {
      "text/plain": [
       "<Figure size 800x600 with 2 Axes>"
      ],
      "image/png": "[encoded data removed]"
     },
     "metadata": {},
     "output_type": "display_data"
    }
   ],
   "execution_count": 42
  },
  {
   "metadata": {
    "ExecuteTime": {
     "end_time": "2025-01-12T01:26:28.350712Z",
     "start_time": "2025-01-12T01:26:20.135094Z"
    }
   },
   "cell_type": "code",
   "source": [
    "from pyspark.ml.classification import LogisticRegression\n",
    "from pyspark.ml.evaluation import MulticlassClassificationEvaluator\n",
    "\n",
    "# Initialize Logistic Regression\n",
    "lr = LogisticRegression(featuresCol=\"features\", labelCol=\"label\", maxIter=100)\n",
    "\n",
    "# Train the model\n",
    "lr_model = lr.fit(train_data)\n",
    "\n",
    "# Make predictions\n",
    "lr_predictions = lr_model.transform(test_data)\n",
    "\n",
    "# Evaluate accuracy\n",
    "evaluator = MulticlassClassificationEvaluator(labelCol=\"label\", predictionCol=\"prediction\", metricName=\"accuracy\")\n",
    "lr_accuracy = evaluator.evaluate(lr_predictions)\n",
    "\n",
    "print(f\"Logistic Regression Accuracy: {lr_accuracy:.4f}\")\n"
   ],
   "id": "be2186bf2cd741a8",
   "outputs": [
    {
     "name": "stderr",
     "output_type": "stream",
     "text": [
      "25/01/12 01:26:23 WARN InstanceBuilder: Failed to load implementation from:dev.ludovic.netlib.blas.JNIBLAS\n",
      "25/01/12 01:26:23 WARN InstanceBuilder: Failed to load implementation from:dev.ludovic.netlib.blas.VectorBLAS\n",
      "                                                                                \r"
     ]
    },
    {
     "name": "stdout",
     "output_type": "stream",
     "text": [
      "Logistic Regression Accuracy: 0.8546\n"
     ]
    }
   ],
   "execution_count": 43
  },
  {
   "metadata": {
    "ExecuteTime": {
     "end_time": "2025-01-12T01:26:31.829883Z",
     "start_time": "2025-01-12T01:26:28.457657Z"
    }
   },
   "cell_type": "code",
   "source": [
    "from pyspark.ml.classification import DecisionTreeClassifier\n",
    "\n",
    "# Initialize Decision Tree Classifier\n",
    "dt = DecisionTreeClassifier(featuresCol=\"features\", labelCol=\"label\", maxDepth=10)\n",
    "\n",
    "# Train the model\n",
    "dt_model = dt.fit(train_data)\n",
    "\n",
    "# Make predictions\n",
    "dt_predictions = dt_model.transform(test_data)\n",
    "\n",
    "# Evaluate accuracy\n",
    "dt_accuracy = evaluator.evaluate(dt_predictions)\n",
    "\n",
    "print(f\"Decision Tree Accuracy: {dt_accuracy:.4f}\")\n"
   ],
   "id": "9a1d6414b8f31562",
   "outputs": [
    {
     "name": "stdout",
     "output_type": "stream",
     "text": [
      "Decision Tree Accuracy: 0.9714\n"
     ]
    }
   ],
   "execution_count": 44
  },
  {
   "metadata": {
    "ExecuteTime": {
     "end_time": "2025-01-12T01:34:06.073545Z",
     "start_time": "2025-01-12T01:31:39.089586Z"
    }
   },
   "cell_type": "code",
   "source": [
    "from pyspark.ml.classification import GBTClassifier, OneVsRest\n",
    "from pyspark.ml.evaluation import MulticlassClassificationEvaluator\n",
    "\n",
    "# Initialize the base GBT classifier\n",
    "gbt = GBTClassifier(featuresCol=\"features\", labelCol=\"label\", maxIter=100, maxDepth=5)\n",
    "\n",
    "# Apply One-vs-Rest to enable multi-class classification\n",
    "ovr = OneVsRest(classifier=gbt)\n",
    "\n",
    "# Train the model\n",
    "ovr_model = ovr.fit(train_data)\n",
    "\n",
    "# Make predictions\n",
    "gbt_predictions = ovr_model.transform(test_data)\n",
    "\n",
    "# Evaluate the model\n",
    "evaluator = MulticlassClassificationEvaluator(labelCol=\"label\", predictionCol=\"prediction\", metricName=\"accuracy\")\n",
    "gbt_accuracy = evaluator.evaluate(gbt_predictions)\n",
    "\n",
    "print(f\"Gradient Boosted Trees Accuracy (One-vs-Rest): {gbt_accuracy}\")\n",
    "\n",
    "# Confusion Matrix\n",
    "from pyspark.mllib.evaluation import MulticlassMetrics\n",
    "from pyspark.sql.functions import col\n",
    "\n",
    "# Convert predictions to RDD format\n",
    "prediction_and_labels = gbt_predictions.select(col(\"prediction\"), col(\"label\")).rdd.map(tuple)\n",
    "\n",
    "# Compute Confusion Matrix\n",
    "metrics = MulticlassMetrics(prediction_and_labels)\n",
    "print(metrics.confusionMatrix().toArray())\n"
   ],
   "id": "b583e80a15d30600",
   "outputs": [
    {
     "name": "stderr",
     "output_type": "stream",
     "text": [
      "25/01/12 01:33:48 WARN DAGScheduler: Broadcasting large task binary with size 1043.7 KiB\n",
      "                                                                                \r"
     ]
    },
    {
     "name": "stdout",
     "output_type": "stream",
     "text": [
      "Gradient Boosted Trees Accuracy (One-vs-Rest): 0.9714285714285714\n"
     ]
    },
    {
     "name": "stderr",
     "output_type": "stream",
     "text": [
      "/Users/apple2015/Documents/MSc/SchoolStuff/Bigdata/coursework/project/BigDataProcessing/.venv/lib/python3.11/site-packages/pyspark/sql/context.py:158: FutureWarning: Deprecated in 3.0.0. Use SparkSession.builder.getOrCreate() instead.\n",
      "  warnings.warn(\n",
      "25/01/12 01:33:57 WARN DAGScheduler: Broadcasting large task binary with size 1043.4 KiB\n",
      "25/01/12 01:34:01 WARN DAGScheduler: Broadcasting large task binary with size 1056.7 KiB\n",
      "[Stage 4439:==================>                                     (1 + 2) / 3]\r"
     ]
    },
    {
     "name": "stdout",
     "output_type": "stream",
     "text": [
      "[[6763.    0.  342.]\n",
      " [   0. 3045.    0.]\n",
      " [   0.    0. 1820.]]\n"
     ]
    },
    {
     "name": "stderr",
     "output_type": "stream",
     "text": [
      "                                                                                \r"
     ]
    }
   ],
   "execution_count": 47
  },
  {
   "metadata": {
    "ExecuteTime": {
     "end_time": "2025-01-12T01:53:25.618902Z",
     "start_time": "2025-01-12T01:53:19.798321Z"
    }
   },
   "cell_type": "code",
   "source": [
    "from pyspark.ml.classification import NaiveBayes\n",
    "\n",
    "# Define model\n",
    "nb = NaiveBayes(featuresCol=\"features\", labelCol=\"label\")\n",
    "\n",
    "# Train the model\n",
    "nb_model = nb.fit(train_data)\n",
    "\n",
    "# Make predictions\n",
    "nb_predictions = nb_model.transform(test_data)\n",
    "\n",
    "# Evaluate\n",
    "nb_accuracy = evaluator.evaluate(nb_predictions)\n",
    "print(f\"Naïve Bayes Accuracy: {nb_accuracy}\")\n"
   ],
   "id": "5a53dfb530675ea0",
   "outputs": [
    {
     "name": "stderr",
     "output_type": "stream",
     "text": [
      "                                                                                \r"
     ]
    },
    {
     "name": "stdout",
     "output_type": "stream",
     "text": [
      "Naïve Bayes Accuracy: 0.8383458646616542\n"
     ]
    }
   ],
   "execution_count": 52
  },
  {
   "metadata": {
    "ExecuteTime": {
     "end_time": "2025-01-12T07:36:37.579380Z",
     "start_time": "2025-01-12T07:36:35.632395Z"
    }
   },
   "cell_type": "code",
   "source": [
    "from pyspark.ml.evaluation import MulticlassClassificationEvaluator\n",
    "\n",
    "# Function to evaluate accuracy\n",
    "def evaluate_model(model, train_data, test_data):\n",
    "    # Predictions on training data\n",
    "    train_predictions = model.transform(train_data)\n",
    "    train_accuracy = evaluator.evaluate(train_predictions)\n",
    "\n",
    "    # Predictions on test data\n",
    "    test_predictions = model.transform(test_data)\n",
    "    test_accuracy = evaluator.evaluate(test_predictions)\n",
    "\n",
    "    return train_accuracy, test_accuracy\n",
    "\n",
    "# Define the evaluator\n",
    "evaluator = MulticlassClassificationEvaluator(labelCol=\"label\", predictionCol=\"prediction\", metricName=\"accuracy\")\n",
    "\n",
    "# Evaluate models\n",
    "rf_train_acc, rf_test_acc = evaluate_model(rf_model, train_data, test_data)\n",
    "gbt_train_acc, gbt_test_acc = evaluate_model(ovr_model, train_data, test_data)\n",
    "lr_train_acc, lr_test_acc = evaluate_model(lr_model, train_data, test_data)\n",
    "nb_train_acc, nb_test_acc = evaluate_model(nb_model, train_data, test_data)\n",
    "dt_train_acc, dt_test_acc = evaluate_model(dt_model, train_data, test_data)\n",
    "\n",
    "# Print results dt_model\n",
    "print(f\"Random Forest - Train Accuracy: {rf_train_acc}, Test Accuracy: {rf_test_acc}\")\n",
    "print(f\"Gradient Boosted Trees - Train Accuracy: {gbt_train_acc}, Test Accuracy: {gbt_test_acc}\")\n",
    "print(f\"Decision Tree  - Train Accuracy: {dt_train_acc}, Test Accuracy: {dt_test_acc}\")\n",
    "print(f\"Naïve Bayes - Train Accuracy: {nb_train_acc}, Test Accuracy: {nb_test_acc}\")\n"
   ],
   "id": "75c40afc9fa05749",
   "outputs": [
    {
     "ename": "ConnectionRefusedError",
     "evalue": "[Errno 61] Connection refused",
     "output_type": "error",
     "traceback": [
      "\u001B[0;31m---------------------------------------------------------------------------\u001B[0m",
      "\u001B[0;31mBrokenPipeError\u001B[0m                           Traceback (most recent call last)",
      "File \u001B[0;32m~/Documents/MSc/SchoolStuff/Bigdata/coursework/project/BigDataProcessing/.venv/lib/python3.11/site-packages/py4j/clientserver.py:503\u001B[0m, in \u001B[0;36mClientServerConnection.send_command\u001B[0;34m(self, command)\u001B[0m\n\u001B[1;32m    502\u001B[0m \u001B[38;5;28;01mtry\u001B[39;00m:\n\u001B[0;32m--> 503\u001B[0m     \u001B[38;5;28;43mself\u001B[39;49m\u001B[38;5;241;43m.\u001B[39;49m\u001B[43msocket\u001B[49m\u001B[38;5;241;43m.\u001B[39;49m\u001B[43msendall\u001B[49m\u001B[43m(\u001B[49m\u001B[43mcommand\u001B[49m\u001B[38;5;241;43m.\u001B[39;49m\u001B[43mencode\u001B[49m\u001B[43m(\u001B[49m\u001B[38;5;124;43m\"\u001B[39;49m\u001B[38;5;124;43mutf-8\u001B[39;49m\u001B[38;5;124;43m\"\u001B[39;49m\u001B[43m)\u001B[49m\u001B[43m)\u001B[49m\n\u001B[1;32m    504\u001B[0m \u001B[38;5;28;01mexcept\u001B[39;00m \u001B[38;5;167;01mException\u001B[39;00m \u001B[38;5;28;01mas\u001B[39;00m e:\n",
      "\u001B[0;31mBrokenPipeError\u001B[0m: [Errno 32] Broken pipe",
      "\nDuring handling of the above exception, another exception occurred:\n",
      "\u001B[0;31mPy4JNetworkError\u001B[0m                          Traceback (most recent call last)",
      "File \u001B[0;32m~/Documents/MSc/SchoolStuff/Bigdata/coursework/project/BigDataProcessing/.venv/lib/python3.11/site-packages/py4j/java_gateway.py:1038\u001B[0m, in \u001B[0;36mGatewayClient.send_command\u001B[0;34m(self, command, retry, binary)\u001B[0m\n\u001B[1;32m   1037\u001B[0m \u001B[38;5;28;01mtry\u001B[39;00m:\n\u001B[0;32m-> 1038\u001B[0m     response \u001B[38;5;241m=\u001B[39m \u001B[43mconnection\u001B[49m\u001B[38;5;241;43m.\u001B[39;49m\u001B[43msend_command\u001B[49m\u001B[43m(\u001B[49m\u001B[43mcommand\u001B[49m\u001B[43m)\u001B[49m\n\u001B[1;32m   1039\u001B[0m     \u001B[38;5;28;01mif\u001B[39;00m binary:\n",
      "File \u001B[0;32m~/Documents/MSc/SchoolStuff/Bigdata/coursework/project/BigDataProcessing/.venv/lib/python3.11/site-packages/py4j/clientserver.py:506\u001B[0m, in \u001B[0;36mClientServerConnection.send_command\u001B[0;34m(self, command)\u001B[0m\n\u001B[1;32m    505\u001B[0m     logger\u001B[38;5;241m.\u001B[39minfo(\u001B[38;5;124m\"\u001B[39m\u001B[38;5;124mError while sending or receiving.\u001B[39m\u001B[38;5;124m\"\u001B[39m, exc_info\u001B[38;5;241m=\u001B[39m\u001B[38;5;28;01mTrue\u001B[39;00m)\n\u001B[0;32m--> 506\u001B[0m     \u001B[38;5;28;01mraise\u001B[39;00m Py4JNetworkError(\n\u001B[1;32m    507\u001B[0m         \u001B[38;5;124m\"\u001B[39m\u001B[38;5;124mError while sending\u001B[39m\u001B[38;5;124m\"\u001B[39m, e, proto\u001B[38;5;241m.\u001B[39mERROR_ON_SEND)\n\u001B[1;32m    509\u001B[0m \u001B[38;5;28;01mtry\u001B[39;00m:\n",
      "\u001B[0;31mPy4JNetworkError\u001B[0m: Error while sending",
      "\nDuring handling of the above exception, another exception occurred:\n",
      "\u001B[0;31mConnectionRefusedError\u001B[0m                    Traceback (most recent call last)",
      "Cell \u001B[0;32mIn[58], line 16\u001B[0m\n\u001B[1;32m     13\u001B[0m     \u001B[38;5;28;01mreturn\u001B[39;00m train_accuracy, test_accuracy\n\u001B[1;32m     15\u001B[0m \u001B[38;5;66;03m# Define the evaluator\u001B[39;00m\n\u001B[0;32m---> 16\u001B[0m evaluator \u001B[38;5;241m=\u001B[39m \u001B[43mMulticlassClassificationEvaluator\u001B[49m\u001B[43m(\u001B[49m\u001B[43mlabelCol\u001B[49m\u001B[38;5;241;43m=\u001B[39;49m\u001B[38;5;124;43m\"\u001B[39;49m\u001B[38;5;124;43mlabel\u001B[39;49m\u001B[38;5;124;43m\"\u001B[39;49m\u001B[43m,\u001B[49m\u001B[43m \u001B[49m\u001B[43mpredictionCol\u001B[49m\u001B[38;5;241;43m=\u001B[39;49m\u001B[38;5;124;43m\"\u001B[39;49m\u001B[38;5;124;43mprediction\u001B[39;49m\u001B[38;5;124;43m\"\u001B[39;49m\u001B[43m,\u001B[49m\u001B[43m \u001B[49m\u001B[43mmetricName\u001B[49m\u001B[38;5;241;43m=\u001B[39;49m\u001B[38;5;124;43m\"\u001B[39;49m\u001B[38;5;124;43maccuracy\u001B[39;49m\u001B[38;5;124;43m\"\u001B[39;49m\u001B[43m)\u001B[49m\n\u001B[1;32m     18\u001B[0m \u001B[38;5;66;03m# Evaluate models\u001B[39;00m\n\u001B[1;32m     19\u001B[0m rf_train_acc, rf_test_acc \u001B[38;5;241m=\u001B[39m evaluate_model(rf_model, train_data, test_data)\n",
      "File \u001B[0;32m~/Documents/MSc/SchoolStuff/Bigdata/coursework/project/BigDataProcessing/.venv/lib/python3.11/site-packages/pyspark/__init__.py:139\u001B[0m, in \u001B[0;36mkeyword_only.<locals>.wrapper\u001B[0;34m(self, *args, **kwargs)\u001B[0m\n\u001B[1;32m    137\u001B[0m     \u001B[38;5;28;01mraise\u001B[39;00m \u001B[38;5;167;01mTypeError\u001B[39;00m(\u001B[38;5;124m\"\u001B[39m\u001B[38;5;124mMethod \u001B[39m\u001B[38;5;132;01m%s\u001B[39;00m\u001B[38;5;124m forces keyword arguments.\u001B[39m\u001B[38;5;124m\"\u001B[39m \u001B[38;5;241m%\u001B[39m func\u001B[38;5;241m.\u001B[39m\u001B[38;5;18m__name__\u001B[39m)\n\u001B[1;32m    138\u001B[0m \u001B[38;5;28mself\u001B[39m\u001B[38;5;241m.\u001B[39m_input_kwargs \u001B[38;5;241m=\u001B[39m kwargs\n\u001B[0;32m--> 139\u001B[0m \u001B[38;5;28;01mreturn\u001B[39;00m \u001B[43mfunc\u001B[49m\u001B[43m(\u001B[49m\u001B[38;5;28;43mself\u001B[39;49m\u001B[43m,\u001B[49m\u001B[43m \u001B[49m\u001B[38;5;241;43m*\u001B[39;49m\u001B[38;5;241;43m*\u001B[39;49m\u001B[43mkwargs\u001B[49m\u001B[43m)\u001B[49m\n",
      "File \u001B[0;32m~/Documents/MSc/SchoolStuff/Bigdata/coursework/project/BigDataProcessing/.venv/lib/python3.11/site-packages/pyspark/ml/evaluation.py:589\u001B[0m, in \u001B[0;36mMulticlassClassificationEvaluator.__init__\u001B[0;34m(self, predictionCol, labelCol, metricName, weightCol, metricLabel, beta, probabilityCol, eps)\u001B[0m\n\u001B[1;32m    583\u001B[0m \u001B[38;5;250m\u001B[39m\u001B[38;5;124;03m\"\"\"\u001B[39;00m\n\u001B[1;32m    584\u001B[0m \u001B[38;5;124;03m__init__(self, \\\\*, predictionCol=\"prediction\", labelCol=\"label\", \\\u001B[39;00m\n\u001B[1;32m    585\u001B[0m \u001B[38;5;124;03m         metricName=\"f1\", weightCol=None, metricLabel=0.0, beta=1.0, \\\u001B[39;00m\n\u001B[1;32m    586\u001B[0m \u001B[38;5;124;03m         probabilityCol=\"probability\", eps=1e-15)\u001B[39;00m\n\u001B[1;32m    587\u001B[0m \u001B[38;5;124;03m\"\"\"\u001B[39;00m\n\u001B[1;32m    588\u001B[0m \u001B[38;5;28msuper\u001B[39m(MulticlassClassificationEvaluator, \u001B[38;5;28mself\u001B[39m)\u001B[38;5;241m.\u001B[39m\u001B[38;5;21m__init__\u001B[39m()\n\u001B[0;32m--> 589\u001B[0m \u001B[38;5;28mself\u001B[39m\u001B[38;5;241m.\u001B[39m_java_obj \u001B[38;5;241m=\u001B[39m \u001B[38;5;28;43mself\u001B[39;49m\u001B[38;5;241;43m.\u001B[39;49m\u001B[43m_new_java_obj\u001B[49m\u001B[43m(\u001B[49m\n\u001B[1;32m    590\u001B[0m \u001B[43m    \u001B[49m\u001B[38;5;124;43m\"\u001B[39;49m\u001B[38;5;124;43morg.apache.spark.ml.evaluation.MulticlassClassificationEvaluator\u001B[39;49m\u001B[38;5;124;43m\"\u001B[39;49m\u001B[43m,\u001B[49m\u001B[43m \u001B[49m\u001B[38;5;28;43mself\u001B[39;49m\u001B[38;5;241;43m.\u001B[39;49m\u001B[43muid\u001B[49m\n\u001B[1;32m    591\u001B[0m \u001B[43m\u001B[49m\u001B[43m)\u001B[49m\n\u001B[1;32m    592\u001B[0m \u001B[38;5;28mself\u001B[39m\u001B[38;5;241m.\u001B[39m_setDefault(metricName\u001B[38;5;241m=\u001B[39m\u001B[38;5;124m\"\u001B[39m\u001B[38;5;124mf1\u001B[39m\u001B[38;5;124m\"\u001B[39m, metricLabel\u001B[38;5;241m=\u001B[39m\u001B[38;5;241m0.0\u001B[39m, beta\u001B[38;5;241m=\u001B[39m\u001B[38;5;241m1.0\u001B[39m, eps\u001B[38;5;241m=\u001B[39m\u001B[38;5;241m1e-15\u001B[39m)\n\u001B[1;32m    593\u001B[0m kwargs \u001B[38;5;241m=\u001B[39m \u001B[38;5;28mself\u001B[39m\u001B[38;5;241m.\u001B[39m_input_kwargs\n",
      "File \u001B[0;32m~/Documents/MSc/SchoolStuff/Bigdata/coursework/project/BigDataProcessing/.venv/lib/python3.11/site-packages/pyspark/ml/wrapper.py:84\u001B[0m, in \u001B[0;36mJavaWrapper._new_java_obj\u001B[0;34m(java_class, *args)\u001B[0m\n\u001B[1;32m     82\u001B[0m java_obj \u001B[38;5;241m=\u001B[39m _jvm()\n\u001B[1;32m     83\u001B[0m \u001B[38;5;28;01mfor\u001B[39;00m name \u001B[38;5;129;01min\u001B[39;00m java_class\u001B[38;5;241m.\u001B[39msplit(\u001B[38;5;124m\"\u001B[39m\u001B[38;5;124m.\u001B[39m\u001B[38;5;124m\"\u001B[39m):\n\u001B[0;32m---> 84\u001B[0m     java_obj \u001B[38;5;241m=\u001B[39m \u001B[38;5;28mgetattr\u001B[39m(java_obj, name)\n\u001B[1;32m     85\u001B[0m java_args \u001B[38;5;241m=\u001B[39m [_py2java(sc, arg) \u001B[38;5;28;01mfor\u001B[39;00m arg \u001B[38;5;129;01min\u001B[39;00m args]\n\u001B[1;32m     86\u001B[0m \u001B[38;5;28;01mreturn\u001B[39;00m java_obj(\u001B[38;5;241m*\u001B[39mjava_args)\n",
      "File \u001B[0;32m~/Documents/MSc/SchoolStuff/Bigdata/coursework/project/BigDataProcessing/.venv/lib/python3.11/site-packages/py4j/java_gateway.py:1712\u001B[0m, in \u001B[0;36mJVMView.__getattr__\u001B[0;34m(self, name)\u001B[0m\n\u001B[1;32m   1709\u001B[0m \u001B[38;5;28;01mif\u001B[39;00m name \u001B[38;5;241m==\u001B[39m UserHelpAutoCompletion\u001B[38;5;241m.\u001B[39mKEY:\n\u001B[1;32m   1710\u001B[0m     \u001B[38;5;28;01mreturn\u001B[39;00m UserHelpAutoCompletion()\n\u001B[0;32m-> 1712\u001B[0m answer \u001B[38;5;241m=\u001B[39m \u001B[38;5;28;43mself\u001B[39;49m\u001B[38;5;241;43m.\u001B[39;49m\u001B[43m_gateway_client\u001B[49m\u001B[38;5;241;43m.\u001B[39;49m\u001B[43msend_command\u001B[49m\u001B[43m(\u001B[49m\n\u001B[1;32m   1713\u001B[0m \u001B[43m    \u001B[49m\u001B[43mproto\u001B[49m\u001B[38;5;241;43m.\u001B[39;49m\u001B[43mREFLECTION_COMMAND_NAME\u001B[49m\u001B[43m \u001B[49m\u001B[38;5;241;43m+\u001B[39;49m\n\u001B[1;32m   1714\u001B[0m \u001B[43m    \u001B[49m\u001B[43mproto\u001B[49m\u001B[38;5;241;43m.\u001B[39;49m\u001B[43mREFL_GET_UNKNOWN_SUB_COMMAND_NAME\u001B[49m\u001B[43m \u001B[49m\u001B[38;5;241;43m+\u001B[39;49m\u001B[43m \u001B[49m\u001B[43mname\u001B[49m\u001B[43m \u001B[49m\u001B[38;5;241;43m+\u001B[39;49m\u001B[43m \u001B[49m\u001B[38;5;124;43m\"\u001B[39;49m\u001B[38;5;130;43;01m\\n\u001B[39;49;00m\u001B[38;5;124;43m\"\u001B[39;49m\u001B[43m \u001B[49m\u001B[38;5;241;43m+\u001B[39;49m\u001B[43m \u001B[49m\u001B[38;5;28;43mself\u001B[39;49m\u001B[38;5;241;43m.\u001B[39;49m\u001B[43m_id\u001B[49m\u001B[43m \u001B[49m\u001B[38;5;241;43m+\u001B[39;49m\n\u001B[1;32m   1715\u001B[0m \u001B[43m    \u001B[49m\u001B[38;5;124;43m\"\u001B[39;49m\u001B[38;5;130;43;01m\\n\u001B[39;49;00m\u001B[38;5;124;43m\"\u001B[39;49m\u001B[43m \u001B[49m\u001B[38;5;241;43m+\u001B[39;49m\u001B[43m \u001B[49m\u001B[43mproto\u001B[49m\u001B[38;5;241;43m.\u001B[39;49m\u001B[43mEND_COMMAND_PART\u001B[49m\u001B[43m)\u001B[49m\n\u001B[1;32m   1716\u001B[0m \u001B[38;5;28;01mif\u001B[39;00m answer \u001B[38;5;241m==\u001B[39m proto\u001B[38;5;241m.\u001B[39mSUCCESS_PACKAGE:\n\u001B[1;32m   1717\u001B[0m     \u001B[38;5;28;01mreturn\u001B[39;00m JavaPackage(name, \u001B[38;5;28mself\u001B[39m\u001B[38;5;241m.\u001B[39m_gateway_client, jvm_id\u001B[38;5;241m=\u001B[39m\u001B[38;5;28mself\u001B[39m\u001B[38;5;241m.\u001B[39m_id)\n",
      "File \u001B[0;32m~/Documents/MSc/SchoolStuff/Bigdata/coursework/project/BigDataProcessing/.venv/lib/python3.11/site-packages/py4j/java_gateway.py:1053\u001B[0m, in \u001B[0;36mGatewayClient.send_command\u001B[0;34m(self, command, retry, binary)\u001B[0m\n\u001B[1;32m   1051\u001B[0m \u001B[38;5;28;01mif\u001B[39;00m \u001B[38;5;28mself\u001B[39m\u001B[38;5;241m.\u001B[39m_should_retry(retry, connection, pne):\n\u001B[1;32m   1052\u001B[0m     logging\u001B[38;5;241m.\u001B[39minfo(\u001B[38;5;124m\"\u001B[39m\u001B[38;5;124mException while sending command.\u001B[39m\u001B[38;5;124m\"\u001B[39m, exc_info\u001B[38;5;241m=\u001B[39m\u001B[38;5;28;01mTrue\u001B[39;00m)\n\u001B[0;32m-> 1053\u001B[0m     response \u001B[38;5;241m=\u001B[39m \u001B[38;5;28;43mself\u001B[39;49m\u001B[38;5;241;43m.\u001B[39;49m\u001B[43msend_command\u001B[49m\u001B[43m(\u001B[49m\u001B[43mcommand\u001B[49m\u001B[43m,\u001B[49m\u001B[43m \u001B[49m\u001B[43mbinary\u001B[49m\u001B[38;5;241;43m=\u001B[39;49m\u001B[43mbinary\u001B[49m\u001B[43m)\u001B[49m\n\u001B[1;32m   1054\u001B[0m \u001B[38;5;28;01melse\u001B[39;00m:\n\u001B[1;32m   1055\u001B[0m     logging\u001B[38;5;241m.\u001B[39mexception(\n\u001B[1;32m   1056\u001B[0m         \u001B[38;5;124m\"\u001B[39m\u001B[38;5;124mException while sending command.\u001B[39m\u001B[38;5;124m\"\u001B[39m)\n",
      "File \u001B[0;32m~/Documents/MSc/SchoolStuff/Bigdata/coursework/project/BigDataProcessing/.venv/lib/python3.11/site-packages/py4j/java_gateway.py:1036\u001B[0m, in \u001B[0;36mGatewayClient.send_command\u001B[0;34m(self, command, retry, binary)\u001B[0m\n\u001B[1;32m   1015\u001B[0m \u001B[38;5;28;01mdef\u001B[39;00m \u001B[38;5;21msend_command\u001B[39m(\u001B[38;5;28mself\u001B[39m, command, retry\u001B[38;5;241m=\u001B[39m\u001B[38;5;28;01mTrue\u001B[39;00m, binary\u001B[38;5;241m=\u001B[39m\u001B[38;5;28;01mFalse\u001B[39;00m):\n\u001B[1;32m   1016\u001B[0m \u001B[38;5;250m    \u001B[39m\u001B[38;5;124;03m\"\"\"Sends a command to the JVM. This method is not intended to be\u001B[39;00m\n\u001B[1;32m   1017\u001B[0m \u001B[38;5;124;03m       called directly by Py4J users. It is usually called by\u001B[39;00m\n\u001B[1;32m   1018\u001B[0m \u001B[38;5;124;03m       :class:`JavaMember` instances.\u001B[39;00m\n\u001B[0;32m   (...)\u001B[0m\n\u001B[1;32m   1034\u001B[0m \u001B[38;5;124;03m     if `binary` is `True`.\u001B[39;00m\n\u001B[1;32m   1035\u001B[0m \u001B[38;5;124;03m    \"\"\"\u001B[39;00m\n\u001B[0;32m-> 1036\u001B[0m     connection \u001B[38;5;241m=\u001B[39m \u001B[38;5;28;43mself\u001B[39;49m\u001B[38;5;241;43m.\u001B[39;49m\u001B[43m_get_connection\u001B[49m\u001B[43m(\u001B[49m\u001B[43m)\u001B[49m\n\u001B[1;32m   1037\u001B[0m     \u001B[38;5;28;01mtry\u001B[39;00m:\n\u001B[1;32m   1038\u001B[0m         response \u001B[38;5;241m=\u001B[39m connection\u001B[38;5;241m.\u001B[39msend_command(command)\n",
      "File \u001B[0;32m~/Documents/MSc/SchoolStuff/Bigdata/coursework/project/BigDataProcessing/.venv/lib/python3.11/site-packages/py4j/clientserver.py:284\u001B[0m, in \u001B[0;36mJavaClient._get_connection\u001B[0;34m(self)\u001B[0m\n\u001B[1;32m    281\u001B[0m     \u001B[38;5;28;01mpass\u001B[39;00m\n\u001B[1;32m    283\u001B[0m \u001B[38;5;28;01mif\u001B[39;00m connection \u001B[38;5;129;01mis\u001B[39;00m \u001B[38;5;28;01mNone\u001B[39;00m \u001B[38;5;129;01mor\u001B[39;00m connection\u001B[38;5;241m.\u001B[39msocket \u001B[38;5;129;01mis\u001B[39;00m \u001B[38;5;28;01mNone\u001B[39;00m:\n\u001B[0;32m--> 284\u001B[0m     connection \u001B[38;5;241m=\u001B[39m \u001B[38;5;28;43mself\u001B[39;49m\u001B[38;5;241;43m.\u001B[39;49m\u001B[43m_create_new_connection\u001B[49m\u001B[43m(\u001B[49m\u001B[43m)\u001B[49m\n\u001B[1;32m    285\u001B[0m \u001B[38;5;28;01mreturn\u001B[39;00m connection\n",
      "File \u001B[0;32m~/Documents/MSc/SchoolStuff/Bigdata/coursework/project/BigDataProcessing/.venv/lib/python3.11/site-packages/py4j/clientserver.py:291\u001B[0m, in \u001B[0;36mJavaClient._create_new_connection\u001B[0;34m(self)\u001B[0m\n\u001B[1;32m    287\u001B[0m \u001B[38;5;28;01mdef\u001B[39;00m \u001B[38;5;21m_create_new_connection\u001B[39m(\u001B[38;5;28mself\u001B[39m):\n\u001B[1;32m    288\u001B[0m     connection \u001B[38;5;241m=\u001B[39m ClientServerConnection(\n\u001B[1;32m    289\u001B[0m         \u001B[38;5;28mself\u001B[39m\u001B[38;5;241m.\u001B[39mjava_parameters, \u001B[38;5;28mself\u001B[39m\u001B[38;5;241m.\u001B[39mpython_parameters,\n\u001B[1;32m    290\u001B[0m         \u001B[38;5;28mself\u001B[39m\u001B[38;5;241m.\u001B[39mgateway_property, \u001B[38;5;28mself\u001B[39m)\n\u001B[0;32m--> 291\u001B[0m     \u001B[43mconnection\u001B[49m\u001B[38;5;241;43m.\u001B[39;49m\u001B[43mconnect_to_java_server\u001B[49m\u001B[43m(\u001B[49m\u001B[43m)\u001B[49m\n\u001B[1;32m    292\u001B[0m     \u001B[38;5;28mself\u001B[39m\u001B[38;5;241m.\u001B[39mset_thread_connection(connection)\n\u001B[1;32m    293\u001B[0m     \u001B[38;5;28;01mreturn\u001B[39;00m connection\n",
      "File \u001B[0;32m~/Documents/MSc/SchoolStuff/Bigdata/coursework/project/BigDataProcessing/.venv/lib/python3.11/site-packages/py4j/clientserver.py:438\u001B[0m, in \u001B[0;36mClientServerConnection.connect_to_java_server\u001B[0;34m(self)\u001B[0m\n\u001B[1;32m    435\u001B[0m \u001B[38;5;28;01mif\u001B[39;00m \u001B[38;5;28mself\u001B[39m\u001B[38;5;241m.\u001B[39mssl_context:\n\u001B[1;32m    436\u001B[0m     \u001B[38;5;28mself\u001B[39m\u001B[38;5;241m.\u001B[39msocket \u001B[38;5;241m=\u001B[39m \u001B[38;5;28mself\u001B[39m\u001B[38;5;241m.\u001B[39mssl_context\u001B[38;5;241m.\u001B[39mwrap_socket(\n\u001B[1;32m    437\u001B[0m         \u001B[38;5;28mself\u001B[39m\u001B[38;5;241m.\u001B[39msocket, server_hostname\u001B[38;5;241m=\u001B[39m\u001B[38;5;28mself\u001B[39m\u001B[38;5;241m.\u001B[39mjava_address)\n\u001B[0;32m--> 438\u001B[0m \u001B[38;5;28;43mself\u001B[39;49m\u001B[38;5;241;43m.\u001B[39;49m\u001B[43msocket\u001B[49m\u001B[38;5;241;43m.\u001B[39;49m\u001B[43mconnect\u001B[49m\u001B[43m(\u001B[49m\u001B[43m(\u001B[49m\u001B[38;5;28;43mself\u001B[39;49m\u001B[38;5;241;43m.\u001B[39;49m\u001B[43mjava_address\u001B[49m\u001B[43m,\u001B[49m\u001B[43m \u001B[49m\u001B[38;5;28;43mself\u001B[39;49m\u001B[38;5;241;43m.\u001B[39;49m\u001B[43mjava_port\u001B[49m\u001B[43m)\u001B[49m\u001B[43m)\u001B[49m\n\u001B[1;32m    439\u001B[0m \u001B[38;5;28mself\u001B[39m\u001B[38;5;241m.\u001B[39mstream \u001B[38;5;241m=\u001B[39m \u001B[38;5;28mself\u001B[39m\u001B[38;5;241m.\u001B[39msocket\u001B[38;5;241m.\u001B[39mmakefile(\u001B[38;5;124m\"\u001B[39m\u001B[38;5;124mrb\u001B[39m\u001B[38;5;124m\"\u001B[39m)\n\u001B[1;32m    440\u001B[0m \u001B[38;5;28mself\u001B[39m\u001B[38;5;241m.\u001B[39mis_connected \u001B[38;5;241m=\u001B[39m \u001B[38;5;28;01mTrue\u001B[39;00m\n",
      "\u001B[0;31mConnectionRefusedError\u001B[0m: [Errno 61] Connection refused"
     ]
    }
   ],
   "execution_count": 58
  },
  {
   "metadata": {
    "ExecuteTime": {
     "end_time": "2025-01-12T02:13:18.652022Z",
     "start_time": "2025-01-12T02:11:57.234192Z"
    }
   },
   "cell_type": "code",
   "source": [
    "from pyspark.ml.classification import DecisionTreeClassifier\n",
    "from pyspark.ml.tuning import ParamGridBuilder, CrossValidator\n",
    "from pyspark.ml.evaluation import MulticlassClassificationEvaluator\n",
    "\n",
    "# Initialize Decision Tree Classifier\n",
    "dt = DecisionTreeClassifier(featuresCol=\"features\", labelCol=\"label\")\n",
    "\n",
    "# Create a hyperparameter grid\n",
    "paramGrid = ParamGridBuilder() \\\n",
    "    .addGrid(dt.maxDepth, [5, 10, 15]) \\\n",
    "    .addGrid(dt.minInstancesPerNode, [1, 5, 10]) \\\n",
    "    .addGrid(dt.impurity, [\"gini\", \"entropy\"]) \\\n",
    "    .build()\n",
    "\n",
    "# Define cross-validation\n",
    "crossval = CrossValidator(\n",
    "    estimator=dt,\n",
    "    estimatorParamMaps=paramGrid,\n",
    "    evaluator=MulticlassClassificationEvaluator(labelCol=\"label\", predictionCol=\"prediction\", metricName=\"accuracy\"),\n",
    "    numFolds=3  # 3-Fold Cross Validation\n",
    ")\n",
    "\n",
    "# Train the model with cross-validation\n",
    "cv_dt_model = crossval.fit(train_data)\n",
    "\n",
    "# Make predictions on the test data\n",
    "cv_dt_predictions = cv_dt_model.transform(test_data)\n",
    "\n",
    "# Evaluate accuracy after tuning\n",
    "evaluator = MulticlassClassificationEvaluator(labelCol=\"label\", predictionCol=\"prediction\", metricName=\"accuracy\")\n",
    "cv_dt_accuracy = evaluator.evaluate(cv_dt_predictions)\n",
    "\n",
    "print(f\"Tuned Decision Tree Accuracy: {cv_dt_accuracy:.4f}\")\n"
   ],
   "id": "3cdf046e61998ed6",
   "outputs": [
    {
     "name": "stderr",
     "output_type": "stream",
     "text": [
      "                                                                                \r"
     ]
    },
    {
     "name": "stdout",
     "output_type": "stream",
     "text": [
      "Tuned Decision Tree Accuracy: 0.9714\n"
     ]
    }
   ],
   "execution_count": 56
  }
 ],
 "metadata": {
  "kernelspec": {
   "display_name": "Python 3",
   "language": "python",
   "name": "python3"
  },
  "language_info": {
   "codemirror_mode": {
    "name": "ipython",
    "version": 2
   },
   "file_extension": ".py",
   "mimetype": "text/x-python",
   "name": "python",
   "nbconvert_exporter": "python",
   "pygments_lexer": "ipython2",
   "version": "2.7.6"
  }
 },
 "nbformat": 4,
 "nbformat_minor": 5
}
