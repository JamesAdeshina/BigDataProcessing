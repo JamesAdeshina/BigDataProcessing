{
 "cells": [
  {
   "metadata": {},
   "cell_type": "markdown",
   "source": "# Big Processing Data",
   "id": "4901f92a8337e669"
  },
  {
   "metadata": {},
   "cell_type": "markdown",
   "source": [
    "#### Importation of Required Libraries\n",
    "We're importing the following libraries for the project: Pyspark, Matplotlib, Seaborn, ...\n",
    "\n",
    "Note: I am using Pycharm environment, so the environment is setup and doesn't need installation, but I'll also provide the code for install the libraries needed to run the project as well."
   ],
   "id": "bec21ba63660af91"
  },
  {
   "metadata": {
    "ExecuteTime": {
     "end_time": "2025-01-11T01:21:54.614134Z",
     "start_time": "2025-01-11T01:21:53.424484Z"
    }
   },
   "cell_type": "code",
   "source": [
    "import matplotlib.pyplot as plt\n",
    "import seaborn as sns\n",
    "from pyspark.sql import SparkSession\n",
    "from pyspark.sql.functions import col, count\n",
    "from sklearn.metrics import confusion_matrix\n",
    "from pyspark.sql.functions import expr, sum\n",
    "import numpy as np\n",
    "import pandas as pd\n",
    "from pyspark.ml.feature import VectorAssembler\n",
    "from pyspark.ml.feature import StringIndexer\n",
    "from pyspark.sql.functions import sum\n",
    "from pyspark.ml.classification import RandomForestClassifier\n",
    "from pyspark.ml.evaluation import MulticlassClassificationEvaluator\n",
    "from pyspark.ml.tuning import ParamGridBuilder, CrossValidator\n",
    "from pyspark.ml.evaluation import MulticlassClassificationEvaluator\n"
   ],
   "id": "19f6f51ac0c587cd",
   "outputs": [],
   "execution_count": 2
  },
  {
   "metadata": {},
   "cell_type": "markdown",
   "source": "#### Initialize Spark Session\n",
   "id": "7afba644447c37f3"
  },
  {
   "metadata": {
    "collapsed": true,
    "ExecuteTime": {
     "end_time": "2025-01-11T01:22:14.067413Z",
     "start_time": "2025-01-11T01:21:54.632062Z"
    }
   },
   "cell_type": "code",
   "source": [
    "# Initialize Spark Session\n",
    "spark = SparkSession.builder.appName(\"DataMerge\").getOrCreate()\n",
    "\n",
    "# Verify Spark session creation by performing a simple operation\n",
    "try:\n",
    "    # Try creating a simple DataFrame and show it\n",
    "    test_df = spark.range(2)  # Create a DataFrame with numbers 0 to 9\n",
    "    test_df.show()  # Display the DataFrame\n",
    "    print(\"Spark session is working and operational!\")\n",
    "except Exception as e:\n",
    "    print(f\"Error while verifying Spark session: {e}\")"
   ],
   "id": "initial_id",
   "outputs": [
    {
     "name": "stderr",
     "output_type": "stream",
     "text": [
      "Setting default log level to \"WARN\".\n",
      "To adjust logging level use sc.setLogLevel(newLevel). For SparkR, use setLogLevel(newLevel).\n",
      "25/01/11 01:22:00 WARN NativeCodeLoader: Unable to load native-hadoop library for your platform... using builtin-java classes where applicable\n",
      "[Stage 0:>                                                          (0 + 4) / 4]\r"
     ]
    },
    {
     "name": "stdout",
     "output_type": "stream",
     "text": [
      "+---+\n",
      "| id|\n",
      "+---+\n",
      "|  0|\n",
      "|  1|\n",
      "+---+\n",
      "\n",
      "Spark session is working and operational!\n"
     ]
    },
    {
     "name": "stderr",
     "output_type": "stream",
     "text": [
      "                                                                                \r"
     ]
    }
   ],
   "execution_count": 3
  },
  {
   "metadata": {},
   "cell_type": "markdown",
   "source": [
    "### Loading the Datasets\n",
    "This section will focus on loading the following datasets: <b>DimProduct.csv, FactInternetSales.csv, DimCustomer.csv, DimProductCategory.csv, DimProductSubCategory.csv, DimDate.csv, DimSalesTerritory.csv, </b> for our processing and analysis."
   ],
   "id": "bc3dd1102f18017c"
  },
  {
   "metadata": {
    "ExecuteTime": {
     "end_time": "2025-01-11T01:22:22.492715Z",
     "start_time": "2025-01-11T01:22:14.316985Z"
    }
   },
   "cell_type": "code",
   "source": [
    "# File paths\n",
    "files = {\n",
    "    \"DimProduct\": \"Dataset/DimProduct.csv\",\n",
    "    \"FactInternetSales\": \"Dataset/FactInternetSales.csv\",\n",
    "    \"DimCustomer\": \"Dataset/DimCustomer.csv\",\n",
    "    \"DimProductCategory\": \"Dataset/DimProductCategory.csv\",\n",
    "    \"DimProductSubcategory\": \"Dataset/DimProductSubcategory.csv\",\n",
    "    \"DimSalesTerritory\": \"Dataset/DimSalesTerritory.csv\",\n",
    "    \"DimDate\": \"Dataset/DimDate.csv\",\n",
    "}\n",
    "\n",
    "# Load datasets\n",
    "datasets = {name: spark.read.csv(path, header=True, inferSchema=True) for name, path in files.items()}"
   ],
   "id": "3a75823c5742437e",
   "outputs": [
    {
     "name": "stderr",
     "output_type": "stream",
     "text": [
      "25/01/11 01:22:18 WARN GarbageCollectionMetrics: To enable non-built-in garbage collector(s) List(G1 Concurrent GC), users should configure it(them) to spark.eventLog.gcMetrics.youngGenerationGarbageCollectors or spark.eventLog.gcMetrics.oldGenerationGarbageCollectors\n",
      "                                                                                \r"
     ]
    }
   ],
   "execution_count": 4
  },
  {
   "metadata": {},
   "cell_type": "markdown",
   "source": [
    "### Display Schema\n",
    "Checking the structure of each schema by verifying column names and data types to spot unexpected inconsistencies"
   ],
   "id": "7506a428fe0fcce7"
  },
  {
   "metadata": {
    "ExecuteTime": {
     "end_time": "2025-01-11T01:22:22.532375Z",
     "start_time": "2025-01-11T01:22:22.505541Z"
    }
   },
   "cell_type": "code",
   "source": [
    "# Displaying the schema for all datasets\n",
    "for name, df in datasets.items():\n",
    "    print(f\"Schema for {name}:\")\n",
    "    df.printSchema()\n",
    "    print(\"\\n\" + \"=\"*50 + \"\\n\")\n"
   ],
   "id": "95c2d20eb7f76325",
   "outputs": [
    {
     "name": "stdout",
     "output_type": "stream",
     "text": [
      "Schema for DimProduct:\n",
      "root\n",
      " |-- ProductKey: integer (nullable = true)\n",
      " |-- ProductAlternateKey: string (nullable = true)\n",
      " |-- ProductSubcategoryKey: integer (nullable = true)\n",
      " |-- WeightUnitMeasureCode: string (nullable = true)\n",
      " |-- SizeUnitMeasureCode: string (nullable = true)\n",
      " |-- EnglishProductName: string (nullable = true)\n",
      " |-- SpanishProductName: string (nullable = true)\n",
      " |-- FrenchProductName: string (nullable = true)\n",
      " |-- StandardCost: double (nullable = true)\n",
      " |-- FinishedGoodsFlag: boolean (nullable = true)\n",
      " |-- Color: string (nullable = true)\n",
      " |-- SafetyStockLevel: integer (nullable = true)\n",
      " |-- ReorderPoint: integer (nullable = true)\n",
      " |-- ListPrice: double (nullable = true)\n",
      " |-- Size: string (nullable = true)\n",
      " |-- SizeRange: string (nullable = true)\n",
      " |-- Weight: double (nullable = true)\n",
      " |-- DaysToManufacture: integer (nullable = true)\n",
      " |-- ProductLine: string (nullable = true)\n",
      " |-- DealerPrice: double (nullable = true)\n",
      " |-- Class: string (nullable = true)\n",
      " |-- Style: string (nullable = true)\n",
      " |-- ModelName: string (nullable = true)\n",
      " |-- EnglishDescription: string (nullable = true)\n",
      " |-- StartDate: string (nullable = true)\n",
      " |-- EndDate: string (nullable = true)\n",
      " |-- Status: string (nullable = true)\n",
      "\n",
      "\n",
      "==================================================\n",
      "\n",
      "Schema for FactInternetSales:\n",
      "root\n",
      " |-- ProductKey: integer (nullable = true)\n",
      " |-- OrderDateKey: integer (nullable = true)\n",
      " |-- DueDateKey: integer (nullable = true)\n",
      " |-- ShipDateKey: integer (nullable = true)\n",
      " |-- CustomerKey: integer (nullable = true)\n",
      " |-- PromotionKey: integer (nullable = true)\n",
      " |-- CurrencyKey: integer (nullable = true)\n",
      " |-- SalesTerritoryKey: integer (nullable = true)\n",
      " |-- SalesOrderNumber: string (nullable = true)\n",
      " |-- SalesOrderLineNumber: integer (nullable = true)\n",
      " |-- RevisionNumber: integer (nullable = true)\n",
      " |-- OrderQuantity: integer (nullable = true)\n",
      " |-- UnitPrice: double (nullable = true)\n",
      " |-- ExtendedAmount: double (nullable = true)\n",
      " |-- UnitPriceDiscountPct: integer (nullable = true)\n",
      " |-- DiscountAmount: integer (nullable = true)\n",
      " |-- ProductStandardCost: double (nullable = true)\n",
      " |-- TotalProductCost: double (nullable = true)\n",
      " |-- SalesAmount: double (nullable = true)\n",
      " |-- TaxAmt: double (nullable = true)\n",
      " |-- Freight: double (nullable = true)\n",
      " |-- CarrierTrackingNumber: string (nullable = true)\n",
      " |-- CustomerPONumber: string (nullable = true)\n",
      " |-- OrderDate: timestamp (nullable = true)\n",
      " |-- DueDate: timestamp (nullable = true)\n",
      " |-- ShipDate: timestamp (nullable = true)\n",
      "\n",
      "\n",
      "==================================================\n",
      "\n",
      "Schema for DimCustomer:\n",
      "root\n",
      " |-- CustomerKey: integer (nullable = true)\n",
      " |-- GeographyKey: integer (nullable = true)\n",
      " |-- CustomerAlternateKey: string (nullable = true)\n",
      " |-- Title: string (nullable = true)\n",
      " |-- FirstName: string (nullable = true)\n",
      " |-- MiddleName: string (nullable = true)\n",
      " |-- LastName: string (nullable = true)\n",
      " |-- NameStyle: boolean (nullable = true)\n",
      " |-- BirthDate: date (nullable = true)\n",
      " |-- MaritalStatus: string (nullable = true)\n",
      " |-- Suffix: string (nullable = true)\n",
      " |-- Gender: string (nullable = true)\n",
      " |-- EmailAddress: string (nullable = true)\n",
      " |-- YearlyIncome: integer (nullable = true)\n",
      " |-- TotalChildren: integer (nullable = true)\n",
      " |-- NumberChildrenAtHome: integer (nullable = true)\n",
      " |-- EnglishEducation: string (nullable = true)\n",
      " |-- SpanishEducation: string (nullable = true)\n",
      " |-- FrenchEducation: string (nullable = true)\n",
      " |-- EnglishOccupation: string (nullable = true)\n",
      " |-- SpanishOccupation: string (nullable = true)\n",
      " |-- FrenchOccupation: string (nullable = true)\n",
      " |-- HouseOwnerFlag: integer (nullable = true)\n",
      " |-- NumberCarsOwned: integer (nullable = true)\n",
      " |-- AddressLine1: string (nullable = true)\n",
      " |-- AddressLine2: string (nullable = true)\n",
      " |-- Phone: string (nullable = true)\n",
      " |-- DateFirstPurchase: date (nullable = true)\n",
      " |-- CommuteDistance: string (nullable = true)\n",
      "\n",
      "\n",
      "==================================================\n",
      "\n",
      "Schema for DimProductCategory:\n",
      "root\n",
      " |-- ProductCategoryKey: integer (nullable = true)\n",
      " |-- ProductCategoryAlternateKey: integer (nullable = true)\n",
      " |-- EnglishProductCategoryName: string (nullable = true)\n",
      " |-- SpanishProductCategoryName: string (nullable = true)\n",
      " |-- FrenchProductCategoryName: string (nullable = true)\n",
      "\n",
      "\n",
      "==================================================\n",
      "\n",
      "Schema for DimProductSubcategory:\n",
      "root\n",
      " |-- ProductSubcategoryKey: integer (nullable = true)\n",
      " |-- ProductSubcategoryAlternateKey: integer (nullable = true)\n",
      " |-- EnglishProductSubcategoryName: string (nullable = true)\n",
      " |-- ProductCategoryKey: integer (nullable = true)\n",
      "\n",
      "\n",
      "==================================================\n",
      "\n",
      "Schema for DimSalesTerritory:\n",
      "root\n",
      " |-- SalesTerritoryKey: integer (nullable = true)\n",
      " |-- SalesTerritoryAlternateKey: integer (nullable = true)\n",
      " |-- SalesTerritoryRegion: string (nullable = true)\n",
      " |-- SalesTerritoryCountry: string (nullable = true)\n",
      " |-- SalesTerritoryGroup: string (nullable = true)\n",
      "\n",
      "\n",
      "==================================================\n",
      "\n",
      "Schema for DimDate:\n",
      "root\n",
      " |-- DateKey: integer (nullable = true)\n",
      " |-- FullDateAlternateKey: string (nullable = true)\n",
      " |-- DayNumberOfWeek: integer (nullable = true)\n",
      " |-- EnglishDayNameOfWeek: string (nullable = true)\n",
      " |-- SpanishDayNameOfWeek: string (nullable = true)\n",
      " |-- FrenchDayNameOfWeek: string (nullable = true)\n",
      " |-- DayNumberOfMonth: integer (nullable = true)\n",
      " |-- DayNumberOfYear: integer (nullable = true)\n",
      " |-- WeekNumberOfYear: integer (nullable = true)\n",
      " |-- EnglishMonthName: string (nullable = true)\n",
      " |-- SpanishMonthName: string (nullable = true)\n",
      " |-- FrenchMonthName: string (nullable = true)\n",
      " |-- MonthNumberOfYear: integer (nullable = true)\n",
      " |-- CalendarQuarter: integer (nullable = true)\n",
      " |-- CalendarYear: integer (nullable = true)\n",
      " |-- CalendarSemester: integer (nullable = true)\n",
      " |-- FiscalQuarter: integer (nullable = true)\n",
      " |-- FiscalYear: integer (nullable = true)\n",
      " |-- FiscalSemester: integer (nullable = true)\n",
      " |-- Max Year: string (nullable = true)\n",
      "\n",
      "\n",
      "==================================================\n",
      "\n"
     ]
    }
   ],
   "execution_count": 5
  },
  {
   "metadata": {},
   "cell_type": "markdown",
   "source": "#### Standardizing Column Names to Snake Case",
   "id": "8492ca543aaab0d"
  },
  {
   "metadata": {
    "ExecuteTime": {
     "end_time": "2025-01-11T01:22:24.400217Z",
     "start_time": "2025-01-11T01:22:22.620586Z"
    }
   },
   "cell_type": "code",
   "source": [
    "# Function to convert column names to snake_case\n",
    "def standardize_column_names(df):\n",
    "    for col_name in df.columns:\n",
    "        new_col_name = col_name[0].lower() + \"\".join([\"_\" + c.lower() if c.isupper() else c for c in col_name[1:]])\n",
    "        df = df.withColumnRenamed(col_name, new_col_name)\n",
    "    return df\n",
    "\n",
    "# Apply column renaming to all datasets\n",
    "datasets = {name: standardize_column_names(df) for name, df in datasets.items()}\n",
    "\n",
    "# Verify column name updates\n",
    "for name, df in datasets.items():\n",
    "    print(f\"Updated columns in {name}: {df.columns}\")\n"
   ],
   "id": "124706c592c3d73d",
   "outputs": [
    {
     "name": "stdout",
     "output_type": "stream",
     "text": [
      "Updated columns in DimProduct: ['product_key', 'product_alternate_key', 'product_subcategory_key', 'weight_unit_measure_code', 'size_unit_measure_code', 'english_product_name', 'spanish_product_name', 'french_product_name', 'standard_cost', 'finished_goods_flag', 'color', 'safety_stock_level', 'reorder_point', 'list_price', 'size', 'size_range', 'weight', 'days_to_manufacture', 'product_line', 'dealer_price', 'class', 'style', 'model_name', 'english_description', 'start_date', 'end_date', 'status']\n",
      "Updated columns in FactInternetSales: ['product_key', 'order_date_key', 'due_date_key', 'ship_date_key', 'customer_key', 'promotion_key', 'currency_key', 'sales_territory_key', 'sales_order_number', 'sales_order_line_number', 'revision_number', 'order_quantity', 'unit_price', 'extended_amount', 'unit_price_discount_pct', 'discount_amount', 'product_standard_cost', 'total_product_cost', 'sales_amount', 'tax_amt', 'freight', 'carrier_tracking_number', 'customer_p_o_number', 'order_date', 'due_date', 'ship_date']\n",
      "Updated columns in DimCustomer: ['customer_key', 'geography_key', 'customer_alternate_key', 'title', 'first_name', 'middle_name', 'last_name', 'name_style', 'birth_date', 'marital_status', 'suffix', 'gender', 'email_address', 'yearly_income', 'total_children', 'number_children_at_home', 'english_education', 'spanish_education', 'french_education', 'english_occupation', 'spanish_occupation', 'french_occupation', 'house_owner_flag', 'number_cars_owned', 'address_line1', 'address_line2', 'phone', 'date_first_purchase', 'commute_distance']\n",
      "Updated columns in DimProductCategory: ['product_category_key', 'product_category_alternate_key', 'english_product_category_name', 'spanish_product_category_name', 'french_product_category_name']\n",
      "Updated columns in DimProductSubcategory: ['product_subcategory_key', 'product_subcategory_alternate_key', 'english_product_subcategory_name', 'product_category_key']\n",
      "Updated columns in DimSalesTerritory: ['sales_territory_key', 'sales_territory_alternate_key', 'sales_territory_region', 'sales_territory_country', 'sales_territory_group']\n",
      "Updated columns in DimDate: ['date_key', 'full_date_alternate_key', 'day_number_of_week', 'english_day_name_of_week', 'spanish_day_name_of_week', 'french_day_name_of_week', 'day_number_of_month', 'day_number_of_year', 'week_number_of_year', 'english_month_name', 'spanish_month_name', 'french_month_name', 'month_number_of_year', 'calendar_quarter', 'calendar_year', 'calendar_semester', 'fiscal_quarter', 'fiscal_year', 'fiscal_semester', 'max _year']\n"
     ]
    }
   ],
   "execution_count": 6
  },
  {
   "metadata": {},
   "cell_type": "markdown",
   "source": "#### Checking to see if there's Key Column Names Match in Datasets",
   "id": "a4ce78c645ff7eda"
  },
  {
   "metadata": {
    "ExecuteTime": {
     "end_time": "2025-01-11T01:22:24.488704Z",
     "start_time": "2025-01-11T01:22:24.468647Z"
    }
   },
   "cell_type": "code",
   "source": [
    "key_columns = {\n",
    "    \"FactInternetSales\": [\"product_key\", \"customer_key\", \"order_date_key\", \"sales_territory_key\"],\n",
    "    \"DimProduct\": [\"product_key\", \"product_subcategory_key\"],\n",
    "    \"DimProductSubcategory\": [\"product_subcategory_key\", \"product_category_key\"],\n",
    "    \"DimProductCategory\": [\"product_category_key\"],\n",
    "    \"DimCustomer\": [\"customer_key\"],\n",
    "    \"DimSalesTerritory\": [\"sales_territory_key\"],\n",
    "    \"DimDate\": [\"date_key\"]\n",
    "}\n",
    "\n",
    "# Print key column names for verification\n",
    "for dataset, keys in key_columns.items():\n",
    "    print(f\"Checking keys in {dataset}:\")\n",
    "    for key in keys:\n",
    "        if key in datasets[dataset].columns:\n",
    "            print(f\"{key} exists in {dataset}\")\n",
    "        else:\n",
    "            print(f\"{key} is MISSING in {dataset}!\")\n",
    "    print(\"\\n\" + \"=\"*50 + \"\\n\")\n"
   ],
   "id": "6471b1eac8addc60",
   "outputs": [
    {
     "name": "stdout",
     "output_type": "stream",
     "text": [
      "Checking keys in FactInternetSales:\n",
      "product_key exists in FactInternetSales\n",
      "customer_key exists in FactInternetSales\n",
      "order_date_key exists in FactInternetSales\n",
      "sales_territory_key exists in FactInternetSales\n",
      "\n",
      "==================================================\n",
      "\n",
      "Checking keys in DimProduct:\n",
      "product_key exists in DimProduct\n",
      "product_subcategory_key exists in DimProduct\n",
      "\n",
      "==================================================\n",
      "\n",
      "Checking keys in DimProductSubcategory:\n",
      "product_subcategory_key exists in DimProductSubcategory\n",
      "product_category_key exists in DimProductSubcategory\n",
      "\n",
      "==================================================\n",
      "\n",
      "Checking keys in DimProductCategory:\n",
      "product_category_key exists in DimProductCategory\n",
      "\n",
      "==================================================\n",
      "\n",
      "Checking keys in DimCustomer:\n",
      "customer_key exists in DimCustomer\n",
      "\n",
      "==================================================\n",
      "\n",
      "Checking keys in DimSalesTerritory:\n",
      "sales_territory_key exists in DimSalesTerritory\n",
      "\n",
      "==================================================\n",
      "\n",
      "Checking keys in DimDate:\n",
      "date_key exists in DimDate\n",
      "\n",
      "==================================================\n",
      "\n"
     ]
    }
   ],
   "execution_count": 7
  },
  {
   "metadata": {},
   "cell_type": "markdown",
   "source": "#### Checking to see if Key Columns have the same data type",
   "id": "a3dc169bd99f97e9"
  },
  {
   "metadata": {
    "ExecuteTime": {
     "end_time": "2025-01-11T01:22:24.900260Z",
     "start_time": "2025-01-11T01:22:24.668202Z"
    }
   },
   "cell_type": "code",
   "source": [
    "# Check data types of key columns in each dataset\n",
    "for dataset, keys in key_columns.items():\n",
    "    print(f\"Checking data types in {dataset}:\")\n",
    "    datasets[dataset].select(keys).printSchema()\n",
    "    print(\"\\n\" + \"=\"*50 + \"\\n\")\n"
   ],
   "id": "3d17b2fa25c91131",
   "outputs": [
    {
     "name": "stdout",
     "output_type": "stream",
     "text": [
      "Checking data types in FactInternetSales:\n",
      "root\n",
      " |-- product_key: integer (nullable = true)\n",
      " |-- customer_key: integer (nullable = true)\n",
      " |-- order_date_key: integer (nullable = true)\n",
      " |-- sales_territory_key: integer (nullable = true)\n",
      "\n",
      "\n",
      "==================================================\n",
      "\n",
      "Checking data types in DimProduct:\n",
      "root\n",
      " |-- product_key: integer (nullable = true)\n",
      " |-- product_subcategory_key: integer (nullable = true)\n",
      "\n",
      "\n",
      "==================================================\n",
      "\n",
      "Checking data types in DimProductSubcategory:\n",
      "root\n",
      " |-- product_subcategory_key: integer (nullable = true)\n",
      " |-- product_category_key: integer (nullable = true)\n",
      "\n",
      "\n",
      "==================================================\n",
      "\n",
      "Checking data types in DimProductCategory:\n",
      "root\n",
      " |-- product_category_key: integer (nullable = true)\n",
      "\n",
      "\n",
      "==================================================\n",
      "\n",
      "Checking data types in DimCustomer:\n",
      "root\n",
      " |-- customer_key: integer (nullable = true)\n",
      "\n",
      "\n",
      "==================================================\n",
      "\n",
      "Checking data types in DimSalesTerritory:\n",
      "root\n",
      " |-- sales_territory_key: integer (nullable = true)\n",
      "\n",
      "\n",
      "==================================================\n",
      "\n",
      "Checking data types in DimDate:\n",
      "root\n",
      " |-- date_key: integer (nullable = true)\n",
      "\n",
      "\n",
      "==================================================\n",
      "\n"
     ]
    }
   ],
   "execution_count": 8
  },
  {
   "metadata": {},
   "cell_type": "markdown",
   "source": "#### Checking for Null values in key columns",
   "id": "ed4389749f9c0ee3"
  },
  {
   "metadata": {
    "ExecuteTime": {
     "end_time": "2025-01-11T01:22:30.108740Z",
     "start_time": "2025-01-11T01:22:24.943507Z"
    }
   },
   "cell_type": "code",
   "source": [
    "# Check for NULL values in key columns\n",
    "for dataset, keys in key_columns.items():\n",
    "    print(f\"Checking for NULL values in {dataset}:\")\n",
    "    for key in keys:\n",
    "        null_count = datasets[dataset].filter(col(key).isNull()).count()\n",
    "        print(f\"{key} has {null_count} NULL values in {dataset}\")\n",
    "    print(\"\\n\" + \"=\"*50 + \"\\n\")\n"
   ],
   "id": "eb16e208eff2b591",
   "outputs": [
    {
     "name": "stdout",
     "output_type": "stream",
     "text": [
      "Checking for NULL values in FactInternetSales:\n"
     ]
    },
    {
     "name": "stderr",
     "output_type": "stream",
     "text": [
      "                                                                                \r"
     ]
    },
    {
     "name": "stdout",
     "output_type": "stream",
     "text": [
      "product_key has 0 NULL values in FactInternetSales\n",
      "customer_key has 0 NULL values in FactInternetSales\n",
      "order_date_key has 0 NULL values in FactInternetSales\n",
      "sales_territory_key has 0 NULL values in FactInternetSales\n",
      "\n",
      "==================================================\n",
      "\n",
      "Checking for NULL values in DimProduct:\n",
      "product_key has 0 NULL values in DimProduct\n",
      "product_subcategory_key has 0 NULL values in DimProduct\n",
      "\n",
      "==================================================\n",
      "\n",
      "Checking for NULL values in DimProductSubcategory:\n",
      "product_subcategory_key has 0 NULL values in DimProductSubcategory\n",
      "product_category_key has 0 NULL values in DimProductSubcategory\n",
      "\n",
      "==================================================\n",
      "\n",
      "Checking for NULL values in DimProductCategory:\n",
      "product_category_key has 0 NULL values in DimProductCategory\n",
      "\n",
      "==================================================\n",
      "\n",
      "Checking for NULL values in DimCustomer:\n",
      "customer_key has 0 NULL values in DimCustomer\n",
      "\n",
      "==================================================\n",
      "\n",
      "Checking for NULL values in DimSalesTerritory:\n",
      "sales_territory_key has 0 NULL values in DimSalesTerritory\n",
      "\n",
      "==================================================\n",
      "\n",
      "Checking for NULL values in DimDate:\n",
      "date_key has 0 NULL values in DimDate\n",
      "\n",
      "==================================================\n",
      "\n"
     ]
    }
   ],
   "execution_count": 9
  },
  {
   "metadata": {},
   "cell_type": "markdown",
   "source": "### Joining the Our Datasets",
   "id": "ae8b8dfc2ab5c741"
  },
  {
   "metadata": {
    "ExecuteTime": {
     "end_time": "2025-01-11T01:22:33.988846Z",
     "start_time": "2025-01-11T01:22:30.146655Z"
    }
   },
   "cell_type": "code",
   "source": [
    "# Start with the fact table\n",
    "fact_sales = datasets[\"FactInternetSales\"]\n",
    "\n",
    "# Join FactInternetSales with DimProduct\n",
    "fact_sales = fact_sales.join(datasets[\"DimProduct\"], \"product_key\", \"left\")\n",
    "\n",
    "# Join FactInternetSales with DimCustomer\n",
    "fact_sales = fact_sales.join(datasets[\"DimCustomer\"], \"customer_key\", \"left\")\n",
    "\n",
    "# Join FactInternetSales with DimDate\n",
    "fact_sales = fact_sales.join(datasets[\"DimDate\"], fact_sales.order_date_key == datasets[\"DimDate\"].date_key, \"left\").drop(\"date_key\")\n",
    "\n",
    "# Join FactInternetSales with DimSalesTerritory\n",
    "fact_sales = fact_sales.join(datasets[\"DimSalesTerritory\"], \"sales_territory_key\", \"left\")\n",
    "\n",
    "# Join DimProduct with DimProductSubcategory\n",
    "dim_product = datasets[\"DimProduct\"].join(datasets[\"DimProductSubcategory\"], \"product_subcategory_key\", \"left\")\n",
    "\n",
    "# Join DimProductSubcategory with DimProductCategory\n",
    "dim_product = dim_product.join(datasets[\"DimProductCategory\"], \"product_category_key\", \"left\")\n",
    "\n",
    "# Display final merged fact_sales dataset\n",
    "fact_sales.show(10)\n"
   ],
   "id": "b06832ce57a62fb0",
   "outputs": [
    {
     "name": "stderr",
     "output_type": "stream",
     "text": [
      "25/01/11 01:22:31 WARN SparkStringUtils: Truncated the string representation of a plan since it was too large. This behavior can be adjusted by setting 'spark.sql.debug.maxToStringFields'.\n",
      "                                                                                \r"
     ]
    },
    {
     "name": "stdout",
     "output_type": "stream",
     "text": [
      "+-------------------+------------+-----------+--------------+------------+-------------+-------------+------------+------------------+-----------------------+---------------+--------------+----------+---------------+-----------------------+---------------+---------------------+------------------+------------+--------+-------+-----------------------+-------------------+-------------------+-------------------+-------------------+---------------------+-----------------------+------------------------+----------------------+--------------------+--------------------+--------------------+-------------+-------------------+------+------------------+-------------+----------+----+----------+------+-------------------+------------+------------+-----+-----+------------+--------------------+----------------+----------------+------+-------------+----------------------+-----+----------+-----------+---------+----------+----------+--------------+------+------+--------------------+-------------+--------------+-----------------------+-----------------+--------------------+----------------+------------------+------------------+-----------------+----------------+-----------------+--------------------+-------------+-------------------+-------------------+----------------+-----------------------+------------------+------------------------+------------------------+-----------------------+-------------------+------------------+-------------------+------------------+------------------+-----------------+--------------------+----------------+-------------+-----------------+--------------+-----------+---------------+----------+-----------------------------+----------------------+-----------------------+---------------------+\n",
      "|sales_territory_key|customer_key|product_key|order_date_key|due_date_key|ship_date_key|promotion_key|currency_key|sales_order_number|sales_order_line_number|revision_number|order_quantity|unit_price|extended_amount|unit_price_discount_pct|discount_amount|product_standard_cost|total_product_cost|sales_amount| tax_amt|freight|carrier_tracking_number|customer_p_o_number|         order_date|           due_date|          ship_date|product_alternate_key|product_subcategory_key|weight_unit_measure_code|size_unit_measure_code|english_product_name|spanish_product_name| french_product_name|standard_cost|finished_goods_flag| color|safety_stock_level|reorder_point|list_price|size|size_range|weight|days_to_manufacture|product_line|dealer_price|class|style|  model_name| english_description|      start_date|        end_date|status|geography_key|customer_alternate_key|title|first_name|middle_name|last_name|name_style|birth_date|marital_status|suffix|gender|       email_address|yearly_income|total_children|number_children_at_home|english_education|   spanish_education|french_education|english_occupation|spanish_occupation|french_occupation|house_owner_flag|number_cars_owned|       address_line1|address_line2|              phone|date_first_purchase|commute_distance|full_date_alternate_key|day_number_of_week|english_day_name_of_week|spanish_day_name_of_week|french_day_name_of_week|day_number_of_month|day_number_of_year|week_number_of_year|english_month_name|spanish_month_name|french_month_name|month_number_of_year|calendar_quarter|calendar_year|calendar_semester|fiscal_quarter|fiscal_year|fiscal_semester| max _year|sales_territory_alternate_key|sales_territory_region|sales_territory_country|sales_territory_group|\n",
      "+-------------------+------------+-----------+--------------+------------+-------------+-------------+------------+------------------+-----------------------+---------------+--------------+----------+---------------+-----------------------+---------------+---------------------+------------------+------------+--------+-------+-----------------------+-------------------+-------------------+-------------------+-------------------+---------------------+-----------------------+------------------------+----------------------+--------------------+--------------------+--------------------+-------------+-------------------+------+------------------+-------------+----------+----+----------+------+-------------------+------------+------------+-----+-----+------------+--------------------+----------------+----------------+------+-------------+----------------------+-----+----------+-----------+---------+----------+----------+--------------+------+------+--------------------+-------------+--------------+-----------------------+-----------------+--------------------+----------------+------------------+------------------+-----------------+----------------+-----------------+--------------------+-------------+-------------------+-------------------+----------------+-----------------------+------------------+------------------------+------------------------+-----------------------+-------------------+------------------+-------------------+------------------+------------------+-----------------+--------------------+----------------+-------------+-----------------+--------------+-----------+---------------+----------+-----------------------------+----------------------+-----------------------+---------------------+\n",
      "|                  6|       21768|        310|      20101229|    20110110|     20110105|            1|          19|           SO43697|                      1|              1|             1|   3578.27|        3578.27|                      0|              0|            2171.2942|         2171.2942|     3578.27|286.2616|89.4568|                   NULL|               NULL|2010-12-29 00:00:00|2011-01-10 00:00:00|2011-01-05 00:00:00|           BK-R93R-62|                      2|                     LB |                   CM |    Road-150 Red, 62|Carretera: 150, r...|V�lo de route 150...|    2171.2942|               true|   Red|               100|           75|   3578.27|  62|  60-62 CM|  15.0|                  4|          R |    2146.962|   H |   U |    Road-150|This bike is ridd...|01/07/2005 00:00|30/06/2002 00:00|  NULL|           53|            AW00021768| NULL|      Cole|          A|   Watson|     false|1946-08-22|             S|  NULL|     M|cole1@adventure-w...|        70000|             5|                      0|        Bachelors|        Licenciatura|         Bac + 4|        Management|           Gesti�n|        Direction|               1|                3|    601 Asilomar Dr.|         NULL|       110-555-0129|         2005-07-01|       10+ Miles|             29/12/2010|                 4|               Wednesday|               Mi�rcoles|               Mercredi|                 29|               363|                 53|          December|         Diciembre|         D�cembre|                  12|               4|         2010|                2|             2|       2011|              1|01/01/2008|                            6|                Canada|                 Canada|        North America|\n",
      "|                  7|       28389|        346|      20101229|    20110110|     20110105|            1|          39|           SO43698|                      1|              1|             1|   3399.99|        3399.99|                      0|              0|            1912.1544|         1912.1544|     3399.99|271.9992|84.9998|                   NULL|               NULL|2010-12-29 00:00:00|2011-01-10 00:00:00|2011-01-05 00:00:00|           BK-M82S-44|                      1|                     LB |                   CM |Mountain-100 Silv...|Monta�a: 100, pla...|  VTT 100 argent, 44|    1912.1544|               true|Silver|               100|           75|   3399.99|  44|  42-46 CM| 21.13|                  4|          M |    2039.994|   H |   U |Mountain-100|Top-of-the-line c...|01/07/2005 00:00|30/06/2002 00:00|  NULL|          222|            AW00028389| NULL|   Rachael|          M| Martinez|     false|1964-12-18|             S|  NULL|     F|rachael16@adventu...|        20000|             3|                      3|      High School|Educaci�n secundaria|         Bac + 2|            Manual|            Obrero|          Ouvrier|               0|                0|  14, avenue du Port|         NULL|1 (11) 500 555-0190|         2005-07-01|       0-1 Miles|             29/12/2010|                 4|               Wednesday|               Mi�rcoles|               Mercredi|                 29|               363|                 53|          December|         Diciembre|         D�cembre|                  12|               4|         2010|                2|             2|       2011|              1|01/01/2008|                            7|                France|                 France|               Europe|\n",
      "|                  1|       25863|        346|      20101229|    20110110|     20110105|            1|         100|           SO43699|                      1|              1|             1|   3399.99|        3399.99|                      0|              0|            1912.1544|         1912.1544|     3399.99|271.9992|84.9998|                   NULL|               NULL|2010-12-29 00:00:00|2011-01-10 00:00:00|2011-01-05 00:00:00|           BK-M82S-44|                      1|                     LB |                   CM |Mountain-100 Silv...|Monta�a: 100, pla...|  VTT 100 argent, 44|    1912.1544|               true|Silver|               100|           75|   3399.99|  44|  42-46 CM| 21.13|                  4|          M |    2039.994|   H |   U |Mountain-100|Top-of-the-line c...|01/07/2005 00:00|30/06/2002 00:00|  NULL|          543|            AW00025863| NULL|    Sydney|          S|   Wright|     false|1946-12-03|             S|  NULL|     F|sydney61@adventur...|        40000|             5|                      0|      High School|Educaci�n secundaria|         Bac + 2|      Professional|       Profesional|            Cadre|               1|                3| 4193 E. 28th Street|         NULL|       285-555-0113|         2005-07-01|       10+ Miles|             29/12/2010|                 4|               Wednesday|               Mi�rcoles|               Mercredi|                 29|               363|                 53|          December|         Diciembre|         D�cembre|                  12|               4|         2010|                2|             2|       2011|              1|01/01/2008|                            1|             Northwest|          United States|        North America|\n",
      "|                  4|       14501|        336|      20101229|    20110110|     20110105|            1|         100|           SO43700|                      1|              1|             1|  699.0982|       699.0982|                      0|              0|             413.1463|          413.1463|    699.0982| 55.9279|17.4775|                   NULL|               NULL|2010-12-29 00:00:00|2011-01-10 00:00:00|2011-01-05 00:00:00|           BK-R50B-62|                      2|                     LB |                   CM |  Road-650 Black, 62|Carretera: 650, n...|V�lo de route 650...|     413.1463|               true| Black|               100|           75|  699.0982|  62|  60-62 CM|  20.0|                  4|          R |    419.4589|   L |   U |    Road-650|Value-priced bike...|01/07/2005 00:00|30/06/2002 00:00|  NULL|          300|            AW00014501| NULL|     Ruben|       NULL|   Prasad|     false|1938-05-13|             M|  NULL|     M|ruben10@adventure...|        80000|             4|                      0|  Graduate Degree|Estudios de postg...|         Bac + 3|        Management|           Gesti�n|        Direction|               1|                2|   249 Alexander Pl.|         NULL|       175-555-0159|         2005-07-01|       1-2 Miles|             29/12/2010|                 4|               Wednesday|               Mi�rcoles|               Mercredi|                 29|               363|                 53|          December|         Diciembre|         D�cembre|                  12|               4|         2010|                2|             2|       2011|              1|01/01/2008|                            4|             Southwest|          United States|        North America|\n",
      "|                  9|       11003|        346|      20101229|    20110110|     20110105|            1|           6|           SO43701|                      1|              1|             1|   3399.99|        3399.99|                      0|              0|            1912.1544|         1912.1544|     3399.99|271.9992|84.9998|                   NULL|               NULL|2010-12-29 00:00:00|2011-01-10 00:00:00|2011-01-05 00:00:00|           BK-M82S-44|                      1|                     LB |                   CM |Mountain-100 Silv...|Monta�a: 100, pla...|  VTT 100 argent, 44|    1912.1544|               true|Silver|               100|           75|   3399.99|  44|  42-46 CM| 21.13|                  4|          M |    2039.994|   H |   U |Mountain-100|Top-of-the-line c...|01/07/2005 00:00|30/06/2002 00:00|  NULL|           11|            AW00011003| NULL|   Christy|       NULL|      Zhu|     false|1968-02-15|             S|  NULL|     F|christy12@adventu...|        70000|             0|                      0|        Bachelors|        Licenciatura|         Bac + 4|      Professional|       Profesional|            Cadre|               0|                1|    1825 Village Pl.|         NULL|1 (11) 500 555-0162|         2005-07-01|      5-10 Miles|             29/12/2010|                 4|               Wednesday|               Mi�rcoles|               Mercredi|                 29|               363|                 53|          December|         Diciembre|         D�cembre|                  12|               4|         2010|                2|             2|       2011|              1|01/01/2008|                            9|             Australia|              Australia|              Pacific|\n",
      "|                  4|       27645|        311|      20101230|    20110111|     20110106|            1|         100|           SO43702|                      1|              1|             1|   3578.27|        3578.27|                      0|              0|            2171.2942|         2171.2942|     3578.27|286.2616|89.4568|                   NULL|               NULL|2010-12-30 00:00:00|2011-01-11 00:00:00|2011-01-06 00:00:00|           BK-R93R-44|                      2|                     LB |                   CM |    Road-150 Red, 44|Carretera: 150, r...|V�lo de route 150...|    2171.2942|               true|   Red|               100|           75|   3578.27|  44|  42-46 CM| 13.77|                  4|          R |    2146.962|   H |   U |    Road-150|This bike is ridd...|01/07/2005 00:00|30/06/2002 00:00|  NULL|          312|            AW00027645| NULL|     Colin|          G|    Anand|     false|1961-08-18|             M|  NULL|     M|colin45@adventure...|       120000|             1|                      3|      High School|Educaci�n secundaria|         Bac + 2|      Professional|       Profesional|            Cadre|               1|                4|7626 Sinclair Avenue|         NULL|       199-555-0186|         2005-07-02|      5-10 Miles|             30/12/2010|                 5|                Thursday|                  Jueves|                  Jeudi|                 30|               364|                 53|          December|         Diciembre|         D�cembre|                  12|               4|         2010|                2|             2|       2011|              1|01/01/2008|                            4|             Southwest|          United States|        North America|\n",
      "|                  9|       16624|        310|      20101230|    20110111|     20110106|            1|           6|           SO43703|                      1|              1|             1|   3578.27|        3578.27|                      0|              0|            2171.2942|         2171.2942|     3578.27|286.2616|89.4568|                   NULL|               NULL|2010-12-30 00:00:00|2011-01-11 00:00:00|2011-01-06 00:00:00|           BK-R93R-62|                      2|                     LB |                   CM |    Road-150 Red, 62|Carretera: 150, r...|V�lo de route 150...|    2171.2942|               true|   Red|               100|           75|   3578.27|  62|  60-62 CM|  15.0|                  4|          R |    2146.962|   H |   U |    Road-150|This bike is ridd...|01/07/2005 00:00|30/06/2002 00:00|  NULL|           30|            AW00016624| NULL|    Albert|          R|  Alvarez|     false|1972-07-27|             S|  NULL|     M|albert7@adventure...|        90000|             0|                      0|        Bachelors|        Licenciatura|         Bac + 4|      Professional|       Profesional|            Cadre|               0|                3|  3541 Corte Poquito|         NULL|1 (11) 500 555-0114|         2005-07-02|       10+ Miles|             30/12/2010|                 5|                Thursday|                  Jueves|                  Jeudi|                 30|               364|                 53|          December|         Diciembre|         D�cembre|                  12|               4|         2010|                2|             2|       2011|              1|01/01/2008|                            9|             Australia|              Australia|              Pacific|\n",
      "|                  9|       11005|        351|      20101230|    20110111|     20110106|            1|           6|           SO43704|                      1|              1|             1|   3374.99|        3374.99|                      0|              0|            1898.0944|         1898.0944|     3374.99|269.9992|84.3748|                   NULL|               NULL|2010-12-30 00:00:00|2011-01-11 00:00:00|2011-01-06 00:00:00|           BK-M82B-48|                      1|                     LB |                   CM |Mountain-100 Blac...|Monta�a: 100, neg...|    VTT 100 noir, 48|    1898.0944|               true| Black|               100|           75|   3374.99|  48|  48-52 CM| 21.42|                  4|          M |    2024.994|   H |   U |Mountain-100|Top-of-the-line c...|01/07/2005 00:00|30/06/2002 00:00|  NULL|           22|            AW00011005| NULL|     Julio|       NULL|     Ruiz|     false|1965-08-05|             S|  NULL|     M|julio1@adventure-...|        70000|             0|                      0|        Bachelors|        Licenciatura|         Bac + 4|      Professional|       Profesional|            Cadre|               1|                1| 7305 Humphrey Drive|         NULL|1 (11) 500 555-0151|         2005-07-02|      5-10 Miles|             30/12/2010|                 5|                Thursday|                  Jueves|                  Jeudi|                 30|               364|                 53|          December|         Diciembre|         D�cembre|                  12|               4|         2010|                2|             2|       2011|              1|01/01/2008|                            9|             Australia|              Australia|              Pacific|\n",
      "|                  9|       11011|        344|      20101230|    20110111|     20110106|            1|           6|           SO43705|                      1|              1|             1|   3399.99|        3399.99|                      0|              0|            1912.1544|         1912.1544|     3399.99|271.9992|84.9998|                   NULL|               NULL|2010-12-30 00:00:00|2011-01-11 00:00:00|2011-01-06 00:00:00|           BK-M82S-38|                      1|                     LB |                   CM |Mountain-100 Silv...|Monta�a: 100, pla...|  VTT 100 argent, 38|    1912.1544|               true|Silver|               100|           75|   3399.99|  38|  38-40 CM| 20.35|                  4|          M |    2039.994|   H |   U |Mountain-100|Top-of-the-line c...|01/07/2005 00:00|30/06/2002 00:00|  NULL|           22|            AW00011011| NULL|    Curtis|       NULL|       Lu|     false|1963-11-04|             M|  NULL|     M|curtis9@adventure...|        60000|             4|                      4|        Bachelors|        Licenciatura|         Bac + 4|      Professional|       Profesional|            Cadre|               1|                4|        1224 Shoenic|         NULL|1 (11) 500 555-0117|         2005-07-02|       10+ Miles|             30/12/2010|                 5|                Thursday|                  Jueves|                  Jeudi|                 30|               364|                 53|          December|         Diciembre|         D�cembre|                  12|               4|         2010|                2|             2|       2011|              1|01/01/2008|                            9|             Australia|              Australia|              Pacific|\n",
      "|                  4|       27621|        312|      20101231|    20110112|     20110107|            1|         100|           SO43706|                      1|              1|             1|   3578.27|        3578.27|                      0|              0|            2171.2942|         2171.2942|     3578.27|286.2616|89.4568|                   NULL|               NULL|2010-12-31 00:00:00|2011-01-12 00:00:00|2011-01-07 00:00:00|           BK-R93R-48|                      2|                     LB |                   CM |    Road-150 Red, 48|Carretera: 150, r...|V�lo de route 150...|    2171.2942|               true|   Red|               100|           75|   3578.27|  48|  48-52 CM| 14.13|                  4|          R |    2146.962|   H |   U |    Road-150|This bike is ridd...|01/07/2005 00:00|30/06/2002 00:00|  NULL|          369|            AW00027621| NULL|    Edward|       NULL|    Brown|     false|1964-01-27|             S|  NULL|     M|edward26@adventur...|       160000|             0|                      0|  Graduate Degree|Estudios de postg...|         Bac + 3|        Management|           Gesti�n|        Direction|               0|                4|2226 Cleveland Av...|         NULL|       238-555-0128|         2005-07-03|       1-2 Miles|             31/12/2010|                 6|                  Friday|                 Viernes|               Vendredi|                 31|               365|                 53|          December|         Diciembre|         D�cembre|                  12|               4|         2010|                2|             2|       2011|              1|01/01/2008|                            4|             Southwest|          United States|        North America|\n",
      "+-------------------+------------+-----------+--------------+------------+-------------+-------------+------------+------------------+-----------------------+---------------+--------------+----------+---------------+-----------------------+---------------+---------------------+------------------+------------+--------+-------+-----------------------+-------------------+-------------------+-------------------+-------------------+---------------------+-----------------------+------------------------+----------------------+--------------------+--------------------+--------------------+-------------+-------------------+------+------------------+-------------+----------+----+----------+------+-------------------+------------+------------+-----+-----+------------+--------------------+----------------+----------------+------+-------------+----------------------+-----+----------+-----------+---------+----------+----------+--------------+------+------+--------------------+-------------+--------------+-----------------------+-----------------+--------------------+----------------+------------------+------------------+-----------------+----------------+-----------------+--------------------+-------------+-------------------+-------------------+----------------+-----------------------+------------------+------------------------+------------------------+-----------------------+-------------------+------------------+-------------------+------------------+------------------+-----------------+--------------------+----------------+-------------+-----------------+--------------+-----------+---------------+----------+-----------------------------+----------------------+-----------------------+---------------------+\n",
      "only showing top 10 rows\n",
      "\n"
     ]
    }
   ],
   "execution_count": 10
  },
  {
   "metadata": {},
   "cell_type": "markdown",
   "source": "## Data quality checks and data cleaning process",
   "id": "292898034c74fa5"
  },
  {
   "metadata": {},
   "cell_type": "markdown",
   "source": "#### Checking row count check before and after joining",
   "id": "e0c8c0074296a8e3"
  },
  {
   "metadata": {
    "ExecuteTime": {
     "end_time": "2025-01-11T01:22:35.766238Z",
     "start_time": "2025-01-11T01:22:34.060289Z"
    }
   },
   "cell_type": "code",
   "source": [
    "# Check row count before and after joining\n",
    "fact_sales_count = datasets[\"FactInternetSales\"].count()\n",
    "merged_fact_sales_count = fact_sales.count()\n",
    "\n",
    "print(f\"FactInternetSales before join: {fact_sales_count} rows\")\n",
    "print(f\"Merged dataset after join: {merged_fact_sales_count} rows\")\n"
   ],
   "id": "d600665eee228466",
   "outputs": [
    {
     "name": "stdout",
     "output_type": "stream",
     "text": [
      "FactInternetSales before join: 60398 rows\n",
      "Merged dataset after join: 60398 rows\n"
     ]
    }
   ],
   "execution_count": 11
  },
  {
   "metadata": {},
   "cell_type": "markdown",
   "source": "#### Check for duplicate rows",
   "id": "4688d7d816b70324"
  },
  {
   "metadata": {
    "ExecuteTime": {
     "end_time": "2025-01-11T01:22:43.760371Z",
     "start_time": "2025-01-11T01:22:36.058532Z"
    }
   },
   "cell_type": "code",
   "source": [
    "# Check for duplicate rows\n",
    "duplicate_count = fact_sales.groupBy(fact_sales.columns).count().filter(\"count > 1\").count()\n",
    "print(f\"Duplicate rows in merged dataset: {duplicate_count}\")"
   ],
   "id": "2ac503c4e501ae8",
   "outputs": [
    {
     "name": "stderr",
     "output_type": "stream",
     "text": [
      "[Stage 72:>                                                         (0 + 4) / 4]\r"
     ]
    },
    {
     "name": "stdout",
     "output_type": "stream",
     "text": [
      "Duplicate rows in merged dataset: 0\n"
     ]
    },
    {
     "name": "stderr",
     "output_type": "stream",
     "text": [
      "                                                                                \r"
     ]
    }
   ],
   "execution_count": 12
  },
  {
   "metadata": {},
   "cell_type": "markdown",
   "source": "#### Check for NULL Values in Important Columns",
   "id": "b3b6f5e4ffcd4e37"
  },
  {
   "metadata": {
    "ExecuteTime": {
     "end_time": "2025-01-11T01:22:47.813261Z",
     "start_time": "2025-01-11T01:22:43.784012Z"
    }
   },
   "cell_type": "code",
   "source": [
    "\n",
    "# List of important columns to check\n",
    "important_columns = [\"product_key\", \"customer_key\", \"order_date_key\", \"sales_territory_key\", \"sales_amount\"]\n",
    "\n",
    "# Check for NULL values in important columns\n",
    "for col_name in important_columns:\n",
    "    null_count = fact_sales.filter(col(col_name).isNull()).count()\n",
    "    print(f\"{col_name} has {null_count} NULL values\")"
   ],
   "id": "e916bba0c0fa316d",
   "outputs": [
    {
     "name": "stdout",
     "output_type": "stream",
     "text": [
      "product_key has 0 NULL values\n",
      "customer_key has 0 NULL values\n",
      "order_date_key has 0 NULL values\n",
      "sales_territory_key has 0 NULL values\n",
      "sales_amount has 0 NULL values\n"
     ]
    }
   ],
   "execution_count": 13
  },
  {
   "metadata": {},
   "cell_type": "markdown",
   "source": "#### Check for Duplicate Rows",
   "id": "33d7eba2c3d5df19"
  },
  {
   "metadata": {
    "ExecuteTime": {
     "end_time": "2025-01-11T01:22:49.458332Z",
     "start_time": "2025-01-11T01:22:47.846582Z"
    }
   },
   "cell_type": "code",
   "source": "fact_sales.select(\"order_quantity\", \"unit_price\", \"sales_amount\", \"tax_amt\", \"freight\").describe().show()",
   "id": "d268d1476e2be77d",
   "outputs": [
    {
     "name": "stdout",
     "output_type": "stream",
     "text": [
      "+-------+--------------+-----------------+-----------------+-----------------+------------------+\n",
      "|summary|order_quantity|       unit_price|     sales_amount|          tax_amt|           freight|\n",
      "+-------+--------------+-----------------+-----------------+-----------------+------------------+\n",
      "|  count|         60398|            60398|            60398|            60398|             60398|\n",
      "|   mean|           1.0|486.0869105053777|486.0869105053777|38.88695370873952|12.152217111493709|\n",
      "| stddev|           0.0| 928.489891980807| 928.489891980807|74.27919255248155|23.212248232767838|\n",
      "|    min|             1|             2.29|             2.29|           0.1832|            0.0573|\n",
      "|    max|             1|          3578.27|          3578.27|         286.2616|           89.4568|\n",
      "+-------+--------------+-----------------+-----------------+-----------------+------------------+\n",
      "\n"
     ]
    }
   ],
   "execution_count": 14
  },
  {
   "metadata": {},
   "cell_type": "markdown",
   "source": "## Business Questions",
   "id": "72b67d4cd70792c3"
  },
  {
   "metadata": {},
   "cell_type": "markdown",
   "source": [
    "#### Sales and Product Analysis<br>\n",
    "1. Which products generate the highest sales revenue and profit margins?\n",
    "2. How do sales trends vary across different sales territories?\n",
    "3. How does product performance vary across different categories and subcategories?"
   ],
   "id": "2b233496c484891d"
  },
  {
   "metadata": {},
   "cell_type": "markdown",
   "source": "##### Which products generate the highest sales revenue and profit margins?\n",
   "id": "acc90246164cbf5e"
  },
  {
   "metadata": {
    "ExecuteTime": {
     "end_time": "2025-01-11T01:22:51.449235Z",
     "start_time": "2025-01-11T01:22:49.498144Z"
    }
   },
   "cell_type": "code",
   "source": [
    "#Which products generate the highest sales revenue and profit margins?\n",
    "#\n",
    "product_analysis = fact_sales.groupBy(\"english_product_name\") \\\n",
    "    .agg(\n",
    "        sum(\"sales_amount\").alias(\"total_sales\"),\n",
    "        sum(expr(\"sales_amount - total_product_cost\")).alias(\"profit_margin\")\n",
    "    ) \\\n",
    "    .orderBy(\"total_sales\", ascending=False)\n",
    "\n",
    "product_analysis.show(10)"
   ],
   "id": "2ca0bb3968f7c730",
   "outputs": [
    {
     "name": "stdout",
     "output_type": "stream",
     "text": [
      "+--------------------+------------------+------------------+\n",
      "|english_product_name|       total_sales|     profit_margin|\n",
      "+--------------------+------------------+------------------+\n",
      "|Mountain-200 Blac...|1373469.5481999982| 626621.5735000019|\n",
      "|Mountain-200 Blac...| 1363142.093399998| 621759.6083000018|\n",
      "|Mountain-200 Silv...| 1339462.790399998| 610864.4347999995|\n",
      "|Mountain-200 Silv...|1301100.0983999984| 593490.4727999989|\n",
      "|Mountain-200 Blac...| 1294866.141199998| 590477.4604000015|\n",
      "|Mountain-200 Silv...| 1257434.572799998| 573511.9375999994|\n",
      "|    Road-150 Red, 48|1205876.9900000044|474150.84460000356|\n",
      "|    Road-150 Red, 62|1202298.7200000044|472743.86880000355|\n",
      "|    Road-150 Red, 52|1080637.5400000038|424906.69160000305|\n",
      "|    Road-150 Red, 56|1055589.6500000036|415057.86100000294|\n",
      "+--------------------+------------------+------------------+\n",
      "only showing top 10 rows\n",
      "\n"
     ]
    }
   ],
   "execution_count": 15
  },
  {
   "metadata": {
    "ExecuteTime": {
     "end_time": "2025-01-11T01:22:51.610765Z",
     "start_time": "2025-01-11T01:22:51.601520Z"
    }
   },
   "cell_type": "code",
   "source": "fact_sales.printSchema()",
   "id": "fd879aff64215001",
   "outputs": [
    {
     "name": "stdout",
     "output_type": "stream",
     "text": [
      "root\n",
      " |-- sales_territory_key: integer (nullable = true)\n",
      " |-- customer_key: integer (nullable = true)\n",
      " |-- product_key: integer (nullable = true)\n",
      " |-- order_date_key: integer (nullable = true)\n",
      " |-- due_date_key: integer (nullable = true)\n",
      " |-- ship_date_key: integer (nullable = true)\n",
      " |-- promotion_key: integer (nullable = true)\n",
      " |-- currency_key: integer (nullable = true)\n",
      " |-- sales_order_number: string (nullable = true)\n",
      " |-- sales_order_line_number: integer (nullable = true)\n",
      " |-- revision_number: integer (nullable = true)\n",
      " |-- order_quantity: integer (nullable = true)\n",
      " |-- unit_price: double (nullable = true)\n",
      " |-- extended_amount: double (nullable = true)\n",
      " |-- unit_price_discount_pct: integer (nullable = true)\n",
      " |-- discount_amount: integer (nullable = true)\n",
      " |-- product_standard_cost: double (nullable = true)\n",
      " |-- total_product_cost: double (nullable = true)\n",
      " |-- sales_amount: double (nullable = true)\n",
      " |-- tax_amt: double (nullable = true)\n",
      " |-- freight: double (nullable = true)\n",
      " |-- carrier_tracking_number: string (nullable = true)\n",
      " |-- customer_p_o_number: string (nullable = true)\n",
      " |-- order_date: timestamp (nullable = true)\n",
      " |-- due_date: timestamp (nullable = true)\n",
      " |-- ship_date: timestamp (nullable = true)\n",
      " |-- product_alternate_key: string (nullable = true)\n",
      " |-- product_subcategory_key: integer (nullable = true)\n",
      " |-- weight_unit_measure_code: string (nullable = true)\n",
      " |-- size_unit_measure_code: string (nullable = true)\n",
      " |-- english_product_name: string (nullable = true)\n",
      " |-- spanish_product_name: string (nullable = true)\n",
      " |-- french_product_name: string (nullable = true)\n",
      " |-- standard_cost: double (nullable = true)\n",
      " |-- finished_goods_flag: boolean (nullable = true)\n",
      " |-- color: string (nullable = true)\n",
      " |-- safety_stock_level: integer (nullable = true)\n",
      " |-- reorder_point: integer (nullable = true)\n",
      " |-- list_price: double (nullable = true)\n",
      " |-- size: string (nullable = true)\n",
      " |-- size_range: string (nullable = true)\n",
      " |-- weight: double (nullable = true)\n",
      " |-- days_to_manufacture: integer (nullable = true)\n",
      " |-- product_line: string (nullable = true)\n",
      " |-- dealer_price: double (nullable = true)\n",
      " |-- class: string (nullable = true)\n",
      " |-- style: string (nullable = true)\n",
      " |-- model_name: string (nullable = true)\n",
      " |-- english_description: string (nullable = true)\n",
      " |-- start_date: string (nullable = true)\n",
      " |-- end_date: string (nullable = true)\n",
      " |-- status: string (nullable = true)\n",
      " |-- geography_key: integer (nullable = true)\n",
      " |-- customer_alternate_key: string (nullable = true)\n",
      " |-- title: string (nullable = true)\n",
      " |-- first_name: string (nullable = true)\n",
      " |-- middle_name: string (nullable = true)\n",
      " |-- last_name: string (nullable = true)\n",
      " |-- name_style: boolean (nullable = true)\n",
      " |-- birth_date: date (nullable = true)\n",
      " |-- marital_status: string (nullable = true)\n",
      " |-- suffix: string (nullable = true)\n",
      " |-- gender: string (nullable = true)\n",
      " |-- email_address: string (nullable = true)\n",
      " |-- yearly_income: integer (nullable = true)\n",
      " |-- total_children: integer (nullable = true)\n",
      " |-- number_children_at_home: integer (nullable = true)\n",
      " |-- english_education: string (nullable = true)\n",
      " |-- spanish_education: string (nullable = true)\n",
      " |-- french_education: string (nullable = true)\n",
      " |-- english_occupation: string (nullable = true)\n",
      " |-- spanish_occupation: string (nullable = true)\n",
      " |-- french_occupation: string (nullable = true)\n",
      " |-- house_owner_flag: integer (nullable = true)\n",
      " |-- number_cars_owned: integer (nullable = true)\n",
      " |-- address_line1: string (nullable = true)\n",
      " |-- address_line2: string (nullable = true)\n",
      " |-- phone: string (nullable = true)\n",
      " |-- date_first_purchase: date (nullable = true)\n",
      " |-- commute_distance: string (nullable = true)\n",
      " |-- full_date_alternate_key: string (nullable = true)\n",
      " |-- day_number_of_week: integer (nullable = true)\n",
      " |-- english_day_name_of_week: string (nullable = true)\n",
      " |-- spanish_day_name_of_week: string (nullable = true)\n",
      " |-- french_day_name_of_week: string (nullable = true)\n",
      " |-- day_number_of_month: integer (nullable = true)\n",
      " |-- day_number_of_year: integer (nullable = true)\n",
      " |-- week_number_of_year: integer (nullable = true)\n",
      " |-- english_month_name: string (nullable = true)\n",
      " |-- spanish_month_name: string (nullable = true)\n",
      " |-- french_month_name: string (nullable = true)\n",
      " |-- month_number_of_year: integer (nullable = true)\n",
      " |-- calendar_quarter: integer (nullable = true)\n",
      " |-- calendar_year: integer (nullable = true)\n",
      " |-- calendar_semester: integer (nullable = true)\n",
      " |-- fiscal_quarter: integer (nullable = true)\n",
      " |-- fiscal_year: integer (nullable = true)\n",
      " |-- fiscal_semester: integer (nullable = true)\n",
      " |-- max _year: string (nullable = true)\n",
      " |-- sales_territory_alternate_key: integer (nullable = true)\n",
      " |-- sales_territory_region: string (nullable = true)\n",
      " |-- sales_territory_country: string (nullable = true)\n",
      " |-- sales_territory_group: string (nullable = true)\n",
      "\n"
     ]
    }
   ],
   "execution_count": 16
  },
  {
   "metadata": {
    "ExecuteTime": {
     "end_time": "2025-01-11T01:22:51.911298Z",
     "start_time": "2025-01-11T01:22:51.893240Z"
    }
   },
   "cell_type": "code",
   "source": [
    "# Check if english_product_category_name exists in the dataset\n",
    "fact_sales.columns\n"
   ],
   "id": "2b03d5ceaeb10913",
   "outputs": [
    {
     "data": {
      "text/plain": [
       "['sales_territory_key',\n",
       " 'customer_key',\n",
       " 'product_key',\n",
       " 'order_date_key',\n",
       " 'due_date_key',\n",
       " 'ship_date_key',\n",
       " 'promotion_key',\n",
       " 'currency_key',\n",
       " 'sales_order_number',\n",
       " 'sales_order_line_number',\n",
       " 'revision_number',\n",
       " 'order_quantity',\n",
       " 'unit_price',\n",
       " 'extended_amount',\n",
       " 'unit_price_discount_pct',\n",
       " 'discount_amount',\n",
       " 'product_standard_cost',\n",
       " 'total_product_cost',\n",
       " 'sales_amount',\n",
       " 'tax_amt',\n",
       " 'freight',\n",
       " 'carrier_tracking_number',\n",
       " 'customer_p_o_number',\n",
       " 'order_date',\n",
       " 'due_date',\n",
       " 'ship_date',\n",
       " 'product_alternate_key',\n",
       " 'product_subcategory_key',\n",
       " 'weight_unit_measure_code',\n",
       " 'size_unit_measure_code',\n",
       " 'english_product_name',\n",
       " 'spanish_product_name',\n",
       " 'french_product_name',\n",
       " 'standard_cost',\n",
       " 'finished_goods_flag',\n",
       " 'color',\n",
       " 'safety_stock_level',\n",
       " 'reorder_point',\n",
       " 'list_price',\n",
       " 'size',\n",
       " 'size_range',\n",
       " 'weight',\n",
       " 'days_to_manufacture',\n",
       " 'product_line',\n",
       " 'dealer_price',\n",
       " 'class',\n",
       " 'style',\n",
       " 'model_name',\n",
       " 'english_description',\n",
       " 'start_date',\n",
       " 'end_date',\n",
       " 'status',\n",
       " 'geography_key',\n",
       " 'customer_alternate_key',\n",
       " 'title',\n",
       " 'first_name',\n",
       " 'middle_name',\n",
       " 'last_name',\n",
       " 'name_style',\n",
       " 'birth_date',\n",
       " 'marital_status',\n",
       " 'suffix',\n",
       " 'gender',\n",
       " 'email_address',\n",
       " 'yearly_income',\n",
       " 'total_children',\n",
       " 'number_children_at_home',\n",
       " 'english_education',\n",
       " 'spanish_education',\n",
       " 'french_education',\n",
       " 'english_occupation',\n",
       " 'spanish_occupation',\n",
       " 'french_occupation',\n",
       " 'house_owner_flag',\n",
       " 'number_cars_owned',\n",
       " 'address_line1',\n",
       " 'address_line2',\n",
       " 'phone',\n",
       " 'date_first_purchase',\n",
       " 'commute_distance',\n",
       " 'full_date_alternate_key',\n",
       " 'day_number_of_week',\n",
       " 'english_day_name_of_week',\n",
       " 'spanish_day_name_of_week',\n",
       " 'french_day_name_of_week',\n",
       " 'day_number_of_month',\n",
       " 'day_number_of_year',\n",
       " 'week_number_of_year',\n",
       " 'english_month_name',\n",
       " 'spanish_month_name',\n",
       " 'french_month_name',\n",
       " 'month_number_of_year',\n",
       " 'calendar_quarter',\n",
       " 'calendar_year',\n",
       " 'calendar_semester',\n",
       " 'fiscal_quarter',\n",
       " 'fiscal_year',\n",
       " 'fiscal_semester',\n",
       " 'max _year',\n",
       " 'sales_territory_alternate_key',\n",
       " 'sales_territory_region',\n",
       " 'sales_territory_country',\n",
       " 'sales_territory_group']"
      ]
     },
     "execution_count": 17,
     "metadata": {},
     "output_type": "execute_result"
    }
   ],
   "execution_count": 17
  },
  {
   "metadata": {
    "ExecuteTime": {
     "end_time": "2025-01-11T01:22:54.556082Z",
     "start_time": "2025-01-11T01:22:52.131670Z"
    }
   },
   "cell_type": "code",
   "source": [
    "# Join FactInternetSales with DimProduct\n",
    "fact_sales_with_product = fact_sales.join(\n",
    "    datasets[\"DimProduct\"], \"product_key\", \"inner\"\n",
    ")\n",
    "\n",
    "# Join with DimProductSubcategory\n",
    "fact_sales_with_subcategory = fact_sales_with_product.join(\n",
    "    datasets[\"DimProductSubcategory\"], \"product_subcategory_key\", \"inner\"\n",
    ")\n",
    "\n",
    "# Join with DimProductCategory to get the category name\n",
    "fact_sales_with_category = fact_sales_with_subcategory.join(\n",
    "    datasets[\"DimProductCategory\"], \"product_category_key\", \"inner\"\n",
    ")\n",
    "\n",
    "# Perform category-level sales and profit analysis\n",
    "category_analysis = fact_sales_with_category.groupBy(\"english_product_category_name\") \\\n",
    "    .agg(\n",
    "        sum(\"sales_amount\").alias(\"total_sales\"),\n",
    "        sum(expr(\"sales_amount - total_product_cost\")).alias(\"profit_margin\")\n",
    "    ) \\\n",
    "    .orderBy(\"total_sales\", ascending=False)\n",
    "\n",
    "category_analysis.show()\n"
   ],
   "id": "97be08f35ba855e3",
   "outputs": [
    {
     "name": "stdout",
     "output_type": "stream",
     "text": [
      "+-----------------------------+--------------------+--------------------+\n",
      "|english_product_category_name|         total_sales|       profit_margin|\n",
      "+-----------------------------+--------------------+--------------------+\n",
      "|                        Bikes|2.8318144650701128E7|1.1505796500600025E7|\n",
      "|                  Accessories|   700759.9599999422|  438674.56809997605|\n",
      "|                     Clothing|   339772.6100000149|  136412.57629999678|\n",
      "+-----------------------------+--------------------+--------------------+\n",
      "\n"
     ]
    }
   ],
   "execution_count": 18
  },
  {
   "metadata": {
    "ExecuteTime": {
     "end_time": "2025-01-11T01:22:56.582962Z",
     "start_time": "2025-01-11T01:22:54.578425Z"
    }
   },
   "cell_type": "code",
   "source": [
    "#Top-Selling Products (Bar Chart)\n",
    "# Convert to Pandas\n",
    "product_sales_df = product_analysis.limit(10).toPandas()\n",
    "\n",
    "# Plot Top-Selling Products\n",
    "plt.figure(figsize=(12, 6))\n",
    "sns.barplot(x=\"total_sales\", y=\"english_product_name\", data=product_sales_df, palette=\"Blues_r\")\n",
    "plt.xlabel(\"Total Sales ($)\")\n",
    "plt.ylabel(\"Product Name\")\n",
    "plt.title(\"Top 10 Best-Selling Products\")\n",
    "plt.show()"
   ],
   "id": "2e0f2d7f9dfeb0f6",
   "outputs": [
    {
     "name": "stderr",
     "output_type": "stream",
     "text": [
      "/var/folders/vq/2z3hvmh94k13pb_1b0fmr7wm0000gn/T/ipykernel_2542/3720069064.py:7: FutureWarning: \n",
      "\n",
      "Passing `palette` without assigning `hue` is deprecated and will be removed in v0.14.0. Assign the `y` variable to `hue` and set `legend=False` for the same effect.\n",
      "\n",
      "  sns.barplot(x=\"total_sales\", y=\"english_product_name\", data=product_sales_df, palette=\"Blues_r\")\n"
     ]
    },
    {
     "data": {
      "text/plain": [
       "<Figure size 1200x600 with 1 Axes>"
      ],
      "image/png": "[encoded data removed]"
     },
     "metadata": {},
     "output_type": "display_data"
    }
   ],
   "execution_count": 19
  },
  {
   "metadata": {
    "ExecuteTime": {
     "end_time": "2025-01-11T01:22:56.718490Z",
     "start_time": "2025-01-11T01:22:56.707545Z"
    }
   },
   "cell_type": "code",
   "source": "print(category_analysis.columns)\n",
   "id": "e0cdb2a0f7c5c8ec",
   "outputs": [
    {
     "name": "stdout",
     "output_type": "stream",
     "text": [
      "['english_product_category_name', 'total_sales', 'profit_margin']\n"
     ]
    }
   ],
   "execution_count": 20
  },
  {
   "metadata": {
    "ExecuteTime": {
     "end_time": "2025-01-11T01:22:58.778937Z",
     "start_time": "2025-01-11T01:22:56.913657Z"
    }
   },
   "cell_type": "code",
   "source": [
    "#Profit Margins by Product Category (Bar Chart)\n",
    "# Compute Profit Per Unit\n",
    "product_analysis = product_analysis.withColumn(\"profit_per_unit\", expr(\"profit_margin / total_sales\"))\n",
    "\n",
    "# Convert to Pandas for Visualization\n",
    "profit_per_unit_df = product_analysis.limit(10).toPandas()\n",
    "\n",
    "# Plot Profit Per Unit for Top Products\n",
    "plt.figure(figsize=(12, 6))\n",
    "sns.barplot(x=\"profit_per_unit\", y=\"english_product_name\", data=profit_per_unit_df, palette=\"coolwarm\")\n",
    "plt.xlabel(\"Profit Per Unit ($)\")\n",
    "plt.ylabel(\"Product Name\")\n",
    "plt.title(\"Most Profitable Products (Per Unit)\")\n",
    "plt.show()\n"
   ],
   "id": "d4a2460a76a3f5f8",
   "outputs": [
    {
     "name": "stderr",
     "output_type": "stream",
     "text": [
      "/var/folders/vq/2z3hvmh94k13pb_1b0fmr7wm0000gn/T/ipykernel_2542/1897914809.py:10: FutureWarning: \n",
      "\n",
      "Passing `palette` without assigning `hue` is deprecated and will be removed in v0.14.0. Assign the `y` variable to `hue` and set `legend=False` for the same effect.\n",
      "\n",
      "  sns.barplot(x=\"profit_per_unit\", y=\"english_product_name\", data=profit_per_unit_df, palette=\"coolwarm\")\n"
     ]
    },
    {
     "data": {
      "text/plain": [
       "<Figure size 1200x600 with 1 Axes>"
      ],
      "image/png": "[encoded data removed]"
     },
     "metadata": {},
     "output_type": "display_data"
    }
   ],
   "execution_count": 21
  },
  {
   "metadata": {},
   "cell_type": "markdown",
   "source": [
    "##### How do sales trends vary across different sales territories?\n",
    "\n"
   ],
   "id": "a49b2add53066805"
  },
  {
   "metadata": {
    "ExecuteTime": {
     "end_time": "2025-01-11T01:23:00.016075Z",
     "start_time": "2025-01-11T01:22:58.887215Z"
    }
   },
   "cell_type": "code",
   "source": [
    "#2️⃣ Analyze Sales by Territory\n",
    "\n",
    "territory_sales = fact_sales.groupBy(\"sales_territory_group\") \\\n",
    "    .agg(sum(\"sales_amount\").alias(\"total_sales\")) \\\n",
    "    .orderBy(\"total_sales\", ascending=False)\n",
    "\n",
    "territory_sales.show()"
   ],
   "id": "7ab8eb6b345ce005",
   "outputs": [
    {
     "name": "stdout",
     "output_type": "stream",
     "text": [
      "+---------------------+--------------------+\n",
      "|sales_territory_group|         total_sales|\n",
      "+---------------------+--------------------+\n",
      "|        North America|1.1367634372902095E7|\n",
      "|              Pacific|   9061000.584400563|\n",
      "|               Europe|   8930042.263400966|\n",
      "+---------------------+--------------------+\n",
      "\n"
     ]
    }
   ],
   "execution_count": 22
  },
  {
   "metadata": {},
   "cell_type": "markdown",
   "source": "###### Sales Distribution Across Territories",
   "id": "78f7cb95780a2c08"
  },
  {
   "metadata": {
    "ExecuteTime": {
     "end_time": "2025-01-11T01:23:01.594887Z",
     "start_time": "2025-01-11T01:23:00.140324Z"
    }
   },
   "cell_type": "code",
   "source": [
    "#Sales Distribution Across Territories\n",
    "\n",
    "# Aggregate sales by sales territory\n",
    "territory_sales = fact_sales.groupBy(\"sales_territory_group\") \\\n",
    "    .agg(sum(\"sales_amount\").alias(\"total_sales\")) \\\n",
    "    .orderBy(\"total_sales\", ascending=False)\n",
    "\n",
    "# Convert to Pandas for visualization\n",
    "territory_sales_df = territory_sales.toPandas()\n",
    "\n",
    "# Plot Sales by Territory\n",
    "plt.figure(figsize=(12, 6))\n",
    "sns.barplot(x=\"total_sales\", y=\"sales_territory_group\", data=territory_sales_df, palette=\"coolwarm\")\n",
    "plt.xlabel(\"Total Sales\")\n",
    "plt.ylabel(\"Sales Territory\")\n",
    "plt.title(\"Sales Distribution Across Territories\")\n",
    "plt.show()\n",
    "\n"
   ],
   "id": "5d2ca142ed0ac93d",
   "outputs": [
    {
     "name": "stderr",
     "output_type": "stream",
     "text": [
      "/var/folders/vq/2z3hvmh94k13pb_1b0fmr7wm0000gn/T/ipykernel_2542/2696049287.py:13: FutureWarning: \n",
      "\n",
      "Passing `palette` without assigning `hue` is deprecated and will be removed in v0.14.0. Assign the `y` variable to `hue` and set `legend=False` for the same effect.\n",
      "\n",
      "  sns.barplot(x=\"total_sales\", y=\"sales_territory_group\", data=territory_sales_df, palette=\"coolwarm\")\n"
     ]
    },
    {
     "data": {
      "text/plain": [
       "<Figure size 1200x600 with 1 Axes>"
      ],
      "image/png": "[encoded data removed]"
     },
     "metadata": {},
     "output_type": "display_data"
    }
   ],
   "execution_count": 23
  },
  {
   "metadata": {},
   "cell_type": "markdown",
   "source": "##### How does product performance vary across different categories and subcategories?",
   "id": "ecfd4569495e9419"
  },
  {
   "metadata": {
    "ExecuteTime": {
     "end_time": "2025-01-11T01:23:02.980762Z",
     "start_time": "2025-01-11T01:23:01.687775Z"
    }
   },
   "cell_type": "code",
   "source": [
    "\n",
    "# Aggregate total sales by product category and subcategory\n",
    "category_sales = fact_sales_with_category.groupBy(\"english_product_category_name\", \"english_product_subcategory_name\") \\\n",
    "    .agg(sum(\"sales_amount\").alias(\"total_sales\")) \\\n",
    "    .orderBy(\"total_sales\", ascending=False)\n",
    "\n",
    "category_sales.show(10)\n"
   ],
   "id": "d82f4893d332c93f",
   "outputs": [
    {
     "name": "stdout",
     "output_type": "stream",
     "text": [
      "+-----------------------------+--------------------------------+--------------------+\n",
      "|english_product_category_name|english_product_subcategory_name|         total_sales|\n",
      "+-----------------------------+--------------------------------+--------------------+\n",
      "|                        Bikes|                      Road Bikes|1.4520584036299847E7|\n",
      "|                        Bikes|                  Mountain Bikes|   9952759.564400222|\n",
      "|                        Bikes|                   Touring Bikes|  3844801.0500000035|\n",
      "|                  Accessories|                 Tires and Tubes|  245529.32000000443|\n",
      "|                  Accessories|                         Helmets|  225335.60000000076|\n",
      "|                     Clothing|                         Jerseys|  172950.67999999886|\n",
      "|                     Clothing|                          Shorts|   71319.81000000038|\n",
      "|                  Accessories|               Bottles and Cages|    56798.1900000005|\n",
      "|                  Accessories|                         Fenders|   46619.57999999933|\n",
      "|                  Accessories|                 Hydration Packs|   40307.66999999987|\n",
      "+-----------------------------+--------------------------------+--------------------+\n",
      "only showing top 10 rows\n",
      "\n"
     ]
    }
   ],
   "execution_count": 24
  },
  {
   "metadata": {},
   "cell_type": "code",
   "outputs": [],
   "execution_count": null,
   "source": [
    "# Convert to Pandas\n",
    "category_sales_df = category_sales.toPandas()\n",
    "\n",
    "# Plot Sales by Product Category\n",
    "plt.figure(figsize=(12, 6))\n",
    "sns.barplot(x=\"total_sales\", y=\"english_product_category_name\", data=category_sales_df, palette=\"viridis\")\n",
    "plt.xlabel(\"Total Sales ($)\")\n",
    "plt.ylabel(\"Product Category\")\n",
    "plt.title(\"Sales by Product Category\")\n",
    "plt.show()\n",
    "\n",
    "# Plot Sales by Subcategory\n",
    "plt.figure(figsize=(12, 6))\n",
    "sns.barplot(x=\"total_sales\", y=\"english_product_subcategory_name\", data=category_sales_df, palette=\"coolwarm\")\n",
    "plt.xlabel(\"Total Sales ($)\")\n",
    "plt.ylabel(\"Product Subcategory\")\n",
    "plt.title(\"Sales by Product Subcategory\")\n",
    "plt.show()"
   ],
   "id": "eca8cd4898fd71d7"
  },
  {
   "metadata": {},
   "cell_type": "markdown",
   "source": "# Machine Learning Predictions",
   "id": "4f302122423ca467"
  },
  {
   "metadata": {},
   "cell_type": "markdown",
   "source": "### Predicting Product Categories for Future Purchases (Classification)\n",
   "id": "59903b0f09d78ed0"
  },
  {
   "metadata": {
    "ExecuteTime": {
     "end_time": "2025-01-11T01:23:07.882405Z",
     "start_time": "2025-01-11T01:23:06.132595Z"
    }
   },
   "cell_type": "code",
   "source": [
    "# Join with category data\n",
    "product_category_data = fact_sales.join(\n",
    "    datasets[\"DimProduct\"].join(\n",
    "        datasets[\"DimProductSubcategory\"],\n",
    "        \"product_subcategory_key\"\n",
    "    ).join(\n",
    "        datasets[\"DimProductCategory\"],\n",
    "        \"product_category_key\"\n",
    "    ),\n",
    "    \"product_key\"\n",
    ").select(\n",
    "    \"customer_key\",\n",
    "    \"sales_territory_group\",\n",
    "    \"english_product_category_name\",\n",
    "    \"sales_amount\"\n",
    ")\n",
    "\n",
    "product_category_data.show()\n"
   ],
   "id": "672beb5d49bec28a",
   "outputs": [
    {
     "name": "stdout",
     "output_type": "stream",
     "text": [
      "+------------+---------------------+-----------------------------+------------+\n",
      "|customer_key|sales_territory_group|english_product_category_name|sales_amount|\n",
      "+------------+---------------------+-----------------------------+------------+\n",
      "|       25086|        North America|                     Clothing|       24.49|\n",
      "|       19225|        North America|                     Clothing|        63.5|\n",
      "|       23105|              Pacific|                     Clothing|       24.49|\n",
      "|       16944|               Europe|                     Clothing|       24.49|\n",
      "|       29356|               Europe|                     Clothing|        63.5|\n",
      "|       28207|              Pacific|                     Clothing|        63.5|\n",
      "|       22432|               Europe|                     Clothing|       24.49|\n",
      "|       21349|        North America|                     Clothing|       24.49|\n",
      "|       21017|               Europe|                     Clothing|       24.49|\n",
      "|       11088|        North America|                     Clothing|       24.49|\n",
      "|       11041|        North America|                     Clothing|        63.5|\n",
      "|       26381|               Europe|                     Clothing|        63.5|\n",
      "|       13747|        North America|                     Clothing|       24.49|\n",
      "|       21448|        North America|                     Clothing|       24.49|\n",
      "|       18242|              Pacific|                     Clothing|        63.5|\n",
      "|       24102|               Europe|                     Clothing|       24.49|\n",
      "|       11090|        North America|                     Clothing|       24.49|\n",
      "|       14567|        North America|                     Clothing|       24.49|\n",
      "|       13571|               Europe|                     Clothing|       24.49|\n",
      "|       16192|               Europe|                     Clothing|       24.49|\n",
      "+------------+---------------------+-----------------------------+------------+\n",
      "only showing top 20 rows\n",
      "\n"
     ]
    }
   ],
   "execution_count": 26
  },
  {
   "metadata": {
    "ExecuteTime": {
     "end_time": "2025-01-11T01:23:08.837671Z",
     "start_time": "2025-01-11T01:23:07.982571Z"
    }
   },
   "cell_type": "code",
   "source": [
    "#2️⃣ Predict Product Categories for Future Purchases\n",
    "from pyspark.sql.functions import col\n",
    "\n",
    "# Join fact_sales with product dimensions\n",
    "labeled_data = fact_sales_with_category.select(\n",
    "    \"customer_key\",\n",
    "    \"sales_territory_group\",\n",
    "    \"order_quantity\",\n",
    "    \"sales_amount\",\n",
    "    \"freight\",\n",
    "    \"english_product_category_name\"  # Target variable\n",
    ")\n",
    "\n",
    "labeled_data.show(10)\n"
   ],
   "id": "b5301ad81a71c91a",
   "outputs": [
    {
     "name": "stdout",
     "output_type": "stream",
     "text": [
      "+------------+---------------------+--------------+------------+-------+-----------------------------+\n",
      "|customer_key|sales_territory_group|order_quantity|sales_amount|freight|english_product_category_name|\n",
      "+------------+---------------------+--------------+------------+-------+-----------------------------+\n",
      "|       21768|        North America|             1|     3578.27|89.4568|                        Bikes|\n",
      "|       28389|               Europe|             1|     3399.99|84.9998|                        Bikes|\n",
      "|       25863|        North America|             1|     3399.99|84.9998|                        Bikes|\n",
      "|       14501|        North America|             1|    699.0982|17.4775|                        Bikes|\n",
      "|       11003|              Pacific|             1|     3399.99|84.9998|                        Bikes|\n",
      "|       27645|        North America|             1|     3578.27|89.4568|                        Bikes|\n",
      "|       16624|              Pacific|             1|     3578.27|89.4568|                        Bikes|\n",
      "|       11005|              Pacific|             1|     3374.99|84.3748|                        Bikes|\n",
      "|       11011|              Pacific|             1|     3399.99|84.9998|                        Bikes|\n",
      "|       27621|        North America|             1|     3578.27|89.4568|                        Bikes|\n",
      "+------------+---------------------+--------------+------------+-------+-----------------------------+\n",
      "only showing top 10 rows\n",
      "\n"
     ]
    }
   ],
   "execution_count": 27
  },
  {
   "metadata": {
    "ExecuteTime": {
     "end_time": "2025-01-11T01:23:08.953787Z",
     "start_time": "2025-01-11T01:23:08.946692Z"
    }
   },
   "cell_type": "code",
   "source": "print(labeled_data.columns)\n",
   "id": "ef2854c2cacbbeaa",
   "outputs": [
    {
     "name": "stdout",
     "output_type": "stream",
     "text": [
      "['customer_key', 'sales_territory_group', 'order_quantity', 'sales_amount', 'freight', 'english_product_category_name']\n"
     ]
    }
   ],
   "execution_count": 28
  },
  {
   "metadata": {
    "ExecuteTime": {
     "end_time": "2025-01-11T01:23:11.942890Z",
     "start_time": "2025-01-11T01:23:09.085935Z"
    }
   },
   "cell_type": "code",
   "source": [
    "\n",
    "# Convert category name to numerical labels\n",
    "indexer = StringIndexer(inputCol=\"english_product_category_name\", outputCol=\"label\")\n",
    "labeled_data = indexer.fit(labeled_data).transform(labeled_data)\n",
    "\n",
    "# Verify if label column exists now\n",
    "print(labeled_data.columns)\n",
    "labeled_data.select(\"english_product_category_name\", \"label\").show(5)\n"
   ],
   "id": "77c2535b7b507d",
   "outputs": [
    {
     "name": "stderr",
     "output_type": "stream",
     "text": [
      "                                                                                \r"
     ]
    },
    {
     "name": "stdout",
     "output_type": "stream",
     "text": [
      "['customer_key', 'sales_territory_group', 'order_quantity', 'sales_amount', 'freight', 'english_product_category_name', 'label']\n",
      "+-----------------------------+-----+\n",
      "|english_product_category_name|label|\n",
      "+-----------------------------+-----+\n",
      "|                        Bikes|  1.0|\n",
      "|                        Bikes|  1.0|\n",
      "|                        Bikes|  1.0|\n",
      "|                        Bikes|  1.0|\n",
      "|                        Bikes|  1.0|\n",
      "+-----------------------------+-----+\n",
      "only showing top 5 rows\n",
      "\n"
     ]
    }
   ],
   "execution_count": 29
  },
  {
   "metadata": {
    "ExecuteTime": {
     "end_time": "2025-01-11T01:23:12.866968Z",
     "start_time": "2025-01-11T01:23:12.034015Z"
    }
   },
   "cell_type": "code",
   "source": [
    "\n",
    "feature_cols = [\"order_quantity\", \"sales_amount\", \"freight\"]\n",
    "assembler = VectorAssembler(inputCols=feature_cols, outputCol=\"features\")\n",
    "labeled_data = assembler.transform(labeled_data)\n",
    "\n",
    "# Verify the features column\n",
    "labeled_data.select(\"features\", \"label\").show(5, truncate=False)\n"
   ],
   "id": "872fb63d266cb868",
   "outputs": [
    {
     "name": "stdout",
     "output_type": "stream",
     "text": [
      "+----------------------+-----+\n",
      "|features              |label|\n",
      "+----------------------+-----+\n",
      "|[1.0,3578.27,89.4568] |1.0  |\n",
      "|[1.0,3399.99,84.9998] |1.0  |\n",
      "|[1.0,3399.99,84.9998] |1.0  |\n",
      "|[1.0,699.0982,17.4775]|1.0  |\n",
      "|[1.0,3399.99,84.9998] |1.0  |\n",
      "+----------------------+-----+\n",
      "only showing top 5 rows\n",
      "\n"
     ]
    }
   ],
   "execution_count": 30
  },
  {
   "metadata": {
    "ExecuteTime": {
     "end_time": "2025-01-11T01:23:13.121594Z",
     "start_time": "2025-01-11T01:23:13.058481Z"
    }
   },
   "cell_type": "code",
   "source": [
    "# Train-Test Split\n",
    "train_data, test_data = labeled_data.randomSplit([0.8, 0.2], seed=42)\n"
   ],
   "id": "99752db4c2d67999",
   "outputs": [],
   "execution_count": 31
  },
  {
   "metadata": {
    "ExecuteTime": {
     "end_time": "2025-01-11T01:23:27.233362Z",
     "start_time": "2025-01-11T01:23:13.220537Z"
    }
   },
   "cell_type": "code",
   "source": [
    "\n",
    "# Train a Random Forest model\n",
    "rf = RandomForestClassifier(featuresCol=\"features\", labelCol=\"label\", numTrees=100)\n",
    "rf_model = rf.fit(train_data)\n",
    "\n",
    "# Make predictions\n",
    "predictions = rf_model.transform(test_data)\n",
    "\n",
    "# Evaluate the model\n",
    "evaluator = MulticlassClassificationEvaluator(labelCol=\"label\", predictionCol=\"prediction\", metricName=\"accuracy\")\n",
    "accuracy = evaluator.evaluate(predictions)\n",
    "print(f\"Accuracy: {accuracy}\")\n"
   ],
   "id": "849efd569e6fb4c6",
   "outputs": [
    {
     "name": "stderr",
     "output_type": "stream",
     "text": [
      "[Stage 281:>                                                        (0 + 3) / 3]\r"
     ]
    },
    {
     "name": "stdout",
     "output_type": "stream",
     "text": [
      "Accuracy: 0.9478696741854636\n"
     ]
    },
    {
     "name": "stderr",
     "output_type": "stream",
     "text": [
      "                                                                                \r"
     ]
    }
   ],
   "execution_count": 32
  },
  {
   "metadata": {
    "ExecuteTime": {
     "end_time": "2025-01-11T01:23:27.313703Z",
     "start_time": "2025-01-11T01:23:27.308371Z"
    }
   },
   "cell_type": "code",
   "source": "#Evaluate Precision, Recall, and F1-Score",
   "id": "aeb295e79289cf6f",
   "outputs": [],
   "execution_count": 33
  },
  {
   "metadata": {
    "ExecuteTime": {
     "end_time": "2025-01-11T01:23:27.435430Z",
     "start_time": "2025-01-11T01:23:27.410652Z"
    }
   },
   "cell_type": "code",
   "source": [
    "# Compute precision, recall, and F1-score\n",
    "evaluator_f1 = MulticlassClassificationEvaluator(labelCol=\"label\", predictionCol=\"prediction\", metricName=\"f1\")\n",
    "evaluator_precision = MulticlassClassificationEvaluator(labelCol=\"label\", predictionCol=\"prediction\", metricName=\"weightedPrecision\")\n",
    "evaluator_recall = MulticlassClassificationEvaluator(labelCol=\"label\", predictionCol=\"prediction\", metricName=\"weightedRecall\")\n"
   ],
   "id": "c8a98bf55bf6c9",
   "outputs": [],
   "execution_count": 34
  },
  {
   "metadata": {
    "ExecuteTime": {
     "end_time": "2025-01-11T01:23:30.773159Z",
     "start_time": "2025-01-11T01:23:27.508986Z"
    }
   },
   "cell_type": "code",
   "source": [
    "f1_score = evaluator_f1.evaluate(predictions)\n",
    "precision = evaluator_precision.evaluate(predictions)\n",
    "recall = evaluator_recall.evaluate(predictions)\n",
    "\n",
    "print(f\"F1-Score: {f1_score}\")\n",
    "print(f\"Precision: {precision}\")\n",
    "print(f\"Recall: {recall}\")"
   ],
   "id": "9cdb9cc798ce209f",
   "outputs": [
    {
     "name": "stdout",
     "output_type": "stream",
     "text": [
      "F1-Score: 0.9481818288439081\n",
      "Precision: 0.9485808847352818\n",
      "Recall: 0.9478696741854636\n"
     ]
    }
   ],
   "execution_count": 35
  },
  {
   "metadata": {
    "ExecuteTime": {
     "end_time": "2025-01-11T01:23:32.675104Z",
     "start_time": "2025-01-11T01:23:30.878084Z"
    }
   },
   "cell_type": "code",
   "source": [
    "#Confusion Matrix for Model Performance\n",
    "\n",
    "# Convert Spark Predictions to Pandas\n",
    "predictions_pd = predictions.select(\"label\", \"prediction\").toPandas()\n",
    "\n",
    "# Generate Confusion Matrix\n",
    "conf_matrix = confusion_matrix(predictions_pd[\"label\"], predictions_pd[\"prediction\"])\n",
    "\n",
    "# Plot Confusion Matrix\n",
    "plt.figure(figsize=(8, 6))\n",
    "sns.heatmap(conf_matrix, annot=True, fmt=\"d\", cmap=\"Blues\", xticklabels=sorted(predictions_pd[\"label\"].unique()), yticklabels=sorted(predictions_pd[\"label\"].unique()))\n",
    "plt.xlabel(\"Predicted Category\")\n",
    "plt.ylabel(\"Actual Category\")\n",
    "plt.title(\"Confusion Matrix for Product Category Prediction\")\n",
    "plt.show()\n"
   ],
   "id": "a6a7c3c3ec34c944",
   "outputs": [
    {
     "name": "stderr",
     "output_type": "stream",
     "text": [
      "                                                                                \r"
     ]
    },
    {
     "data": {
      "text/plain": [
       "<Figure size 800x600 with 2 Axes>"
      ],
      "image/png": "[encoded data removed]"
     },
     "metadata": {},
     "output_type": "display_data"
    }
   ],
   "execution_count": 36
  },
  {
   "metadata": {},
   "cell_type": "markdown",
   "source": [
    "#### Feature Importance Analysis\n",
    "Random Forest models provide feature importance scores. You can use them to understand which factors (e.g., order_quantity, sales_amount, freight) are most influential in predicting product categories."
   ],
   "id": "ca9d140a65489d95"
  },
  {
   "metadata": {
    "ExecuteTime": {
     "end_time": "2025-01-11T01:23:32.942516Z",
     "start_time": "2025-01-11T01:23:32.729116Z"
    }
   },
   "cell_type": "code",
   "source": [
    "# Extract feature importance\n",
    "\n",
    "feature_importances = rf_model.featureImportances.toArray()\n",
    "feature_names = [\"order_quantity\", \"sales_amount\", \"freight\"]\n",
    "\n",
    "# Convert to DataFrame for visualization\n",
    "importance_df = pd.DataFrame({\"Feature\": feature_names, \"Importance\": feature_importances})\n",
    "importance_df = importance_df.sort_values(by=\"Importance\", ascending=False)\n",
    "\n",
    "# Plot feature importance\n",
    "plt.figure(figsize=(8, 4))\n",
    "plt.barh(importance_df[\"Feature\"], importance_df[\"Importance\"], color=\"skyblue\")\n",
    "plt.xlabel(\"Importance Score\")\n",
    "plt.ylabel(\"Feature Name\")\n",
    "plt.title(\"Feature Importance in Random Forest Model\")\n",
    "plt.show()\n"
   ],
   "id": "14cf12365d1940e2",
   "outputs": [
    {
     "data": {
      "text/plain": [
       "<Figure size 800x400 with 1 Axes>"
      ],
      "image/png": "[encoded data removed]"
     },
     "metadata": {},
     "output_type": "display_data"
    }
   ],
   "execution_count": 37
  },
  {
   "metadata": {},
   "cell_type": "markdown",
   "source": "Hyperparameter Tuning (Model Optimization)",
   "id": "8beeb94fcf71d34f"
  },
  {
   "metadata": {
    "ExecuteTime": {
     "end_time": "2025-01-11T01:23:33.029985Z",
     "start_time": "2025-01-11T01:23:33.012667Z"
    }
   },
   "cell_type": "code",
   "source": [
    "\n",
    "# Define model\n",
    "rf = RandomForestClassifier(featuresCol=\"features\", labelCol=\"label\")\n",
    "\n",
    "# Create hyperparameter grid\n",
    "paramGrid = ParamGridBuilder() \\\n",
    "    .addGrid(rf.numTrees, [50, 100, 150]) \\\n",
    "    .addGrid(rf.maxDepth, [5, 10, 15]) \\\n",
    "    .addGrid(rf.minInstancesPerNode, [1, 5, 10]) \\\n",
    "    .build()"
   ],
   "id": "2d280cff60574e35",
   "outputs": [],
   "execution_count": 38
  },
  {
   "metadata": {
    "ExecuteTime": {
     "end_time": "2025-01-11T01:23:33.126946Z",
     "start_time": "2025-01-11T01:23:33.106169Z"
    }
   },
   "cell_type": "code",
   "source": [
    "# Define cross-validation\n",
    "crossval = CrossValidator(\n",
    "    estimator=rf,\n",
    "    estimatorParamMaps=paramGrid,\n",
    "    evaluator=MulticlassClassificationEvaluator(labelCol=\"label\", predictionCol=\"prediction\", metricName=\"accuracy\"),\n",
    "    numFolds=3\n",
    ")\n"
   ],
   "id": "d074f972cc8138bc",
   "outputs": [],
   "execution_count": 39
  },
  {
   "metadata": {
    "ExecuteTime": {
     "end_time": "2025-01-11T01:28:58.653520Z",
     "start_time": "2025-01-11T01:23:33.204591Z"
    }
   },
   "cell_type": "code",
   "source": [
    "\n",
    "# Fit the model\n",
    "cv_model = crossval.fit(train_data)"
   ],
   "id": "4f1de719840e697c",
   "outputs": [
    {
     "name": "stderr",
     "output_type": "stream",
     "text": [
      "                                                                                \r"
     ]
    }
   ],
   "execution_count": 40
  },
  {
   "metadata": {
    "ExecuteTime": {
     "end_time": "2025-01-11T01:29:00.258476Z",
     "start_time": "2025-01-11T01:28:59.158048Z"
    }
   },
   "cell_type": "code",
   "source": [
    "# Make predictions\n",
    "cv_predictions = cv_model.transform(test_data)\n",
    "\n",
    "# Evaluate accuracy after tuning\n",
    "cv_accuracy = evaluator.evaluate(cv_predictions)\n",
    "print(f\"Tuned Model Accuracy: {cv_accuracy}\")"
   ],
   "id": "934436ca02ba0246",
   "outputs": [
    {
     "name": "stdout",
     "output_type": "stream",
     "text": [
      "Tuned Model Accuracy: 0.9714285714285714\n"
     ]
    }
   ],
   "execution_count": 41
  },
  {
   "metadata": {
    "ExecuteTime": {
     "end_time": "2025-01-11T01:29:02.562379Z",
     "start_time": "2025-01-11T01:29:00.385894Z"
    }
   },
   "cell_type": "code",
   "source": [
    "# from pyspark.ml.evaluation import MulticlassClassificationEvaluator\n",
    "\n",
    "precision_evaluator = MulticlassClassificationEvaluator(labelCol=\"label\", predictionCol=\"prediction\", metricName=\"weightedPrecision\")\n",
    "recall_evaluator = MulticlassClassificationEvaluator(labelCol=\"label\", predictionCol=\"prediction\", metricName=\"weightedRecall\")\n",
    "f1_evaluator = MulticlassClassificationEvaluator(labelCol=\"label\", predictionCol=\"prediction\", metricName=\"f1\")\n",
    "\n",
    "precision = precision_evaluator.evaluate(cv_predictions)\n",
    "recall = recall_evaluator.evaluate(cv_predictions)\n",
    "f1_score = f1_evaluator.evaluate(cv_predictions)\n",
    "\n",
    "print(f\"Precision: {precision}\")\n",
    "print(f\"Recall: {recall}\")\n",
    "print(f\"F1 Score: {f1_score}\")\n"
   ],
   "id": "de3812df79707f0d",
   "outputs": [
    {
     "name": "stdout",
     "output_type": "stream",
     "text": [
      "Precision: 0.9759481961147086\n",
      "Recall: 0.9714285714285714\n",
      "F1 Score: 0.9723032199845948\n"
     ]
    }
   ],
   "execution_count": 42
  },
  {
   "metadata": {
    "ExecuteTime": {
     "end_time": "2025-01-11T01:29:04.795149Z",
     "start_time": "2025-01-11T01:29:02.935714Z"
    }
   },
   "cell_type": "code",
   "source": [
    "# Generate the confusion matrix\n",
    "confusion_matrix = cv_predictions.groupBy(\"label\", \"prediction\").count().orderBy(\"label\", \"prediction\")\n",
    "confusion_matrix_df = confusion_matrix.toPandas()\n",
    "\n",
    "# Pivot the DataFrame for heatmap visualization\n",
    "pivot_df = confusion_matrix_df.pivot(index=\"label\", columns=\"prediction\", values=\"count\").fillna(0)\n",
    "\n",
    "# Plot the confusion matrix\n",
    "plt.figure(figsize=(8, 6))\n",
    "sns.heatmap(pivot_df, annot=True, fmt=\"g\", cmap=\"Blues\", cbar=True)\n",
    "plt.xlabel(\"Predicted Category\")\n",
    "plt.ylabel(\"Actual Category\")\n",
    "plt.title(\"Confusion Matrix for Tuned Model\")\n",
    "plt.show()"
   ],
   "id": "8e1ea440d5382861",
   "outputs": [
    {
     "data": {
      "text/plain": [
       "<Figure size 800x600 with 2 Axes>"
      ],
      "image/png": "[encoded data removed]"
     },
     "metadata": {},
     "output_type": "display_data"
    }
   ],
   "execution_count": 43
  }
 ],
 "metadata": {
  "kernelspec": {
   "display_name": "Python 3",
   "language": "python",
   "name": "python3"
  },
  "language_info": {
   "codemirror_mode": {
    "name": "ipython",
    "version": 2
   },
   "file_extension": ".py",
   "mimetype": "text/x-python",
   "name": "python",
   "nbconvert_exporter": "python",
   "pygments_lexer": "ipython2",
   "version": "2.7.6"
  }
 },
 "nbformat": 4,
 "nbformat_minor": 5
}
