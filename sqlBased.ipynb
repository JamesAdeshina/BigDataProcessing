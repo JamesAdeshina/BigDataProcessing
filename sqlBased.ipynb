{
 "cells": [
  {
   "cell_type": "code",
   "id": "initial_id",
   "metadata": {
    "collapsed": true,
    "ExecuteTime": {
     "end_time": "2025-01-04T00:09:46.846851Z",
     "start_time": "2025-01-04T00:09:46.695260Z"
    }
   },
   "source": [
    "from pyspark.sql import SparkSession\n",
    "from pyspark.sql.functions import col, to_date, desc\n",
    "import matplotlib.pyplot as plt\n",
    "import seaborn as sns"
   ],
   "outputs": [],
   "execution_count": 1
  },
  {
   "metadata": {},
   "cell_type": "markdown",
   "source": "## Big Processing Data",
   "id": "32b3546c3ed66adc"
  },
  {
   "metadata": {
    "ExecuteTime": {
     "end_time": "2025-01-04T00:10:02.785864Z",
     "start_time": "2025-01-04T00:09:51.295903Z"
    }
   },
   "cell_type": "code",
   "source": [
    "# Initialize Spark Session\n",
    "spark = SparkSession.builder.appName(\"AdvancedEDA\").getOrCreate()\n"
   ],
   "id": "e0413a62a6c4daea",
   "outputs": [
    {
     "name": "stderr",
     "output_type": "stream",
     "text": [
      "Setting default log level to \"WARN\".\n",
      "To adjust logging level use sc.setLogLevel(newLevel). For SparkR, use setLogLevel(newLevel).\n",
      "25/01/04 00:09:57 WARN NativeCodeLoader: Unable to load native-hadoop library for your platform... using builtin-java classes where applicable\n",
      "25/01/04 00:10:00 WARN Utils: Service 'SparkUI' could not bind on port 4040. Attempting port 4041.\n",
      "25/01/04 00:10:00 WARN Utils: Service 'SparkUI' could not bind on port 4041. Attempting port 4042.\n"
     ]
    }
   ],
   "execution_count": 2
  },
  {
   "metadata": {
    "ExecuteTime": {
     "end_time": "2025-01-04T00:11:57.846842Z",
     "start_time": "2025-01-04T00:11:35.925967Z"
    }
   },
   "cell_type": "code",
   "source": [
    "# Load datasets\n",
    "fact_sales = spark.read.csv(\"Dataset/FactInternetSales.csv\", header=True, inferSchema=True)\n",
    "dim_customer = spark.read.csv(\"Dataset/DimCustomer.csv\", header=True, inferSchema=True)\n",
    "dim_product = spark.read.csv(\"Dataset/DimProduct.csv\", header=True, inferSchema=True)\n",
    "dim_date = spark.read.csv(\"Dataset/DimDate.csv\", header=True, inferSchema=True)\n",
    "dim_sales_territory = spark.read.csv(\"Dataset/DimSalesTerritory.csv\", header=True, inferSchema=True)\n"
   ],
   "id": "df652fbcc2a46ced",
   "outputs": [
    {
     "name": "stderr",
     "output_type": "stream",
     "text": [
      "                                                                                \r"
     ]
    }
   ],
   "execution_count": 6
  },
  {
   "metadata": {
    "ExecuteTime": {
     "end_time": "2025-01-04T00:12:09.942209Z",
     "start_time": "2025-01-04T00:12:09.030142Z"
    }
   },
   "cell_type": "code",
   "source": [
    "# Cache datasets for performance\n",
    "fact_sales.cache()\n",
    "dim_customer.cache()\n",
    "dim_product.cache()\n",
    "dim_date.cache()\n",
    "dim_sales_territory.cache()\n"
   ],
   "id": "1a375edbe9b37693",
   "outputs": [
    {
     "name": "stderr",
     "output_type": "stream",
     "text": [
      "25/01/04 00:12:09 WARN SparkStringUtils: Truncated the string representation of a plan since it was too large. This behavior can be adjusted by setting 'spark.sql.debug.maxToStringFields'.\n"
     ]
    },
    {
     "data": {
      "text/plain": [
       "DataFrame[SalesTerritoryKey: int, SalesTerritoryAlternateKey: int, SalesTerritoryRegion: string, SalesTerritoryCountry: string, SalesTerritoryGroup: string]"
      ]
     },
     "execution_count": 7,
     "metadata": {},
     "output_type": "execute_result"
    }
   ],
   "execution_count": 7
  },
  {
   "metadata": {
    "ExecuteTime": {
     "end_time": "2025-01-04T00:12:19.956459Z",
     "start_time": "2025-01-04T00:12:18.985901Z"
    }
   },
   "cell_type": "code",
   "source": [
    "# Register DataFrames as SQL temporary views\n",
    "fact_sales.createOrReplaceTempView(\"FactInternetSales\")\n",
    "dim_customer.createOrReplaceTempView(\"DimCustomer\")\n",
    "dim_product.createOrReplaceTempView(\"DimProduct\")\n",
    "dim_date.createOrReplaceTempView(\"DimDate\")\n",
    "dim_sales_territory.createOrReplaceTempView(\"DimSalesTerritory\")\n"
   ],
   "id": "82e5d4d9ee68e7e0",
   "outputs": [],
   "execution_count": 8
  },
  {
   "metadata": {
    "ExecuteTime": {
     "end_time": "2025-01-04T00:12:41.414496Z",
     "start_time": "2025-01-04T00:12:26.951135Z"
    }
   },
   "cell_type": "code",
   "source": [
    "# Step 1: Total Sales by Product\n",
    "total_sales_by_product = spark.sql(\"\"\"\n",
    "    SELECT dp.EnglishProductName, SUM(fs.SalesAmount) AS TotalSales\n",
    "    FROM FactInternetSales fs\n",
    "    JOIN DimProduct dp ON fs.ProductKey = dp.ProductKey\n",
    "    GROUP BY dp.EnglishProductName\n",
    "    ORDER BY TotalSales DESC\n",
    "    LIMIT 10\n",
    "\"\"\")\n",
    "total_sales_by_product.show()\n"
   ],
   "id": "cd99825579707a73",
   "outputs": [
    {
     "name": "stderr",
     "output_type": "stream",
     "text": [
      "[Stage 12:===================>                                      (1 + 2) / 3]\r"
     ]
    },
    {
     "name": "stdout",
     "output_type": "stream",
     "text": [
      "+--------------------+------------------+\n",
      "|  EnglishProductName|        TotalSales|\n",
      "+--------------------+------------------+\n",
      "|Mountain-200 Blac...|1373469.5481999982|\n",
      "|Mountain-200 Blac...| 1363142.093399998|\n",
      "|Mountain-200 Silv...| 1339462.790399998|\n",
      "|Mountain-200 Silv...|1301100.0983999984|\n",
      "|Mountain-200 Blac...| 1294866.141199998|\n",
      "|Mountain-200 Silv...| 1257434.572799998|\n",
      "|    Road-150 Red, 48|1205876.9900000044|\n",
      "|    Road-150 Red, 62|1202298.7200000044|\n",
      "|    Road-150 Red, 52|1080637.5400000038|\n",
      "|    Road-150 Red, 56|1055589.6500000036|\n",
      "+--------------------+------------------+\n",
      "\n"
     ]
    },
    {
     "name": "stderr",
     "output_type": "stream",
     "text": [
      "                                                                                \r"
     ]
    }
   ],
   "execution_count": 9
  },
  {
   "metadata": {
    "ExecuteTime": {
     "end_time": "2025-01-04T00:13:05.526025Z",
     "start_time": "2025-01-04T00:13:03.866766Z"
    }
   },
   "cell_type": "code",
   "source": [
    "# Step 2: Monthly Sales Trend\n",
    "monthly_sales_trend = spark.sql(\"\"\"\n",
    "    SELECT dd.CalendarYear, dd.EnglishMonthName, SUM(fs.SalesAmount) AS MonthlySales\n",
    "    FROM FactInternetSales fs\n",
    "    JOIN DimDate dd ON fs.OrderDateKey = dd.DateKey\n",
    "    GROUP BY dd.CalendarYear, dd.EnglishMonthName\n",
    "    ORDER BY dd.CalendarYear, dd.EnglishMonthName\n",
    "\"\"\")\n",
    "monthly_sales_trend.show()\n"
   ],
   "id": "477a2fde0c74e6a8",
   "outputs": [
    {
     "name": "stdout",
     "output_type": "stream",
     "text": [
      "+------------+----------------+-----------------+\n",
      "|CalendarYear|EnglishMonthName|     MonthlySales|\n",
      "+------------+----------------+-----------------+\n",
      "|        2010|        December|43421.03639999999|\n",
      "+------------+----------------+-----------------+\n",
      "\n"
     ]
    }
   ],
   "execution_count": 10
  },
  {
   "metadata": {
    "ExecuteTime": {
     "end_time": "2025-01-04T00:13:23.489952Z",
     "start_time": "2025-01-04T00:13:21.894067Z"
    }
   },
   "cell_type": "code",
   "source": [
    "# Step 3: Top 5 Regions by Sales\n",
    "top_regions = spark.sql(\"\"\"\n",
    "    SELECT dst.SalesTerritoryRegion, SUM(fs.SalesAmount) AS RegionalSales\n",
    "    FROM FactInternetSales fs\n",
    "    JOIN DimSalesTerritory dst ON fs.SalesTerritoryKey = dst.SalesTerritoryKey\n",
    "    GROUP BY dst.SalesTerritoryRegion\n",
    "    ORDER BY RegionalSales DESC\n",
    "    LIMIT 5\n",
    "\"\"\")\n",
    "top_regions.show()"
   ],
   "id": "a0c3738a05e5f27b",
   "outputs": [
    {
     "name": "stdout",
     "output_type": "stream",
     "text": [
      "+--------------------+------------------+\n",
      "|SalesTerritoryRegion|     RegionalSales|\n",
      "+--------------------+------------------+\n",
      "|           Australia| 9061000.584400563|\n",
      "|           Southwest| 5718150.812200519|\n",
      "|           Northwest|3649866.5511999447|\n",
      "|      United Kingdom|3391712.2108999686|\n",
      "|             Germany| 2894312.338199975|\n",
      "+--------------------+------------------+\n",
      "\n"
     ]
    }
   ],
   "execution_count": 11
  },
  {
   "metadata": {
    "ExecuteTime": {
     "end_time": "2025-01-04T00:13:45.701770Z",
     "start_time": "2025-01-04T00:13:42.757269Z"
    }
   },
   "cell_type": "code",
   "source": [
    "# Step 4: Customer Segmentation by Income and Sales\n",
    "customer_segmentation = spark.sql(\"\"\"\n",
    "    SELECT dc.YearlyIncome, COUNT(fs.CustomerKey) AS CustomerCount, SUM(fs.SalesAmount) AS TotalSales\n",
    "    FROM FactInternetSales fs\n",
    "    JOIN DimCustomer dc ON fs.CustomerKey = dc.CustomerKey\n",
    "    GROUP BY dc.YearlyIncome\n",
    "    ORDER BY TotalSales DESC\n",
    "\"\"\")\n",
    "customer_segmentation.show()\n"
   ],
   "id": "630a4d5c57a1895d",
   "outputs": [
    {
     "name": "stderr",
     "output_type": "stream",
     "text": [
      "                                                                                \r"
     ]
    },
    {
     "name": "stdout",
     "output_type": "stream",
     "text": [
      "+------------+-------------+------------------+\n",
      "|YearlyIncome|CustomerCount|        TotalSales|\n",
      "+------------+-------------+------------------+\n",
      "|       70000|         8267| 4484238.823500113|\n",
      "|       60000|         9470|   4230548.6123004|\n",
      "|       40000|         9181| 4226593.341500258|\n",
      "|       30000|         6994| 2922275.194399966|\n",
      "|       80000|         4848|2391471.6616999786|\n",
      "|       90000|         3143|2067047.8072999879|\n",
      "|       20000|         5128|2010650.4830999786|\n",
      "|       10000|         3352| 1396359.097599991|\n",
      "|      130000|         1906|1192927.8165999912|\n",
      "|      100000|         1955|1073018.3033999926|\n",
      "|      110000|         1715|1019527.5549999941|\n",
      "|       50000|         1977| 805522.9329999941|\n",
      "|      120000|         1242| 760616.0878999969|\n",
      "|      170000|          476|       325285.6955|\n",
      "|      150000|          385|241470.69370000024|\n",
      "|      160000|          359| 211123.1142000003|\n",
      "+------------+-------------+------------------+\n",
      "\n"
     ]
    }
   ],
   "execution_count": 12
  },
  {
   "metadata": {
    "ExecuteTime": {
     "end_time": "2025-01-04T00:13:53.589550Z",
     "start_time": "2025-01-04T00:13:51.151928Z"
    }
   },
   "cell_type": "code",
   "source": [
    "# Step 5: Visualize SQL Query Results\n",
    "# Convert to Pandas for plotting\n",
    "df_top_regions = top_regions.toPandas()\n",
    "df_total_sales_by_product = total_sales_by_product.toPandas()\n"
   ],
   "id": "fccfe3f5812e15d6",
   "outputs": [],
   "execution_count": 13
  },
  {
   "metadata": {
    "ExecuteTime": {
     "end_time": "2025-01-04T00:13:55.969219Z",
     "start_time": "2025-01-04T00:13:53.632536Z"
    }
   },
   "cell_type": "code",
   "source": [
    "# Bar chart of top regions by sales\n",
    "df_top_regions.plot(kind=\"bar\", x=\"SalesTerritoryRegion\", y=\"RegionalSales\", color=\"purple\", title=\"Top 5 Regions by Sales\")\n",
    "plt.show()"
   ],
   "id": "9a56b4ecb30ad747",
   "outputs": [
    {
     "data": {
      "text/plain": [
       "<Figure size 640x480 with 1 Axes>"
      ],
      "image/png": "[encoded data removed]"
     },
     "metadata": {},
     "output_type": "display_data"
    }
   ],
   "execution_count": 14
  },
  {
   "metadata": {
    "ExecuteTime": {
     "end_time": "2025-01-04T00:13:56.686835Z",
     "start_time": "2025-01-04T00:13:56.122855Z"
    }
   },
   "cell_type": "code",
   "source": [
    "# Bar chart of top products by sales\n",
    "df_total_sales_by_product.plot(kind=\"bar\", x=\"EnglishProductName\", y=\"TotalSales\", color=\"blue\", title=\"Top 10 Products by Sales\")\n",
    "plt.show()"
   ],
   "id": "b719a760701e4179",
   "outputs": [
    {
     "data": {
      "text/plain": [
       "<Figure size 640x480 with 1 Axes>"
      ],
      "image/png": "[encoded data removed]"
     },
     "metadata": {},
     "output_type": "display_data"
    }
   ],
   "execution_count": 15
  },
  {
   "metadata": {
    "ExecuteTime": {
     "end_time": "2025-01-04T00:13:58.500458Z",
     "start_time": "2025-01-04T00:13:57.332943Z"
    }
   },
   "cell_type": "code",
   "source": [
    "# Scatter plot of Monthly Sales Trend\n",
    "monthly_sales_trend_pandas = monthly_sales_trend.toPandas()\n",
    "sns.lineplot(data=monthly_sales_trend_pandas, x=\"EnglishMonthName\", y=\"MonthlySales\", hue=\"CalendarYear\")\n",
    "plt.title(\"Monthly Sales Trend\")\n",
    "plt.show()"
   ],
   "id": "e2a370dcf35c1ac4",
   "outputs": [
    {
     "data": {
      "text/plain": [
       "<Figure size 640x480 with 1 Axes>"
      ],
      "image/png": "[encoded data removed]"
     },
     "metadata": {},
     "output_type": "display_data"
    }
   ],
   "execution_count": 16
  },
  {
   "metadata": {
    "ExecuteTime": {
     "end_time": "2025-01-04T00:14:02.446904Z",
     "start_time": "2025-01-04T00:14:01.588109Z"
    }
   },
   "cell_type": "code",
   "source": [
    "# Clean up\n",
    "spark.stop()\n"
   ],
   "id": "71e92ead4bd0c115",
   "outputs": [],
   "execution_count": 17
  }
 ],
 "metadata": {
  "kernelspec": {
   "display_name": "Python 3",
   "language": "python",
   "name": "python3"
  },
  "language_info": {
   "codemirror_mode": {
    "name": "ipython",
    "version": 2
   },
   "file_extension": ".py",
   "mimetype": "text/x-python",
   "name": "python",
   "nbconvert_exporter": "python",
   "pygments_lexer": "ipython2",
   "version": "2.7.6"
  }
 },
 "nbformat": 4,
 "nbformat_minor": 5
}
