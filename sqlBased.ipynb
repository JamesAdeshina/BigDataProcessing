{
 "cells": [
  {
   "cell_type": "code",
   "execution_count": null,
   "id": "initial_id",
   "metadata": {
    "collapsed": true
   },
   "outputs": [],
   "source": [
    "from pyspark.sql import SparkSession\n",
    "from pyspark.sql.functions import col, to_date, desc\n",
    "import matplotlib.pyplot as plt\n",
    "import seaborn as sns"
   ]
  },
  {
   "metadata": {},
   "cell_type": "code",
   "outputs": [],
   "execution_count": null,
   "source": [
    "# Initialize Spark Session\n",
    "spark = SparkSession.builder.appName(\"AdvancedEDA\").getOrCreate()\n"
   ],
   "id": "e0413a62a6c4daea"
  },
  {
   "metadata": {},
   "cell_type": "code",
   "outputs": [],
   "execution_count": null,
   "source": [
    "# Load datasets\n",
    "fact_sales = spark.read.csv(\"FactInternetSales.csv\", header=True, inferSchema=True)\n",
    "dim_customer = spark.read.csv(\"DimCustomer.csv\", header=True, inferSchema=True)\n",
    "dim_product = spark.read.csv(\"DimProduct.csv\", header=True, inferSchema=True)\n",
    "dim_date = spark.read.csv(\"DimDate.csv\", header=True, inferSchema=True)\n",
    "dim_sales_territory = spark.read.csv(\"DimSalesTerritory.csv\", header=True, inferSchema=True)\n"
   ],
   "id": "df652fbcc2a46ced"
  },
  {
   "metadata": {},
   "cell_type": "code",
   "outputs": [],
   "execution_count": null,
   "source": [
    "# Cache datasets for performance\n",
    "fact_sales.cache()\n",
    "dim_customer.cache()\n",
    "dim_product.cache()\n",
    "dim_date.cache()\n",
    "dim_sales_territory.cache()\n"
   ],
   "id": "1a375edbe9b37693"
  },
  {
   "metadata": {},
   "cell_type": "code",
   "outputs": [],
   "execution_count": null,
   "source": [
    "# Register DataFrames as SQL temporary views\n",
    "fact_sales.createOrReplaceTempView(\"FactInternetSales\")\n",
    "dim_customer.createOrReplaceTempView(\"DimCustomer\")\n",
    "dim_product.createOrReplaceTempView(\"DimProduct\")\n",
    "dim_date.createOrReplaceTempView(\"DimDate\")\n",
    "dim_sales_territory.createOrReplaceTempView(\"DimSalesTerritory\")\n"
   ],
   "id": "82e5d4d9ee68e7e0"
  },
  {
   "metadata": {},
   "cell_type": "code",
   "outputs": [],
   "execution_count": null,
   "source": [
    "# Step 1: Total Sales by Product\n",
    "total_sales_by_product = spark.sql(\"\"\"\n",
    "    SELECT dp.EnglishProductName, SUM(fs.SalesAmount) AS TotalSales\n",
    "    FROM FactInternetSales fs\n",
    "    JOIN DimProduct dp ON fs.ProductKey = dp.ProductKey\n",
    "    GROUP BY dp.EnglishProductName\n",
    "    ORDER BY TotalSales DESC\n",
    "    LIMIT 10\n",
    "\"\"\")\n",
    "total_sales_by_product.show()\n"
   ],
   "id": "cd99825579707a73"
  },
  {
   "metadata": {},
   "cell_type": "code",
   "outputs": [],
   "execution_count": null,
   "source": [
    "# Step 2: Monthly Sales Trend\n",
    "monthly_sales_trend = spark.sql(\"\"\"\n",
    "    SELECT dd.CalendarYear, dd.EnglishMonthName, SUM(fs.SalesAmount) AS MonthlySales\n",
    "    FROM FactInternetSales fs\n",
    "    JOIN DimDate dd ON fs.OrderDateKey = dd.DateKey\n",
    "    GROUP BY dd.CalendarYear, dd.EnglishMonthName\n",
    "    ORDER BY dd.CalendarYear, dd.EnglishMonthName\n",
    "\"\"\")\n",
    "monthly_sales_trend.show()\n"
   ],
   "id": "477a2fde0c74e6a8"
  },
  {
   "metadata": {},
   "cell_type": "code",
   "outputs": [],
   "execution_count": null,
   "source": [
    "# Step 3: Top 5 Regions by Sales\n",
    "top_regions = spark.sql(\"\"\"\n",
    "    SELECT dst.SalesTerritoryRegion, SUM(fs.SalesAmount) AS RegionalSales\n",
    "    FROM FactInternetSales fs\n",
    "    JOIN DimSalesTerritory dst ON fs.SalesTerritoryKey = dst.SalesTerritoryKey\n",
    "    GROUP BY dst.SalesTerritoryRegion\n",
    "    ORDER BY RegionalSales DESC\n",
    "    LIMIT 5\n",
    "\"\"\")\n",
    "top_regions.show()"
   ],
   "id": "a0c3738a05e5f27b"
  },
  {
   "metadata": {},
   "cell_type": "code",
   "outputs": [],
   "execution_count": null,
   "source": [
    "# Step 4: Customer Segmentation by Income and Sales\n",
    "customer_segmentation = spark.sql(\"\"\"\n",
    "    SELECT dc.YearlyIncome, COUNT(fs.CustomerKey) AS CustomerCount, SUM(fs.SalesAmount) AS TotalSales\n",
    "    FROM FactInternetSales fs\n",
    "    JOIN DimCustomer dc ON fs.CustomerKey = dc.CustomerKey\n",
    "    GROUP BY dc.YearlyIncome\n",
    "    ORDER BY TotalSales DESC\n",
    "\"\"\")\n",
    "customer_segmentation.show()\n"
   ],
   "id": "630a4d5c57a1895d"
  },
  {
   "metadata": {},
   "cell_type": "code",
   "outputs": [],
   "execution_count": null,
   "source": [
    "# Step 5: Visualize SQL Query Results\n",
    "# Convert to Pandas for plotting\n",
    "df_top_regions = top_regions.toPandas()\n",
    "df_total_sales_by_product = total_sales_by_product.toPandas()\n"
   ],
   "id": "fccfe3f5812e15d6"
  },
  {
   "metadata": {},
   "cell_type": "code",
   "outputs": [],
   "execution_count": null,
   "source": [
    "# Bar chart of top regions by sales\n",
    "df_top_regions.plot(kind=\"bar\", x=\"SalesTerritoryRegion\", y=\"RegionalSales\", color=\"purple\", title=\"Top 5 Regions by Sales\")\n",
    "plt.show()"
   ],
   "id": "9a56b4ecb30ad747"
  },
  {
   "metadata": {},
   "cell_type": "code",
   "outputs": [],
   "execution_count": null,
   "source": [
    "# Bar chart of top products by sales\n",
    "df_total_sales_by_product.plot(kind=\"bar\", x=\"EnglishProductName\", y=\"TotalSales\", color=\"blue\", title=\"Top 10 Products by Sales\")\n",
    "plt.show()"
   ],
   "id": "b719a760701e4179"
  },
  {
   "metadata": {},
   "cell_type": "code",
   "outputs": [],
   "execution_count": null,
   "source": [
    "# Scatter plot of Monthly Sales Trend\n",
    "monthly_sales_trend_pandas = monthly_sales_trend.toPandas()\n",
    "sns.lineplot(data=monthly_sales_trend_pandas, x=\"EnglishMonthName\", y=\"MonthlySales\", hue=\"CalendarYear\")\n",
    "plt.title(\"Monthly Sales Trend\")\n",
    "plt.show()"
   ],
   "id": "e2a370dcf35c1ac4"
  },
  {
   "metadata": {},
   "cell_type": "code",
   "outputs": [],
   "execution_count": null,
   "source": [
    "# Clean up\n",
    "spark.stop()\n"
   ],
   "id": "71e92ead4bd0c115"
  }
 ],
 "metadata": {
  "kernelspec": {
   "display_name": "Python 3",
   "language": "python",
   "name": "python3"
  },
  "language_info": {
   "codemirror_mode": {
    "name": "ipython",
    "version": 2
   },
   "file_extension": ".py",
   "mimetype": "text/x-python",
   "name": "python",
   "nbconvert_exporter": "python",
   "pygments_lexer": "ipython2",
   "version": "2.7.6"
  }
 },
 "nbformat": 4,
 "nbformat_minor": 5
}
